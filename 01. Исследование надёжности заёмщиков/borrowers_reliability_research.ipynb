{
 "cells": [
  {
   "cell_type": "markdown",
   "metadata": {},
   "source": [
    "# Исследование надёжности заёмщиков"
   ]
  },
  {
   "cell_type": "markdown",
   "metadata": {},
   "source": [
    "## Задача"
   ]
  },
  {
   "cell_type": "markdown",
   "metadata": {},
   "source": [
    "Установить влияние семейного положения, количества детей, уровня дохода и цели получения кредита в банке на то, погасит ли клиент своей кредит в срок."
   ]
  },
  {
   "cell_type": "markdown",
   "metadata": {},
   "source": [
    "## Описание данных"
   ]
  },
  {
   "cell_type": "markdown",
   "metadata": {},
   "source": [
    "Таблица **data** (статистика о платёжеспособности клиентов) со следующими столбцами:\n",
    "\n",
    "- children — количество детей в семье\n",
    "- days_employed — общий трудовой стаж в днях\n",
    "- dob_years — возраст клиента в годах\n",
    "- education — уровень образования клиента\n",
    "- education_id — идентификатор уровня образования\n",
    "- family_status — семейное положение\n",
    "- family_status_id — идентификатор семейного положения\n",
    "- gender — пол клиента\n",
    "- income_type — тип занятости\n",
    "- debt — имел ли задолженность по возврату кредитов\n",
    "- total_income — ежемесячный доход\n",
    "- purpose — цель получения кредита"
   ]
  },
  {
   "cell_type": "markdown",
   "metadata": {},
   "source": [
    "## Оглавление"
   ]
  },
  {
   "cell_type": "markdown",
   "metadata": {},
   "source": [
    "### [Шаг 1. Открытие файла с данными и изучение общей информации](#read_data)\n",
    "\n",
    "### [Шаг 2. Предобработка данных](#data_preprocessing)\n",
    "- [Обработка пропусков](#data_gaps)\n",
    "- [Замена типа данных](#data_type_replacement)\n",
    "- [Обработка дубликатов](#duplicate_handling)\n",
    "- [Лемматизация](#lemmatization)\n",
    "- [Категоризация данных](#categorization)\n",
    "\n",
    "### [Шаг 3. Ответы на вопросы](#answer_on_questions)\n",
    "- [Зависимость между количеством детей и возвратом кредита в срок](#children_dependence)\n",
    "- [Зависимость между семейным положением и возвратом кредита в срок](#marital_status_dependence)\n",
    "- [Зависимость между уровнем дохода и возвратом кредита в срок](#income_level_dependence)\n",
    "- [Влияние цели кредита на его возврат в срок](#purpose_dependence)\n",
    "\n",
    "### [Шаг 4. Общий вывод](#general_conclusion)"
   ]
  },
  {
   "cell_type": "markdown",
   "metadata": {},
   "source": [
    "## Ход работы"
   ]
  },
  {
   "cell_type": "markdown",
   "metadata": {},
   "source": [
    "#### Импортируем необходимые для работы библиотеки."
   ]
  },
  {
   "cell_type": "code",
   "execution_count": 1,
   "metadata": {},
   "outputs": [],
   "source": [
    "import pandas as pd\n",
    "import numpy as np\n",
    "from pymystem3 import Mystem"
   ]
  },
  {
   "cell_type": "markdown",
   "metadata": {},
   "source": [
    "## <a id=\"read_data\">Шаг 1. Открытие файла с данными и изучение общей информации</a>"
   ]
  },
  {
   "cell_type": "markdown",
   "metadata": {},
   "source": [
    "#### Откроем файл с данными и сохраним их в переменной *solvency_data*."
   ]
  },
  {
   "cell_type": "code",
   "execution_count": 2,
   "metadata": {},
   "outputs": [],
   "source": [
    "solvency_data = pd.read_csv('/datasets/data.csv')"
   ]
  },
  {
   "cell_type": "markdown",
   "metadata": {},
   "source": [
    "#### Изучим общую информацию."
   ]
  },
  {
   "cell_type": "code",
   "execution_count": 3,
   "metadata": {
    "scrolled": true
   },
   "outputs": [
    {
     "name": "stdout",
     "output_type": "stream",
     "text": [
      "<class 'pandas.core.frame.DataFrame'>\n",
      "RangeIndex: 21525 entries, 0 to 21524\n",
      "Data columns (total 12 columns):\n",
      "children            21525 non-null int64\n",
      "days_employed       19351 non-null float64\n",
      "dob_years           21525 non-null int64\n",
      "education           21525 non-null object\n",
      "education_id        21525 non-null int64\n",
      "family_status       21525 non-null object\n",
      "family_status_id    21525 non-null int64\n",
      "gender              21525 non-null object\n",
      "income_type         21525 non-null object\n",
      "debt                21525 non-null int64\n",
      "total_income        19351 non-null float64\n",
      "purpose             21525 non-null object\n",
      "dtypes: float64(2), int64(5), object(5)\n",
      "memory usage: 2.0+ MB\n"
     ]
    }
   ],
   "source": [
    "solvency_data.info()"
   ]
  },
  {
   "cell_type": "markdown",
   "metadata": {},
   "source": [
    "#### Посчитаем количество пропусков в каждом столбце."
   ]
  },
  {
   "cell_type": "code",
   "execution_count": 4,
   "metadata": {},
   "outputs": [
    {
     "data": {
      "text/plain": [
       "children               0\n",
       "days_employed       2174\n",
       "dob_years              0\n",
       "education              0\n",
       "education_id           0\n",
       "family_status          0\n",
       "family_status_id       0\n",
       "gender                 0\n",
       "income_type            0\n",
       "debt                   0\n",
       "total_income        2174\n",
       "purpose                0\n",
       "dtype: int64"
      ]
     },
     "execution_count": 4,
     "metadata": {},
     "output_type": "execute_result"
    }
   ],
   "source": [
    "solvency_data.isna().sum()"
   ]
  },
  {
   "cell_type": "code",
   "execution_count": 5,
   "metadata": {},
   "outputs": [
    {
     "data": {
      "text/html": [
       "<style  type=\"text/css\" >\n",
       "    #T_e5af71fc_67d4_11eb_93fb_02420a398308row0_col0 {\n",
       "            background-color:  #3b4cc0;\n",
       "            color:  #f1f1f1;\n",
       "        }    #T_e5af71fc_67d4_11eb_93fb_02420a398308row1_col0 {\n",
       "            background-color:  #b40426;\n",
       "            color:  #f1f1f1;\n",
       "        }    #T_e5af71fc_67d4_11eb_93fb_02420a398308row2_col0 {\n",
       "            background-color:  #3b4cc0;\n",
       "            color:  #f1f1f1;\n",
       "        }    #T_e5af71fc_67d4_11eb_93fb_02420a398308row3_col0 {\n",
       "            background-color:  #3b4cc0;\n",
       "            color:  #f1f1f1;\n",
       "        }    #T_e5af71fc_67d4_11eb_93fb_02420a398308row4_col0 {\n",
       "            background-color:  #3b4cc0;\n",
       "            color:  #f1f1f1;\n",
       "        }    #T_e5af71fc_67d4_11eb_93fb_02420a398308row5_col0 {\n",
       "            background-color:  #3b4cc0;\n",
       "            color:  #f1f1f1;\n",
       "        }    #T_e5af71fc_67d4_11eb_93fb_02420a398308row6_col0 {\n",
       "            background-color:  #3b4cc0;\n",
       "            color:  #f1f1f1;\n",
       "        }    #T_e5af71fc_67d4_11eb_93fb_02420a398308row7_col0 {\n",
       "            background-color:  #3b4cc0;\n",
       "            color:  #f1f1f1;\n",
       "        }    #T_e5af71fc_67d4_11eb_93fb_02420a398308row8_col0 {\n",
       "            background-color:  #3b4cc0;\n",
       "            color:  #f1f1f1;\n",
       "        }    #T_e5af71fc_67d4_11eb_93fb_02420a398308row9_col0 {\n",
       "            background-color:  #3b4cc0;\n",
       "            color:  #f1f1f1;\n",
       "        }    #T_e5af71fc_67d4_11eb_93fb_02420a398308row10_col0 {\n",
       "            background-color:  #b40426;\n",
       "            color:  #f1f1f1;\n",
       "        }    #T_e5af71fc_67d4_11eb_93fb_02420a398308row11_col0 {\n",
       "            background-color:  #3b4cc0;\n",
       "            color:  #f1f1f1;\n",
       "        }</style><table id=\"T_e5af71fc_67d4_11eb_93fb_02420a398308\" ><thead>    <tr>        <th class=\"blank level0\" ></th>        <th class=\"col_heading level0 col0\" >0</th>    </tr></thead><tbody>\n",
       "                <tr>\n",
       "                        <th id=\"T_e5af71fc_67d4_11eb_93fb_02420a398308level0_row0\" class=\"row_heading level0 row0\" >children</th>\n",
       "                        <td id=\"T_e5af71fc_67d4_11eb_93fb_02420a398308row0_col0\" class=\"data row0 col0\" >0</td>\n",
       "            </tr>\n",
       "            <tr>\n",
       "                        <th id=\"T_e5af71fc_67d4_11eb_93fb_02420a398308level0_row1\" class=\"row_heading level0 row1\" >days_employed</th>\n",
       "                        <td id=\"T_e5af71fc_67d4_11eb_93fb_02420a398308row1_col0\" class=\"data row1 col0\" >10.1</td>\n",
       "            </tr>\n",
       "            <tr>\n",
       "                        <th id=\"T_e5af71fc_67d4_11eb_93fb_02420a398308level0_row2\" class=\"row_heading level0 row2\" >dob_years</th>\n",
       "                        <td id=\"T_e5af71fc_67d4_11eb_93fb_02420a398308row2_col0\" class=\"data row2 col0\" >0</td>\n",
       "            </tr>\n",
       "            <tr>\n",
       "                        <th id=\"T_e5af71fc_67d4_11eb_93fb_02420a398308level0_row3\" class=\"row_heading level0 row3\" >education</th>\n",
       "                        <td id=\"T_e5af71fc_67d4_11eb_93fb_02420a398308row3_col0\" class=\"data row3 col0\" >0</td>\n",
       "            </tr>\n",
       "            <tr>\n",
       "                        <th id=\"T_e5af71fc_67d4_11eb_93fb_02420a398308level0_row4\" class=\"row_heading level0 row4\" >education_id</th>\n",
       "                        <td id=\"T_e5af71fc_67d4_11eb_93fb_02420a398308row4_col0\" class=\"data row4 col0\" >0</td>\n",
       "            </tr>\n",
       "            <tr>\n",
       "                        <th id=\"T_e5af71fc_67d4_11eb_93fb_02420a398308level0_row5\" class=\"row_heading level0 row5\" >family_status</th>\n",
       "                        <td id=\"T_e5af71fc_67d4_11eb_93fb_02420a398308row5_col0\" class=\"data row5 col0\" >0</td>\n",
       "            </tr>\n",
       "            <tr>\n",
       "                        <th id=\"T_e5af71fc_67d4_11eb_93fb_02420a398308level0_row6\" class=\"row_heading level0 row6\" >family_status_id</th>\n",
       "                        <td id=\"T_e5af71fc_67d4_11eb_93fb_02420a398308row6_col0\" class=\"data row6 col0\" >0</td>\n",
       "            </tr>\n",
       "            <tr>\n",
       "                        <th id=\"T_e5af71fc_67d4_11eb_93fb_02420a398308level0_row7\" class=\"row_heading level0 row7\" >gender</th>\n",
       "                        <td id=\"T_e5af71fc_67d4_11eb_93fb_02420a398308row7_col0\" class=\"data row7 col0\" >0</td>\n",
       "            </tr>\n",
       "            <tr>\n",
       "                        <th id=\"T_e5af71fc_67d4_11eb_93fb_02420a398308level0_row8\" class=\"row_heading level0 row8\" >income_type</th>\n",
       "                        <td id=\"T_e5af71fc_67d4_11eb_93fb_02420a398308row8_col0\" class=\"data row8 col0\" >0</td>\n",
       "            </tr>\n",
       "            <tr>\n",
       "                        <th id=\"T_e5af71fc_67d4_11eb_93fb_02420a398308level0_row9\" class=\"row_heading level0 row9\" >debt</th>\n",
       "                        <td id=\"T_e5af71fc_67d4_11eb_93fb_02420a398308row9_col0\" class=\"data row9 col0\" >0</td>\n",
       "            </tr>\n",
       "            <tr>\n",
       "                        <th id=\"T_e5af71fc_67d4_11eb_93fb_02420a398308level0_row10\" class=\"row_heading level0 row10\" >total_income</th>\n",
       "                        <td id=\"T_e5af71fc_67d4_11eb_93fb_02420a398308row10_col0\" class=\"data row10 col0\" >10.1</td>\n",
       "            </tr>\n",
       "            <tr>\n",
       "                        <th id=\"T_e5af71fc_67d4_11eb_93fb_02420a398308level0_row11\" class=\"row_heading level0 row11\" >purpose</th>\n",
       "                        <td id=\"T_e5af71fc_67d4_11eb_93fb_02420a398308row11_col0\" class=\"data row11 col0\" >0</td>\n",
       "            </tr>\n",
       "    </tbody></table>"
      ],
      "text/plain": [
       "<pandas.io.formats.style.Styler at 0x7f082bcb0450>"
      ]
     },
     "execution_count": 5,
     "metadata": {},
     "output_type": "execute_result"
    }
   ],
   "source": [
    "pd.DataFrame(round((solvency_data.isna().mean() * 100), 2)).style.background_gradient('coolwarm')"
   ]
  },
  {
   "cell_type": "markdown",
   "metadata": {},
   "source": [
    "#### Посчитаем предварительное число дубликатов в таблице."
   ]
  },
  {
   "cell_type": "code",
   "execution_count": 6,
   "metadata": {},
   "outputs": [
    {
     "data": {
      "text/plain": [
       "54"
      ]
     },
     "execution_count": 6,
     "metadata": {},
     "output_type": "execute_result"
    }
   ],
   "source": [
    "solvency_data.duplicated().sum()"
   ]
  },
  {
   "cell_type": "markdown",
   "metadata": {},
   "source": [
    "#### Взглянем на первые 10 строк таблицы."
   ]
  },
  {
   "cell_type": "code",
   "execution_count": 7,
   "metadata": {},
   "outputs": [
    {
     "data": {
      "text/html": [
       "<div>\n",
       "<style scoped>\n",
       "    .dataframe tbody tr th:only-of-type {\n",
       "        vertical-align: middle;\n",
       "    }\n",
       "\n",
       "    .dataframe tbody tr th {\n",
       "        vertical-align: top;\n",
       "    }\n",
       "\n",
       "    .dataframe thead th {\n",
       "        text-align: right;\n",
       "    }\n",
       "</style>\n",
       "<table border=\"1\" class=\"dataframe\">\n",
       "  <thead>\n",
       "    <tr style=\"text-align: right;\">\n",
       "      <th></th>\n",
       "      <th>children</th>\n",
       "      <th>days_employed</th>\n",
       "      <th>dob_years</th>\n",
       "      <th>education</th>\n",
       "      <th>education_id</th>\n",
       "      <th>family_status</th>\n",
       "      <th>family_status_id</th>\n",
       "      <th>gender</th>\n",
       "      <th>income_type</th>\n",
       "      <th>debt</th>\n",
       "      <th>total_income</th>\n",
       "      <th>purpose</th>\n",
       "    </tr>\n",
       "  </thead>\n",
       "  <tbody>\n",
       "    <tr>\n",
       "      <td>0</td>\n",
       "      <td>1</td>\n",
       "      <td>-8437.673028</td>\n",
       "      <td>42</td>\n",
       "      <td>высшее</td>\n",
       "      <td>0</td>\n",
       "      <td>женат / замужем</td>\n",
       "      <td>0</td>\n",
       "      <td>F</td>\n",
       "      <td>сотрудник</td>\n",
       "      <td>0</td>\n",
       "      <td>253875.639453</td>\n",
       "      <td>покупка жилья</td>\n",
       "    </tr>\n",
       "    <tr>\n",
       "      <td>1</td>\n",
       "      <td>1</td>\n",
       "      <td>-4024.803754</td>\n",
       "      <td>36</td>\n",
       "      <td>среднее</td>\n",
       "      <td>1</td>\n",
       "      <td>женат / замужем</td>\n",
       "      <td>0</td>\n",
       "      <td>F</td>\n",
       "      <td>сотрудник</td>\n",
       "      <td>0</td>\n",
       "      <td>112080.014102</td>\n",
       "      <td>приобретение автомобиля</td>\n",
       "    </tr>\n",
       "    <tr>\n",
       "      <td>2</td>\n",
       "      <td>0</td>\n",
       "      <td>-5623.422610</td>\n",
       "      <td>33</td>\n",
       "      <td>Среднее</td>\n",
       "      <td>1</td>\n",
       "      <td>женат / замужем</td>\n",
       "      <td>0</td>\n",
       "      <td>M</td>\n",
       "      <td>сотрудник</td>\n",
       "      <td>0</td>\n",
       "      <td>145885.952297</td>\n",
       "      <td>покупка жилья</td>\n",
       "    </tr>\n",
       "    <tr>\n",
       "      <td>3</td>\n",
       "      <td>3</td>\n",
       "      <td>-4124.747207</td>\n",
       "      <td>32</td>\n",
       "      <td>среднее</td>\n",
       "      <td>1</td>\n",
       "      <td>женат / замужем</td>\n",
       "      <td>0</td>\n",
       "      <td>M</td>\n",
       "      <td>сотрудник</td>\n",
       "      <td>0</td>\n",
       "      <td>267628.550329</td>\n",
       "      <td>дополнительное образование</td>\n",
       "    </tr>\n",
       "    <tr>\n",
       "      <td>4</td>\n",
       "      <td>0</td>\n",
       "      <td>340266.072047</td>\n",
       "      <td>53</td>\n",
       "      <td>среднее</td>\n",
       "      <td>1</td>\n",
       "      <td>гражданский брак</td>\n",
       "      <td>1</td>\n",
       "      <td>F</td>\n",
       "      <td>пенсионер</td>\n",
       "      <td>0</td>\n",
       "      <td>158616.077870</td>\n",
       "      <td>сыграть свадьбу</td>\n",
       "    </tr>\n",
       "    <tr>\n",
       "      <td>5</td>\n",
       "      <td>0</td>\n",
       "      <td>-926.185831</td>\n",
       "      <td>27</td>\n",
       "      <td>высшее</td>\n",
       "      <td>0</td>\n",
       "      <td>гражданский брак</td>\n",
       "      <td>1</td>\n",
       "      <td>M</td>\n",
       "      <td>компаньон</td>\n",
       "      <td>0</td>\n",
       "      <td>255763.565419</td>\n",
       "      <td>покупка жилья</td>\n",
       "    </tr>\n",
       "    <tr>\n",
       "      <td>6</td>\n",
       "      <td>0</td>\n",
       "      <td>-2879.202052</td>\n",
       "      <td>43</td>\n",
       "      <td>высшее</td>\n",
       "      <td>0</td>\n",
       "      <td>женат / замужем</td>\n",
       "      <td>0</td>\n",
       "      <td>F</td>\n",
       "      <td>компаньон</td>\n",
       "      <td>0</td>\n",
       "      <td>240525.971920</td>\n",
       "      <td>операции с жильем</td>\n",
       "    </tr>\n",
       "    <tr>\n",
       "      <td>7</td>\n",
       "      <td>0</td>\n",
       "      <td>-152.779569</td>\n",
       "      <td>50</td>\n",
       "      <td>СРЕДНЕЕ</td>\n",
       "      <td>1</td>\n",
       "      <td>женат / замужем</td>\n",
       "      <td>0</td>\n",
       "      <td>M</td>\n",
       "      <td>сотрудник</td>\n",
       "      <td>0</td>\n",
       "      <td>135823.934197</td>\n",
       "      <td>образование</td>\n",
       "    </tr>\n",
       "    <tr>\n",
       "      <td>8</td>\n",
       "      <td>2</td>\n",
       "      <td>-6929.865299</td>\n",
       "      <td>35</td>\n",
       "      <td>ВЫСШЕЕ</td>\n",
       "      <td>0</td>\n",
       "      <td>гражданский брак</td>\n",
       "      <td>1</td>\n",
       "      <td>F</td>\n",
       "      <td>сотрудник</td>\n",
       "      <td>0</td>\n",
       "      <td>95856.832424</td>\n",
       "      <td>на проведение свадьбы</td>\n",
       "    </tr>\n",
       "    <tr>\n",
       "      <td>9</td>\n",
       "      <td>0</td>\n",
       "      <td>-2188.756445</td>\n",
       "      <td>41</td>\n",
       "      <td>среднее</td>\n",
       "      <td>1</td>\n",
       "      <td>женат / замужем</td>\n",
       "      <td>0</td>\n",
       "      <td>M</td>\n",
       "      <td>сотрудник</td>\n",
       "      <td>0</td>\n",
       "      <td>144425.938277</td>\n",
       "      <td>покупка жилья для семьи</td>\n",
       "    </tr>\n",
       "  </tbody>\n",
       "</table>\n",
       "</div>"
      ],
      "text/plain": [
       "   children  days_employed  dob_years education  education_id  \\\n",
       "0         1   -8437.673028         42    высшее             0   \n",
       "1         1   -4024.803754         36   среднее             1   \n",
       "2         0   -5623.422610         33   Среднее             1   \n",
       "3         3   -4124.747207         32   среднее             1   \n",
       "4         0  340266.072047         53   среднее             1   \n",
       "5         0    -926.185831         27    высшее             0   \n",
       "6         0   -2879.202052         43    высшее             0   \n",
       "7         0    -152.779569         50   СРЕДНЕЕ             1   \n",
       "8         2   -6929.865299         35    ВЫСШЕЕ             0   \n",
       "9         0   -2188.756445         41   среднее             1   \n",
       "\n",
       "      family_status  family_status_id gender income_type  debt   total_income  \\\n",
       "0   женат / замужем                 0      F   сотрудник     0  253875.639453   \n",
       "1   женат / замужем                 0      F   сотрудник     0  112080.014102   \n",
       "2   женат / замужем                 0      M   сотрудник     0  145885.952297   \n",
       "3   женат / замужем                 0      M   сотрудник     0  267628.550329   \n",
       "4  гражданский брак                 1      F   пенсионер     0  158616.077870   \n",
       "5  гражданский брак                 1      M   компаньон     0  255763.565419   \n",
       "6   женат / замужем                 0      F   компаньон     0  240525.971920   \n",
       "7   женат / замужем                 0      M   сотрудник     0  135823.934197   \n",
       "8  гражданский брак                 1      F   сотрудник     0   95856.832424   \n",
       "9   женат / замужем                 0      M   сотрудник     0  144425.938277   \n",
       "\n",
       "                      purpose  \n",
       "0               покупка жилья  \n",
       "1     приобретение автомобиля  \n",
       "2               покупка жилья  \n",
       "3  дополнительное образование  \n",
       "4             сыграть свадьбу  \n",
       "5               покупка жилья  \n",
       "6           операции с жильем  \n",
       "7                 образование  \n",
       "8       на проведение свадьбы  \n",
       "9     покупка жилья для семьи  "
      ]
     },
     "execution_count": 7,
     "metadata": {},
     "output_type": "execute_result"
    }
   ],
   "source": [
    "solvency_data.head(10)"
   ]
  },
  {
   "cell_type": "markdown",
   "metadata": {},
   "source": [
    "#### Найдём максимальное и минимальное значения у столбцов с количественными данными и просмотрим значения в столбцах с категориальными данными. Для индикаторных столбцов выполним обе операции."
   ]
  },
  {
   "cell_type": "code",
   "execution_count": 8,
   "metadata": {},
   "outputs": [
    {
     "data": {
      "text/plain": [
       "children               -1.000000\n",
       "days_employed      -18388.949901\n",
       "dob_years               0.000000\n",
       "education_id            0.000000\n",
       "family_status_id        0.000000\n",
       "debt                    0.000000\n",
       "total_income        20667.263793\n",
       "dtype: float64"
      ]
     },
     "execution_count": 8,
     "metadata": {},
     "output_type": "execute_result"
    }
   ],
   "source": [
    "solvency_data.min(numeric_only=True)"
   ]
  },
  {
   "cell_type": "code",
   "execution_count": 9,
   "metadata": {},
   "outputs": [
    {
     "data": {
      "text/plain": [
       "children                 20.0\n",
       "days_employed        401755.0\n",
       "dob_years                75.0\n",
       "education_id              4.0\n",
       "family_status_id          4.0\n",
       "debt                      1.0\n",
       "total_income        2265604.0\n",
       "dtype: float64"
      ]
     },
     "execution_count": 9,
     "metadata": {},
     "output_type": "execute_result"
    }
   ],
   "source": [
    "solvency_data.max(numeric_only=True).round()"
   ]
  },
  {
   "cell_type": "code",
   "execution_count": 10,
   "metadata": {},
   "outputs": [
    {
     "data": {
      "text/plain": [
       "47"
      ]
     },
     "execution_count": 10,
     "metadata": {},
     "output_type": "execute_result"
    }
   ],
   "source": [
    "solvency_data.query('children == 20 and gender == \"F\"').shape[0]"
   ]
  },
  {
   "cell_type": "code",
   "execution_count": 11,
   "metadata": {},
   "outputs": [
    {
     "data": {
      "text/plain": [
       "1100"
      ]
     },
     "execution_count": 11,
     "metadata": {},
     "output_type": "execute_result"
    }
   ],
   "source": [
    "int(np.floor(solvency_data['days_employed'].max() / 365))"
   ]
  },
  {
   "cell_type": "code",
   "execution_count": 12,
   "metadata": {},
   "outputs": [
    {
     "data": {
      "text/plain": [
       "array(['высшее', 'среднее', 'Среднее', 'СРЕДНЕЕ', 'ВЫСШЕЕ',\n",
       "       'неоконченное высшее', 'начальное', 'Высшее',\n",
       "       'НЕОКОНЧЕННОЕ ВЫСШЕЕ', 'Неоконченное высшее', 'НАЧАЛЬНОЕ',\n",
       "       'Начальное', 'Ученая степень', 'УЧЕНАЯ СТЕПЕНЬ', 'ученая степень'],\n",
       "      dtype=object)"
      ]
     },
     "execution_count": 12,
     "metadata": {},
     "output_type": "execute_result"
    }
   ],
   "source": [
    "solvency_data['education'].unique()"
   ]
  },
  {
   "cell_type": "code",
   "execution_count": 13,
   "metadata": {},
   "outputs": [
    {
     "data": {
      "text/plain": [
       "1    15233\n",
       "0     5260\n",
       "2      744\n",
       "3      282\n",
       "4        6\n",
       "Name: education_id, dtype: int64"
      ]
     },
     "execution_count": 13,
     "metadata": {},
     "output_type": "execute_result"
    }
   ],
   "source": [
    "solvency_data['education_id'].value_counts()"
   ]
  },
  {
   "cell_type": "code",
   "execution_count": 14,
   "metadata": {},
   "outputs": [
    {
     "data": {
      "text/plain": [
       "женат / замужем          12380\n",
       "гражданский брак          4177\n",
       "Не женат / не замужем     2813\n",
       "в разводе                 1195\n",
       "вдовец / вдова             960\n",
       "Name: family_status, dtype: int64"
      ]
     },
     "execution_count": 14,
     "metadata": {},
     "output_type": "execute_result"
    }
   ],
   "source": [
    "solvency_data['family_status'].value_counts()"
   ]
  },
  {
   "cell_type": "code",
   "execution_count": 15,
   "metadata": {},
   "outputs": [
    {
     "data": {
      "text/plain": [
       "0    12380\n",
       "1     4177\n",
       "4     2813\n",
       "3     1195\n",
       "2      960\n",
       "Name: family_status_id, dtype: int64"
      ]
     },
     "execution_count": 15,
     "metadata": {},
     "output_type": "execute_result"
    }
   ],
   "source": [
    "solvency_data['family_status_id'].value_counts()"
   ]
  },
  {
   "cell_type": "code",
   "execution_count": 16,
   "metadata": {},
   "outputs": [
    {
     "data": {
      "text/plain": [
       "F      14236\n",
       "M       7288\n",
       "XNA        1\n",
       "Name: gender, dtype: int64"
      ]
     },
     "execution_count": 16,
     "metadata": {},
     "output_type": "execute_result"
    }
   ],
   "source": [
    "solvency_data['gender'].value_counts()"
   ]
  },
  {
   "cell_type": "code",
   "execution_count": 17,
   "metadata": {},
   "outputs": [
    {
     "data": {
      "text/plain": [
       "сотрудник          11119\n",
       "компаньон           5085\n",
       "пенсионер           3856\n",
       "госслужащий         1459\n",
       "предприниматель        2\n",
       "безработный            2\n",
       "студент                1\n",
       "в декрете              1\n",
       "Name: income_type, dtype: int64"
      ]
     },
     "execution_count": 17,
     "metadata": {},
     "output_type": "execute_result"
    }
   ],
   "source": [
    "solvency_data['income_type'].value_counts()"
   ]
  },
  {
   "cell_type": "code",
   "execution_count": 18,
   "metadata": {},
   "outputs": [
    {
     "data": {
      "text/plain": [
       "0    19784\n",
       "1     1741\n",
       "Name: debt, dtype: int64"
      ]
     },
     "execution_count": 18,
     "metadata": {},
     "output_type": "execute_result"
    }
   ],
   "source": [
    "solvency_data['debt'].value_counts()"
   ]
  },
  {
   "cell_type": "code",
   "execution_count": 19,
   "metadata": {},
   "outputs": [
    {
     "data": {
      "text/plain": [
       "38"
      ]
     },
     "execution_count": 19,
     "metadata": {},
     "output_type": "execute_result"
    }
   ],
   "source": [
    "len(solvency_data['purpose'].unique())"
   ]
  },
  {
   "cell_type": "code",
   "execution_count": 20,
   "metadata": {},
   "outputs": [
    {
     "data": {
      "text/plain": [
       "array(['покупка жилья', 'приобретение автомобиля',\n",
       "       'дополнительное образование', 'сыграть свадьбу',\n",
       "       'операции с жильем', 'образование', 'на проведение свадьбы',\n",
       "       'покупка жилья для семьи', 'покупка недвижимости',\n",
       "       'покупка коммерческой недвижимости', 'покупка жилой недвижимости',\n",
       "       'строительство собственной недвижимости', 'недвижимость',\n",
       "       'строительство недвижимости', 'на покупку подержанного автомобиля',\n",
       "       'на покупку своего автомобиля',\n",
       "       'операции с коммерческой недвижимостью',\n",
       "       'строительство жилой недвижимости', 'жилье',\n",
       "       'операции со своей недвижимостью', 'автомобили',\n",
       "       'заняться образованием', 'сделка с подержанным автомобилем',\n",
       "       'получение образования', 'автомобиль', 'свадьба',\n",
       "       'получение дополнительного образования', 'покупка своего жилья',\n",
       "       'операции с недвижимостью', 'получение высшего образования',\n",
       "       'свой автомобиль', 'сделка с автомобилем',\n",
       "       'профильное образование', 'высшее образование',\n",
       "       'покупка жилья для сдачи', 'на покупку автомобиля', 'ремонт жилью',\n",
       "       'заняться высшим образованием'], dtype=object)"
      ]
     },
     "execution_count": 20,
     "metadata": {},
     "output_type": "execute_result"
    }
   ],
   "source": [
    "solvency_data['purpose'].unique()"
   ]
  },
  {
   "cell_type": "markdown",
   "metadata": {},
   "source": [
    "### Вывод"
   ]
  },
  {
   "cell_type": "markdown",
   "metadata": {},
   "source": [
    "Датафрейм состоит из 21 525 строк и 12 столбцов. В столбцах *days_employed* и *income_type* имеются пропуски, причем их количество совпадает — по 2174 пропуска в каждом (около 10% данных). Пропущенные данные являются количественными и имеют тип *float64*.\n",
    "\n",
    "Ручным поиском было найдено 54 дубликата.\n",
    "\n",
    "Также в глаза бросаются следующие артефакты:\n",
    "- Имена столбцов датафрейма неочевидно отражают суть параметров;\n",
    "- В столбце *days_employed* имеются отрицательные значения;\n",
    "- Данные в столбце *education* представлены в различных регистрах;\n",
    "- Некоторые данные в столбце *purpose* одинаковы по смыслу, однако представлены неэквивалентными строками;\n",
    "- В датафрейме есть клиенты с 20 детьми, причем 47 из них — женщины;\n",
    "- В датафрейме есть клиент с -1 ребёнком;\n",
    "- В датафрейме есть клиент с 1100 полными годами трудового стажа, а также клиенты с отрицательным стажем;\n",
    "- В датафрейме есть клиент в возрасте 0 лет;\n",
    "- В столбце *family_status* все данные записаны в нижнем регистре, кроме опции *Не женат / не замужем*;\n",
    "- У одного из клиентов в столбце *gender* указано значение *XNA*, то есть не указан пол."
   ]
  },
  {
   "cell_type": "markdown",
   "metadata": {},
   "source": [
    "## <a id='data_preprocessing'>Шаг 2. Предобработка данных</a>"
   ]
  },
  {
   "cell_type": "markdown",
   "metadata": {},
   "source": [
    "#### Дадим столбцам имена, наиболее ясно отражающие их смысл."
   ]
  },
  {
   "cell_type": "code",
   "execution_count": 21,
   "metadata": {},
   "outputs": [],
   "source": [
    "solvency_data.columns = ['children_amount', 'work_experience_days', 'age_years', 'education_level', \\\n",
    "           'education_level_id', 'marital_status', 'marital_status_id', 'sex', \\\n",
    "           'employment_type', 'past_debt', 'monthly_income', 'loan_purpose']"
   ]
  },
  {
   "cell_type": "markdown",
   "metadata": {},
   "source": [
    "### <a id='data_gaps'>Обработка пропусков</a>"
   ]
  },
  {
   "cell_type": "markdown",
   "metadata": {},
   "source": [
    "#### Посмотрим, есть ли связь между пропусками в стоблцах *work_experience_days* и *monthly_income*."
   ]
  },
  {
   "cell_type": "code",
   "execution_count": 22,
   "metadata": {},
   "outputs": [
    {
     "data": {
      "text/plain": [
       "True"
      ]
     },
     "execution_count": 22,
     "metadata": {},
     "output_type": "execute_result"
    }
   ],
   "source": [
    "solvency_data.query('work_experience_days.isna() and monthly_income.isna()').shape[0] ==\\\n",
    "solvency_data.query('work_experience_days.isna()').shape[0]"
   ]
  },
  {
   "cell_type": "markdown",
   "metadata": {},
   "source": [
    "Оказалось, что у каждого клиента с неизвестным общим трудовым стажем также неизвестен ежемесячный доход."
   ]
  },
  {
   "cell_type": "markdown",
   "metadata": {},
   "source": [
    "#### В столбце *work_experience_days* замечены отрицательные значения. Посчитаем их количество."
   ]
  },
  {
   "cell_type": "code",
   "execution_count": 23,
   "metadata": {},
   "outputs": [
    {
     "data": {
      "text/plain": [
       "15906"
      ]
     },
     "execution_count": 23,
     "metadata": {},
     "output_type": "execute_result"
    }
   ],
   "source": [
    "solvency_data.query('work_experience_days < 0').shape[0]"
   ]
  },
  {
   "cell_type": "markdown",
   "metadata": {},
   "source": [
    "15906 отрицательных значений из общего числа в 19351. Вероятно, произошла ошибка при вводе данных. Перед обработкой пропусков в этом столбце необходимо привести данные в порядок. Общий трудовой стаж в днях не может быть отрицательным числом."
   ]
  },
  {
   "cell_type": "markdown",
   "metadata": {},
   "source": [
    "#### Применим метод *abs()*, возвращающий модуль числа, к столбцу *work_experience_days*."
   ]
  },
  {
   "cell_type": "code",
   "execution_count": 24,
   "metadata": {},
   "outputs": [],
   "source": [
    "solvency_data['work_experience_days'] = solvency_data['work_experience_days'].apply(abs)"
   ]
  },
  {
   "cell_type": "markdown",
   "metadata": {},
   "source": [
    "#### Необходимо также разобраться с людьми, чей трудовой стаж превышает собственный возраст."
   ]
  },
  {
   "cell_type": "code",
   "execution_count": 25,
   "metadata": {},
   "outputs": [
    {
     "data": {
      "text/plain": [
       "3519"
      ]
     },
     "execution_count": 25,
     "metadata": {},
     "output_type": "execute_result"
    }
   ],
   "source": [
    "solvency_data.query('work_experience_days / 365 > age_years').shape[0]"
   ]
  },
  {
   "cell_type": "markdown",
   "metadata": {},
   "source": [
    "Таких клиентов оказалось немало. Выясним типы занятости этих людей."
   ]
  },
  {
   "cell_type": "code",
   "execution_count": 26,
   "metadata": {},
   "outputs": [
    {
     "data": {
      "text/plain": [
       "пенсионер      3443\n",
       "сотрудник        50\n",
       "компаньон        18\n",
       "госслужащий       6\n",
       "безработный       2\n",
       "Name: employment_type, dtype: int64"
      ]
     },
     "execution_count": 26,
     "metadata": {},
     "output_type": "execute_result"
    }
   ],
   "source": [
    "solvency_data.query('work_experience_days / 365 > age_years')['employment_type'].value_counts()"
   ]
  },
  {
   "cell_type": "markdown",
   "metadata": {},
   "source": [
    "Большинство из них оказалось пенсионерами. 3443 из 3856 пенсионеров в датафрейме совершили ошибку, если вводили данные самостоятельно, либо произошла ошибка системы."
   ]
  },
  {
   "cell_type": "markdown",
   "metadata": {},
   "source": [
    "Итак, пропуски имеются только столбцах *work_experience_days* и *monthly_income*. Они взаимосвязаны и количественные. Заменять пропущенные значения средним в данном случае некорректно, ибо у 3519 клиентов явно неверно задан трудовой стаж, а 3446 из них — пенсионеры."
   ]
  },
  {
   "cell_type": "markdown",
   "metadata": {},
   "source": [
    " #### Заменим пропущенные значения в датафрейме медианными значениями, причём сделаем это с учётом типа занятости."
   ]
  },
  {
   "cell_type": "code",
   "execution_count": 27,
   "metadata": {},
   "outputs": [
    {
     "data": {
      "text/plain": [
       "array(['сотрудник', 'пенсионер', 'компаньон', 'госслужащий',\n",
       "       'безработный', 'предприниматель', 'студент', 'в декрете'],\n",
       "      dtype=object)"
      ]
     },
     "execution_count": 27,
     "metadata": {},
     "output_type": "execute_result"
    }
   ],
   "source": [
    "solvency_data['employment_type'].unique()"
   ]
  },
  {
   "cell_type": "code",
   "execution_count": 28,
   "metadata": {},
   "outputs": [],
   "source": [
    "employment_types = solvency_data['employment_type'].unique()\n",
    "\n",
    "for employment_type in employment_types:\n",
    "    solvency_data.loc[solvency_data['employment_type'] == employment_type] =\\\n",
    "    solvency_data.loc[solvency_data['employment_type'] == employment_type]\\\n",
    "    .fillna(solvency_data.loc[solvency_data['employment_type'] == employment_type].median())"
   ]
  },
  {
   "cell_type": "code",
   "execution_count": 29,
   "metadata": {},
   "outputs": [
    {
     "data": {
      "text/plain": [
       "children_amount         0\n",
       "work_experience_days    0\n",
       "age_years               0\n",
       "education_level         0\n",
       "education_level_id      0\n",
       "marital_status          0\n",
       "marital_status_id       0\n",
       "sex                     0\n",
       "employment_type         0\n",
       "past_debt               0\n",
       "monthly_income          0\n",
       "loan_purpose            0\n",
       "dtype: int64"
      ]
     },
     "execution_count": 29,
     "metadata": {},
     "output_type": "execute_result"
    }
   ],
   "source": [
    "solvency_data.isna().sum()"
   ]
  },
  {
   "cell_type": "markdown",
   "metadata": {},
   "source": [
    "### Вывод"
   ]
  },
  {
   "cell_type": "markdown",
   "metadata": {},
   "source": [
    "Пропущенные значения в столбцах *work_experience_days* и *monthly_income* оказались взаимосвязанными. В результате некоторого сбоя в столбце *work_experience_days* с заведомо неотрицательными значениями появились отрицательные. Также у некоторых клиентов (преимущественно пенсионеров) в этом столбце присутствуют значения, превышающие допустимый максимум (соответствующее значение в столбце *age_years*, умноженное на 365). Отрицательные значения были заменены на значения с противоположным знаком. Пропущенные значения были заменены медианными с учётом типа занятости."
   ]
  },
  {
   "cell_type": "markdown",
   "metadata": {},
   "source": [
    "### <a id='data_type_replacement'>Замена типа данных</a>"
   ]
  },
  {
   "cell_type": "markdown",
   "metadata": {},
   "source": [
    "#### Так как общий трудовой стаж высчитывается в днях, а ежемесячный доход — в целочисленных условных единицах, приведём данные в столбцах *work_experience_days* и *monthly_income* к целочисленному типу *int64*."
   ]
  },
  {
   "cell_type": "code",
   "execution_count": 30,
   "metadata": {},
   "outputs": [],
   "source": [
    "solvency_data.loc[:, ['work_experience_days', 'monthly_income']] =\\\n",
    "solvency_data.loc[:, ['work_experience_days', 'monthly_income']].astype('int')"
   ]
  },
  {
   "cell_type": "code",
   "execution_count": 31,
   "metadata": {},
   "outputs": [
    {
     "name": "stdout",
     "output_type": "stream",
     "text": [
      "<class 'pandas.core.frame.DataFrame'>\n",
      "RangeIndex: 21525 entries, 0 to 21524\n",
      "Data columns (total 12 columns):\n",
      "children_amount         21525 non-null int64\n",
      "work_experience_days    21525 non-null int64\n",
      "age_years               21525 non-null int64\n",
      "education_level         21525 non-null object\n",
      "education_level_id      21525 non-null int64\n",
      "marital_status          21525 non-null object\n",
      "marital_status_id       21525 non-null int64\n",
      "sex                     21525 non-null object\n",
      "employment_type         21525 non-null object\n",
      "past_debt               21525 non-null int64\n",
      "monthly_income          21525 non-null int64\n",
      "loan_purpose            21525 non-null object\n",
      "dtypes: int64(7), object(5)\n",
      "memory usage: 2.0+ MB\n"
     ]
    }
   ],
   "source": [
    "solvency_data.info()"
   ]
  },
  {
   "cell_type": "markdown",
   "metadata": {},
   "source": [
    "### Вывод"
   ]
  },
  {
   "cell_type": "markdown",
   "metadata": {},
   "source": [
    "Данные в столбцах *work_experience_days* и *monthly_income* были представлены в датафрейме значениями с плавающей запятой (типа *float64*). Они были приведены к целочисленному типу *int64*."
   ]
  },
  {
   "cell_type": "markdown",
   "metadata": {},
   "source": [
    "### <a id='duplicate_handling'>Обработка дубликатов</a>"
   ]
  },
  {
   "cell_type": "markdown",
   "metadata": {},
   "source": [
    "Приведём данные в состояние, удобное для поиска дубликатов. На первом шаге было замечено, что значения в столбцах *education_level* и *marital_status* представлены в различных регистрах."
   ]
  },
  {
   "cell_type": "markdown",
   "metadata": {},
   "source": [
    "#### Приведём все строковые значения в столбцах *education_level* и *marital_status* к нижнему регистру."
   ]
  },
  {
   "cell_type": "code",
   "execution_count": 32,
   "metadata": {},
   "outputs": [],
   "source": [
    "solvency_data['education_level'] = solvency_data['education_level'].str.lower()\n",
    "solvency_data['marital_status'] = solvency_data['marital_status'].str.lower()"
   ]
  },
  {
   "cell_type": "code",
   "execution_count": 33,
   "metadata": {},
   "outputs": [
    {
     "data": {
      "text/plain": [
       "среднее                15233\n",
       "высшее                  5260\n",
       "неоконченное высшее      744\n",
       "начальное                282\n",
       "ученая степень             6\n",
       "Name: education_level, dtype: int64"
      ]
     },
     "execution_count": 33,
     "metadata": {},
     "output_type": "execute_result"
    }
   ],
   "source": [
    "solvency_data['education_level'].value_counts()"
   ]
  },
  {
   "cell_type": "code",
   "execution_count": 34,
   "metadata": {},
   "outputs": [
    {
     "data": {
      "text/plain": [
       "женат / замужем          12380\n",
       "гражданский брак          4177\n",
       "не женат / не замужем     2813\n",
       "в разводе                 1195\n",
       "вдовец / вдова             960\n",
       "Name: marital_status, dtype: int64"
      ]
     },
     "execution_count": 34,
     "metadata": {},
     "output_type": "execute_result"
    }
   ],
   "source": [
    "solvency_data['marital_status'].value_counts()"
   ]
  },
  {
   "cell_type": "markdown",
   "metadata": {},
   "source": [
    "#### Посчитаем число дубликатов с учётом регистра."
   ]
  },
  {
   "cell_type": "code",
   "execution_count": 35,
   "metadata": {},
   "outputs": [
    {
     "data": {
      "text/plain": [
       "71"
      ]
     },
     "execution_count": 35,
     "metadata": {},
     "output_type": "execute_result"
    }
   ],
   "source": [
    "solvency_data.duplicated().sum()"
   ]
  },
  {
   "cell_type": "markdown",
   "metadata": {},
   "source": [
    "С учётом регистра получаем уже не 54, а 71 дубликат. Возможная причина появления дубликатов — человеческий фактор или ошибка соединения с сервером при вводе данных, в результате чего многократное нажатие кнопки отправки данных могло привести к образованию дубликатов."
   ]
  },
  {
   "cell_type": "markdown",
   "metadata": {},
   "source": [
    "#### Избавимся от дубликатов."
   ]
  },
  {
   "cell_type": "code",
   "execution_count": 36,
   "metadata": {},
   "outputs": [
    {
     "data": {
      "text/plain": [
       "0"
      ]
     },
     "execution_count": 36,
     "metadata": {},
     "output_type": "execute_result"
    }
   ],
   "source": [
    "solvency_data = solvency_data.drop_duplicates().reset_index(drop=True)\n",
    "solvency_data.duplicated().sum()"
   ]
  },
  {
   "cell_type": "markdown",
   "metadata": {},
   "source": [
    "### Вывод"
   ]
  },
  {
   "cell_type": "markdown",
   "metadata": {},
   "source": [
    "Категориальные данные в столбцах *education_level* и *marital_status* датафрейма были приведены к нижнему регистру, благодаря чему был выявлен 71 дубликат. Все дубликаты были удалены."
   ]
  },
  {
   "cell_type": "markdown",
   "metadata": {},
   "source": [
    "### <a id='lemmatization'>Лемматизация</a>"
   ]
  },
  {
   "cell_type": "markdown",
   "metadata": {},
   "source": [
    "Как было сказано выше, некоторые данные в столбце *loan_purpose* одинаковы по смыслу, однако представлены неэквивалентными строками. Чтобы привести их к общему виду, применим лемматизацию. На первом шаге было посчитано, что количество различных категорий в столбце *loan_purpose* — 38. Это не так много."
   ]
  },
  {
   "cell_type": "markdown",
   "metadata": {},
   "source": [
    "#### Просмотрим значения столбца *loan_purpose* вручную и выделим основные леммы."
   ]
  },
  {
   "cell_type": "code",
   "execution_count": 37,
   "metadata": {},
   "outputs": [
    {
     "data": {
      "text/plain": [
       "array(['покупка жилья', 'приобретение автомобиля',\n",
       "       'дополнительное образование', 'сыграть свадьбу',\n",
       "       'операции с жильем', 'образование', 'на проведение свадьбы',\n",
       "       'покупка жилья для семьи', 'покупка недвижимости',\n",
       "       'покупка коммерческой недвижимости', 'покупка жилой недвижимости',\n",
       "       'строительство собственной недвижимости', 'недвижимость',\n",
       "       'строительство недвижимости', 'на покупку подержанного автомобиля',\n",
       "       'на покупку своего автомобиля',\n",
       "       'операции с коммерческой недвижимостью',\n",
       "       'строительство жилой недвижимости', 'жилье',\n",
       "       'операции со своей недвижимостью', 'автомобили',\n",
       "       'заняться образованием', 'сделка с подержанным автомобилем',\n",
       "       'получение образования', 'автомобиль', 'свадьба',\n",
       "       'получение дополнительного образования', 'покупка своего жилья',\n",
       "       'операции с недвижимостью', 'получение высшего образования',\n",
       "       'свой автомобиль', 'сделка с автомобилем',\n",
       "       'профильное образование', 'высшее образование',\n",
       "       'покупка жилья для сдачи', 'на покупку автомобиля', 'ремонт жилью',\n",
       "       'заняться высшим образованием'], dtype=object)"
      ]
     },
     "execution_count": 37,
     "metadata": {},
     "output_type": "execute_result"
    }
   ],
   "source": [
    "solvency_data['loan_purpose'].unique()"
   ]
  },
  {
   "cell_type": "markdown",
   "metadata": {},
   "source": [
    "Оказалось, что по сути категорий всего 4:\n",
    "\n",
    "1. свадьба\n",
    "2. жилье/недвижимость\n",
    "3. автомобиль\n",
    "4. образование"
   ]
  },
  {
   "cell_type": "code",
   "execution_count": 38,
   "metadata": {},
   "outputs": [],
   "source": [
    "loan_purposes = ['свадьба', 'жилье', 'недвижимость', 'автомобиль', 'образование']\n",
    "m = Mystem()"
   ]
  },
  {
   "cell_type": "markdown",
   "metadata": {},
   "source": [
    "#### Функция выполняет лемматизацию значения *value* и формирует список лемм *lemmas*, затем определяет, какая цель получения кредита из списка *loan_purposes* присутствует в списке лемм и меняет значение *value* на соответствующее значение *loan_purpose*. Цели *жилье* и *недвижимость* объединяются в единую цель *жилье/недвижимость*."
   ]
  },
  {
   "cell_type": "code",
   "execution_count": 39,
   "metadata": {},
   "outputs": [],
   "source": [
    "def change_loan_purpose(value):\n",
    "    lemmas = m.lemmatize(value)\n",
    "    for loan_purpose in loan_purposes:\n",
    "        if loan_purpose in lemmas:\n",
    "            value = loan_purpose\n",
    "            if value == 'жилье' or value == 'недвижимость':\n",
    "                value = 'жилье/недвижимость'\n",
    "    return value"
   ]
  },
  {
   "cell_type": "markdown",
   "metadata": {},
   "source": [
    "#### Применим функцию *change_loan_purpose()* к столбцу *loan_purpose* датафрейма и посмотрим на результат."
   ]
  },
  {
   "cell_type": "code",
   "execution_count": 40,
   "metadata": {},
   "outputs": [],
   "source": [
    "solvency_data['loan_purpose'] = solvency_data['loan_purpose'].apply(change_loan_purpose)"
   ]
  },
  {
   "cell_type": "code",
   "execution_count": 41,
   "metadata": {},
   "outputs": [
    {
     "data": {
      "text/plain": [
       "жилье/недвижимость    10811\n",
       "автомобиль             4306\n",
       "образование            4013\n",
       "свадьба                2324\n",
       "Name: loan_purpose, dtype: int64"
      ]
     },
     "execution_count": 41,
     "metadata": {},
     "output_type": "execute_result"
    }
   ],
   "source": [
    "solvency_data['loan_purpose'].value_counts()"
   ]
  },
  {
   "cell_type": "markdown",
   "metadata": {},
   "source": [
    "### Вывод"
   ]
  },
  {
   "cell_type": "markdown",
   "metadata": {},
   "source": [
    "В столбце *loan_purpose* обнаружено 38 разных по формулировке целей получения кредита. При их ручном просмотре выяснилось, что по сути категорий всего 4: свадьба, жилье/недвижимость, автомобиль и образование.\n",
    "\n",
    "С помощью лемматизации 38 категорий сведены к 4 основным. Значения столбца *loan_purpose* были заменены."
   ]
  },
  {
   "cell_type": "markdown",
   "metadata": {},
   "source": [
    "### <a id='categorization'>Категоризация данных</a>"
   ]
  },
  {
   "cell_type": "markdown",
   "metadata": {},
   "source": [
    "Выделим новые категории с учётом того, какие выводы нам предстоит делать в дальнейшем."
   ]
  },
  {
   "cell_type": "markdown",
   "metadata": {},
   "source": [
    "#### Разделим клиентов на 4 группы по уровню дохода."
   ]
  },
  {
   "cell_type": "code",
   "execution_count": 42,
   "metadata": {},
   "outputs": [
    {
     "data": {
      "text/plain": [
       "(107623.0, 142594.0]      5479\n",
       "(195820.25, 2265604.0]    5364\n",
       "(20666.999, 107623.0]     5364\n",
       "(142594.0, 195820.25]     5247\n",
       "Name: monthly_income, dtype: int64"
      ]
     },
     "execution_count": 42,
     "metadata": {},
     "output_type": "execute_result"
    }
   ],
   "source": [
    "pd.qcut(solvency_data['monthly_income'], 4).value_counts()"
   ]
  },
  {
   "cell_type": "markdown",
   "metadata": {},
   "source": [
    "#### Создадим столбец *monthly_income_interval*, где каждому клиенту будет соответствовать один из четырёх доходных интервалов."
   ]
  },
  {
   "cell_type": "code",
   "execution_count": 43,
   "metadata": {},
   "outputs": [],
   "source": [
    "solvency_data['monthly_income_interval'] =\\\n",
    "pd.cut(solvency_data['monthly_income'], [20666, 107623, 142594, 195820, 2265604])"
   ]
  },
  {
   "cell_type": "markdown",
   "metadata": {},
   "source": [
    "#### Посмотрим на число клиентов с тем или иным количеством детей."
   ]
  },
  {
   "cell_type": "code",
   "execution_count": 44,
   "metadata": {},
   "outputs": [
    {
     "data": {
      "text/plain": [
       " 0     14091\n",
       " 1      4808\n",
       " 2      2052\n",
       " 3       330\n",
       " 20       76\n",
       "-1        47\n",
       " 4        41\n",
       " 5         9\n",
       "Name: children_amount, dtype: int64"
      ]
     },
     "execution_count": 44,
     "metadata": {},
     "output_type": "execute_result"
    }
   ],
   "source": [
    "solvency_data['children_amount'].value_counts()"
   ]
  },
  {
   "cell_type": "markdown",
   "metadata": {},
   "source": [
    "Нет так много различных варианов. Число клиентов с 4, 5 или некорректным числом детей достаточно мало. Разобьём клиентов на несколько категорий по числу детей."
   ]
  },
  {
   "cell_type": "markdown",
   "metadata": {},
   "source": [
    "#### Функция, получающая на вход число детей и возвращающая название одной из четырёх категорий:\n",
    "\n",
    "1. нет детей\n",
    "2. один ребенок\n",
    "3. двое детей\n",
    "4. трое или более детей"
   ]
  },
  {
   "cell_type": "code",
   "execution_count": 45,
   "metadata": {},
   "outputs": [],
   "source": [
    "def make_children_status(value):\n",
    "    if value <= 0:\n",
    "        return 'нет детей'\n",
    "    elif 0 < value <= 1:\n",
    "        return 'один ребенок'\n",
    "    elif 1 < value <= 2:\n",
    "        return 'двое детей'\n",
    "    else:\n",
    "        return 'трое или более детей'"
   ]
  },
  {
   "cell_type": "markdown",
   "metadata": {},
   "source": [
    "#### Создадим столбец *children_status* с результатом применения функции *make_children_status()* к столбцу *children_amount* датафрейма."
   ]
  },
  {
   "cell_type": "code",
   "execution_count": 46,
   "metadata": {},
   "outputs": [],
   "source": [
    "solvency_data['children_status'] = solvency_data['children_amount'].apply(make_children_status)"
   ]
  },
  {
   "cell_type": "markdown",
   "metadata": {},
   "source": [
    "### Вывод"
   ]
  },
  {
   "cell_type": "markdown",
   "metadata": {},
   "source": [
    "Проведена категоризация данных с целью использования категорий в дальнейшем исследовании.\n",
    "\n",
    "Клиенты были отнесены к одной из четырёх категорий с соответствующим доходным интервалом и разделены на клинетов без детей, с одним ребёнком, двумя детьми, а также тремя или более детьми."
   ]
  },
  {
   "cell_type": "markdown",
   "metadata": {},
   "source": [
    "#### Посмотрим на таблицу, полученную после предобработки данных."
   ]
  },
  {
   "cell_type": "code",
   "execution_count": 47,
   "metadata": {},
   "outputs": [
    {
     "data": {
      "text/html": [
       "<div>\n",
       "<style scoped>\n",
       "    .dataframe tbody tr th:only-of-type {\n",
       "        vertical-align: middle;\n",
       "    }\n",
       "\n",
       "    .dataframe tbody tr th {\n",
       "        vertical-align: top;\n",
       "    }\n",
       "\n",
       "    .dataframe thead th {\n",
       "        text-align: right;\n",
       "    }\n",
       "</style>\n",
       "<table border=\"1\" class=\"dataframe\">\n",
       "  <thead>\n",
       "    <tr style=\"text-align: right;\">\n",
       "      <th></th>\n",
       "      <th>children_amount</th>\n",
       "      <th>work_experience_days</th>\n",
       "      <th>age_years</th>\n",
       "      <th>education_level</th>\n",
       "      <th>education_level_id</th>\n",
       "      <th>marital_status</th>\n",
       "      <th>marital_status_id</th>\n",
       "      <th>sex</th>\n",
       "      <th>employment_type</th>\n",
       "      <th>past_debt</th>\n",
       "      <th>monthly_income</th>\n",
       "      <th>loan_purpose</th>\n",
       "      <th>monthly_income_interval</th>\n",
       "      <th>children_status</th>\n",
       "    </tr>\n",
       "  </thead>\n",
       "  <tbody>\n",
       "    <tr>\n",
       "      <td>0</td>\n",
       "      <td>1</td>\n",
       "      <td>8437</td>\n",
       "      <td>42</td>\n",
       "      <td>высшее</td>\n",
       "      <td>0</td>\n",
       "      <td>женат / замужем</td>\n",
       "      <td>0</td>\n",
       "      <td>F</td>\n",
       "      <td>сотрудник</td>\n",
       "      <td>0</td>\n",
       "      <td>253875</td>\n",
       "      <td>жилье/недвижимость</td>\n",
       "      <td>(195820, 2265604]</td>\n",
       "      <td>один ребенок</td>\n",
       "    </tr>\n",
       "    <tr>\n",
       "      <td>1</td>\n",
       "      <td>1</td>\n",
       "      <td>4024</td>\n",
       "      <td>36</td>\n",
       "      <td>среднее</td>\n",
       "      <td>1</td>\n",
       "      <td>женат / замужем</td>\n",
       "      <td>0</td>\n",
       "      <td>F</td>\n",
       "      <td>сотрудник</td>\n",
       "      <td>0</td>\n",
       "      <td>112080</td>\n",
       "      <td>автомобиль</td>\n",
       "      <td>(107623, 142594]</td>\n",
       "      <td>один ребенок</td>\n",
       "    </tr>\n",
       "    <tr>\n",
       "      <td>2</td>\n",
       "      <td>0</td>\n",
       "      <td>5623</td>\n",
       "      <td>33</td>\n",
       "      <td>среднее</td>\n",
       "      <td>1</td>\n",
       "      <td>женат / замужем</td>\n",
       "      <td>0</td>\n",
       "      <td>M</td>\n",
       "      <td>сотрудник</td>\n",
       "      <td>0</td>\n",
       "      <td>145885</td>\n",
       "      <td>жилье/недвижимость</td>\n",
       "      <td>(142594, 195820]</td>\n",
       "      <td>нет детей</td>\n",
       "    </tr>\n",
       "    <tr>\n",
       "      <td>3</td>\n",
       "      <td>3</td>\n",
       "      <td>4124</td>\n",
       "      <td>32</td>\n",
       "      <td>среднее</td>\n",
       "      <td>1</td>\n",
       "      <td>женат / замужем</td>\n",
       "      <td>0</td>\n",
       "      <td>M</td>\n",
       "      <td>сотрудник</td>\n",
       "      <td>0</td>\n",
       "      <td>267628</td>\n",
       "      <td>образование</td>\n",
       "      <td>(195820, 2265604]</td>\n",
       "      <td>трое или более детей</td>\n",
       "    </tr>\n",
       "    <tr>\n",
       "      <td>4</td>\n",
       "      <td>0</td>\n",
       "      <td>340266</td>\n",
       "      <td>53</td>\n",
       "      <td>среднее</td>\n",
       "      <td>1</td>\n",
       "      <td>гражданский брак</td>\n",
       "      <td>1</td>\n",
       "      <td>F</td>\n",
       "      <td>пенсионер</td>\n",
       "      <td>0</td>\n",
       "      <td>158616</td>\n",
       "      <td>свадьба</td>\n",
       "      <td>(142594, 195820]</td>\n",
       "      <td>нет детей</td>\n",
       "    </tr>\n",
       "    <tr>\n",
       "      <td>5</td>\n",
       "      <td>0</td>\n",
       "      <td>926</td>\n",
       "      <td>27</td>\n",
       "      <td>высшее</td>\n",
       "      <td>0</td>\n",
       "      <td>гражданский брак</td>\n",
       "      <td>1</td>\n",
       "      <td>M</td>\n",
       "      <td>компаньон</td>\n",
       "      <td>0</td>\n",
       "      <td>255763</td>\n",
       "      <td>жилье/недвижимость</td>\n",
       "      <td>(195820, 2265604]</td>\n",
       "      <td>нет детей</td>\n",
       "    </tr>\n",
       "    <tr>\n",
       "      <td>6</td>\n",
       "      <td>0</td>\n",
       "      <td>2879</td>\n",
       "      <td>43</td>\n",
       "      <td>высшее</td>\n",
       "      <td>0</td>\n",
       "      <td>женат / замужем</td>\n",
       "      <td>0</td>\n",
       "      <td>F</td>\n",
       "      <td>компаньон</td>\n",
       "      <td>0</td>\n",
       "      <td>240525</td>\n",
       "      <td>жилье/недвижимость</td>\n",
       "      <td>(195820, 2265604]</td>\n",
       "      <td>нет детей</td>\n",
       "    </tr>\n",
       "    <tr>\n",
       "      <td>7</td>\n",
       "      <td>0</td>\n",
       "      <td>152</td>\n",
       "      <td>50</td>\n",
       "      <td>среднее</td>\n",
       "      <td>1</td>\n",
       "      <td>женат / замужем</td>\n",
       "      <td>0</td>\n",
       "      <td>M</td>\n",
       "      <td>сотрудник</td>\n",
       "      <td>0</td>\n",
       "      <td>135823</td>\n",
       "      <td>образование</td>\n",
       "      <td>(107623, 142594]</td>\n",
       "      <td>нет детей</td>\n",
       "    </tr>\n",
       "    <tr>\n",
       "      <td>8</td>\n",
       "      <td>2</td>\n",
       "      <td>6929</td>\n",
       "      <td>35</td>\n",
       "      <td>высшее</td>\n",
       "      <td>0</td>\n",
       "      <td>гражданский брак</td>\n",
       "      <td>1</td>\n",
       "      <td>F</td>\n",
       "      <td>сотрудник</td>\n",
       "      <td>0</td>\n",
       "      <td>95856</td>\n",
       "      <td>свадьба</td>\n",
       "      <td>(20666, 107623]</td>\n",
       "      <td>двое детей</td>\n",
       "    </tr>\n",
       "    <tr>\n",
       "      <td>9</td>\n",
       "      <td>0</td>\n",
       "      <td>2188</td>\n",
       "      <td>41</td>\n",
       "      <td>среднее</td>\n",
       "      <td>1</td>\n",
       "      <td>женат / замужем</td>\n",
       "      <td>0</td>\n",
       "      <td>M</td>\n",
       "      <td>сотрудник</td>\n",
       "      <td>0</td>\n",
       "      <td>144425</td>\n",
       "      <td>жилье/недвижимость</td>\n",
       "      <td>(142594, 195820]</td>\n",
       "      <td>нет детей</td>\n",
       "    </tr>\n",
       "  </tbody>\n",
       "</table>\n",
       "</div>"
      ],
      "text/plain": [
       "   children_amount  work_experience_days  age_years education_level  \\\n",
       "0                1                  8437         42          высшее   \n",
       "1                1                  4024         36         среднее   \n",
       "2                0                  5623         33         среднее   \n",
       "3                3                  4124         32         среднее   \n",
       "4                0                340266         53         среднее   \n",
       "5                0                   926         27          высшее   \n",
       "6                0                  2879         43          высшее   \n",
       "7                0                   152         50         среднее   \n",
       "8                2                  6929         35          высшее   \n",
       "9                0                  2188         41         среднее   \n",
       "\n",
       "   education_level_id    marital_status  marital_status_id sex  \\\n",
       "0                   0   женат / замужем                  0   F   \n",
       "1                   1   женат / замужем                  0   F   \n",
       "2                   1   женат / замужем                  0   M   \n",
       "3                   1   женат / замужем                  0   M   \n",
       "4                   1  гражданский брак                  1   F   \n",
       "5                   0  гражданский брак                  1   M   \n",
       "6                   0   женат / замужем                  0   F   \n",
       "7                   1   женат / замужем                  0   M   \n",
       "8                   0  гражданский брак                  1   F   \n",
       "9                   1   женат / замужем                  0   M   \n",
       "\n",
       "  employment_type  past_debt  monthly_income        loan_purpose  \\\n",
       "0       сотрудник          0          253875  жилье/недвижимость   \n",
       "1       сотрудник          0          112080          автомобиль   \n",
       "2       сотрудник          0          145885  жилье/недвижимость   \n",
       "3       сотрудник          0          267628         образование   \n",
       "4       пенсионер          0          158616             свадьба   \n",
       "5       компаньон          0          255763  жилье/недвижимость   \n",
       "6       компаньон          0          240525  жилье/недвижимость   \n",
       "7       сотрудник          0          135823         образование   \n",
       "8       сотрудник          0           95856             свадьба   \n",
       "9       сотрудник          0          144425  жилье/недвижимость   \n",
       "\n",
       "  monthly_income_interval       children_status  \n",
       "0       (195820, 2265604]          один ребенок  \n",
       "1        (107623, 142594]          один ребенок  \n",
       "2        (142594, 195820]             нет детей  \n",
       "3       (195820, 2265604]  трое или более детей  \n",
       "4        (142594, 195820]             нет детей  \n",
       "5       (195820, 2265604]             нет детей  \n",
       "6       (195820, 2265604]             нет детей  \n",
       "7        (107623, 142594]             нет детей  \n",
       "8         (20666, 107623]            двое детей  \n",
       "9        (142594, 195820]             нет детей  "
      ]
     },
     "execution_count": 47,
     "metadata": {},
     "output_type": "execute_result"
    }
   ],
   "source": [
    "solvency_data.head(10)"
   ]
  },
  {
   "cell_type": "markdown",
   "metadata": {},
   "source": [
    "## <a id='answer_on_questions'>Шаг 3. Ответы на вопросы</a>"
   ]
  },
  {
   "cell_type": "markdown",
   "metadata": {},
   "source": [
    "### <a id='children_dependence'>Зависимость между количеством детей и возвратом кредита в срок</a>"
   ]
  },
  {
   "cell_type": "code",
   "execution_count": 48,
   "metadata": {},
   "outputs": [
    {
     "data": {
      "text/html": [
       "<div>\n",
       "<style scoped>\n",
       "    .dataframe tbody tr th:only-of-type {\n",
       "        vertical-align: middle;\n",
       "    }\n",
       "\n",
       "    .dataframe tbody tr th {\n",
       "        vertical-align: top;\n",
       "    }\n",
       "\n",
       "    .dataframe thead th {\n",
       "        text-align: right;\n",
       "    }\n",
       "</style>\n",
       "<table border=\"1\" class=\"dataframe\">\n",
       "  <thead>\n",
       "    <tr style=\"text-align: right;\">\n",
       "      <th></th>\n",
       "      <th>with_debt</th>\n",
       "      <th>total</th>\n",
       "      <th>debtor_ratio</th>\n",
       "    </tr>\n",
       "    <tr>\n",
       "      <th>children_status</th>\n",
       "      <th></th>\n",
       "      <th></th>\n",
       "      <th></th>\n",
       "    </tr>\n",
       "  </thead>\n",
       "  <tbody>\n",
       "    <tr>\n",
       "      <td>нет детей</td>\n",
       "      <td>1063</td>\n",
       "      <td>14091</td>\n",
       "      <td>0.075438</td>\n",
       "    </tr>\n",
       "    <tr>\n",
       "      <td>трое или более детей</td>\n",
       "      <td>31</td>\n",
       "      <td>380</td>\n",
       "      <td>0.081579</td>\n",
       "    </tr>\n",
       "    <tr>\n",
       "      <td>один ребенок</td>\n",
       "      <td>444</td>\n",
       "      <td>4808</td>\n",
       "      <td>0.092346</td>\n",
       "    </tr>\n",
       "    <tr>\n",
       "      <td>двое детей</td>\n",
       "      <td>194</td>\n",
       "      <td>2052</td>\n",
       "      <td>0.094542</td>\n",
       "    </tr>\n",
       "  </tbody>\n",
       "</table>\n",
       "</div>"
      ],
      "text/plain": [
       "                      with_debt  total  debtor_ratio\n",
       "children_status                                     \n",
       "нет детей                  1063  14091      0.075438\n",
       "трое или более детей         31    380      0.081579\n",
       "один ребенок                444   4808      0.092346\n",
       "двое детей                  194   2052      0.094542"
      ]
     },
     "execution_count": 48,
     "metadata": {},
     "output_type": "execute_result"
    }
   ],
   "source": [
    "children_status_pivot = solvency_data.query('children_amount != -1 and children_amount != 20')\\\n",
    ".pivot_table(index='children_status', values='past_debt', aggfunc=['sum', 'count', 'mean'])\n",
    "children_status_pivot.columns = ['with_debt', 'total', 'debtor_ratio']\n",
    "children_status_pivot.sort_values(by='debtor_ratio')"
   ]
  },
  {
   "cell_type": "markdown",
   "metadata": {},
   "source": [
    "### Вывод"
   ]
  },
  {
   "cell_type": "markdown",
   "metadata": {},
   "source": [
    "Таблица показывает следующую картину:\n",
    "- из 14091 клиента без детей 1063 имели задолженности по возврату кредитов, то есть около 7%;\n",
    "- из 4808 клиентов с одним ребёнком 444 имели задолженности по возврату кредитов, то есть около 9%;\n",
    "- из 2052 клиентов с двумя детьми 194 имели задолженности по возврату кредитов, то есть около 9%;\n",
    "- из 380 клиентов с тремя или более детьми 31 имел задолженности по возврату кредитов, то есть около 8%.\n",
    "\n",
    "Около 7-9% клиентов имели задолженности по возврату кредита. Клиенты без детей возвращают кредит в срок немного чаще."
   ]
  },
  {
   "cell_type": "markdown",
   "metadata": {},
   "source": [
    "### <a id='marital_status_dependence'>Зависимость между семейным положением и возвратом кредита в срок</a>"
   ]
  },
  {
   "cell_type": "code",
   "execution_count": 49,
   "metadata": {},
   "outputs": [
    {
     "data": {
      "text/html": [
       "<div>\n",
       "<style scoped>\n",
       "    .dataframe tbody tr th:only-of-type {\n",
       "        vertical-align: middle;\n",
       "    }\n",
       "\n",
       "    .dataframe tbody tr th {\n",
       "        vertical-align: top;\n",
       "    }\n",
       "\n",
       "    .dataframe thead th {\n",
       "        text-align: right;\n",
       "    }\n",
       "</style>\n",
       "<table border=\"1\" class=\"dataframe\">\n",
       "  <thead>\n",
       "    <tr style=\"text-align: right;\">\n",
       "      <th></th>\n",
       "      <th>with_debt</th>\n",
       "      <th>total</th>\n",
       "      <th>debtor_ratio</th>\n",
       "    </tr>\n",
       "    <tr>\n",
       "      <th>marital_status</th>\n",
       "      <th></th>\n",
       "      <th></th>\n",
       "      <th></th>\n",
       "    </tr>\n",
       "  </thead>\n",
       "  <tbody>\n",
       "    <tr>\n",
       "      <td>вдовец / вдова</td>\n",
       "      <td>63</td>\n",
       "      <td>959</td>\n",
       "      <td>0.065693</td>\n",
       "    </tr>\n",
       "    <tr>\n",
       "      <td>в разводе</td>\n",
       "      <td>85</td>\n",
       "      <td>1195</td>\n",
       "      <td>0.071130</td>\n",
       "    </tr>\n",
       "    <tr>\n",
       "      <td>женат / замужем</td>\n",
       "      <td>931</td>\n",
       "      <td>12339</td>\n",
       "      <td>0.075452</td>\n",
       "    </tr>\n",
       "    <tr>\n",
       "      <td>гражданский брак</td>\n",
       "      <td>388</td>\n",
       "      <td>4151</td>\n",
       "      <td>0.093471</td>\n",
       "    </tr>\n",
       "    <tr>\n",
       "      <td>не женат / не замужем</td>\n",
       "      <td>274</td>\n",
       "      <td>2810</td>\n",
       "      <td>0.097509</td>\n",
       "    </tr>\n",
       "  </tbody>\n",
       "</table>\n",
       "</div>"
      ],
      "text/plain": [
       "                       with_debt  total  debtor_ratio\n",
       "marital_status                                       \n",
       "вдовец / вдова                63    959      0.065693\n",
       "в разводе                     85   1195      0.071130\n",
       "женат / замужем              931  12339      0.075452\n",
       "гражданский брак             388   4151      0.093471\n",
       "не женат / не замужем        274   2810      0.097509"
      ]
     },
     "execution_count": 49,
     "metadata": {},
     "output_type": "execute_result"
    }
   ],
   "source": [
    "marital_status_pivot = solvency_data\\\n",
    ".pivot_table(index='marital_status', values='past_debt', aggfunc=['sum', 'count', 'mean'])\n",
    "marital_status_pivot.columns = ['with_debt', 'total', 'debtor_ratio']\n",
    "marital_status_pivot.sort_values(by='debtor_ratio')"
   ]
  },
  {
   "cell_type": "markdown",
   "metadata": {},
   "source": [
    "### Вывод"
   ]
  },
  {
   "cell_type": "markdown",
   "metadata": {},
   "source": [
    "Таблица показывает следующую картину:\n",
    "- из 959 овдовевших клиентов 63 имели задолженности по возврату кредитов, то есть около 6%;\n",
    "- из 1195 клиентов в разводе 85 имели задолженности по возврату кредитов, то есть около 7%;\n",
    "- из 12339 клиентов в официальном браке 931 имел задолженности по возврату кредитов, то есть около 7%;\n",
    "- из 4151 клиента в гражданском браке 388 имели задолженности по возврату кредитов, то есть около 9%;\n",
    "- из 2810 клиентов, не состоящих в браке, 274 имели задолженности по возврату кредитов, то есть около 10%.\n",
    "\n",
    "Клиенты, не состоящие в браке, немного реже возвращают кредит вовремя — каждый десятый клиент имел задолженности. Возможно, это связано с бытовой неопытностью, приведшей к спонтанному взятию кредита.\n",
    "\n",
    "Охотнее всех отдают кредиты овдовевшие клиенты — всего 6% должников. Возможно, это уже не первый кредит для них, и такие клиенты уже имеют опыт получения кредита."
   ]
  },
  {
   "cell_type": "markdown",
   "metadata": {},
   "source": [
    "### <a id='income_level_dependence'>Зависимость между уровнем дохода и возвратом кредита в срок</a>"
   ]
  },
  {
   "cell_type": "code",
   "execution_count": 50,
   "metadata": {},
   "outputs": [
    {
     "data": {
      "text/html": [
       "<div>\n",
       "<style scoped>\n",
       "    .dataframe tbody tr th:only-of-type {\n",
       "        vertical-align: middle;\n",
       "    }\n",
       "\n",
       "    .dataframe tbody tr th {\n",
       "        vertical-align: top;\n",
       "    }\n",
       "\n",
       "    .dataframe thead th {\n",
       "        text-align: right;\n",
       "    }\n",
       "</style>\n",
       "<table border=\"1\" class=\"dataframe\">\n",
       "  <thead>\n",
       "    <tr style=\"text-align: right;\">\n",
       "      <th></th>\n",
       "      <th>with_debt</th>\n",
       "      <th>total</th>\n",
       "      <th>debtor_ratio</th>\n",
       "    </tr>\n",
       "    <tr>\n",
       "      <th>monthly_income_interval</th>\n",
       "      <th></th>\n",
       "      <th></th>\n",
       "      <th></th>\n",
       "    </tr>\n",
       "  </thead>\n",
       "  <tbody>\n",
       "    <tr>\n",
       "      <td>(195820, 2265604]</td>\n",
       "      <td>383</td>\n",
       "      <td>5364</td>\n",
       "      <td>0.071402</td>\n",
       "    </tr>\n",
       "    <tr>\n",
       "      <td>(20666, 107623]</td>\n",
       "      <td>427</td>\n",
       "      <td>5364</td>\n",
       "      <td>0.079605</td>\n",
       "    </tr>\n",
       "    <tr>\n",
       "      <td>(142594, 195820]</td>\n",
       "      <td>448</td>\n",
       "      <td>5247</td>\n",
       "      <td>0.085382</td>\n",
       "    </tr>\n",
       "    <tr>\n",
       "      <td>(107623, 142594]</td>\n",
       "      <td>483</td>\n",
       "      <td>5479</td>\n",
       "      <td>0.088155</td>\n",
       "    </tr>\n",
       "  </tbody>\n",
       "</table>\n",
       "</div>"
      ],
      "text/plain": [
       "                         with_debt  total  debtor_ratio\n",
       "monthly_income_interval                                \n",
       "(195820, 2265604]              383   5364      0.071402\n",
       "(20666, 107623]                427   5364      0.079605\n",
       "(142594, 195820]               448   5247      0.085382\n",
       "(107623, 142594]               483   5479      0.088155"
      ]
     },
     "execution_count": 50,
     "metadata": {},
     "output_type": "execute_result"
    }
   ],
   "source": [
    "monthly_income_pivot = solvency_data\\\n",
    ".pivot_table(index='monthly_income_interval', values='past_debt', aggfunc=['sum', 'count', 'mean'])\n",
    "monthly_income_pivot.columns = ['with_debt', 'total', 'debtor_ratio']\n",
    "monthly_income_pivot.sort_values(by='debtor_ratio')"
   ]
  },
  {
   "cell_type": "markdown",
   "metadata": {},
   "source": [
    "### Вывод"
   ]
  },
  {
   "cell_type": "markdown",
   "metadata": {},
   "source": [
    "Клиенты с высоким и низким доходами немного реже становятся должниками (7% и 8% должников соответственно). Возможно, это связано с тем, что богатым клиентам проще отдать долги вовремя ввиду их высокого дохода, а бедные клиенты с опаской берут кредиты и тщательно продумывают, хватит ли им средств погасить кредит вовремя."
   ]
  },
  {
   "cell_type": "markdown",
   "metadata": {},
   "source": [
    "### <a id='purpose_dependence'>Влияние цели кредита на его возврат в срок</a>"
   ]
  },
  {
   "cell_type": "code",
   "execution_count": 51,
   "metadata": {},
   "outputs": [
    {
     "data": {
      "text/html": [
       "<div>\n",
       "<style scoped>\n",
       "    .dataframe tbody tr th:only-of-type {\n",
       "        vertical-align: middle;\n",
       "    }\n",
       "\n",
       "    .dataframe tbody tr th {\n",
       "        vertical-align: top;\n",
       "    }\n",
       "\n",
       "    .dataframe thead th {\n",
       "        text-align: right;\n",
       "    }\n",
       "</style>\n",
       "<table border=\"1\" class=\"dataframe\">\n",
       "  <thead>\n",
       "    <tr style=\"text-align: right;\">\n",
       "      <th></th>\n",
       "      <th>with_debt</th>\n",
       "      <th>total</th>\n",
       "      <th>debtor_ratio</th>\n",
       "    </tr>\n",
       "    <tr>\n",
       "      <th>loan_purpose</th>\n",
       "      <th></th>\n",
       "      <th></th>\n",
       "      <th></th>\n",
       "    </tr>\n",
       "  </thead>\n",
       "  <tbody>\n",
       "    <tr>\n",
       "      <td>жилье/недвижимость</td>\n",
       "      <td>782</td>\n",
       "      <td>10811</td>\n",
       "      <td>0.072334</td>\n",
       "    </tr>\n",
       "    <tr>\n",
       "      <td>свадьба</td>\n",
       "      <td>186</td>\n",
       "      <td>2324</td>\n",
       "      <td>0.080034</td>\n",
       "    </tr>\n",
       "    <tr>\n",
       "      <td>образование</td>\n",
       "      <td>370</td>\n",
       "      <td>4013</td>\n",
       "      <td>0.092200</td>\n",
       "    </tr>\n",
       "    <tr>\n",
       "      <td>автомобиль</td>\n",
       "      <td>403</td>\n",
       "      <td>4306</td>\n",
       "      <td>0.093590</td>\n",
       "    </tr>\n",
       "  </tbody>\n",
       "</table>\n",
       "</div>"
      ],
      "text/plain": [
       "                    with_debt  total  debtor_ratio\n",
       "loan_purpose                                      \n",
       "жилье/недвижимость        782  10811      0.072334\n",
       "свадьба                   186   2324      0.080034\n",
       "образование               370   4013      0.092200\n",
       "автомобиль                403   4306      0.093590"
      ]
     },
     "execution_count": 51,
     "metadata": {},
     "output_type": "execute_result"
    }
   ],
   "source": [
    "loan_purpose_pivot = solvency_data\\\n",
    ".pivot_table(index='loan_purpose', values='past_debt', aggfunc=['sum', 'count', 'mean'])\n",
    "loan_purpose_pivot.columns = ['with_debt', 'total', 'debtor_ratio']\n",
    "loan_purpose_pivot.sort_values(by='debtor_ratio')"
   ]
  },
  {
   "cell_type": "markdown",
   "metadata": {},
   "source": [
    "### Вывод"
   ]
  },
  {
   "cell_type": "markdown",
   "metadata": {},
   "source": [
    "Охотнее всех кредит отдают клиенты, целью которых была операция с недвижимостью — 7% должников. Чаще всего это взрослые люди, построившие себе карьеру и готовые проводить такие серьёзные денежные операции.\n",
    "\n",
    "Чуть реже долги отдают клиенты, получившие кредит на свадьбу. Клиенты, взявшие кредит на образование или авто, отдают деньги в срок ещё реже — 9% должников в каждой из категорий. Образование нынче дорогое, особенно зарубежное. Возникает много непредвиденных обстоятельств. Автомобиль же, порой, приобретается как статусная роскошь, которая, как видим, не всегда себя оправдывает, превращая клиента в должника."
   ]
  },
  {
   "cell_type": "markdown",
   "metadata": {},
   "source": [
    "## <a id='general_conclusion'>Шаг 4. Общий вывод</a>"
   ]
  },
  {
   "cell_type": "markdown",
   "metadata": {},
   "source": [
    "На вход получены данные о платёжеспособности клиентов банка. Оказалось, что они находятся в неудобном для анализа состоянии:\n",
    "\n",
    "1. Названия столбцов таблицы неясно отражают их суть.\n",
    "2. В данных имеются пропуски.\n",
    "3. В данных имеется несоответствие типов.\n",
    "4. В данных имеются дубликаты.\n",
    "5. Часть данных некорректна:\n",
    "  - отрицательные значения в заведомо неотрицательных столбцах;\n",
    "  - огромные значения, превышающие логический максимум;\n",
    "  - различное представление эквивалентных данных и т.п.\n",
    "\n",
    "Столбцы датафрейма были переименованы. Пропуски в данных о трудовом стаже и ежемесячном доходе оказались взаимосвязаны, а значит, скорее всего, поступали из одного источника.\n",
    "Стаж некоторых клиентов превышал их возраст. Оказалось, что большинство таких клиентов — пенсионеры, возможно, самостоятельно совершившие ошибку при вводе данных.\n",
    "У большей части клиентов оказался отрицательный трудовой стаж. Скорее всего, в системе случился сбой. Такие значения были заменены на противоположные.\n",
    "Пропуски были заменены на медианное значение с учётом типа занятости.\n",
    "\n",
    "Трудовой стаж и ежемесячный доход в таблице были представлены вещественными числами. Эти значения были приведены к целочисленному типу.\n",
    "\n",
    "Расхождения в регистре данных в столбце с уровнем дохода и семейным положением затрудняли обработку дубликатов. Эти значения были приведены к нижнему регистру, а все дубликаты удалены.\n",
    "\n",
    "Оказалось, что клиенты указали 38 различных целей получения кредита. Все категории были просмотрены вручную. Оказалось, что на деле их всего 4 — клиенты брали кредит на покупку автомобиля, свадьбу, образование или операции с недвижимостью. Значения столбца с целью получения кредита были заменены на одну из вышеперечисленных целей с использованием лемматизации.\n",
    "\n",
    "С учётом необходимости нахождения ответа на поставленные заказчиком вопросы, данные были также категоризированы.\n",
    "Клиенты были разбиты на 4 группы по уровню дохода. Также отдельно были выделены клиенты без детей, с одним ребёнком, с двумя детьми, а также с тремя или более детьми.\n",
    "\n",
    "##### Зависимость между количеством детей и возвратом кредита в срок:\n",
    "Зависимости практически не наблюдается. Незначительно реже должниками становятся бездетные клиенты. Уровень клиентов, имевших задолженности, составил примерно 7-9%.\n",
    "##### Зависимость между семейным положением и возвратом кредита в срок:\n",
    "Клиенты, не состоящие в браке, отдают кредит в срок реже — 10% имели задолженности. Овдовевшие клиенты отдают кредит вовремя чаще — всего 6% должников.\n",
    "##### Зависимость между уровнем дохода и возвратом кредита в срок:\n",
    "Клиенты с низким и высоким доходами реже становятся должниками (8% и 7% должников соответственно), а клиенты со средним доходом немного чаще — около 9% должников.\n",
    "##### Влияние цели кредита на его возврат в срок:\n",
    "Среди клиентов, взявших кредит на недвижимость, всего 7% должников, тогда как клиенты, получившие кредит на автомобиль или образование, имели задолженности немного чаще — более 9% должников."
   ]
  }
 ],
 "metadata": {
  "kernelspec": {
   "display_name": "Python 3",
   "language": "python",
   "name": "python3"
  },
  "language_info": {
   "codemirror_mode": {
    "name": "ipython",
    "version": 3
   },
   "file_extension": ".py",
   "mimetype": "text/x-python",
   "name": "python",
   "nbconvert_exporter": "python",
   "pygments_lexer": "ipython3",
   "version": "3.8.5"
  },
  "toc": {
   "base_numbering": 1,
   "nav_menu": {},
   "number_sections": false,
   "sideBar": true,
   "skip_h1_title": false,
   "title_cell": "Table of Contents",
   "title_sidebar": "Contents",
   "toc_cell": false,
   "toc_position": {},
   "toc_section_display": true,
   "toc_window_display": false
  }
 },
 "nbformat": 4,
 "nbformat_minor": 2
}
