{
 "cells": [
  {
   "cell_type": "markdown",
   "metadata": {},
   "source": [
    "# Исследование объявлений о продаже квартир"
   ]
  },
  {
   "cell_type": "markdown",
   "metadata": {},
   "source": [
    "## Задача"
   ]
  },
  {
   "cell_type": "markdown",
   "metadata": {},
   "source": [
    "Провести исследовательский анализ данным Яндекс.Недвижимости о продаже квартир в Санкт-Петербурге и соседних населённых пунктах за несколько лет, имея в виду, что одна часть данных вписана пользователями, а другая получена автоматически на основе картографических данных."
   ]
  },
  {
   "cell_type": "markdown",
   "metadata": {},
   "source": [
    "## Описание данных"
   ]
  },
  {
   "cell_type": "markdown",
   "metadata": {},
   "source": [
    "Таблица **real_estate_data** (архив объявлений о продаже квартир в Санкт-Петербурге и соседних населённых пунктах за несколько лет) со следующими столбцами:\n",
    "\n",
    "- airports_nearest — расстояние до ближайшего аэропорта в метрах (м)\n",
    "- balcony — число балконов\n",
    "- ceiling_height — высота потолков (м)\n",
    "- cityCenters_nearest — расстояние до центра города (м)\n",
    "- days_exposition — сколько дней было размещено объявление (от публикации до снятия)\n",
    "- first_day_exposition — дата публикации\n",
    "- floor — этаж\n",
    "- floors_total — всего этажей в доме\n",
    "- is_apartment — апартаменты (булев тип)\n",
    "- kitchen_area — площадь кухни в квадратных метрах (м²)\n",
    "- last_price — цена на момент снятия с публикации\n",
    "- living_area — жилая площадь в квадратных метрах (м²)\n",
    "- locality_name — название населённого пункта\n",
    "- open_plan — свободная планировка (булев тип)\n",
    "- parks_around3000 — число парков в радиусе 3 км\n",
    "- parks_nearest — расстояние до ближайшего парка (м)\n",
    "- ponds_around3000 — число водоёмов в радиусе 3 км\n",
    "- ponds_nearest — расстояние до ближайшего водоёма (м)\n",
    "- rooms — число комнат\n",
    "- studio — квартира-студия (булев тип)\n",
    "- total_area — площадь квартиры в квадратных метрах (м²)\n",
    "- total_images — число фотографий квартиры в объявлении"
   ]
  },
  {
   "cell_type": "markdown",
   "metadata": {},
   "source": [
    "## Оглавление"
   ]
  },
  {
   "cell_type": "markdown",
   "metadata": {},
   "source": [
    "### [Шаг 1. Открытие файла с данными и изучение общей информации](#read_data)\n",
    "### [Шаг 2. Предобработка данных](#data_preprocessing)\n",
    "- [Обработка пропусков](#data_gaps)\n",
    "- [Замена типа данных](#data_type_replacement)\n",
    "- [Преобразование названий населённых пунктов](#locality_names_change)\n",
    "\n",
    "### [Шаг 3. Добавление данных в таблицу](#data_addition)\n",
    "### [Шаг 4. Исследовательский анализ данных](#exploratory_data_analysis)\n",
    "- [Изучение площадей, цен, числа комнат и высот потолков квартир](#area_price_rooms_ceiling_analysis)\n",
    "- [Изучение времени продажи квартир](#days_exposition_analysis)\n",
    "- [Изучение зависимости цены квартиры от её площади, числа комнат и расстояния до центра](#price_corr_area_rooms_centre)\n",
    "- [Изучение зависимости цены квартиры от категории этажа](#price_corr_floor)\n",
    "- [Изучение зависимости цены квартиры от даты размещения объявления](#price_corr_first_exposition)\n",
    "- [Сравнительный анализ квартир в центре Санкт-Петербурга и в городе в целом](#spb_research)\n",
    "\n",
    "### [Шаг 5. Общий вывод](#general_conclusion)"
   ]
  },
  {
   "cell_type": "markdown",
   "metadata": {},
   "source": [
    "## Ход работы"
   ]
  },
  {
   "cell_type": "markdown",
   "metadata": {},
   "source": [
    "#### Импортируем необходимые для работы библиотеки."
   ]
  },
  {
   "cell_type": "code",
   "execution_count": 1,
   "metadata": {},
   "outputs": [],
   "source": [
    "import pandas as pd\n",
    "from matplotlib import pyplot as plt\n",
    "\n",
    "pd.set_option('display.max_columns', 31)"
   ]
  },
  {
   "cell_type": "markdown",
   "metadata": {},
   "source": [
    "## <a id='read_data'>Шаг 1. Открытие файла с данными и изучение общей информации</a>"
   ]
  },
  {
   "cell_type": "markdown",
   "metadata": {},
   "source": [
    "#### Откроем файл с данными и сохраним их в переменной *estate_data*."
   ]
  },
  {
   "cell_type": "code",
   "execution_count": 2,
   "metadata": {},
   "outputs": [],
   "source": [
    "estate_data = pd.read_csv('/datasets/real_estate_data.csv', sep='\\t')"
   ]
  },
  {
   "cell_type": "markdown",
   "metadata": {},
   "source": [
    "#### Изучим общую информацию."
   ]
  },
  {
   "cell_type": "code",
   "execution_count": 3,
   "metadata": {},
   "outputs": [
    {
     "name": "stdout",
     "output_type": "stream",
     "text": [
      "<class 'pandas.core.frame.DataFrame'>\n",
      "RangeIndex: 23699 entries, 0 to 23698\n",
      "Data columns (total 22 columns):\n",
      "total_images            23699 non-null int64\n",
      "last_price              23699 non-null float64\n",
      "total_area              23699 non-null float64\n",
      "first_day_exposition    23699 non-null object\n",
      "rooms                   23699 non-null int64\n",
      "ceiling_height          14504 non-null float64\n",
      "floors_total            23613 non-null float64\n",
      "living_area             21796 non-null float64\n",
      "floor                   23699 non-null int64\n",
      "is_apartment            2775 non-null object\n",
      "studio                  23699 non-null bool\n",
      "open_plan               23699 non-null bool\n",
      "kitchen_area            21421 non-null float64\n",
      "balcony                 12180 non-null float64\n",
      "locality_name           23650 non-null object\n",
      "airports_nearest        18157 non-null float64\n",
      "cityCenters_nearest     18180 non-null float64\n",
      "parks_around3000        18181 non-null float64\n",
      "parks_nearest           8079 non-null float64\n",
      "ponds_around3000        18181 non-null float64\n",
      "ponds_nearest           9110 non-null float64\n",
      "days_exposition         20518 non-null float64\n",
      "dtypes: bool(2), float64(14), int64(3), object(3)\n",
      "memory usage: 3.7+ MB\n"
     ]
    }
   ],
   "source": [
    "estate_data.info()"
   ]
  },
  {
   "cell_type": "markdown",
   "metadata": {},
   "source": [
    "#### Посчитаем количество пропусков в каждом столбце."
   ]
  },
  {
   "cell_type": "code",
   "execution_count": 4,
   "metadata": {},
   "outputs": [
    {
     "data": {
      "text/plain": [
       "total_images                0\n",
       "last_price                  0\n",
       "total_area                  0\n",
       "first_day_exposition        0\n",
       "rooms                       0\n",
       "ceiling_height           9195\n",
       "floors_total               86\n",
       "living_area              1903\n",
       "floor                       0\n",
       "is_apartment            20924\n",
       "studio                      0\n",
       "open_plan                   0\n",
       "kitchen_area             2278\n",
       "balcony                 11519\n",
       "locality_name              49\n",
       "airports_nearest         5542\n",
       "cityCenters_nearest      5519\n",
       "parks_around3000         5518\n",
       "parks_nearest           15620\n",
       "ponds_around3000         5518\n",
       "ponds_nearest           14589\n",
       "days_exposition          3181\n",
       "dtype: int64"
      ]
     },
     "execution_count": 4,
     "metadata": {},
     "output_type": "execute_result"
    }
   ],
   "source": [
    "estate_data.isna().sum()"
   ]
  },
  {
   "cell_type": "code",
   "execution_count": 5,
   "metadata": {},
   "outputs": [
    {
     "data": {
      "text/html": [
       "<style  type=\"text/css\" >\n",
       "    #T_e43236b8_67d7_11eb_8379_02420a398308row0_col0 {\n",
       "            background-color:  #3b4cc0;\n",
       "            color:  #f1f1f1;\n",
       "        }    #T_e43236b8_67d7_11eb_8379_02420a398308row1_col0 {\n",
       "            background-color:  #3b4cc0;\n",
       "            color:  #f1f1f1;\n",
       "        }    #T_e43236b8_67d7_11eb_8379_02420a398308row2_col0 {\n",
       "            background-color:  #3b4cc0;\n",
       "            color:  #f1f1f1;\n",
       "        }    #T_e43236b8_67d7_11eb_8379_02420a398308row3_col0 {\n",
       "            background-color:  #3b4cc0;\n",
       "            color:  #f1f1f1;\n",
       "        }    #T_e43236b8_67d7_11eb_8379_02420a398308row4_col0 {\n",
       "            background-color:  #3b4cc0;\n",
       "            color:  #f1f1f1;\n",
       "        }    #T_e43236b8_67d7_11eb_8379_02420a398308row5_col0 {\n",
       "            background-color:  #ccd9ed;\n",
       "            color:  #000000;\n",
       "        }    #T_e43236b8_67d7_11eb_8379_02420a398308row6_col0 {\n",
       "            background-color:  #3c4ec2;\n",
       "            color:  #f1f1f1;\n",
       "        }    #T_e43236b8_67d7_11eb_8379_02420a398308row7_col0 {\n",
       "            background-color:  #5673e0;\n",
       "            color:  #000000;\n",
       "        }    #T_e43236b8_67d7_11eb_8379_02420a398308row8_col0 {\n",
       "            background-color:  #3b4cc0;\n",
       "            color:  #f1f1f1;\n",
       "        }    #T_e43236b8_67d7_11eb_8379_02420a398308row9_col0 {\n",
       "            background-color:  #b40426;\n",
       "            color:  #f1f1f1;\n",
       "        }    #T_e43236b8_67d7_11eb_8379_02420a398308row10_col0 {\n",
       "            background-color:  #3b4cc0;\n",
       "            color:  #f1f1f1;\n",
       "        }    #T_e43236b8_67d7_11eb_8379_02420a398308row11_col0 {\n",
       "            background-color:  #3b4cc0;\n",
       "            color:  #f1f1f1;\n",
       "        }    #T_e43236b8_67d7_11eb_8379_02420a398308row12_col0 {\n",
       "            background-color:  #5b7ae5;\n",
       "            color:  #000000;\n",
       "        }    #T_e43236b8_67d7_11eb_8379_02420a398308row13_col0 {\n",
       "            background-color:  #e9d5cb;\n",
       "            color:  #000000;\n",
       "        }    #T_e43236b8_67d7_11eb_8379_02420a398308row14_col0 {\n",
       "            background-color:  #3b4cc0;\n",
       "            color:  #f1f1f1;\n",
       "        }    #T_e43236b8_67d7_11eb_8379_02420a398308row15_col0 {\n",
       "            background-color:  #92b4fe;\n",
       "            color:  #000000;\n",
       "        }    #T_e43236b8_67d7_11eb_8379_02420a398308row16_col0 {\n",
       "            background-color:  #92b4fe;\n",
       "            color:  #000000;\n",
       "        }    #T_e43236b8_67d7_11eb_8379_02420a398308row17_col0 {\n",
       "            background-color:  #92b4fe;\n",
       "            color:  #000000;\n",
       "        }    #T_e43236b8_67d7_11eb_8379_02420a398308row18_col0 {\n",
       "            background-color:  #f49a7b;\n",
       "            color:  #000000;\n",
       "        }    #T_e43236b8_67d7_11eb_8379_02420a398308row19_col0 {\n",
       "            background-color:  #92b4fe;\n",
       "            color:  #000000;\n",
       "        }    #T_e43236b8_67d7_11eb_8379_02420a398308row20_col0 {\n",
       "            background-color:  #f7ad90;\n",
       "            color:  #000000;\n",
       "        }    #T_e43236b8_67d7_11eb_8379_02420a398308row21_col0 {\n",
       "            background-color:  #6a8bef;\n",
       "            color:  #000000;\n",
       "        }</style><table id=\"T_e43236b8_67d7_11eb_8379_02420a398308\" ><thead>    <tr>        <th class=\"blank level0\" ></th>        <th class=\"col_heading level0 col0\" >0</th>    </tr></thead><tbody>\n",
       "                <tr>\n",
       "                        <th id=\"T_e43236b8_67d7_11eb_8379_02420a398308level0_row0\" class=\"row_heading level0 row0\" >total_images</th>\n",
       "                        <td id=\"T_e43236b8_67d7_11eb_8379_02420a398308row0_col0\" class=\"data row0 col0\" >0</td>\n",
       "            </tr>\n",
       "            <tr>\n",
       "                        <th id=\"T_e43236b8_67d7_11eb_8379_02420a398308level0_row1\" class=\"row_heading level0 row1\" >last_price</th>\n",
       "                        <td id=\"T_e43236b8_67d7_11eb_8379_02420a398308row1_col0\" class=\"data row1 col0\" >0</td>\n",
       "            </tr>\n",
       "            <tr>\n",
       "                        <th id=\"T_e43236b8_67d7_11eb_8379_02420a398308level0_row2\" class=\"row_heading level0 row2\" >total_area</th>\n",
       "                        <td id=\"T_e43236b8_67d7_11eb_8379_02420a398308row2_col0\" class=\"data row2 col0\" >0</td>\n",
       "            </tr>\n",
       "            <tr>\n",
       "                        <th id=\"T_e43236b8_67d7_11eb_8379_02420a398308level0_row3\" class=\"row_heading level0 row3\" >first_day_exposition</th>\n",
       "                        <td id=\"T_e43236b8_67d7_11eb_8379_02420a398308row3_col0\" class=\"data row3 col0\" >0</td>\n",
       "            </tr>\n",
       "            <tr>\n",
       "                        <th id=\"T_e43236b8_67d7_11eb_8379_02420a398308level0_row4\" class=\"row_heading level0 row4\" >rooms</th>\n",
       "                        <td id=\"T_e43236b8_67d7_11eb_8379_02420a398308row4_col0\" class=\"data row4 col0\" >0</td>\n",
       "            </tr>\n",
       "            <tr>\n",
       "                        <th id=\"T_e43236b8_67d7_11eb_8379_02420a398308level0_row5\" class=\"row_heading level0 row5\" >ceiling_height</th>\n",
       "                        <td id=\"T_e43236b8_67d7_11eb_8379_02420a398308row5_col0\" class=\"data row5 col0\" >38.8</td>\n",
       "            </tr>\n",
       "            <tr>\n",
       "                        <th id=\"T_e43236b8_67d7_11eb_8379_02420a398308level0_row6\" class=\"row_heading level0 row6\" >floors_total</th>\n",
       "                        <td id=\"T_e43236b8_67d7_11eb_8379_02420a398308row6_col0\" class=\"data row6 col0\" >0.36</td>\n",
       "            </tr>\n",
       "            <tr>\n",
       "                        <th id=\"T_e43236b8_67d7_11eb_8379_02420a398308level0_row7\" class=\"row_heading level0 row7\" >living_area</th>\n",
       "                        <td id=\"T_e43236b8_67d7_11eb_8379_02420a398308row7_col0\" class=\"data row7 col0\" >8.03</td>\n",
       "            </tr>\n",
       "            <tr>\n",
       "                        <th id=\"T_e43236b8_67d7_11eb_8379_02420a398308level0_row8\" class=\"row_heading level0 row8\" >floor</th>\n",
       "                        <td id=\"T_e43236b8_67d7_11eb_8379_02420a398308row8_col0\" class=\"data row8 col0\" >0</td>\n",
       "            </tr>\n",
       "            <tr>\n",
       "                        <th id=\"T_e43236b8_67d7_11eb_8379_02420a398308level0_row9\" class=\"row_heading level0 row9\" >is_apartment</th>\n",
       "                        <td id=\"T_e43236b8_67d7_11eb_8379_02420a398308row9_col0\" class=\"data row9 col0\" >88.29</td>\n",
       "            </tr>\n",
       "            <tr>\n",
       "                        <th id=\"T_e43236b8_67d7_11eb_8379_02420a398308level0_row10\" class=\"row_heading level0 row10\" >studio</th>\n",
       "                        <td id=\"T_e43236b8_67d7_11eb_8379_02420a398308row10_col0\" class=\"data row10 col0\" >0</td>\n",
       "            </tr>\n",
       "            <tr>\n",
       "                        <th id=\"T_e43236b8_67d7_11eb_8379_02420a398308level0_row11\" class=\"row_heading level0 row11\" >open_plan</th>\n",
       "                        <td id=\"T_e43236b8_67d7_11eb_8379_02420a398308row11_col0\" class=\"data row11 col0\" >0</td>\n",
       "            </tr>\n",
       "            <tr>\n",
       "                        <th id=\"T_e43236b8_67d7_11eb_8379_02420a398308level0_row12\" class=\"row_heading level0 row12\" >kitchen_area</th>\n",
       "                        <td id=\"T_e43236b8_67d7_11eb_8379_02420a398308row12_col0\" class=\"data row12 col0\" >9.61</td>\n",
       "            </tr>\n",
       "            <tr>\n",
       "                        <th id=\"T_e43236b8_67d7_11eb_8379_02420a398308level0_row13\" class=\"row_heading level0 row13\" >balcony</th>\n",
       "                        <td id=\"T_e43236b8_67d7_11eb_8379_02420a398308row13_col0\" class=\"data row13 col0\" >48.61</td>\n",
       "            </tr>\n",
       "            <tr>\n",
       "                        <th id=\"T_e43236b8_67d7_11eb_8379_02420a398308level0_row14\" class=\"row_heading level0 row14\" >locality_name</th>\n",
       "                        <td id=\"T_e43236b8_67d7_11eb_8379_02420a398308row14_col0\" class=\"data row14 col0\" >0.21</td>\n",
       "            </tr>\n",
       "            <tr>\n",
       "                        <th id=\"T_e43236b8_67d7_11eb_8379_02420a398308level0_row15\" class=\"row_heading level0 row15\" >airports_nearest</th>\n",
       "                        <td id=\"T_e43236b8_67d7_11eb_8379_02420a398308row15_col0\" class=\"data row15 col0\" >23.38</td>\n",
       "            </tr>\n",
       "            <tr>\n",
       "                        <th id=\"T_e43236b8_67d7_11eb_8379_02420a398308level0_row16\" class=\"row_heading level0 row16\" >cityCenters_nearest</th>\n",
       "                        <td id=\"T_e43236b8_67d7_11eb_8379_02420a398308row16_col0\" class=\"data row16 col0\" >23.29</td>\n",
       "            </tr>\n",
       "            <tr>\n",
       "                        <th id=\"T_e43236b8_67d7_11eb_8379_02420a398308level0_row17\" class=\"row_heading level0 row17\" >parks_around3000</th>\n",
       "                        <td id=\"T_e43236b8_67d7_11eb_8379_02420a398308row17_col0\" class=\"data row17 col0\" >23.28</td>\n",
       "            </tr>\n",
       "            <tr>\n",
       "                        <th id=\"T_e43236b8_67d7_11eb_8379_02420a398308level0_row18\" class=\"row_heading level0 row18\" >parks_nearest</th>\n",
       "                        <td id=\"T_e43236b8_67d7_11eb_8379_02420a398308row18_col0\" class=\"data row18 col0\" >65.91</td>\n",
       "            </tr>\n",
       "            <tr>\n",
       "                        <th id=\"T_e43236b8_67d7_11eb_8379_02420a398308level0_row19\" class=\"row_heading level0 row19\" >ponds_around3000</th>\n",
       "                        <td id=\"T_e43236b8_67d7_11eb_8379_02420a398308row19_col0\" class=\"data row19 col0\" >23.28</td>\n",
       "            </tr>\n",
       "            <tr>\n",
       "                        <th id=\"T_e43236b8_67d7_11eb_8379_02420a398308level0_row20\" class=\"row_heading level0 row20\" >ponds_nearest</th>\n",
       "                        <td id=\"T_e43236b8_67d7_11eb_8379_02420a398308row20_col0\" class=\"data row20 col0\" >61.56</td>\n",
       "            </tr>\n",
       "            <tr>\n",
       "                        <th id=\"T_e43236b8_67d7_11eb_8379_02420a398308level0_row21\" class=\"row_heading level0 row21\" >days_exposition</th>\n",
       "                        <td id=\"T_e43236b8_67d7_11eb_8379_02420a398308row21_col0\" class=\"data row21 col0\" >13.42</td>\n",
       "            </tr>\n",
       "    </tbody></table>"
      ],
      "text/plain": [
       "<pandas.io.formats.style.Styler at 0x7fd39d341a50>"
      ]
     },
     "execution_count": 5,
     "metadata": {},
     "output_type": "execute_result"
    }
   ],
   "source": [
    "pd.DataFrame(round((estate_data.isna().mean() * 100), 2)).style.background_gradient('coolwarm')"
   ]
  },
  {
   "cell_type": "markdown",
   "metadata": {},
   "source": [
    "#### Посчитаем предварительное число дубликатов в таблице."
   ]
  },
  {
   "cell_type": "code",
   "execution_count": 6,
   "metadata": {},
   "outputs": [
    {
     "data": {
      "text/plain": [
       "0"
      ]
     },
     "execution_count": 6,
     "metadata": {},
     "output_type": "execute_result"
    }
   ],
   "source": [
    "estate_data.duplicated().sum()"
   ]
  },
  {
   "cell_type": "markdown",
   "metadata": {},
   "source": [
    "#### Взглянем на первые 10 строк таблицы."
   ]
  },
  {
   "cell_type": "code",
   "execution_count": 7,
   "metadata": {
    "scrolled": false
   },
   "outputs": [
    {
     "data": {
      "text/html": [
       "<div>\n",
       "<style scoped>\n",
       "    .dataframe tbody tr th:only-of-type {\n",
       "        vertical-align: middle;\n",
       "    }\n",
       "\n",
       "    .dataframe tbody tr th {\n",
       "        vertical-align: top;\n",
       "    }\n",
       "\n",
       "    .dataframe thead th {\n",
       "        text-align: right;\n",
       "    }\n",
       "</style>\n",
       "<table border=\"1\" class=\"dataframe\">\n",
       "  <thead>\n",
       "    <tr style=\"text-align: right;\">\n",
       "      <th></th>\n",
       "      <th>total_images</th>\n",
       "      <th>last_price</th>\n",
       "      <th>total_area</th>\n",
       "      <th>first_day_exposition</th>\n",
       "      <th>rooms</th>\n",
       "      <th>ceiling_height</th>\n",
       "      <th>floors_total</th>\n",
       "      <th>living_area</th>\n",
       "      <th>floor</th>\n",
       "      <th>is_apartment</th>\n",
       "      <th>studio</th>\n",
       "      <th>open_plan</th>\n",
       "      <th>kitchen_area</th>\n",
       "      <th>balcony</th>\n",
       "      <th>locality_name</th>\n",
       "      <th>airports_nearest</th>\n",
       "      <th>cityCenters_nearest</th>\n",
       "      <th>parks_around3000</th>\n",
       "      <th>parks_nearest</th>\n",
       "      <th>ponds_around3000</th>\n",
       "      <th>ponds_nearest</th>\n",
       "      <th>days_exposition</th>\n",
       "    </tr>\n",
       "  </thead>\n",
       "  <tbody>\n",
       "    <tr>\n",
       "      <td>0</td>\n",
       "      <td>20</td>\n",
       "      <td>13000000.0</td>\n",
       "      <td>108.00</td>\n",
       "      <td>2019-03-07T00:00:00</td>\n",
       "      <td>3</td>\n",
       "      <td>2.70</td>\n",
       "      <td>16.0</td>\n",
       "      <td>51.00</td>\n",
       "      <td>8</td>\n",
       "      <td>NaN</td>\n",
       "      <td>False</td>\n",
       "      <td>False</td>\n",
       "      <td>25.00</td>\n",
       "      <td>NaN</td>\n",
       "      <td>Санкт-Петербург</td>\n",
       "      <td>18863.0</td>\n",
       "      <td>16028.0</td>\n",
       "      <td>1.0</td>\n",
       "      <td>482.0</td>\n",
       "      <td>2.0</td>\n",
       "      <td>755.0</td>\n",
       "      <td>NaN</td>\n",
       "    </tr>\n",
       "    <tr>\n",
       "      <td>1</td>\n",
       "      <td>7</td>\n",
       "      <td>3350000.0</td>\n",
       "      <td>40.40</td>\n",
       "      <td>2018-12-04T00:00:00</td>\n",
       "      <td>1</td>\n",
       "      <td>NaN</td>\n",
       "      <td>11.0</td>\n",
       "      <td>18.60</td>\n",
       "      <td>1</td>\n",
       "      <td>NaN</td>\n",
       "      <td>False</td>\n",
       "      <td>False</td>\n",
       "      <td>11.00</td>\n",
       "      <td>2.0</td>\n",
       "      <td>посёлок Шушары</td>\n",
       "      <td>12817.0</td>\n",
       "      <td>18603.0</td>\n",
       "      <td>0.0</td>\n",
       "      <td>NaN</td>\n",
       "      <td>0.0</td>\n",
       "      <td>NaN</td>\n",
       "      <td>81.0</td>\n",
       "    </tr>\n",
       "    <tr>\n",
       "      <td>2</td>\n",
       "      <td>10</td>\n",
       "      <td>5196000.0</td>\n",
       "      <td>56.00</td>\n",
       "      <td>2015-08-20T00:00:00</td>\n",
       "      <td>2</td>\n",
       "      <td>NaN</td>\n",
       "      <td>5.0</td>\n",
       "      <td>34.30</td>\n",
       "      <td>4</td>\n",
       "      <td>NaN</td>\n",
       "      <td>False</td>\n",
       "      <td>False</td>\n",
       "      <td>8.30</td>\n",
       "      <td>0.0</td>\n",
       "      <td>Санкт-Петербург</td>\n",
       "      <td>21741.0</td>\n",
       "      <td>13933.0</td>\n",
       "      <td>1.0</td>\n",
       "      <td>90.0</td>\n",
       "      <td>2.0</td>\n",
       "      <td>574.0</td>\n",
       "      <td>558.0</td>\n",
       "    </tr>\n",
       "    <tr>\n",
       "      <td>3</td>\n",
       "      <td>0</td>\n",
       "      <td>64900000.0</td>\n",
       "      <td>159.00</td>\n",
       "      <td>2015-07-24T00:00:00</td>\n",
       "      <td>3</td>\n",
       "      <td>NaN</td>\n",
       "      <td>14.0</td>\n",
       "      <td>NaN</td>\n",
       "      <td>9</td>\n",
       "      <td>NaN</td>\n",
       "      <td>False</td>\n",
       "      <td>False</td>\n",
       "      <td>NaN</td>\n",
       "      <td>0.0</td>\n",
       "      <td>Санкт-Петербург</td>\n",
       "      <td>28098.0</td>\n",
       "      <td>6800.0</td>\n",
       "      <td>2.0</td>\n",
       "      <td>84.0</td>\n",
       "      <td>3.0</td>\n",
       "      <td>234.0</td>\n",
       "      <td>424.0</td>\n",
       "    </tr>\n",
       "    <tr>\n",
       "      <td>4</td>\n",
       "      <td>2</td>\n",
       "      <td>10000000.0</td>\n",
       "      <td>100.00</td>\n",
       "      <td>2018-06-19T00:00:00</td>\n",
       "      <td>2</td>\n",
       "      <td>3.03</td>\n",
       "      <td>14.0</td>\n",
       "      <td>32.00</td>\n",
       "      <td>13</td>\n",
       "      <td>NaN</td>\n",
       "      <td>False</td>\n",
       "      <td>False</td>\n",
       "      <td>41.00</td>\n",
       "      <td>NaN</td>\n",
       "      <td>Санкт-Петербург</td>\n",
       "      <td>31856.0</td>\n",
       "      <td>8098.0</td>\n",
       "      <td>2.0</td>\n",
       "      <td>112.0</td>\n",
       "      <td>1.0</td>\n",
       "      <td>48.0</td>\n",
       "      <td>121.0</td>\n",
       "    </tr>\n",
       "    <tr>\n",
       "      <td>5</td>\n",
       "      <td>10</td>\n",
       "      <td>2890000.0</td>\n",
       "      <td>30.40</td>\n",
       "      <td>2018-09-10T00:00:00</td>\n",
       "      <td>1</td>\n",
       "      <td>NaN</td>\n",
       "      <td>12.0</td>\n",
       "      <td>14.40</td>\n",
       "      <td>5</td>\n",
       "      <td>NaN</td>\n",
       "      <td>False</td>\n",
       "      <td>False</td>\n",
       "      <td>9.10</td>\n",
       "      <td>NaN</td>\n",
       "      <td>городской посёлок Янино-1</td>\n",
       "      <td>NaN</td>\n",
       "      <td>NaN</td>\n",
       "      <td>NaN</td>\n",
       "      <td>NaN</td>\n",
       "      <td>NaN</td>\n",
       "      <td>NaN</td>\n",
       "      <td>55.0</td>\n",
       "    </tr>\n",
       "    <tr>\n",
       "      <td>6</td>\n",
       "      <td>6</td>\n",
       "      <td>3700000.0</td>\n",
       "      <td>37.30</td>\n",
       "      <td>2017-11-02T00:00:00</td>\n",
       "      <td>1</td>\n",
       "      <td>NaN</td>\n",
       "      <td>26.0</td>\n",
       "      <td>10.60</td>\n",
       "      <td>6</td>\n",
       "      <td>NaN</td>\n",
       "      <td>False</td>\n",
       "      <td>False</td>\n",
       "      <td>14.40</td>\n",
       "      <td>1.0</td>\n",
       "      <td>посёлок Парголово</td>\n",
       "      <td>52996.0</td>\n",
       "      <td>19143.0</td>\n",
       "      <td>0.0</td>\n",
       "      <td>NaN</td>\n",
       "      <td>0.0</td>\n",
       "      <td>NaN</td>\n",
       "      <td>155.0</td>\n",
       "    </tr>\n",
       "    <tr>\n",
       "      <td>7</td>\n",
       "      <td>5</td>\n",
       "      <td>7915000.0</td>\n",
       "      <td>71.60</td>\n",
       "      <td>2019-04-18T00:00:00</td>\n",
       "      <td>2</td>\n",
       "      <td>NaN</td>\n",
       "      <td>24.0</td>\n",
       "      <td>NaN</td>\n",
       "      <td>22</td>\n",
       "      <td>NaN</td>\n",
       "      <td>False</td>\n",
       "      <td>False</td>\n",
       "      <td>18.90</td>\n",
       "      <td>2.0</td>\n",
       "      <td>Санкт-Петербург</td>\n",
       "      <td>23982.0</td>\n",
       "      <td>11634.0</td>\n",
       "      <td>0.0</td>\n",
       "      <td>NaN</td>\n",
       "      <td>0.0</td>\n",
       "      <td>NaN</td>\n",
       "      <td>NaN</td>\n",
       "    </tr>\n",
       "    <tr>\n",
       "      <td>8</td>\n",
       "      <td>20</td>\n",
       "      <td>2900000.0</td>\n",
       "      <td>33.16</td>\n",
       "      <td>2018-05-23T00:00:00</td>\n",
       "      <td>1</td>\n",
       "      <td>NaN</td>\n",
       "      <td>27.0</td>\n",
       "      <td>15.43</td>\n",
       "      <td>26</td>\n",
       "      <td>NaN</td>\n",
       "      <td>False</td>\n",
       "      <td>False</td>\n",
       "      <td>8.81</td>\n",
       "      <td>NaN</td>\n",
       "      <td>посёлок Мурино</td>\n",
       "      <td>NaN</td>\n",
       "      <td>NaN</td>\n",
       "      <td>NaN</td>\n",
       "      <td>NaN</td>\n",
       "      <td>NaN</td>\n",
       "      <td>NaN</td>\n",
       "      <td>189.0</td>\n",
       "    </tr>\n",
       "    <tr>\n",
       "      <td>9</td>\n",
       "      <td>18</td>\n",
       "      <td>5400000.0</td>\n",
       "      <td>61.00</td>\n",
       "      <td>2017-02-26T00:00:00</td>\n",
       "      <td>3</td>\n",
       "      <td>2.50</td>\n",
       "      <td>9.0</td>\n",
       "      <td>43.60</td>\n",
       "      <td>7</td>\n",
       "      <td>NaN</td>\n",
       "      <td>False</td>\n",
       "      <td>False</td>\n",
       "      <td>6.50</td>\n",
       "      <td>2.0</td>\n",
       "      <td>Санкт-Петербург</td>\n",
       "      <td>50898.0</td>\n",
       "      <td>15008.0</td>\n",
       "      <td>0.0</td>\n",
       "      <td>NaN</td>\n",
       "      <td>0.0</td>\n",
       "      <td>NaN</td>\n",
       "      <td>289.0</td>\n",
       "    </tr>\n",
       "  </tbody>\n",
       "</table>\n",
       "</div>"
      ],
      "text/plain": [
       "   total_images  last_price  total_area first_day_exposition  rooms  \\\n",
       "0            20  13000000.0      108.00  2019-03-07T00:00:00      3   \n",
       "1             7   3350000.0       40.40  2018-12-04T00:00:00      1   \n",
       "2            10   5196000.0       56.00  2015-08-20T00:00:00      2   \n",
       "3             0  64900000.0      159.00  2015-07-24T00:00:00      3   \n",
       "4             2  10000000.0      100.00  2018-06-19T00:00:00      2   \n",
       "5            10   2890000.0       30.40  2018-09-10T00:00:00      1   \n",
       "6             6   3700000.0       37.30  2017-11-02T00:00:00      1   \n",
       "7             5   7915000.0       71.60  2019-04-18T00:00:00      2   \n",
       "8            20   2900000.0       33.16  2018-05-23T00:00:00      1   \n",
       "9            18   5400000.0       61.00  2017-02-26T00:00:00      3   \n",
       "\n",
       "   ceiling_height  floors_total  living_area  floor is_apartment  studio  \\\n",
       "0            2.70          16.0        51.00      8          NaN   False   \n",
       "1             NaN          11.0        18.60      1          NaN   False   \n",
       "2             NaN           5.0        34.30      4          NaN   False   \n",
       "3             NaN          14.0          NaN      9          NaN   False   \n",
       "4            3.03          14.0        32.00     13          NaN   False   \n",
       "5             NaN          12.0        14.40      5          NaN   False   \n",
       "6             NaN          26.0        10.60      6          NaN   False   \n",
       "7             NaN          24.0          NaN     22          NaN   False   \n",
       "8             NaN          27.0        15.43     26          NaN   False   \n",
       "9            2.50           9.0        43.60      7          NaN   False   \n",
       "\n",
       "   open_plan  kitchen_area  balcony              locality_name  \\\n",
       "0      False         25.00      NaN            Санкт-Петербург   \n",
       "1      False         11.00      2.0             посёлок Шушары   \n",
       "2      False          8.30      0.0            Санкт-Петербург   \n",
       "3      False           NaN      0.0            Санкт-Петербург   \n",
       "4      False         41.00      NaN            Санкт-Петербург   \n",
       "5      False          9.10      NaN  городской посёлок Янино-1   \n",
       "6      False         14.40      1.0          посёлок Парголово   \n",
       "7      False         18.90      2.0            Санкт-Петербург   \n",
       "8      False          8.81      NaN             посёлок Мурино   \n",
       "9      False          6.50      2.0            Санкт-Петербург   \n",
       "\n",
       "   airports_nearest  cityCenters_nearest  parks_around3000  parks_nearest  \\\n",
       "0           18863.0              16028.0               1.0          482.0   \n",
       "1           12817.0              18603.0               0.0            NaN   \n",
       "2           21741.0              13933.0               1.0           90.0   \n",
       "3           28098.0               6800.0               2.0           84.0   \n",
       "4           31856.0               8098.0               2.0          112.0   \n",
       "5               NaN                  NaN               NaN            NaN   \n",
       "6           52996.0              19143.0               0.0            NaN   \n",
       "7           23982.0              11634.0               0.0            NaN   \n",
       "8               NaN                  NaN               NaN            NaN   \n",
       "9           50898.0              15008.0               0.0            NaN   \n",
       "\n",
       "   ponds_around3000  ponds_nearest  days_exposition  \n",
       "0               2.0          755.0              NaN  \n",
       "1               0.0            NaN             81.0  \n",
       "2               2.0          574.0            558.0  \n",
       "3               3.0          234.0            424.0  \n",
       "4               1.0           48.0            121.0  \n",
       "5               NaN            NaN             55.0  \n",
       "6               0.0            NaN            155.0  \n",
       "7               0.0            NaN              NaN  \n",
       "8               NaN            NaN            189.0  \n",
       "9               0.0            NaN            289.0  "
      ]
     },
     "execution_count": 7,
     "metadata": {},
     "output_type": "execute_result"
    }
   ],
   "source": [
    "estate_data.head(10)"
   ]
  },
  {
   "cell_type": "markdown",
   "metadata": {},
   "source": [
    "#### Найдём максимальное и минимальное значения у столбцов с количественными данными и просмотрим значения в столбце *locality_name* с категориальными данными. Для индикаторных столбцов (булева типа) выполним обе операции."
   ]
  },
  {
   "cell_type": "code",
   "execution_count": 8,
   "metadata": {},
   "outputs": [
    {
     "data": {
      "text/plain": [
       "total_images                              0\n",
       "last_price                            12190\n",
       "total_area                               12\n",
       "first_day_exposition    2014-11-27T00:00:00\n",
       "rooms                                     0\n",
       "ceiling_height                            1\n",
       "floors_total                              1\n",
       "living_area                               2\n",
       "floor                                     1\n",
       "is_apartment                          False\n",
       "studio                                False\n",
       "open_plan                             False\n",
       "kitchen_area                            1.3\n",
       "balcony                                   0\n",
       "airports_nearest                          0\n",
       "cityCenters_nearest                     181\n",
       "parks_around3000                          0\n",
       "parks_nearest                             1\n",
       "ponds_around3000                          0\n",
       "ponds_nearest                            13\n",
       "days_exposition                           1\n",
       "dtype: object"
      ]
     },
     "execution_count": 8,
     "metadata": {},
     "output_type": "execute_result"
    }
   ],
   "source": [
    "estate_data.min()"
   ]
  },
  {
   "cell_type": "code",
   "execution_count": 9,
   "metadata": {},
   "outputs": [
    {
     "data": {
      "text/plain": [
       "total_images                             50\n",
       "last_price                         7.63e+08\n",
       "total_area                              900\n",
       "first_day_exposition    2019-05-03T00:00:00\n",
       "rooms                                    19\n",
       "ceiling_height                          100\n",
       "floors_total                             60\n",
       "living_area                           409.7\n",
       "floor                                    33\n",
       "is_apartment                           True\n",
       "studio                                 True\n",
       "open_plan                              True\n",
       "kitchen_area                            112\n",
       "balcony                                   5\n",
       "airports_nearest                      84869\n",
       "cityCenters_nearest                   65968\n",
       "parks_around3000                          3\n",
       "parks_nearest                          3190\n",
       "ponds_around3000                          3\n",
       "ponds_nearest                          1344\n",
       "days_exposition                        1580\n",
       "dtype: object"
      ]
     },
     "execution_count": 9,
     "metadata": {},
     "output_type": "execute_result"
    }
   ],
   "source": [
    "estate_data.max()"
   ]
  },
  {
   "cell_type": "code",
   "execution_count": 10,
   "metadata": {},
   "outputs": [
    {
     "data": {
      "text/plain": [
       "0"
      ]
     },
     "execution_count": 10,
     "metadata": {},
     "output_type": "execute_result"
    }
   ],
   "source": [
    "estate_data.query('total_area < living_area or total_area < kitchen_area').shape[0]"
   ]
  },
  {
   "cell_type": "code",
   "execution_count": 11,
   "metadata": {},
   "outputs": [
    {
     "data": {
      "text/plain": [
       "64"
      ]
     },
     "execution_count": 11,
     "metadata": {},
     "output_type": "execute_result"
    }
   ],
   "source": [
    "estate_data.query('total_area < living_area + kitchen_area').shape[0]"
   ]
  },
  {
   "cell_type": "code",
   "execution_count": 12,
   "metadata": {},
   "outputs": [
    {
     "data": {
      "text/plain": [
       "False    2725\n",
       "True       50\n",
       "Name: is_apartment, dtype: int64"
      ]
     },
     "execution_count": 12,
     "metadata": {},
     "output_type": "execute_result"
    }
   ],
   "source": [
    "estate_data['is_apartment'].value_counts()"
   ]
  },
  {
   "cell_type": "code",
   "execution_count": 13,
   "metadata": {},
   "outputs": [
    {
     "data": {
      "text/plain": [
       "array([nan, False, True], dtype=object)"
      ]
     },
     "execution_count": 13,
     "metadata": {},
     "output_type": "execute_result"
    }
   ],
   "source": [
    "estate_data['is_apartment'].unique()"
   ]
  },
  {
   "cell_type": "code",
   "execution_count": 14,
   "metadata": {},
   "outputs": [
    {
     "data": {
      "text/plain": [
       "False    23550\n",
       "True       149\n",
       "Name: studio, dtype: int64"
      ]
     },
     "execution_count": 14,
     "metadata": {},
     "output_type": "execute_result"
    }
   ],
   "source": [
    "estate_data['studio'].value_counts()"
   ]
  },
  {
   "cell_type": "code",
   "execution_count": 15,
   "metadata": {},
   "outputs": [
    {
     "data": {
      "text/plain": [
       "False    23632\n",
       "True        67\n",
       "Name: open_plan, dtype: int64"
      ]
     },
     "execution_count": 15,
     "metadata": {},
     "output_type": "execute_result"
    }
   ],
   "source": [
    "estate_data['open_plan'].value_counts()"
   ]
  },
  {
   "cell_type": "code",
   "execution_count": 16,
   "metadata": {},
   "outputs": [
    {
     "data": {
      "text/plain": [
       "0    197\n",
       "1     14\n",
       "3      2\n",
       "5      1\n",
       "4      1\n",
       "2      1\n",
       "Name: rooms, dtype: int64"
      ]
     },
     "execution_count": 16,
     "metadata": {},
     "output_type": "execute_result"
    }
   ],
   "source": [
    "estate_data.query('studio or open_plan')['rooms'].value_counts()"
   ]
  },
  {
   "cell_type": "code",
   "execution_count": 17,
   "metadata": {},
   "outputs": [
    {
     "data": {
      "text/plain": [
       "197"
      ]
     },
     "execution_count": 17,
     "metadata": {},
     "output_type": "execute_result"
    }
   ],
   "source": [
    "estate_data.query('rooms == 0').shape[0]"
   ]
  },
  {
   "cell_type": "code",
   "execution_count": 18,
   "metadata": {},
   "outputs": [
    {
     "data": {
      "text/plain": [
       "365"
      ]
     },
     "execution_count": 18,
     "metadata": {},
     "output_type": "execute_result"
    }
   ],
   "source": [
    "len(estate_data['locality_name'].unique())"
   ]
  },
  {
   "cell_type": "code",
   "execution_count": 19,
   "metadata": {
    "scrolled": false
   },
   "outputs": [
    {
     "data": {
      "text/plain": [
       "array(['Санкт-Петербург', 'посёлок Шушары', 'городской посёлок Янино-1',\n",
       "       'посёлок Парголово', 'посёлок Мурино', 'Ломоносов', 'Сертолово',\n",
       "       'Петергоф', 'Пушкин', 'деревня Кудрово', 'Коммунар', 'Колпино',\n",
       "       'поселок городского типа Красный Бор', 'Гатчина', 'поселок Мурино',\n",
       "       'деревня Фёдоровское', 'Выборг', 'Кронштадт', 'Кировск',\n",
       "       'деревня Новое Девяткино', 'посёлок Металлострой',\n",
       "       'посёлок городского типа Лебяжье',\n",
       "       'посёлок городского типа Сиверский', 'поселок Молодцово',\n",
       "       'поселок городского типа Кузьмоловский',\n",
       "       'садовое товарищество Новая Ропша', 'Павловск',\n",
       "       'деревня Пикколово', 'Всеволожск', 'Волхов', 'Кингисепп',\n",
       "       'Приозерск', 'Сестрорецк', 'деревня Куттузи', 'посёлок Аннино',\n",
       "       'поселок городского типа Ефимовский', 'посёлок Плодовое',\n",
       "       'деревня Заклинье', 'поселок Торковичи', 'поселок Первомайское',\n",
       "       'Красное Село', 'посёлок Понтонный', 'Сясьстрой', 'деревня Старая',\n",
       "       'деревня Лесколово', 'посёлок Новый Свет', 'Сланцы',\n",
       "       'село Путилово', 'Ивангород', 'Мурино', 'Шлиссельбург',\n",
       "       'Никольское', 'Зеленогорск', 'Сосновый Бор', 'поселок Новый Свет',\n",
       "       'деревня Оржицы', 'деревня Кальтино', 'Кудрово',\n",
       "       'поселок Романовка', 'посёлок Бугры', 'поселок Бугры',\n",
       "       'поселок городского типа Рощино', 'Кириши', 'Луга', 'Волосово',\n",
       "       'Отрадное', 'село Павлово', 'поселок Оредеж', 'село Копорье',\n",
       "       'посёлок городского типа Красный Бор', 'посёлок Молодёжное',\n",
       "       'Тихвин', 'посёлок Победа', 'деревня Нурма',\n",
       "       'поселок городского типа Синявино', 'Тосно',\n",
       "       'посёлок городского типа Кузьмоловский', 'посёлок Стрельна',\n",
       "       'Бокситогорск', 'посёлок Александровская', 'деревня Лопухинка',\n",
       "       'Пикалёво', 'поселок Терволово',\n",
       "       'поселок городского типа Советский', 'Подпорожье',\n",
       "       'посёлок Петровское', 'посёлок городского типа Токсово',\n",
       "       'поселок Сельцо', 'посёлок городского типа Вырица',\n",
       "       'деревня Кипень', 'деревня Келози', 'деревня Вартемяги',\n",
       "       'посёлок Тельмана', 'поселок Севастьяново',\n",
       "       'городской поселок Большая Ижора', nan,\n",
       "       'городской посёлок Павлово', 'деревня Агалатово',\n",
       "       'посёлок Новогорелово', 'городской посёлок Лесогорский',\n",
       "       'деревня Лаголово', 'поселок Цвелодубово',\n",
       "       'поселок городского типа Рахья', 'поселок городского типа Вырица',\n",
       "       'деревня Белогорка', 'поселок Заводской',\n",
       "       'городской посёлок Новоселье', 'деревня Большие Колпаны',\n",
       "       'деревня Горбунки', 'деревня Батово', 'деревня Заневка',\n",
       "       'деревня Иссад', 'Приморск', 'городской посёлок Фёдоровское',\n",
       "       'деревня Мистолово', 'Новая Ладога', 'поселок Зимитицы',\n",
       "       'поселок Барышево', 'деревня Разметелево',\n",
       "       'поселок городского типа имени Свердлова', 'деревня Пеники',\n",
       "       'поселок Рябово', 'деревня Пудомяги', 'поселок станции Корнево',\n",
       "       'деревня Низино', 'деревня Бегуницы', 'посёлок Поляны',\n",
       "       'городской посёлок Мга', 'поселок Елизаветино',\n",
       "       'посёлок городского типа Кузнечное', 'деревня Колтуши',\n",
       "       'поселок Запорожское', 'посёлок городского типа Рощино',\n",
       "       'деревня Гостилицы', 'деревня Малое Карлино',\n",
       "       'посёлок Мичуринское', 'посёлок городского типа имени Морозова',\n",
       "       'посёлок Песочный', 'посёлок Сосново', 'деревня Аро',\n",
       "       'поселок Ильичёво', 'посёлок городского типа Тайцы',\n",
       "       'деревня Малое Верево', 'деревня Извара', 'поселок станции Вещево',\n",
       "       'село Паша', 'деревня Калитино',\n",
       "       'посёлок городского типа Ульяновка', 'деревня Чудской Бор',\n",
       "       'поселок городского типа Дубровка', 'деревня Мины',\n",
       "       'поселок Войсковицы', 'посёлок городского типа имени Свердлова',\n",
       "       'деревня Коркино', 'посёлок Ропша',\n",
       "       'поселок городского типа Приладожский', 'посёлок Щеглово',\n",
       "       'посёлок Гаврилово', 'Лодейное Поле', 'деревня Рабитицы',\n",
       "       'поселок городского типа Никольский', 'деревня Кузьмолово',\n",
       "       'деревня Малые Колпаны', 'поселок Тельмана',\n",
       "       'посёлок Петро-Славянка', 'городской посёлок Назия',\n",
       "       'посёлок Репино', 'посёлок Ильичёво', 'поселок Углово',\n",
       "       'поселок Старая Малукса', 'садовое товарищество Рахья',\n",
       "       'поселок Аннино', 'поселок Победа', 'деревня Меньково',\n",
       "       'деревня Старые Бегуницы', 'посёлок Сапёрный', 'поселок Семрино',\n",
       "       'поселок Гаврилово', 'поселок Глажево', 'поселок Кобринское',\n",
       "       'деревня Гарболово', 'деревня Юкки',\n",
       "       'поселок станции Приветнинское', 'деревня Мануйлово',\n",
       "       'деревня Пчева', 'поселок Поляны', 'поселок Цвылёво',\n",
       "       'поселок Мельниково', 'посёлок Пудость', 'посёлок Усть-Луга',\n",
       "       'Светогорск', 'Любань', 'поселок Селезнёво',\n",
       "       'поселок городского типа Рябово', 'Каменногорск', 'деревня Кривко',\n",
       "       'поселок Глебычево', 'деревня Парицы', 'поселок Жилпосёлок',\n",
       "       'посёлок городского типа Мга', 'городской поселок Янино-1',\n",
       "       'посёлок Войскорово', 'село Никольское', 'посёлок Терволово',\n",
       "       'поселок Стеклянный', 'посёлок городского типа Важины',\n",
       "       'посёлок Мыза-Ивановка', 'село Русско-Высоцкое',\n",
       "       'поселок городского типа Лебяжье',\n",
       "       'поселок городского типа Форносово', 'село Старая Ладога',\n",
       "       'поселок Житково', 'городской посёлок Виллози', 'деревня Лампово',\n",
       "       'деревня Шпаньково', 'деревня Лаврики', 'посёлок Сумино',\n",
       "       'посёлок Возрождение', 'деревня Старосиверская',\n",
       "       'посёлок Кикерино', 'поселок Возрождение',\n",
       "       'деревня Старое Хинколово', 'посёлок Пригородный',\n",
       "       'посёлок Торфяное', 'городской посёлок Будогощь',\n",
       "       'поселок Суходолье', 'поселок Красная Долина', 'деревня Хапо-Ое',\n",
       "       'поселок городского типа Дружная Горка', 'поселок Лисий Нос',\n",
       "       'деревня Яльгелево', 'посёлок Стеклянный', 'село Рождествено',\n",
       "       'деревня Старополье', 'посёлок Левашово', 'деревня Сяськелево',\n",
       "       'деревня Камышовка',\n",
       "       'садоводческое некоммерческое товарищество Лесная Поляна',\n",
       "       'деревня Хязельки', 'поселок Жилгородок',\n",
       "       'посёлок городского типа Павлово', 'деревня Ялгино',\n",
       "       'поселок Новый Учхоз', 'городской посёлок Рощино',\n",
       "       'поселок Гончарово', 'поселок Почап', 'посёлок Сапёрное',\n",
       "       'посёлок Платформа 69-й километр', 'поселок Каложицы',\n",
       "       'деревня Фалилеево', 'деревня Пельгора',\n",
       "       'поселок городского типа Лесогорский', 'деревня Торошковичи',\n",
       "       'посёлок Белоостров', 'посёлок Алексеевка', 'поселок Серебрянский',\n",
       "       'поселок Лукаши', 'поселок Петровское', 'деревня Щеглово',\n",
       "       'поселок Мичуринское', 'деревня Тарасово', 'поселок Кингисеппский',\n",
       "       'посёлок при железнодорожной станции Вещево', 'поселок Ушаки',\n",
       "       'деревня Котлы', 'деревня Сижно', 'деревня Торосово',\n",
       "       'посёлок Форт Красная Горка', 'поселок городского типа Токсово',\n",
       "       'деревня Новолисино', 'посёлок станции Громово', 'деревня Глинка',\n",
       "       'посёлок Мельниково', 'поселок городского типа Назия',\n",
       "       'деревня Старая Пустошь', 'поселок Коммунары', 'поселок Починок',\n",
       "       'посёлок городского типа Вознесенье', 'деревня Разбегаево',\n",
       "       'посёлок городского типа Рябово', 'поселок Гладкое',\n",
       "       'посёлок при железнодорожной станции Приветнинское',\n",
       "       'поселок Тёсово-4', 'посёлок Жилгородок', 'деревня Бор',\n",
       "       'посёлок Коробицыно', 'деревня Большая Вруда', 'деревня Курковицы',\n",
       "       'посёлок Лисий Нос', 'городской посёлок Советский',\n",
       "       'посёлок Кобралово', 'деревня Суоранда', 'поселок Кобралово',\n",
       "       'поселок городского типа Кондратьево',\n",
       "       'коттеджный поселок Счастье', 'поселок Любань', 'деревня Реброво',\n",
       "       'деревня Зимитицы', 'деревня Тойворово', 'поселок Семиозерье',\n",
       "       'поселок Лесное', 'поселок Совхозный', 'поселок Усть-Луга',\n",
       "       'посёлок Ленинское', 'посёлок Суйда',\n",
       "       'посёлок городского типа Форносово', 'деревня Нижние Осельки',\n",
       "       'посёлок станции Свирь', 'поселок Перово', 'Высоцк',\n",
       "       'поселок Гарболово', 'село Шум', 'поселок Котельский',\n",
       "       'поселок станции Лужайка', 'деревня Большая Пустомержа',\n",
       "       'поселок Красносельское', 'деревня Вахнова Кара', 'деревня Пижма',\n",
       "       'коттеджный поселок Кивеннапа Север', 'поселок Коробицыно',\n",
       "       'поселок Ромашки', 'посёлок Перово', 'деревня Каськово',\n",
       "       'деревня Куровицы', 'посёлок Плоское', 'поселок Сумино',\n",
       "       'поселок городского типа Большая Ижора', 'поселок Кирпичное',\n",
       "       'деревня Ям-Тесово', 'деревня Раздолье', 'деревня Терпилицы',\n",
       "       'посёлок Шугозеро', 'деревня Ваганово', 'поселок Пушное',\n",
       "       'садовое товарищество Садко', 'посёлок Усть-Ижора',\n",
       "       'деревня Выскатка', 'городской посёлок Свирьстрой',\n",
       "       'поселок Громово', 'деревня Кисельня', 'посёлок Старая Малукса',\n",
       "       'деревня Трубников Бор', 'поселок Калитино',\n",
       "       'посёлок Высокоключевой', 'садовое товарищество Приладожский',\n",
       "       'посёлок Пансионат Зелёный Бор', 'деревня Ненимяки',\n",
       "       'поселок Пансионат Зелёный Бор', 'деревня Снегирёвка',\n",
       "       'деревня Рапполово', 'деревня Пустынка', 'поселок Рабитицы',\n",
       "       'деревня Большой Сабск', 'деревня Русско', 'деревня Лупполово',\n",
       "       'деревня Большое Рейзино', 'деревня Малая Романовка',\n",
       "       'поселок Дружноселье', 'поселок Пчевжа', 'поселок Володарское',\n",
       "       'деревня Нижняя', 'коттеджный посёлок Лесное', 'деревня Тихковицы',\n",
       "       'деревня Борисова Грива', 'посёлок Дзержинского'], dtype=object)"
      ]
     },
     "execution_count": 19,
     "metadata": {},
     "output_type": "execute_result"
    }
   ],
   "source": [
    "estate_data['locality_name'].unique()"
   ]
  },
  {
   "cell_type": "markdown",
   "metadata": {},
   "source": [
    "### Вывод"
   ]
  },
  {
   "cell_type": "markdown",
   "metadata": {},
   "source": [
    "Датафрейм состоит из 23 699 строк и 22 столбцов. В большинстве столбцов имеются пропуски, причём в стобцах *parks_around3000* и *ponds_around3000* их количество совпадает — по 5518 пропуска в каждом. Пропуски имеются как в количественных, так и в категориальных данных.\n",
    "\n",
    "Дубликатов в датафрейме не обнаружено.\n",
    "\n",
    "Также в глаза бросаются следующие артефакты:\n",
    "- В некоторых столбцах обнаружено несоответствие типов данных (например, число этажей и балконов представлены числами с плавающей точкой, а дата публикации — в неудобном формате);\n",
    "- В датафрейме имеются квартиры с 0 комнат, но это либо студии, либо квартиры со свободной планировкой;\n",
    "- В датафрейме имеются квартиры с потолком высотой 1 м и 100 м;\n",
    "- В датафрейме имеется квартира площадью 2 м²;\n",
    "- В датафрейме имеется квартира с кухней площадью 1.3 м²;\n",
    "- В датафрейме имеется квартира с расстоянием до ближайшего аэропорта в 0 м;\n",
    "- В датафрейме имеется квартира с расстоянием до ближайшего парка в 1 м;\n",
    "- В датафрейме имеются 64 квартиры, общая площадь которых меньше суммы жилой площади и площади кухни;\n",
    "- Некоторые данные в столбце *locality_name* одинаковы по смыслу, однако представлены неэквивалентными строками."
   ]
  },
  {
   "cell_type": "markdown",
   "metadata": {},
   "source": [
    "## <a id='data_preprocessing'>Шаг 2. Предобработка данных</a>"
   ]
  },
  {
   "cell_type": "markdown",
   "metadata": {},
   "source": [
    "### <a id='data_gaps'>Обработка пропусков</a>"
   ]
  },
  {
   "cell_type": "markdown",
   "metadata": {},
   "source": [
    "#### Посмотрим, есть ли связь между пропусками в стоблцах *parks_around3000* и *ponds_around3000*."
   ]
  },
  {
   "cell_type": "code",
   "execution_count": 20,
   "metadata": {},
   "outputs": [
    {
     "data": {
      "text/plain": [
       "True"
      ]
     },
     "execution_count": 20,
     "metadata": {},
     "output_type": "execute_result"
    }
   ],
   "source": [
    "estate_data.query('parks_around3000.isna() and ponds_around3000.isna()').shape[0] ==\\\n",
    "estate_data.query('parks_around3000.isna()').shape[0]"
   ]
  },
  {
   "cell_type": "markdown",
   "metadata": {},
   "source": [
    "Оказалось, что у каждой квартиры с неизвестным число парков в радиусе 3 км также неизвестно число водоёмов в радиусе 3 км."
   ]
  },
  {
   "cell_type": "markdown",
   "metadata": {},
   "source": [
    "У некоторых квартир также не указаны значения в столбцах *is_apartment* и *balcony*. Логично предположить, что эти квартиры не являются апартаментами, а балконов у таких квартир нет."
   ]
  },
  {
   "cell_type": "markdown",
   "metadata": {},
   "source": [
    "#### Проверим гипотезу о том, что в сторках с пропущенными значениями числа парков и водоёмов в радиусе 3 км соответствующее расстояние до ближайшего парка или водоёма больше 3 км."
   ]
  },
  {
   "cell_type": "code",
   "execution_count": 21,
   "metadata": {},
   "outputs": [
    {
     "data": {
      "text/plain": [
       "0"
      ]
     },
     "execution_count": 21,
     "metadata": {},
     "output_type": "execute_result"
    }
   ],
   "source": [
    "estate_data.query('parks_around3000.isna() and parks_nearest <= 3000').shape[0]"
   ]
  },
  {
   "cell_type": "code",
   "execution_count": 22,
   "metadata": {},
   "outputs": [
    {
     "data": {
      "text/plain": [
       "0"
      ]
     },
     "execution_count": 22,
     "metadata": {},
     "output_type": "execute_result"
    }
   ],
   "source": [
    "estate_data.query('ponds_around3000.isna() and ponds_nearest <= 3000').shape[0]"
   ]
  },
  {
   "cell_type": "markdown",
   "metadata": {},
   "source": [
    "#### Заменим пропущенные значения в столбцах *balcony*, *parks_around3000* и *ponds_around3000* на 0, а в столбце *is_apartment* — на False."
   ]
  },
  {
   "cell_type": "code",
   "execution_count": 23,
   "metadata": {},
   "outputs": [],
   "source": [
    "estate_data.loc[:, ['balcony', 'parks_around3000', 'ponds_around3000']] =\\\n",
    "estate_data.loc[:, ['balcony', 'parks_around3000', 'ponds_around3000']].fillna(0)"
   ]
  },
  {
   "cell_type": "code",
   "execution_count": 24,
   "metadata": {},
   "outputs": [],
   "source": [
    "estate_data['is_apartment'] = estate_data['is_apartment'].fillna(False)"
   ]
  },
  {
   "cell_type": "markdown",
   "metadata": {},
   "source": [
    "#### Найдём условный радиус Санкт-Петербурга."
   ]
  },
  {
   "cell_type": "code",
   "execution_count": 25,
   "metadata": {},
   "outputs": [],
   "source": [
    "spb_radius = estate_data.query('locality_name != \"Санкт-Петербург\" \\\n",
    "                                and locality_name.notna()')['cityCenters_nearest'].min()"
   ]
  },
  {
   "cell_type": "markdown",
   "metadata": {},
   "source": [
    "#### Убедимся, что все квартиры в этом радиусе находятся в Санкт-Петербурге."
   ]
  },
  {
   "cell_type": "code",
   "execution_count": 26,
   "metadata": {},
   "outputs": [
    {
     "data": {
      "text/plain": [
       "Санкт-Петербург    14312\n",
       "Name: locality_name, dtype: int64"
      ]
     },
     "execution_count": 26,
     "metadata": {},
     "output_type": "execute_result"
    }
   ],
   "source": [
    "estate_data.query('cityCenters_nearest < @spb_radius')['locality_name'].value_counts()"
   ]
  },
  {
   "cell_type": "code",
   "execution_count": 27,
   "metadata": {},
   "outputs": [
    {
     "data": {
      "text/plain": [
       "29"
      ]
     },
     "execution_count": 27,
     "metadata": {},
     "output_type": "execute_result"
    }
   ],
   "source": [
    "estate_data.query('cityCenters_nearest < @spb_radius')['locality_name'].isna().sum()"
   ]
  },
  {
   "cell_type": "markdown",
   "metadata": {},
   "source": [
    "29 из 49 квартир с пропущенным значением в столбце *locality_name*, должно быть, находятся в Санкт-Петербурге."
   ]
  },
  {
   "cell_type": "markdown",
   "metadata": {},
   "source": [
    "#### Заменим пропущенные значения в столбце *locality_name* у квартир с радиусом, меньшим *spb_radius*, на значение 'Санкт-Петербург'."
   ]
  },
  {
   "cell_type": "code",
   "execution_count": 28,
   "metadata": {},
   "outputs": [],
   "source": [
    "estate_data.loc[estate_data['cityCenters_nearest'] < spb_radius, 'locality_name'] = \\\n",
    "estate_data.loc[estate_data['cityCenters_nearest'] < spb_radius, 'locality_name'].fillna('Санкт-Петербург')"
   ]
  },
  {
   "cell_type": "markdown",
   "metadata": {},
   "source": [
    "#### Удалим оставшие пропуски в столбцах *floors_total* и *locality_name* ввиду их малочисленности (менее половины процента пропусков в каждом)."
   ]
  },
  {
   "cell_type": "code",
   "execution_count": 29,
   "metadata": {},
   "outputs": [],
   "source": [
    "estate_data = estate_data.dropna(subset=['floors_total', 'locality_name']).reset_index(drop=True)"
   ]
  },
  {
   "cell_type": "markdown",
   "metadata": {},
   "source": [
    "#### Заменим пропущенные значения в столбце *ceiling_height* медианой ввиду небольшой вариативности данного параметра."
   ]
  },
  {
   "cell_type": "code",
   "execution_count": 30,
   "metadata": {},
   "outputs": [],
   "source": [
    "estate_data['ceiling_height'] =\\\n",
    "estate_data['ceiling_height'].fillna(estate_data['ceiling_height'].median())"
   ]
  },
  {
   "cell_type": "code",
   "execution_count": 31,
   "metadata": {},
   "outputs": [
    {
     "data": {
      "text/html": [
       "<style  type=\"text/css\" >\n",
       "    #T_e4e8c20c_67d7_11eb_8379_02420a398308row0_col0 {\n",
       "            background-color:  #3b4cc0;\n",
       "            color:  #f1f1f1;\n",
       "        }    #T_e4e8c20c_67d7_11eb_8379_02420a398308row1_col0 {\n",
       "            background-color:  #3b4cc0;\n",
       "            color:  #f1f1f1;\n",
       "        }    #T_e4e8c20c_67d7_11eb_8379_02420a398308row2_col0 {\n",
       "            background-color:  #3b4cc0;\n",
       "            color:  #f1f1f1;\n",
       "        }    #T_e4e8c20c_67d7_11eb_8379_02420a398308row3_col0 {\n",
       "            background-color:  #3b4cc0;\n",
       "            color:  #f1f1f1;\n",
       "        }    #T_e4e8c20c_67d7_11eb_8379_02420a398308row4_col0 {\n",
       "            background-color:  #3b4cc0;\n",
       "            color:  #f1f1f1;\n",
       "        }    #T_e4e8c20c_67d7_11eb_8379_02420a398308row5_col0 {\n",
       "            background-color:  #3b4cc0;\n",
       "            color:  #f1f1f1;\n",
       "        }    #T_e4e8c20c_67d7_11eb_8379_02420a398308row6_col0 {\n",
       "            background-color:  #3b4cc0;\n",
       "            color:  #f1f1f1;\n",
       "        }    #T_e4e8c20c_67d7_11eb_8379_02420a398308row7_col0 {\n",
       "            background-color:  #5f7fe8;\n",
       "            color:  #000000;\n",
       "        }    #T_e4e8c20c_67d7_11eb_8379_02420a398308row8_col0 {\n",
       "            background-color:  #3b4cc0;\n",
       "            color:  #f1f1f1;\n",
       "        }    #T_e4e8c20c_67d7_11eb_8379_02420a398308row9_col0 {\n",
       "            background-color:  #3b4cc0;\n",
       "            color:  #f1f1f1;\n",
       "        }    #T_e4e8c20c_67d7_11eb_8379_02420a398308row10_col0 {\n",
       "            background-color:  #3b4cc0;\n",
       "            color:  #f1f1f1;\n",
       "        }    #T_e4e8c20c_67d7_11eb_8379_02420a398308row11_col0 {\n",
       "            background-color:  #3b4cc0;\n",
       "            color:  #f1f1f1;\n",
       "        }    #T_e4e8c20c_67d7_11eb_8379_02420a398308row12_col0 {\n",
       "            background-color:  #6788ee;\n",
       "            color:  #000000;\n",
       "        }    #T_e4e8c20c_67d7_11eb_8379_02420a398308row13_col0 {\n",
       "            background-color:  #3b4cc0;\n",
       "            color:  #f1f1f1;\n",
       "        }    #T_e4e8c20c_67d7_11eb_8379_02420a398308row14_col0 {\n",
       "            background-color:  #3b4cc0;\n",
       "            color:  #f1f1f1;\n",
       "        }    #T_e4e8c20c_67d7_11eb_8379_02420a398308row15_col0 {\n",
       "            background-color:  #b1cbfc;\n",
       "            color:  #000000;\n",
       "        }    #T_e4e8c20c_67d7_11eb_8379_02420a398308row16_col0 {\n",
       "            background-color:  #b1cbfc;\n",
       "            color:  #000000;\n",
       "        }    #T_e4e8c20c_67d7_11eb_8379_02420a398308row17_col0 {\n",
       "            background-color:  #3b4cc0;\n",
       "            color:  #f1f1f1;\n",
       "        }    #T_e4e8c20c_67d7_11eb_8379_02420a398308row18_col0 {\n",
       "            background-color:  #b40426;\n",
       "            color:  #f1f1f1;\n",
       "        }    #T_e4e8c20c_67d7_11eb_8379_02420a398308row19_col0 {\n",
       "            background-color:  #3b4cc0;\n",
       "            color:  #f1f1f1;\n",
       "        }    #T_e4e8c20c_67d7_11eb_8379_02420a398308row20_col0 {\n",
       "            background-color:  #cb3e38;\n",
       "            color:  #f1f1f1;\n",
       "        }    #T_e4e8c20c_67d7_11eb_8379_02420a398308row21_col0 {\n",
       "            background-color:  #7da0f9;\n",
       "            color:  #000000;\n",
       "        }</style><table id=\"T_e4e8c20c_67d7_11eb_8379_02420a398308\" ><thead>    <tr>        <th class=\"blank level0\" ></th>        <th class=\"col_heading level0 col0\" >0</th>    </tr></thead><tbody>\n",
       "                <tr>\n",
       "                        <th id=\"T_e4e8c20c_67d7_11eb_8379_02420a398308level0_row0\" class=\"row_heading level0 row0\" >total_images</th>\n",
       "                        <td id=\"T_e4e8c20c_67d7_11eb_8379_02420a398308row0_col0\" class=\"data row0 col0\" >0</td>\n",
       "            </tr>\n",
       "            <tr>\n",
       "                        <th id=\"T_e4e8c20c_67d7_11eb_8379_02420a398308level0_row1\" class=\"row_heading level0 row1\" >last_price</th>\n",
       "                        <td id=\"T_e4e8c20c_67d7_11eb_8379_02420a398308row1_col0\" class=\"data row1 col0\" >0</td>\n",
       "            </tr>\n",
       "            <tr>\n",
       "                        <th id=\"T_e4e8c20c_67d7_11eb_8379_02420a398308level0_row2\" class=\"row_heading level0 row2\" >total_area</th>\n",
       "                        <td id=\"T_e4e8c20c_67d7_11eb_8379_02420a398308row2_col0\" class=\"data row2 col0\" >0</td>\n",
       "            </tr>\n",
       "            <tr>\n",
       "                        <th id=\"T_e4e8c20c_67d7_11eb_8379_02420a398308level0_row3\" class=\"row_heading level0 row3\" >first_day_exposition</th>\n",
       "                        <td id=\"T_e4e8c20c_67d7_11eb_8379_02420a398308row3_col0\" class=\"data row3 col0\" >0</td>\n",
       "            </tr>\n",
       "            <tr>\n",
       "                        <th id=\"T_e4e8c20c_67d7_11eb_8379_02420a398308level0_row4\" class=\"row_heading level0 row4\" >rooms</th>\n",
       "                        <td id=\"T_e4e8c20c_67d7_11eb_8379_02420a398308row4_col0\" class=\"data row4 col0\" >0</td>\n",
       "            </tr>\n",
       "            <tr>\n",
       "                        <th id=\"T_e4e8c20c_67d7_11eb_8379_02420a398308level0_row5\" class=\"row_heading level0 row5\" >ceiling_height</th>\n",
       "                        <td id=\"T_e4e8c20c_67d7_11eb_8379_02420a398308row5_col0\" class=\"data row5 col0\" >0</td>\n",
       "            </tr>\n",
       "            <tr>\n",
       "                        <th id=\"T_e4e8c20c_67d7_11eb_8379_02420a398308level0_row6\" class=\"row_heading level0 row6\" >floors_total</th>\n",
       "                        <td id=\"T_e4e8c20c_67d7_11eb_8379_02420a398308row6_col0\" class=\"data row6 col0\" >0</td>\n",
       "            </tr>\n",
       "            <tr>\n",
       "                        <th id=\"T_e4e8c20c_67d7_11eb_8379_02420a398308level0_row7\" class=\"row_heading level0 row7\" >living_area</th>\n",
       "                        <td id=\"T_e4e8c20c_67d7_11eb_8379_02420a398308row7_col0\" class=\"data row7 col0\" >7.91</td>\n",
       "            </tr>\n",
       "            <tr>\n",
       "                        <th id=\"T_e4e8c20c_67d7_11eb_8379_02420a398308level0_row8\" class=\"row_heading level0 row8\" >floor</th>\n",
       "                        <td id=\"T_e4e8c20c_67d7_11eb_8379_02420a398308row8_col0\" class=\"data row8 col0\" >0</td>\n",
       "            </tr>\n",
       "            <tr>\n",
       "                        <th id=\"T_e4e8c20c_67d7_11eb_8379_02420a398308level0_row9\" class=\"row_heading level0 row9\" >is_apartment</th>\n",
       "                        <td id=\"T_e4e8c20c_67d7_11eb_8379_02420a398308row9_col0\" class=\"data row9 col0\" >0</td>\n",
       "            </tr>\n",
       "            <tr>\n",
       "                        <th id=\"T_e4e8c20c_67d7_11eb_8379_02420a398308level0_row10\" class=\"row_heading level0 row10\" >studio</th>\n",
       "                        <td id=\"T_e4e8c20c_67d7_11eb_8379_02420a398308row10_col0\" class=\"data row10 col0\" >0</td>\n",
       "            </tr>\n",
       "            <tr>\n",
       "                        <th id=\"T_e4e8c20c_67d7_11eb_8379_02420a398308level0_row11\" class=\"row_heading level0 row11\" >open_plan</th>\n",
       "                        <td id=\"T_e4e8c20c_67d7_11eb_8379_02420a398308row11_col0\" class=\"data row11 col0\" >0</td>\n",
       "            </tr>\n",
       "            <tr>\n",
       "                        <th id=\"T_e4e8c20c_67d7_11eb_8379_02420a398308level0_row12\" class=\"row_heading level0 row12\" >kitchen_area</th>\n",
       "                        <td id=\"T_e4e8c20c_67d7_11eb_8379_02420a398308row12_col0\" class=\"data row12 col0\" >9.44</td>\n",
       "            </tr>\n",
       "            <tr>\n",
       "                        <th id=\"T_e4e8c20c_67d7_11eb_8379_02420a398308level0_row13\" class=\"row_heading level0 row13\" >balcony</th>\n",
       "                        <td id=\"T_e4e8c20c_67d7_11eb_8379_02420a398308row13_col0\" class=\"data row13 col0\" >0</td>\n",
       "            </tr>\n",
       "            <tr>\n",
       "                        <th id=\"T_e4e8c20c_67d7_11eb_8379_02420a398308level0_row14\" class=\"row_heading level0 row14\" >locality_name</th>\n",
       "                        <td id=\"T_e4e8c20c_67d7_11eb_8379_02420a398308row14_col0\" class=\"data row14 col0\" >0</td>\n",
       "            </tr>\n",
       "            <tr>\n",
       "                        <th id=\"T_e4e8c20c_67d7_11eb_8379_02420a398308level0_row15\" class=\"row_heading level0 row15\" >airports_nearest</th>\n",
       "                        <td id=\"T_e4e8c20c_67d7_11eb_8379_02420a398308row15_col0\" class=\"data row15 col0\" >23.41</td>\n",
       "            </tr>\n",
       "            <tr>\n",
       "                        <th id=\"T_e4e8c20c_67d7_11eb_8379_02420a398308level0_row16\" class=\"row_heading level0 row16\" >cityCenters_nearest</th>\n",
       "                        <td id=\"T_e4e8c20c_67d7_11eb_8379_02420a398308row16_col0\" class=\"data row16 col0\" >23.32</td>\n",
       "            </tr>\n",
       "            <tr>\n",
       "                        <th id=\"T_e4e8c20c_67d7_11eb_8379_02420a398308level0_row17\" class=\"row_heading level0 row17\" >parks_around3000</th>\n",
       "                        <td id=\"T_e4e8c20c_67d7_11eb_8379_02420a398308row17_col0\" class=\"data row17 col0\" >0</td>\n",
       "            </tr>\n",
       "            <tr>\n",
       "                        <th id=\"T_e4e8c20c_67d7_11eb_8379_02420a398308level0_row18\" class=\"row_heading level0 row18\" >parks_nearest</th>\n",
       "                        <td id=\"T_e4e8c20c_67d7_11eb_8379_02420a398308row18_col0\" class=\"data row18 col0\" >65.9</td>\n",
       "            </tr>\n",
       "            <tr>\n",
       "                        <th id=\"T_e4e8c20c_67d7_11eb_8379_02420a398308level0_row19\" class=\"row_heading level0 row19\" >ponds_around3000</th>\n",
       "                        <td id=\"T_e4e8c20c_67d7_11eb_8379_02420a398308row19_col0\" class=\"data row19 col0\" >0</td>\n",
       "            </tr>\n",
       "            <tr>\n",
       "                        <th id=\"T_e4e8c20c_67d7_11eb_8379_02420a398308level0_row20\" class=\"row_heading level0 row20\" >ponds_nearest</th>\n",
       "                        <td id=\"T_e4e8c20c_67d7_11eb_8379_02420a398308row20_col0\" class=\"data row20 col0\" >61.63</td>\n",
       "            </tr>\n",
       "            <tr>\n",
       "                        <th id=\"T_e4e8c20c_67d7_11eb_8379_02420a398308level0_row21\" class=\"row_heading level0 row21\" >days_exposition</th>\n",
       "                        <td id=\"T_e4e8c20c_67d7_11eb_8379_02420a398308row21_col0\" class=\"data row21 col0\" >13.44</td>\n",
       "            </tr>\n",
       "    </tbody></table>"
      ],
      "text/plain": [
       "<pandas.io.formats.style.Styler at 0x7fd368ce3d90>"
      ]
     },
     "execution_count": 31,
     "metadata": {},
     "output_type": "execute_result"
    }
   ],
   "source": [
    "pd.DataFrame(round((estate_data.isna().mean() * 100), 2)).style.background_gradient('coolwarm')"
   ]
  },
  {
   "cell_type": "code",
   "execution_count": 32,
   "metadata": {},
   "outputs": [
    {
     "data": {
      "text/html": [
       "<div>\n",
       "<style scoped>\n",
       "    .dataframe tbody tr th:only-of-type {\n",
       "        vertical-align: middle;\n",
       "    }\n",
       "\n",
       "    .dataframe tbody tr th {\n",
       "        vertical-align: top;\n",
       "    }\n",
       "\n",
       "    .dataframe thead th {\n",
       "        text-align: right;\n",
       "    }\n",
       "</style>\n",
       "<table border=\"1\" class=\"dataframe\">\n",
       "  <thead>\n",
       "    <tr style=\"text-align: right;\">\n",
       "      <th></th>\n",
       "      <th>total_images</th>\n",
       "      <th>last_price</th>\n",
       "      <th>total_area</th>\n",
       "      <th>first_day_exposition</th>\n",
       "      <th>rooms</th>\n",
       "      <th>ceiling_height</th>\n",
       "      <th>floors_total</th>\n",
       "      <th>living_area</th>\n",
       "      <th>floor</th>\n",
       "      <th>is_apartment</th>\n",
       "      <th>studio</th>\n",
       "      <th>open_plan</th>\n",
       "      <th>kitchen_area</th>\n",
       "      <th>balcony</th>\n",
       "      <th>locality_name</th>\n",
       "      <th>airports_nearest</th>\n",
       "      <th>cityCenters_nearest</th>\n",
       "      <th>parks_around3000</th>\n",
       "      <th>parks_nearest</th>\n",
       "      <th>ponds_around3000</th>\n",
       "      <th>ponds_nearest</th>\n",
       "      <th>days_exposition</th>\n",
       "    </tr>\n",
       "  </thead>\n",
       "  <tbody>\n",
       "    <tr>\n",
       "      <td>0</td>\n",
       "      <td>20</td>\n",
       "      <td>13000000.0</td>\n",
       "      <td>108.0</td>\n",
       "      <td>2019-03-07T00:00:00</td>\n",
       "      <td>3</td>\n",
       "      <td>2.70</td>\n",
       "      <td>16.0</td>\n",
       "      <td>51.0</td>\n",
       "      <td>8</td>\n",
       "      <td>False</td>\n",
       "      <td>False</td>\n",
       "      <td>False</td>\n",
       "      <td>25.0</td>\n",
       "      <td>0.0</td>\n",
       "      <td>Санкт-Петербург</td>\n",
       "      <td>18863.0</td>\n",
       "      <td>16028.0</td>\n",
       "      <td>1.0</td>\n",
       "      <td>482.0</td>\n",
       "      <td>2.0</td>\n",
       "      <td>755.0</td>\n",
       "      <td>NaN</td>\n",
       "    </tr>\n",
       "    <tr>\n",
       "      <td>1</td>\n",
       "      <td>7</td>\n",
       "      <td>3350000.0</td>\n",
       "      <td>40.4</td>\n",
       "      <td>2018-12-04T00:00:00</td>\n",
       "      <td>1</td>\n",
       "      <td>2.65</td>\n",
       "      <td>11.0</td>\n",
       "      <td>18.6</td>\n",
       "      <td>1</td>\n",
       "      <td>False</td>\n",
       "      <td>False</td>\n",
       "      <td>False</td>\n",
       "      <td>11.0</td>\n",
       "      <td>2.0</td>\n",
       "      <td>посёлок Шушары</td>\n",
       "      <td>12817.0</td>\n",
       "      <td>18603.0</td>\n",
       "      <td>0.0</td>\n",
       "      <td>NaN</td>\n",
       "      <td>0.0</td>\n",
       "      <td>NaN</td>\n",
       "      <td>81.0</td>\n",
       "    </tr>\n",
       "    <tr>\n",
       "      <td>2</td>\n",
       "      <td>10</td>\n",
       "      <td>5196000.0</td>\n",
       "      <td>56.0</td>\n",
       "      <td>2015-08-20T00:00:00</td>\n",
       "      <td>2</td>\n",
       "      <td>2.65</td>\n",
       "      <td>5.0</td>\n",
       "      <td>34.3</td>\n",
       "      <td>4</td>\n",
       "      <td>False</td>\n",
       "      <td>False</td>\n",
       "      <td>False</td>\n",
       "      <td>8.3</td>\n",
       "      <td>0.0</td>\n",
       "      <td>Санкт-Петербург</td>\n",
       "      <td>21741.0</td>\n",
       "      <td>13933.0</td>\n",
       "      <td>1.0</td>\n",
       "      <td>90.0</td>\n",
       "      <td>2.0</td>\n",
       "      <td>574.0</td>\n",
       "      <td>558.0</td>\n",
       "    </tr>\n",
       "    <tr>\n",
       "      <td>3</td>\n",
       "      <td>0</td>\n",
       "      <td>64900000.0</td>\n",
       "      <td>159.0</td>\n",
       "      <td>2015-07-24T00:00:00</td>\n",
       "      <td>3</td>\n",
       "      <td>2.65</td>\n",
       "      <td>14.0</td>\n",
       "      <td>NaN</td>\n",
       "      <td>9</td>\n",
       "      <td>False</td>\n",
       "      <td>False</td>\n",
       "      <td>False</td>\n",
       "      <td>NaN</td>\n",
       "      <td>0.0</td>\n",
       "      <td>Санкт-Петербург</td>\n",
       "      <td>28098.0</td>\n",
       "      <td>6800.0</td>\n",
       "      <td>2.0</td>\n",
       "      <td>84.0</td>\n",
       "      <td>3.0</td>\n",
       "      <td>234.0</td>\n",
       "      <td>424.0</td>\n",
       "    </tr>\n",
       "    <tr>\n",
       "      <td>4</td>\n",
       "      <td>2</td>\n",
       "      <td>10000000.0</td>\n",
       "      <td>100.0</td>\n",
       "      <td>2018-06-19T00:00:00</td>\n",
       "      <td>2</td>\n",
       "      <td>3.03</td>\n",
       "      <td>14.0</td>\n",
       "      <td>32.0</td>\n",
       "      <td>13</td>\n",
       "      <td>False</td>\n",
       "      <td>False</td>\n",
       "      <td>False</td>\n",
       "      <td>41.0</td>\n",
       "      <td>0.0</td>\n",
       "      <td>Санкт-Петербург</td>\n",
       "      <td>31856.0</td>\n",
       "      <td>8098.0</td>\n",
       "      <td>2.0</td>\n",
       "      <td>112.0</td>\n",
       "      <td>1.0</td>\n",
       "      <td>48.0</td>\n",
       "      <td>121.0</td>\n",
       "    </tr>\n",
       "  </tbody>\n",
       "</table>\n",
       "</div>"
      ],
      "text/plain": [
       "   total_images  last_price  total_area first_day_exposition  rooms  \\\n",
       "0            20  13000000.0       108.0  2019-03-07T00:00:00      3   \n",
       "1             7   3350000.0        40.4  2018-12-04T00:00:00      1   \n",
       "2            10   5196000.0        56.0  2015-08-20T00:00:00      2   \n",
       "3             0  64900000.0       159.0  2015-07-24T00:00:00      3   \n",
       "4             2  10000000.0       100.0  2018-06-19T00:00:00      2   \n",
       "\n",
       "   ceiling_height  floors_total  living_area  floor  is_apartment  studio  \\\n",
       "0            2.70          16.0         51.0      8         False   False   \n",
       "1            2.65          11.0         18.6      1         False   False   \n",
       "2            2.65           5.0         34.3      4         False   False   \n",
       "3            2.65          14.0          NaN      9         False   False   \n",
       "4            3.03          14.0         32.0     13         False   False   \n",
       "\n",
       "   open_plan  kitchen_area  balcony    locality_name  airports_nearest  \\\n",
       "0      False          25.0      0.0  Санкт-Петербург           18863.0   \n",
       "1      False          11.0      2.0   посёлок Шушары           12817.0   \n",
       "2      False           8.3      0.0  Санкт-Петербург           21741.0   \n",
       "3      False           NaN      0.0  Санкт-Петербург           28098.0   \n",
       "4      False          41.0      0.0  Санкт-Петербург           31856.0   \n",
       "\n",
       "   cityCenters_nearest  parks_around3000  parks_nearest  ponds_around3000  \\\n",
       "0              16028.0               1.0          482.0               2.0   \n",
       "1              18603.0               0.0            NaN               0.0   \n",
       "2              13933.0               1.0           90.0               2.0   \n",
       "3               6800.0               2.0           84.0               3.0   \n",
       "4               8098.0               2.0          112.0               1.0   \n",
       "\n",
       "   ponds_nearest  days_exposition  \n",
       "0          755.0              NaN  \n",
       "1            NaN             81.0  \n",
       "2          574.0            558.0  \n",
       "3          234.0            424.0  \n",
       "4           48.0            121.0  "
      ]
     },
     "execution_count": 32,
     "metadata": {},
     "output_type": "execute_result"
    }
   ],
   "source": [
    "estate_data.head()"
   ]
  },
  {
   "cell_type": "markdown",
   "metadata": {},
   "source": [
    "### Вывод"
   ]
  },
  {
   "cell_type": "markdown",
   "metadata": {},
   "source": [
    "В большей части столбцов датафрейма имелись пропуски. Пропуски в столбцах *parks_around3000* и *ponds_around3000* оказались взаимосвязанными. Оказалось, что в сторках с пропущенными значениями числа парков и водоёмов в радиусе 3 км соответствующее расстояние до ближайшего парка или водоёма больше 3 км. Эти пропуски были заменены на 0.\n",
    "\n",
    "Скорее всего, пропуски в столбцах *is_apartment* и *balcony* допущены по той простой причине, что квартира не является апартаментами и не имеет балконов. Пропущенные значения в этих столбцах были заменены на False и 0 соответственно.\n",
    "\n",
    "Пропуски в столбцах *airports_nearest*, *cityCenters_nearest*, *parks_nearest* и *ponds_nearest*, возможно, образовались из-за сбоя в получении картографических данных.\n",
    "\n",
    "Часть пропусков в столбце *locality_name* была заменена на значение 'Санкт-Петербург', если расстояние до центра города оказалось меньше услового радиуса северной столицы. Оставшиеся малочисленные пропуски в столбцах *locality_name* и *floors_total* были удалены.\n",
    "\n",
    "Неуказанная высота потолков была заменена медианным значением. Остальные пропуски невозможно корректно обработать."
   ]
  },
  {
   "cell_type": "markdown",
   "metadata": {},
   "source": [
    "### <a id='data_type_replacement'>Замена типа данных</a>"
   ]
  },
  {
   "cell_type": "markdown",
   "metadata": {},
   "source": [
    "Стоимость квартиры измеряется в целочисленных условных единицах. Число этажей, балконов, парков, водоёмов, расстояние до центра города, аэропорта, парка и водоёма, а также количество дней, прошедших от публикации до снятия объявления, также является целым."
   ]
  },
  {
   "cell_type": "markdown",
   "metadata": {},
   "source": [
    "#### Приведём данные в соответствующих столбцах к целочисленному типу int64."
   ]
  },
  {
   "cell_type": "code",
   "execution_count": 33,
   "metadata": {},
   "outputs": [],
   "source": [
    "estate_data.loc[:, ['last_price', 'floors_total', 'balcony', \\\n",
    "                    'parks_around3000', 'ponds_around3000']] =\\\n",
    "estate_data.loc[:, ['last_price', 'floors_total', 'balcony', \\\n",
    "                    'parks_around3000', 'ponds_around3000']].astype('int')"
   ]
  },
  {
   "cell_type": "code",
   "execution_count": 34,
   "metadata": {},
   "outputs": [],
   "source": [
    "estate_data.loc[:, ['airports_nearest', 'cityCenters_nearest', 'parks_nearest', \\\n",
    "                    'ponds_nearest',  'days_exposition']] =\\\n",
    "estate_data.loc[:, ['airports_nearest', 'cityCenters_nearest', 'parks_nearest', \\\n",
    "                    'ponds_nearest',  'days_exposition']].round().astype('Int64')"
   ]
  },
  {
   "cell_type": "markdown",
   "metadata": {},
   "source": [
    "Заметим, что дата публикации объявлений также представлена не в соответствующем формате."
   ]
  },
  {
   "cell_type": "markdown",
   "metadata": {},
   "source": [
    "#### Приведём данные о дате публикации объявлений к типу *datetime*."
   ]
  },
  {
   "cell_type": "code",
   "execution_count": 35,
   "metadata": {},
   "outputs": [],
   "source": [
    "estate_data['first_day_exposition'] = pd.to_datetime(estate_data['first_day_exposition'], \\\n",
    "                                                     format='%Y-%m-%dT%H:%M:%S')"
   ]
  },
  {
   "cell_type": "code",
   "execution_count": 36,
   "metadata": {},
   "outputs": [
    {
     "data": {
      "text/html": [
       "<div>\n",
       "<style scoped>\n",
       "    .dataframe tbody tr th:only-of-type {\n",
       "        vertical-align: middle;\n",
       "    }\n",
       "\n",
       "    .dataframe tbody tr th {\n",
       "        vertical-align: top;\n",
       "    }\n",
       "\n",
       "    .dataframe thead th {\n",
       "        text-align: right;\n",
       "    }\n",
       "</style>\n",
       "<table border=\"1\" class=\"dataframe\">\n",
       "  <thead>\n",
       "    <tr style=\"text-align: right;\">\n",
       "      <th></th>\n",
       "      <th>total_images</th>\n",
       "      <th>last_price</th>\n",
       "      <th>total_area</th>\n",
       "      <th>first_day_exposition</th>\n",
       "      <th>rooms</th>\n",
       "      <th>ceiling_height</th>\n",
       "      <th>floors_total</th>\n",
       "      <th>living_area</th>\n",
       "      <th>floor</th>\n",
       "      <th>is_apartment</th>\n",
       "      <th>studio</th>\n",
       "      <th>open_plan</th>\n",
       "      <th>kitchen_area</th>\n",
       "      <th>balcony</th>\n",
       "      <th>locality_name</th>\n",
       "      <th>airports_nearest</th>\n",
       "      <th>cityCenters_nearest</th>\n",
       "      <th>parks_around3000</th>\n",
       "      <th>parks_nearest</th>\n",
       "      <th>ponds_around3000</th>\n",
       "      <th>ponds_nearest</th>\n",
       "      <th>days_exposition</th>\n",
       "    </tr>\n",
       "  </thead>\n",
       "  <tbody>\n",
       "    <tr>\n",
       "      <td>0</td>\n",
       "      <td>20</td>\n",
       "      <td>13000000</td>\n",
       "      <td>108.0</td>\n",
       "      <td>2019-03-07</td>\n",
       "      <td>3</td>\n",
       "      <td>2.70</td>\n",
       "      <td>16</td>\n",
       "      <td>51.0</td>\n",
       "      <td>8</td>\n",
       "      <td>False</td>\n",
       "      <td>False</td>\n",
       "      <td>False</td>\n",
       "      <td>25.0</td>\n",
       "      <td>0</td>\n",
       "      <td>Санкт-Петербург</td>\n",
       "      <td>18863</td>\n",
       "      <td>16028</td>\n",
       "      <td>1</td>\n",
       "      <td>482</td>\n",
       "      <td>2</td>\n",
       "      <td>755</td>\n",
       "      <td>NaN</td>\n",
       "    </tr>\n",
       "    <tr>\n",
       "      <td>1</td>\n",
       "      <td>7</td>\n",
       "      <td>3350000</td>\n",
       "      <td>40.4</td>\n",
       "      <td>2018-12-04</td>\n",
       "      <td>1</td>\n",
       "      <td>2.65</td>\n",
       "      <td>11</td>\n",
       "      <td>18.6</td>\n",
       "      <td>1</td>\n",
       "      <td>False</td>\n",
       "      <td>False</td>\n",
       "      <td>False</td>\n",
       "      <td>11.0</td>\n",
       "      <td>2</td>\n",
       "      <td>посёлок Шушары</td>\n",
       "      <td>12817</td>\n",
       "      <td>18603</td>\n",
       "      <td>0</td>\n",
       "      <td>NaN</td>\n",
       "      <td>0</td>\n",
       "      <td>NaN</td>\n",
       "      <td>81</td>\n",
       "    </tr>\n",
       "    <tr>\n",
       "      <td>2</td>\n",
       "      <td>10</td>\n",
       "      <td>5196000</td>\n",
       "      <td>56.0</td>\n",
       "      <td>2015-08-20</td>\n",
       "      <td>2</td>\n",
       "      <td>2.65</td>\n",
       "      <td>5</td>\n",
       "      <td>34.3</td>\n",
       "      <td>4</td>\n",
       "      <td>False</td>\n",
       "      <td>False</td>\n",
       "      <td>False</td>\n",
       "      <td>8.3</td>\n",
       "      <td>0</td>\n",
       "      <td>Санкт-Петербург</td>\n",
       "      <td>21741</td>\n",
       "      <td>13933</td>\n",
       "      <td>1</td>\n",
       "      <td>90</td>\n",
       "      <td>2</td>\n",
       "      <td>574</td>\n",
       "      <td>558</td>\n",
       "    </tr>\n",
       "    <tr>\n",
       "      <td>3</td>\n",
       "      <td>0</td>\n",
       "      <td>64900000</td>\n",
       "      <td>159.0</td>\n",
       "      <td>2015-07-24</td>\n",
       "      <td>3</td>\n",
       "      <td>2.65</td>\n",
       "      <td>14</td>\n",
       "      <td>NaN</td>\n",
       "      <td>9</td>\n",
       "      <td>False</td>\n",
       "      <td>False</td>\n",
       "      <td>False</td>\n",
       "      <td>NaN</td>\n",
       "      <td>0</td>\n",
       "      <td>Санкт-Петербург</td>\n",
       "      <td>28098</td>\n",
       "      <td>6800</td>\n",
       "      <td>2</td>\n",
       "      <td>84</td>\n",
       "      <td>3</td>\n",
       "      <td>234</td>\n",
       "      <td>424</td>\n",
       "    </tr>\n",
       "    <tr>\n",
       "      <td>4</td>\n",
       "      <td>2</td>\n",
       "      <td>10000000</td>\n",
       "      <td>100.0</td>\n",
       "      <td>2018-06-19</td>\n",
       "      <td>2</td>\n",
       "      <td>3.03</td>\n",
       "      <td>14</td>\n",
       "      <td>32.0</td>\n",
       "      <td>13</td>\n",
       "      <td>False</td>\n",
       "      <td>False</td>\n",
       "      <td>False</td>\n",
       "      <td>41.0</td>\n",
       "      <td>0</td>\n",
       "      <td>Санкт-Петербург</td>\n",
       "      <td>31856</td>\n",
       "      <td>8098</td>\n",
       "      <td>2</td>\n",
       "      <td>112</td>\n",
       "      <td>1</td>\n",
       "      <td>48</td>\n",
       "      <td>121</td>\n",
       "    </tr>\n",
       "  </tbody>\n",
       "</table>\n",
       "</div>"
      ],
      "text/plain": [
       "   total_images  last_price  total_area first_day_exposition  rooms  \\\n",
       "0            20    13000000       108.0           2019-03-07      3   \n",
       "1             7     3350000        40.4           2018-12-04      1   \n",
       "2            10     5196000        56.0           2015-08-20      2   \n",
       "3             0    64900000       159.0           2015-07-24      3   \n",
       "4             2    10000000       100.0           2018-06-19      2   \n",
       "\n",
       "   ceiling_height  floors_total  living_area  floor  is_apartment  studio  \\\n",
       "0            2.70            16         51.0      8         False   False   \n",
       "1            2.65            11         18.6      1         False   False   \n",
       "2            2.65             5         34.3      4         False   False   \n",
       "3            2.65            14          NaN      9         False   False   \n",
       "4            3.03            14         32.0     13         False   False   \n",
       "\n",
       "   open_plan  kitchen_area  balcony    locality_name  airports_nearest  \\\n",
       "0      False          25.0        0  Санкт-Петербург             18863   \n",
       "1      False          11.0        2   посёлок Шушары             12817   \n",
       "2      False           8.3        0  Санкт-Петербург             21741   \n",
       "3      False           NaN        0  Санкт-Петербург             28098   \n",
       "4      False          41.0        0  Санкт-Петербург             31856   \n",
       "\n",
       "   cityCenters_nearest  parks_around3000  parks_nearest  ponds_around3000  \\\n",
       "0                16028                 1            482                 2   \n",
       "1                18603                 0            NaN                 0   \n",
       "2                13933                 1             90                 2   \n",
       "3                 6800                 2             84                 3   \n",
       "4                 8098                 2            112                 1   \n",
       "\n",
       "   ponds_nearest  days_exposition  \n",
       "0            755              NaN  \n",
       "1            NaN               81  \n",
       "2            574              558  \n",
       "3            234              424  \n",
       "4             48              121  "
      ]
     },
     "execution_count": 36,
     "metadata": {},
     "output_type": "execute_result"
    }
   ],
   "source": [
    "estate_data.head()"
   ]
  },
  {
   "cell_type": "markdown",
   "metadata": {},
   "source": [
    "### Вывод"
   ]
  },
  {
   "cell_type": "markdown",
   "metadata": {},
   "source": [
    "Типы данных в столбцах *last_price*, *floors_total*, *balcony*, *parks_around3000*, *ponds_around3000* были заменены на *int64*.\n",
    "В столбцах с пропусками *airports_nearest*, *cityCenters_nearest*, *parks_nearest*, *ponds_nearest* и *days_exposition* и  данные были приведены к целочисленному типу ввиду *Int64*.\n",
    "\n",
    "Дата публикации объявлений была приведена к формату *datetime*."
   ]
  },
  {
   "cell_type": "markdown",
   "metadata": {},
   "source": [
    "### <a id='locality_names_change'>Преобразование названий населённых пунктов</a>"
   ]
  },
  {
   "cell_type": "markdown",
   "metadata": {},
   "source": [
    "Как было замечено выше, некоторые данные в столбце *locality_name* представлены неэквивалентными строками, хотя их смысл одинаков. Например, *'деревня Кудрово', 'Кудрово', 'посёлок Пансионат Зелёный Бор', 'поселок Пансионат Зелёный Бор'* и тому подобное. "
   ]
  },
  {
   "cell_type": "markdown",
   "metadata": {},
   "source": [
    "#### Уберём из *locality_name* слова, не являющиеся именами собственными, и заменим все буквы 'ё' на буквы 'е'."
   ]
  },
  {
   "cell_type": "code",
   "execution_count": 37,
   "metadata": {},
   "outputs": [],
   "source": [
    "def change_locality_name(locality_name):\n",
    "    return ' '.join(word for word in locality_name.split() if not word.islower()).replace('ё', 'е')"
   ]
  },
  {
   "cell_type": "code",
   "execution_count": 38,
   "metadata": {},
   "outputs": [],
   "source": [
    "estate_data['locality_name'] = estate_data['locality_name'].apply(change_locality_name)"
   ]
  },
  {
   "cell_type": "code",
   "execution_count": 39,
   "metadata": {},
   "outputs": [
    {
     "data": {
      "text/plain": [
       "305"
      ]
     },
     "execution_count": 39,
     "metadata": {},
     "output_type": "execute_result"
    }
   ],
   "source": [
    "len(estate_data['locality_name'].unique())"
   ]
  },
  {
   "cell_type": "code",
   "execution_count": 40,
   "metadata": {},
   "outputs": [
    {
     "data": {
      "text/plain": [
       "array(['Санкт-Петербург', 'Шушары', 'Янино-1', 'Парголово', 'Мурино',\n",
       "       'Ломоносов', 'Сертолово', 'Петергоф', 'Пушкин', 'Кудрово',\n",
       "       'Коммунар', 'Колпино', 'Красный Бор', 'Гатчина', 'Федоровское',\n",
       "       'Выборг', 'Кронштадт', 'Кировск', 'Новое Девяткино',\n",
       "       'Металлострой', 'Лебяжье', 'Сиверский', 'Молодцово',\n",
       "       'Кузьмоловский', 'Новая Ропша', 'Павловск', 'Пикколово',\n",
       "       'Всеволожск', 'Волхов', 'Кингисепп', 'Приозерск', 'Сестрорецк',\n",
       "       'Куттузи', 'Аннино', 'Ефимовский', 'Плодовое', 'Заклинье',\n",
       "       'Торковичи', 'Первомайское', 'Красное Село', 'Понтонный',\n",
       "       'Сясьстрой', 'Старая', 'Лесколово', 'Новый Свет', 'Сланцы',\n",
       "       'Путилово', 'Ивангород', 'Шлиссельбург', 'Никольское',\n",
       "       'Зеленогорск', 'Сосновый Бор', 'Оржицы', 'Кальтино', 'Романовка',\n",
       "       'Бугры', 'Рощино', 'Кириши', 'Луга', 'Волосово', 'Отрадное',\n",
       "       'Павлово', 'Оредеж', 'Копорье', 'Молодежное', 'Тихвин', 'Победа',\n",
       "       'Нурма', 'Синявино', 'Тосно', 'Стрельна', 'Бокситогорск',\n",
       "       'Александровская', 'Лопухинка', 'Пикалево', 'Терволово',\n",
       "       'Советский', 'Подпорожье', 'Петровское', 'Токсово', 'Сельцо',\n",
       "       'Вырица', 'Кипень', 'Келози', 'Вартемяги', 'Тельмана',\n",
       "       'Севастьяново', 'Большая Ижора', 'Агалатово', 'Новогорелово',\n",
       "       'Лесогорский', 'Лаголово', 'Цвелодубово', 'Рахья', 'Белогорка',\n",
       "       'Заводской', 'Новоселье', 'Большие Колпаны', 'Горбунки', 'Батово',\n",
       "       'Заневка', 'Иссад', 'Приморск', 'Мистолово', 'Новая Ладога',\n",
       "       'Зимитицы', 'Барышево', 'Разметелево', 'Свердлова', 'Пеники',\n",
       "       'Рябово', 'Пудомяги', 'Корнево', 'Низино', 'Бегуницы', 'Поляны',\n",
       "       'Мга', 'Елизаветино', 'Кузнечное', 'Колтуши', 'Запорожское',\n",
       "       'Гостилицы', 'Малое Карлино', 'Мичуринское', 'Морозова',\n",
       "       'Песочный', 'Сосново', 'Аро', 'Ильичево', 'Тайцы', 'Малое Верево',\n",
       "       'Извара', 'Вещево', 'Паша', 'Калитино', 'Ульяновка', 'Чудской Бор',\n",
       "       'Дубровка', 'Мины', 'Войсковицы', 'Коркино', 'Ропша',\n",
       "       'Приладожский', 'Щеглово', 'Гаврилово', 'Лодейное Поле',\n",
       "       'Рабитицы', 'Никольский', 'Кузьмолово', 'Малые Колпаны',\n",
       "       'Петро-Славянка', 'Назия', 'Репино', 'Углово', 'Старая Малукса',\n",
       "       'Меньково', 'Старые Бегуницы', 'Саперный', 'Семрино', 'Глажево',\n",
       "       'Кобринское', 'Гарболово', 'Юкки', 'Приветнинское', 'Мануйлово',\n",
       "       'Пчева', 'Цвылево', 'Мельниково', 'Пудость', 'Усть-Луга',\n",
       "       'Светогорск', 'Любань', 'Селезнево', 'Каменногорск', 'Кривко',\n",
       "       'Глебычево', 'Парицы', 'Жилпоселок', 'Войскорово', 'Стеклянный',\n",
       "       'Важины', 'Мыза-Ивановка', 'Русско-Высоцкое', 'Форносово',\n",
       "       'Старая Ладога', 'Житково', 'Виллози', 'Лампово', 'Шпаньково',\n",
       "       'Лаврики', 'Сумино', 'Возрождение', 'Старосиверская', 'Кикерино',\n",
       "       'Старое Хинколово', 'Пригородный', 'Торфяное', 'Будогощь',\n",
       "       'Суходолье', 'Красная Долина', 'Хапо-Ое', 'Дружная Горка',\n",
       "       'Лисий Нос', 'Яльгелево', 'Рождествено', 'Старополье', 'Левашово',\n",
       "       'Сяськелево', 'Камышовка', 'Лесная Поляна', 'Хязельки',\n",
       "       'Жилгородок', 'Ялгино', 'Новый Учхоз', 'Гончарово', 'Почап',\n",
       "       'Саперное', 'Платформа', 'Каложицы', 'Фалилеево', 'Пельгора',\n",
       "       'Торошковичи', 'Белоостров', 'Алексеевка', 'Серебрянский',\n",
       "       'Лукаши', 'Тарасово', 'Кингисеппский', 'Ушаки', 'Котлы', 'Сижно',\n",
       "       'Торосово', 'Форт Красная Горка', 'Новолисино', 'Громово',\n",
       "       'Глинка', 'Старая Пустошь', 'Коммунары', 'Починок', 'Вознесенье',\n",
       "       'Разбегаево', 'Гладкое', 'Тесово-4', 'Бор', 'Коробицыно',\n",
       "       'Большая Вруда', 'Курковицы', 'Кобралово', 'Суоранда',\n",
       "       'Кондратьево', 'Счастье', 'Реброво', 'Тойворово', 'Семиозерье',\n",
       "       'Лесное', 'Совхозный', 'Ленинское', 'Суйда', 'Нижние Осельки',\n",
       "       'Свирь', 'Перово', 'Высоцк', 'Шум', 'Котельский', 'Лужайка',\n",
       "       'Большая Пустомержа', 'Красносельское', 'Вахнова Кара', 'Пижма',\n",
       "       'Кивеннапа Север', 'Ромашки', 'Каськово', 'Куровицы', 'Плоское',\n",
       "       'Кирпичное', 'Ям-Тесово', 'Раздолье', 'Терпилицы', 'Шугозеро',\n",
       "       'Ваганово', 'Пушное', 'Садко', 'Усть-Ижора', 'Выскатка',\n",
       "       'Свирьстрой', 'Кисельня', 'Трубников Бор', 'Высокоключевой',\n",
       "       'Пансионат Зеленый Бор', 'Ненимяки', 'Снегиревка', 'Рапполово',\n",
       "       'Пустынка', 'Большой Сабск', 'Русско', 'Лупполово',\n",
       "       'Большое Рейзино', 'Малая Романовка', 'Дружноселье', 'Пчевжа',\n",
       "       'Володарское', 'Нижняя', 'Тихковицы', 'Борисова Грива',\n",
       "       'Дзержинского'], dtype=object)"
      ]
     },
     "execution_count": 40,
     "metadata": {},
     "output_type": "execute_result"
    }
   ],
   "source": [
    "estate_data['locality_name'].unique()"
   ]
  },
  {
   "cell_type": "markdown",
   "metadata": {},
   "source": [
    "#### Проверим, не появились ли в таблице дубликаты."
   ]
  },
  {
   "cell_type": "code",
   "execution_count": 41,
   "metadata": {},
   "outputs": [
    {
     "data": {
      "text/plain": [
       "0"
      ]
     },
     "execution_count": 41,
     "metadata": {},
     "output_type": "execute_result"
    }
   ],
   "source": [
    "estate_data.duplicated().sum()"
   ]
  },
  {
   "cell_type": "code",
   "execution_count": 42,
   "metadata": {},
   "outputs": [
    {
     "data": {
      "text/html": [
       "<div>\n",
       "<style scoped>\n",
       "    .dataframe tbody tr th:only-of-type {\n",
       "        vertical-align: middle;\n",
       "    }\n",
       "\n",
       "    .dataframe tbody tr th {\n",
       "        vertical-align: top;\n",
       "    }\n",
       "\n",
       "    .dataframe thead th {\n",
       "        text-align: right;\n",
       "    }\n",
       "</style>\n",
       "<table border=\"1\" class=\"dataframe\">\n",
       "  <thead>\n",
       "    <tr style=\"text-align: right;\">\n",
       "      <th></th>\n",
       "      <th>total_images</th>\n",
       "      <th>last_price</th>\n",
       "      <th>total_area</th>\n",
       "      <th>first_day_exposition</th>\n",
       "      <th>rooms</th>\n",
       "      <th>ceiling_height</th>\n",
       "      <th>floors_total</th>\n",
       "      <th>living_area</th>\n",
       "      <th>floor</th>\n",
       "      <th>is_apartment</th>\n",
       "      <th>studio</th>\n",
       "      <th>open_plan</th>\n",
       "      <th>kitchen_area</th>\n",
       "      <th>balcony</th>\n",
       "      <th>locality_name</th>\n",
       "      <th>airports_nearest</th>\n",
       "      <th>cityCenters_nearest</th>\n",
       "      <th>parks_around3000</th>\n",
       "      <th>parks_nearest</th>\n",
       "      <th>ponds_around3000</th>\n",
       "      <th>ponds_nearest</th>\n",
       "      <th>days_exposition</th>\n",
       "    </tr>\n",
       "  </thead>\n",
       "  <tbody>\n",
       "    <tr>\n",
       "      <td>0</td>\n",
       "      <td>20</td>\n",
       "      <td>13000000</td>\n",
       "      <td>108.0</td>\n",
       "      <td>2019-03-07</td>\n",
       "      <td>3</td>\n",
       "      <td>2.70</td>\n",
       "      <td>16</td>\n",
       "      <td>51.0</td>\n",
       "      <td>8</td>\n",
       "      <td>False</td>\n",
       "      <td>False</td>\n",
       "      <td>False</td>\n",
       "      <td>25.0</td>\n",
       "      <td>0</td>\n",
       "      <td>Санкт-Петербург</td>\n",
       "      <td>18863</td>\n",
       "      <td>16028</td>\n",
       "      <td>1</td>\n",
       "      <td>482</td>\n",
       "      <td>2</td>\n",
       "      <td>755</td>\n",
       "      <td>NaN</td>\n",
       "    </tr>\n",
       "    <tr>\n",
       "      <td>1</td>\n",
       "      <td>7</td>\n",
       "      <td>3350000</td>\n",
       "      <td>40.4</td>\n",
       "      <td>2018-12-04</td>\n",
       "      <td>1</td>\n",
       "      <td>2.65</td>\n",
       "      <td>11</td>\n",
       "      <td>18.6</td>\n",
       "      <td>1</td>\n",
       "      <td>False</td>\n",
       "      <td>False</td>\n",
       "      <td>False</td>\n",
       "      <td>11.0</td>\n",
       "      <td>2</td>\n",
       "      <td>Шушары</td>\n",
       "      <td>12817</td>\n",
       "      <td>18603</td>\n",
       "      <td>0</td>\n",
       "      <td>NaN</td>\n",
       "      <td>0</td>\n",
       "      <td>NaN</td>\n",
       "      <td>81</td>\n",
       "    </tr>\n",
       "    <tr>\n",
       "      <td>2</td>\n",
       "      <td>10</td>\n",
       "      <td>5196000</td>\n",
       "      <td>56.0</td>\n",
       "      <td>2015-08-20</td>\n",
       "      <td>2</td>\n",
       "      <td>2.65</td>\n",
       "      <td>5</td>\n",
       "      <td>34.3</td>\n",
       "      <td>4</td>\n",
       "      <td>False</td>\n",
       "      <td>False</td>\n",
       "      <td>False</td>\n",
       "      <td>8.3</td>\n",
       "      <td>0</td>\n",
       "      <td>Санкт-Петербург</td>\n",
       "      <td>21741</td>\n",
       "      <td>13933</td>\n",
       "      <td>1</td>\n",
       "      <td>90</td>\n",
       "      <td>2</td>\n",
       "      <td>574</td>\n",
       "      <td>558</td>\n",
       "    </tr>\n",
       "    <tr>\n",
       "      <td>3</td>\n",
       "      <td>0</td>\n",
       "      <td>64900000</td>\n",
       "      <td>159.0</td>\n",
       "      <td>2015-07-24</td>\n",
       "      <td>3</td>\n",
       "      <td>2.65</td>\n",
       "      <td>14</td>\n",
       "      <td>NaN</td>\n",
       "      <td>9</td>\n",
       "      <td>False</td>\n",
       "      <td>False</td>\n",
       "      <td>False</td>\n",
       "      <td>NaN</td>\n",
       "      <td>0</td>\n",
       "      <td>Санкт-Петербург</td>\n",
       "      <td>28098</td>\n",
       "      <td>6800</td>\n",
       "      <td>2</td>\n",
       "      <td>84</td>\n",
       "      <td>3</td>\n",
       "      <td>234</td>\n",
       "      <td>424</td>\n",
       "    </tr>\n",
       "    <tr>\n",
       "      <td>4</td>\n",
       "      <td>2</td>\n",
       "      <td>10000000</td>\n",
       "      <td>100.0</td>\n",
       "      <td>2018-06-19</td>\n",
       "      <td>2</td>\n",
       "      <td>3.03</td>\n",
       "      <td>14</td>\n",
       "      <td>32.0</td>\n",
       "      <td>13</td>\n",
       "      <td>False</td>\n",
       "      <td>False</td>\n",
       "      <td>False</td>\n",
       "      <td>41.0</td>\n",
       "      <td>0</td>\n",
       "      <td>Санкт-Петербург</td>\n",
       "      <td>31856</td>\n",
       "      <td>8098</td>\n",
       "      <td>2</td>\n",
       "      <td>112</td>\n",
       "      <td>1</td>\n",
       "      <td>48</td>\n",
       "      <td>121</td>\n",
       "    </tr>\n",
       "  </tbody>\n",
       "</table>\n",
       "</div>"
      ],
      "text/plain": [
       "   total_images  last_price  total_area first_day_exposition  rooms  \\\n",
       "0            20    13000000       108.0           2019-03-07      3   \n",
       "1             7     3350000        40.4           2018-12-04      1   \n",
       "2            10     5196000        56.0           2015-08-20      2   \n",
       "3             0    64900000       159.0           2015-07-24      3   \n",
       "4             2    10000000       100.0           2018-06-19      2   \n",
       "\n",
       "   ceiling_height  floors_total  living_area  floor  is_apartment  studio  \\\n",
       "0            2.70            16         51.0      8         False   False   \n",
       "1            2.65            11         18.6      1         False   False   \n",
       "2            2.65             5         34.3      4         False   False   \n",
       "3            2.65            14          NaN      9         False   False   \n",
       "4            3.03            14         32.0     13         False   False   \n",
       "\n",
       "   open_plan  kitchen_area  balcony    locality_name  airports_nearest  \\\n",
       "0      False          25.0        0  Санкт-Петербург             18863   \n",
       "1      False          11.0        2           Шушары             12817   \n",
       "2      False           8.3        0  Санкт-Петербург             21741   \n",
       "3      False           NaN        0  Санкт-Петербург             28098   \n",
       "4      False          41.0        0  Санкт-Петербург             31856   \n",
       "\n",
       "   cityCenters_nearest  parks_around3000  parks_nearest  ponds_around3000  \\\n",
       "0                16028                 1            482                 2   \n",
       "1                18603                 0            NaN                 0   \n",
       "2                13933                 1             90                 2   \n",
       "3                 6800                 2             84                 3   \n",
       "4                 8098                 2            112                 1   \n",
       "\n",
       "   ponds_nearest  days_exposition  \n",
       "0            755              NaN  \n",
       "1            NaN               81  \n",
       "2            574              558  \n",
       "3            234              424  \n",
       "4             48              121  "
      ]
     },
     "execution_count": 42,
     "metadata": {},
     "output_type": "execute_result"
    }
   ],
   "source": [
    "estate_data.head()"
   ]
  },
  {
   "cell_type": "markdown",
   "metadata": {},
   "source": [
    "### Вывод"
   ]
  },
  {
   "cell_type": "markdown",
   "metadata": {},
   "source": [
    "Все названия населённых пунктов были сокращены непосредственно до имён собственных. Буквы 'ё' в названиях населённых пунктов были заменены на буквы 'e'."
   ]
  },
  {
   "cell_type": "markdown",
   "metadata": {},
   "source": [
    "## <a id=\"data_addition\">Шаг 3. Добавление данных в таблицу</a>"
   ]
  },
  {
   "cell_type": "markdown",
   "metadata": {},
   "source": [
    "Добавим в таблицу ещё несколько полезных для исследования категорий.\n",
    "- цену квадратного метра;\n",
    "- день недели, месяц и год публикации объявления;\n",
    "- этаж квартиры (первый, последний, другой);\n",
    "- соотношение жилой и общей площади, а также отношение площади кухни к общей;\n",
    "\n",
    "Также отнесём каждую из квартир к одному из пяти интервалов в зависимости от расстояния до центра города."
   ]
  },
  {
   "cell_type": "markdown",
   "metadata": {},
   "source": [
    "#### Цена квадратного метра."
   ]
  },
  {
   "cell_type": "code",
   "execution_count": 43,
   "metadata": {},
   "outputs": [],
   "source": [
    "estate_data['sqm_price'] = \\\n",
    "(estate_data['last_price'] / estate_data['living_area']).round().astype('Int64')"
   ]
  },
  {
   "cell_type": "markdown",
   "metadata": {},
   "source": [
    "#### День недели, месяц и год публикации объявления."
   ]
  },
  {
   "cell_type": "code",
   "execution_count": 44,
   "metadata": {},
   "outputs": [],
   "source": [
    "weekdays = {0: 'понедельник', 1: 'вторник', 2: 'среда', 3: 'четверг', \\\n",
    "            4: 'пятница', 5: 'суббота', 6: 'воскресенье'}\n",
    "months = {1: 'январь', 2: 'февраль', 3: 'март', 4: 'апрель', 5: 'май', 6: 'июнь', \\\n",
    "          7: 'июль', 8: 'август', 9: 'сентябрь', 10: 'октябрь', 11: 'ноябрь', 12: 'декабрь'}"
   ]
  },
  {
   "cell_type": "code",
   "execution_count": 45,
   "metadata": {},
   "outputs": [],
   "source": [
    "estate_data['weekday_exposition'] = estate_data['first_day_exposition'].dt.weekday.map(weekdays)\n",
    "estate_data['month_exposition'] = estate_data['first_day_exposition'].dt.month.map(months)\n",
    "estate_data['year_exposition'] = estate_data['first_day_exposition'].dt.year"
   ]
  },
  {
   "cell_type": "markdown",
   "metadata": {},
   "source": [
    "#### Этаж квартиры (первый, последний, другой)."
   ]
  },
  {
   "cell_type": "code",
   "execution_count": 46,
   "metadata": {},
   "outputs": [],
   "source": [
    "def define_floor(row):\n",
    "    if row['floor'] == 1:\n",
    "        return 'первый'\n",
    "    elif row['floor'] == row['floors_total']:\n",
    "        return 'последний'\n",
    "    else:\n",
    "        return 'другой'"
   ]
  },
  {
   "cell_type": "code",
   "execution_count": 47,
   "metadata": {},
   "outputs": [],
   "source": [
    "estate_data['first_last_floor'] = estate_data.apply(define_floor, axis=1)"
   ]
  },
  {
   "cell_type": "markdown",
   "metadata": {},
   "source": [
    "#### Соотношение жилой и общей площади, а также отношение площади кухни к общей."
   ]
  },
  {
   "cell_type": "code",
   "execution_count": 48,
   "metadata": {},
   "outputs": [],
   "source": [
    "estate_data['living_area_ratio'] = estate_data['living_area'] / estate_data['total_area']\n",
    "estate_data['kitchen_area_ratio'] = estate_data['kitchen_area'] / estate_data['total_area']"
   ]
  },
  {
   "cell_type": "markdown",
   "metadata": {},
   "source": [
    "#### Разделим квартиры на 5 групп в зависимости от расстояния до центра города."
   ]
  },
  {
   "cell_type": "code",
   "execution_count": 49,
   "metadata": {},
   "outputs": [
    {
     "data": {
      "text/plain": [
       "(7736.4, 11905.0]     3624\n",
       "(11905.0, 14445.0]    3622\n",
       "(17230.6, 65968.0]    3619\n",
       "(180.999, 7736.4]     3619\n",
       "(14445.0, 17230.6]    3609\n",
       "Name: cityCenters_nearest, dtype: int64"
      ]
     },
     "execution_count": 49,
     "metadata": {},
     "output_type": "execute_result"
    }
   ],
   "source": [
    "pd.qcut(estate_data['cityCenters_nearest'].astype('float'), 5).value_counts()"
   ]
  },
  {
   "cell_type": "code",
   "execution_count": 50,
   "metadata": {},
   "outputs": [],
   "source": [
    "estate_data['cityCenters_quintiles'] =\\\n",
    "pd.cut(estate_data['cityCenters_nearest'], [180, 7736, 11905, 14445, 17230, 65968])"
   ]
  },
  {
   "cell_type": "code",
   "execution_count": 51,
   "metadata": {},
   "outputs": [
    {
     "data": {
      "text/html": [
       "<div>\n",
       "<style scoped>\n",
       "    .dataframe tbody tr th:only-of-type {\n",
       "        vertical-align: middle;\n",
       "    }\n",
       "\n",
       "    .dataframe tbody tr th {\n",
       "        vertical-align: top;\n",
       "    }\n",
       "\n",
       "    .dataframe thead th {\n",
       "        text-align: right;\n",
       "    }\n",
       "</style>\n",
       "<table border=\"1\" class=\"dataframe\">\n",
       "  <thead>\n",
       "    <tr style=\"text-align: right;\">\n",
       "      <th></th>\n",
       "      <th>total_images</th>\n",
       "      <th>last_price</th>\n",
       "      <th>total_area</th>\n",
       "      <th>first_day_exposition</th>\n",
       "      <th>rooms</th>\n",
       "      <th>ceiling_height</th>\n",
       "      <th>floors_total</th>\n",
       "      <th>living_area</th>\n",
       "      <th>floor</th>\n",
       "      <th>is_apartment</th>\n",
       "      <th>studio</th>\n",
       "      <th>open_plan</th>\n",
       "      <th>kitchen_area</th>\n",
       "      <th>balcony</th>\n",
       "      <th>locality_name</th>\n",
       "      <th>airports_nearest</th>\n",
       "      <th>cityCenters_nearest</th>\n",
       "      <th>parks_around3000</th>\n",
       "      <th>parks_nearest</th>\n",
       "      <th>ponds_around3000</th>\n",
       "      <th>ponds_nearest</th>\n",
       "      <th>days_exposition</th>\n",
       "      <th>sqm_price</th>\n",
       "      <th>weekday_exposition</th>\n",
       "      <th>month_exposition</th>\n",
       "      <th>year_exposition</th>\n",
       "      <th>first_last_floor</th>\n",
       "      <th>living_area_ratio</th>\n",
       "      <th>kitchen_area_ratio</th>\n",
       "      <th>cityCenters_quintiles</th>\n",
       "    </tr>\n",
       "  </thead>\n",
       "  <tbody>\n",
       "    <tr>\n",
       "      <td>0</td>\n",
       "      <td>20</td>\n",
       "      <td>13000000</td>\n",
       "      <td>108.0</td>\n",
       "      <td>2019-03-07</td>\n",
       "      <td>3</td>\n",
       "      <td>2.70</td>\n",
       "      <td>16</td>\n",
       "      <td>51.0</td>\n",
       "      <td>8</td>\n",
       "      <td>False</td>\n",
       "      <td>False</td>\n",
       "      <td>False</td>\n",
       "      <td>25.0</td>\n",
       "      <td>0</td>\n",
       "      <td>Санкт-Петербург</td>\n",
       "      <td>18863</td>\n",
       "      <td>16028</td>\n",
       "      <td>1</td>\n",
       "      <td>482</td>\n",
       "      <td>2</td>\n",
       "      <td>755</td>\n",
       "      <td>NaN</td>\n",
       "      <td>254902</td>\n",
       "      <td>четверг</td>\n",
       "      <td>март</td>\n",
       "      <td>2019</td>\n",
       "      <td>другой</td>\n",
       "      <td>0.472222</td>\n",
       "      <td>0.231481</td>\n",
       "      <td>(14445, 17230]</td>\n",
       "    </tr>\n",
       "    <tr>\n",
       "      <td>1</td>\n",
       "      <td>7</td>\n",
       "      <td>3350000</td>\n",
       "      <td>40.4</td>\n",
       "      <td>2018-12-04</td>\n",
       "      <td>1</td>\n",
       "      <td>2.65</td>\n",
       "      <td>11</td>\n",
       "      <td>18.6</td>\n",
       "      <td>1</td>\n",
       "      <td>False</td>\n",
       "      <td>False</td>\n",
       "      <td>False</td>\n",
       "      <td>11.0</td>\n",
       "      <td>2</td>\n",
       "      <td>Шушары</td>\n",
       "      <td>12817</td>\n",
       "      <td>18603</td>\n",
       "      <td>0</td>\n",
       "      <td>NaN</td>\n",
       "      <td>0</td>\n",
       "      <td>NaN</td>\n",
       "      <td>81</td>\n",
       "      <td>180108</td>\n",
       "      <td>вторник</td>\n",
       "      <td>декабрь</td>\n",
       "      <td>2018</td>\n",
       "      <td>первый</td>\n",
       "      <td>0.460396</td>\n",
       "      <td>0.272277</td>\n",
       "      <td>(17230, 65968]</td>\n",
       "    </tr>\n",
       "    <tr>\n",
       "      <td>2</td>\n",
       "      <td>10</td>\n",
       "      <td>5196000</td>\n",
       "      <td>56.0</td>\n",
       "      <td>2015-08-20</td>\n",
       "      <td>2</td>\n",
       "      <td>2.65</td>\n",
       "      <td>5</td>\n",
       "      <td>34.3</td>\n",
       "      <td>4</td>\n",
       "      <td>False</td>\n",
       "      <td>False</td>\n",
       "      <td>False</td>\n",
       "      <td>8.3</td>\n",
       "      <td>0</td>\n",
       "      <td>Санкт-Петербург</td>\n",
       "      <td>21741</td>\n",
       "      <td>13933</td>\n",
       "      <td>1</td>\n",
       "      <td>90</td>\n",
       "      <td>2</td>\n",
       "      <td>574</td>\n",
       "      <td>558</td>\n",
       "      <td>151487</td>\n",
       "      <td>четверг</td>\n",
       "      <td>август</td>\n",
       "      <td>2015</td>\n",
       "      <td>другой</td>\n",
       "      <td>0.612500</td>\n",
       "      <td>0.148214</td>\n",
       "      <td>(11905, 14445]</td>\n",
       "    </tr>\n",
       "    <tr>\n",
       "      <td>3</td>\n",
       "      <td>0</td>\n",
       "      <td>64900000</td>\n",
       "      <td>159.0</td>\n",
       "      <td>2015-07-24</td>\n",
       "      <td>3</td>\n",
       "      <td>2.65</td>\n",
       "      <td>14</td>\n",
       "      <td>NaN</td>\n",
       "      <td>9</td>\n",
       "      <td>False</td>\n",
       "      <td>False</td>\n",
       "      <td>False</td>\n",
       "      <td>NaN</td>\n",
       "      <td>0</td>\n",
       "      <td>Санкт-Петербург</td>\n",
       "      <td>28098</td>\n",
       "      <td>6800</td>\n",
       "      <td>2</td>\n",
       "      <td>84</td>\n",
       "      <td>3</td>\n",
       "      <td>234</td>\n",
       "      <td>424</td>\n",
       "      <td>NaN</td>\n",
       "      <td>пятница</td>\n",
       "      <td>июль</td>\n",
       "      <td>2015</td>\n",
       "      <td>другой</td>\n",
       "      <td>NaN</td>\n",
       "      <td>NaN</td>\n",
       "      <td>(180, 7736]</td>\n",
       "    </tr>\n",
       "    <tr>\n",
       "      <td>4</td>\n",
       "      <td>2</td>\n",
       "      <td>10000000</td>\n",
       "      <td>100.0</td>\n",
       "      <td>2018-06-19</td>\n",
       "      <td>2</td>\n",
       "      <td>3.03</td>\n",
       "      <td>14</td>\n",
       "      <td>32.0</td>\n",
       "      <td>13</td>\n",
       "      <td>False</td>\n",
       "      <td>False</td>\n",
       "      <td>False</td>\n",
       "      <td>41.0</td>\n",
       "      <td>0</td>\n",
       "      <td>Санкт-Петербург</td>\n",
       "      <td>31856</td>\n",
       "      <td>8098</td>\n",
       "      <td>2</td>\n",
       "      <td>112</td>\n",
       "      <td>1</td>\n",
       "      <td>48</td>\n",
       "      <td>121</td>\n",
       "      <td>312500</td>\n",
       "      <td>вторник</td>\n",
       "      <td>июнь</td>\n",
       "      <td>2018</td>\n",
       "      <td>другой</td>\n",
       "      <td>0.320000</td>\n",
       "      <td>0.410000</td>\n",
       "      <td>(7736, 11905]</td>\n",
       "    </tr>\n",
       "  </tbody>\n",
       "</table>\n",
       "</div>"
      ],
      "text/plain": [
       "   total_images  last_price  total_area first_day_exposition  rooms  \\\n",
       "0            20    13000000       108.0           2019-03-07      3   \n",
       "1             7     3350000        40.4           2018-12-04      1   \n",
       "2            10     5196000        56.0           2015-08-20      2   \n",
       "3             0    64900000       159.0           2015-07-24      3   \n",
       "4             2    10000000       100.0           2018-06-19      2   \n",
       "\n",
       "   ceiling_height  floors_total  living_area  floor  is_apartment  studio  \\\n",
       "0            2.70            16         51.0      8         False   False   \n",
       "1            2.65            11         18.6      1         False   False   \n",
       "2            2.65             5         34.3      4         False   False   \n",
       "3            2.65            14          NaN      9         False   False   \n",
       "4            3.03            14         32.0     13         False   False   \n",
       "\n",
       "   open_plan  kitchen_area  balcony    locality_name  airports_nearest  \\\n",
       "0      False          25.0        0  Санкт-Петербург             18863   \n",
       "1      False          11.0        2           Шушары             12817   \n",
       "2      False           8.3        0  Санкт-Петербург             21741   \n",
       "3      False           NaN        0  Санкт-Петербург             28098   \n",
       "4      False          41.0        0  Санкт-Петербург             31856   \n",
       "\n",
       "   cityCenters_nearest  parks_around3000  parks_nearest  ponds_around3000  \\\n",
       "0                16028                 1            482                 2   \n",
       "1                18603                 0            NaN                 0   \n",
       "2                13933                 1             90                 2   \n",
       "3                 6800                 2             84                 3   \n",
       "4                 8098                 2            112                 1   \n",
       "\n",
       "   ponds_nearest  days_exposition  sqm_price weekday_exposition  \\\n",
       "0            755              NaN     254902            четверг   \n",
       "1            NaN               81     180108            вторник   \n",
       "2            574              558     151487            четверг   \n",
       "3            234              424        NaN            пятница   \n",
       "4             48              121     312500            вторник   \n",
       "\n",
       "  month_exposition  year_exposition first_last_floor  living_area_ratio  \\\n",
       "0             март             2019           другой           0.472222   \n",
       "1          декабрь             2018           первый           0.460396   \n",
       "2           август             2015           другой           0.612500   \n",
       "3             июль             2015           другой                NaN   \n",
       "4             июнь             2018           другой           0.320000   \n",
       "\n",
       "   kitchen_area_ratio cityCenters_quintiles  \n",
       "0            0.231481        (14445, 17230]  \n",
       "1            0.272277        (17230, 65968]  \n",
       "2            0.148214        (11905, 14445]  \n",
       "3                 NaN           (180, 7736]  \n",
       "4            0.410000         (7736, 11905]  "
      ]
     },
     "execution_count": 51,
     "metadata": {},
     "output_type": "execute_result"
    }
   ],
   "source": [
    "estate_data.head()"
   ]
  },
  {
   "cell_type": "markdown",
   "metadata": {},
   "source": [
    "### Вывод"
   ]
  },
  {
   "cell_type": "markdown",
   "metadata": {},
   "source": [
    "В таблицу было добавлено 8 новых столбцов с ценой квадратного метра квартиры, днём недели, месяцем и годом публикации объявления, категорией этажа квартиры (первый, последний или другой), а также долями жилой площади и кухни и интервалами в зависимости от расстояния до центра города."
   ]
  },
  {
   "cell_type": "markdown",
   "metadata": {},
   "source": [
    "## <a id=\"exploratory_data_analysis\">Шаг 4. Исследовательский анализ данных</a>"
   ]
  },
  {
   "cell_type": "code",
   "execution_count": 52,
   "metadata": {},
   "outputs": [],
   "source": [
    "def define_bins(df, column): \n",
    "    if df[column].max() > 100:\n",
    "        return 50\n",
    "    elif df[column].max() > 500:\n",
    "        return 100\n",
    "    elif df[column].max() > 1000:\n",
    "        return 200\n",
    "    else:\n",
    "        return 20"
   ]
  },
  {
   "cell_type": "code",
   "execution_count": 53,
   "metadata": {},
   "outputs": [],
   "source": [
    "def draw_hist(df, column, single_figure=True, \\\n",
    "              std_upper_bound=True, upper_bound=None, draw_lines=True):\n",
    "    '''\n",
    "    Рисует гистограмму соответствующего столбца датафрейма.\n",
    "    \n",
    "    Аргументы:\n",
    "        df (pandas.core.frame.DataFrame): датафрейм.\n",
    "        \n",
    "        column (str): название столбца.\n",
    "        \n",
    "        single_figure (bool): построить одиночную гистограмму.\n",
    "        \n",
    "        std_upper_bound (bool): использовать стандартную правую границу range.\n",
    "        \n",
    "        upper_bound (float): нестандартная правая граница range.\n",
    "        \n",
    "        draw_lines (bool): нарисовать медиану, 5-ый и 95-ый перцентили.    \n",
    "    '''\n",
    "    \n",
    "    # Если гистограмма должна быть одиночной\n",
    "    if single_figure:\n",
    "        # Создаём фигуру\n",
    "        plt.figure(figsize=(15, 5))\n",
    "    # Если правая граница range стандартна\n",
    "    if std_upper_bound:\n",
    "        # Строим гистограмму\n",
    "        plt.hist(df[column],                               # по столбцу column датафрейма df\n",
    "                 range=(0, df[column].quantile(.99)),      # на отрезке от 0 до 99-го перцентиля\n",
    "                 bins=define_bins(df, column),             # с определённым числом корзин\n",
    "                 alpha=0.5,                                # прозрачностью 0.5\n",
    "                 ec='black',                               # с чёрным цветом обводки\n",
    "                 color='green')                            # с зелёным цветом графика\n",
    "    # Если же задана правая граница range\n",
    "    elif upper_bound is not None:\n",
    "        plt.hist(df[column], \n",
    "                 range=(0, upper_bound),                   # учитываем эту границу\n",
    "                 bins=define_bins(df, column), \n",
    "                 alpha=0.5, \n",
    "                 ec='black', \n",
    "                 color='green')\n",
    "    # Иначе строим гистограмму, не ограничивая её\n",
    "    else:\n",
    "        plt.hist(df[column],\n",
    "                 bins=define_bins(df, column), \n",
    "                 alpha=0.5, \n",
    "                 ec='black', \n",
    "                 color='green')\n",
    "    # Если максимальное значение Series больше 1 000 000\n",
    "    if df[column].max() > 1e+06:\n",
    "        # Измеряем ось х в миллионах\n",
    "        plt.ticklabel_format(axis='x', scilimits=(6, 6))\n",
    "    # Если необходимо нарисовать нарисовать медиану, 5-ый и 95-ый перцентили\n",
    "    if draw_lines:\n",
    "        plt.axvline(x=df[column].median(),                 # рисуем медиану\n",
    "                    linewidth=3,                           # с толщиной линий 3\n",
    "                    color='red',                           # красного цвета\n",
    "                    linestyle='--')                        # пунктирным стилем\n",
    "        plt.axvline(x=df[column].quantile(.05),            # рисуем 5-ый перцентиль\n",
    "                    linewidth=3, \n",
    "                    color='y',                             # тёмно-жёлтого цвета\n",
    "                    linestyle='--')\n",
    "        plt.axvline(x=df[column].quantile(.95),            # рисуем 95-ый перцентиль\n",
    "                    linewidth=3, \n",
    "                    color='y', \n",
    "                    linestyle='--')\n",
    "    # Рисуем сетку\n",
    "    plt.grid()"
   ]
  },
  {
   "cell_type": "code",
   "execution_count": 54,
   "metadata": {},
   "outputs": [],
   "source": [
    "def draw_boxplot(df, column):\n",
    "    '''\n",
    "    Рисует диаграмму размаха соответствующего столбца датафрейма.\n",
    "    \n",
    "    Аргументы:\n",
    "        df (pandas.core.frame.DataFrame): датафрейм.\n",
    "        \n",
    "        column (str): название столбца.  \n",
    "    '''\n",
    "    \n",
    "    # Создаём фигуру\n",
    "    plt.figure(figsize=(15, 5))\n",
    "    # Строим диаграмму размаха\n",
    "    plt.boxplot(df[column],                                # по столбцу column датафрейма df\n",
    "                notch=True,                                # формируем красивый \"разрезик\" в центре\n",
    "                sym='o',                                   # задаем символ выброса 'o'\n",
    "                vert=False,                                # располагаем горизонтально\n",
    "                widths=0.1,                                # задаем толщину линий\n",
    "                patch_artist=True)                         # применяем заливку\n",
    "    # Настроим параметры делений\n",
    "    plt.tick_params(which='major',                         # применим к основным делениям\n",
    "                    direction='inout',                     # нарисуем деления внутри и снаружи графика\n",
    "                    length=20,                             # длиной 20\n",
    "                    width=4,                               # шириной 4\n",
    "                    color='m',                             # цвета magenta\n",
    "                    pad=10,                                # с расстоянием между делением и подписью 10\n",
    "                    labelsize=15,                          # с размером подписи 15\n",
    "                    labelcolor='r')                        # с тёмно-красным цветом подписи\n",
    "    # Ограничим диграмму размаха справа 99-ым перцентилем\n",
    "    plt.xlim(0, df[column].quantile(.99))\n",
    "    # Если максимальное значение Series больше 1 000 000\n",
    "    if df[column].max() > 1e+06:\n",
    "        # Измеряем ось х в миллионах\n",
    "        plt.ticklabel_format(axis='x', scilimits=(6, 6))\n",
    "    plt.axvline(x=df[column].median(),                     # рисуем медиану\n",
    "                linewidth=3,                               # с толщиной линий 3\n",
    "                color='red',                               # красного цвета\n",
    "                linestyle='--')                            # пунктирным стилем\n",
    "    plt.axvline(x=df[column].quantile(.05),                # рисуем 5-ый перцентиль\n",
    "                linewidth=3, \n",
    "                color='y',                                 # тёмно-жёлтого цвета\n",
    "                linestyle='--')\n",
    "    plt.axvline(x=df[column].quantile(.95),                # рисуем 95-ый перцентиль\n",
    "                linewidth=3, \n",
    "                color='y', \n",
    "                linestyle='--')\n",
    "    # Рисуем сетку\n",
    "    plt.grid(axis='x')"
   ]
  },
  {
   "cell_type": "markdown",
   "metadata": {},
   "source": [
    "### <a id='area_price_rooms_ceiling_analysis'>Изучим гистограмму площадей квартир.</a>"
   ]
  },
  {
   "cell_type": "code",
   "execution_count": 55,
   "metadata": {},
   "outputs": [
    {
     "data": {
      "image/png": "[encoded data removed]",
      "text/plain": [
       "<Figure size 1080x360 with 1 Axes>"
      ]
     },
     "metadata": {
      "needs_background": "light"
     },
     "output_type": "display_data"
    },
    {
     "data": {
      "image/png": "[encoded data removed]",
      "text/plain": [
       "<Figure size 1080x360 with 1 Axes>"
      ]
     },
     "metadata": {
      "needs_background": "light"
     },
     "output_type": "display_data"
    },
    {
     "data": {
      "text/html": [
       "<div>\n",
       "<style scoped>\n",
       "    .dataframe tbody tr th:only-of-type {\n",
       "        vertical-align: middle;\n",
       "    }\n",
       "\n",
       "    .dataframe tbody tr th {\n",
       "        vertical-align: top;\n",
       "    }\n",
       "\n",
       "    .dataframe thead th {\n",
       "        text-align: right;\n",
       "    }\n",
       "</style>\n",
       "<table border=\"1\" class=\"dataframe\">\n",
       "  <thead>\n",
       "    <tr style=\"text-align: right;\">\n",
       "      <th></th>\n",
       "      <th>total_area</th>\n",
       "    </tr>\n",
       "  </thead>\n",
       "  <tbody>\n",
       "    <tr>\n",
       "      <td>count</td>\n",
       "      <td>23594.00</td>\n",
       "    </tr>\n",
       "    <tr>\n",
       "      <td>mean</td>\n",
       "      <td>60.34</td>\n",
       "    </tr>\n",
       "    <tr>\n",
       "      <td>std</td>\n",
       "      <td>35.65</td>\n",
       "    </tr>\n",
       "    <tr>\n",
       "      <td>min</td>\n",
       "      <td>12.00</td>\n",
       "    </tr>\n",
       "    <tr>\n",
       "      <td>25%</td>\n",
       "      <td>40.00</td>\n",
       "    </tr>\n",
       "    <tr>\n",
       "      <td>50%</td>\n",
       "      <td>52.00</td>\n",
       "    </tr>\n",
       "    <tr>\n",
       "      <td>75%</td>\n",
       "      <td>69.79</td>\n",
       "    </tr>\n",
       "    <tr>\n",
       "      <td>max</td>\n",
       "      <td>900.00</td>\n",
       "    </tr>\n",
       "  </tbody>\n",
       "</table>\n",
       "</div>"
      ],
      "text/plain": [
       "       total_area\n",
       "count    23594.00\n",
       "mean        60.34\n",
       "std         35.65\n",
       "min         12.00\n",
       "25%         40.00\n",
       "50%         52.00\n",
       "75%         69.79\n",
       "max        900.00"
      ]
     },
     "execution_count": 55,
     "metadata": {},
     "output_type": "execute_result"
    }
   ],
   "source": [
    "draw_hist(estate_data, 'total_area')\n",
    "plt.title('Гистограмма площадей квартир')\n",
    "plt.xlabel('Площадь квартиры, м²')\n",
    "plt.ylabel('Число квартир')\n",
    "draw_boxplot(estate_data, 'total_area')\n",
    "plt.title('Диаграмма размаха площадей квартир')\n",
    "plt.xlabel('Площадь квартиры, м²')\n",
    "plt.show()\n",
    "pd.DataFrame(estate_data['total_area'].describe().round(2))"
   ]
  },
  {
   "cell_type": "markdown",
   "metadata": {},
   "source": [
    "### Изучим гистограмму цен квартир."
   ]
  },
  {
   "cell_type": "code",
   "execution_count": 56,
   "metadata": {},
   "outputs": [
    {
     "data": {
      "image/png": "[encoded data removed]",
      "text/plain": [
       "<Figure size 1080x360 with 1 Axes>"
      ]
     },
     "metadata": {
      "needs_background": "light"
     },
     "output_type": "display_data"
    },
    {
     "data": {
      "image/png": "[encoded data removed]",
      "text/plain": [
       "<Figure size 1080x360 with 1 Axes>"
      ]
     },
     "metadata": {
      "needs_background": "light"
     },
     "output_type": "display_data"
    },
    {
     "data": {
      "text/html": [
       "<div>\n",
       "<style scoped>\n",
       "    .dataframe tbody tr th:only-of-type {\n",
       "        vertical-align: middle;\n",
       "    }\n",
       "\n",
       "    .dataframe tbody tr th {\n",
       "        vertical-align: top;\n",
       "    }\n",
       "\n",
       "    .dataframe thead th {\n",
       "        text-align: right;\n",
       "    }\n",
       "</style>\n",
       "<table border=\"1\" class=\"dataframe\">\n",
       "  <thead>\n",
       "    <tr style=\"text-align: right;\">\n",
       "      <th></th>\n",
       "      <th>last_price</th>\n",
       "    </tr>\n",
       "  </thead>\n",
       "  <tbody>\n",
       "    <tr>\n",
       "      <td>count</td>\n",
       "      <td>23594.0</td>\n",
       "    </tr>\n",
       "    <tr>\n",
       "      <td>mean</td>\n",
       "      <td>6541905.0</td>\n",
       "    </tr>\n",
       "    <tr>\n",
       "      <td>std</td>\n",
       "      <td>10905650.0</td>\n",
       "    </tr>\n",
       "    <tr>\n",
       "      <td>min</td>\n",
       "      <td>12190.0</td>\n",
       "    </tr>\n",
       "    <tr>\n",
       "      <td>25%</td>\n",
       "      <td>3400000.0</td>\n",
       "    </tr>\n",
       "    <tr>\n",
       "      <td>50%</td>\n",
       "      <td>4650000.0</td>\n",
       "    </tr>\n",
       "    <tr>\n",
       "      <td>75%</td>\n",
       "      <td>6800000.0</td>\n",
       "    </tr>\n",
       "    <tr>\n",
       "      <td>max</td>\n",
       "      <td>763000000.0</td>\n",
       "    </tr>\n",
       "  </tbody>\n",
       "</table>\n",
       "</div>"
      ],
      "text/plain": [
       "        last_price\n",
       "count      23594.0\n",
       "mean     6541905.0\n",
       "std     10905650.0\n",
       "min        12190.0\n",
       "25%      3400000.0\n",
       "50%      4650000.0\n",
       "75%      6800000.0\n",
       "max    763000000.0"
      ]
     },
     "execution_count": 56,
     "metadata": {},
     "output_type": "execute_result"
    }
   ],
   "source": [
    "draw_hist(estate_data, 'last_price')\n",
    "plt.title('Гистограмма цен квартир')\n",
    "plt.xlabel('Цена квартиры, млн')\n",
    "plt.ylabel('Число квартир')\n",
    "draw_boxplot(estate_data, 'last_price')\n",
    "plt.title('Диаграмма размаха цен квартир')\n",
    "plt.xlabel('Цена квартиры, млн')\n",
    "plt.show()\n",
    "pd.DataFrame(estate_data['last_price'].describe().round())"
   ]
  },
  {
   "cell_type": "markdown",
   "metadata": {},
   "source": [
    "### Изучим гистограмму числа комнат в квартирах."
   ]
  },
  {
   "cell_type": "code",
   "execution_count": 57,
   "metadata": {},
   "outputs": [
    {
     "data": {
      "image/png": "[encoded data removed]",
      "text/plain": [
       "<Figure size 1080x360 with 1 Axes>"
      ]
     },
     "metadata": {
      "needs_background": "light"
     },
     "output_type": "display_data"
    },
    {
     "data": {
      "image/png": "[encoded data removed]",
      "text/plain": [
       "<Figure size 1080x360 with 1 Axes>"
      ]
     },
     "metadata": {
      "needs_background": "light"
     },
     "output_type": "display_data"
    },
    {
     "data": {
      "text/html": [
       "<div>\n",
       "<style scoped>\n",
       "    .dataframe tbody tr th:only-of-type {\n",
       "        vertical-align: middle;\n",
       "    }\n",
       "\n",
       "    .dataframe tbody tr th {\n",
       "        vertical-align: top;\n",
       "    }\n",
       "\n",
       "    .dataframe thead th {\n",
       "        text-align: right;\n",
       "    }\n",
       "</style>\n",
       "<table border=\"1\" class=\"dataframe\">\n",
       "  <thead>\n",
       "    <tr style=\"text-align: right;\">\n",
       "      <th></th>\n",
       "      <th>rooms</th>\n",
       "    </tr>\n",
       "  </thead>\n",
       "  <tbody>\n",
       "    <tr>\n",
       "      <td>count</td>\n",
       "      <td>23594.00</td>\n",
       "    </tr>\n",
       "    <tr>\n",
       "      <td>mean</td>\n",
       "      <td>2.07</td>\n",
       "    </tr>\n",
       "    <tr>\n",
       "      <td>std</td>\n",
       "      <td>1.08</td>\n",
       "    </tr>\n",
       "    <tr>\n",
       "      <td>min</td>\n",
       "      <td>0.00</td>\n",
       "    </tr>\n",
       "    <tr>\n",
       "      <td>25%</td>\n",
       "      <td>1.00</td>\n",
       "    </tr>\n",
       "    <tr>\n",
       "      <td>50%</td>\n",
       "      <td>2.00</td>\n",
       "    </tr>\n",
       "    <tr>\n",
       "      <td>75%</td>\n",
       "      <td>3.00</td>\n",
       "    </tr>\n",
       "    <tr>\n",
       "      <td>max</td>\n",
       "      <td>19.00</td>\n",
       "    </tr>\n",
       "  </tbody>\n",
       "</table>\n",
       "</div>"
      ],
      "text/plain": [
       "          rooms\n",
       "count  23594.00\n",
       "mean       2.07\n",
       "std        1.08\n",
       "min        0.00\n",
       "25%        1.00\n",
       "50%        2.00\n",
       "75%        3.00\n",
       "max       19.00"
      ]
     },
     "execution_count": 57,
     "metadata": {},
     "output_type": "execute_result"
    }
   ],
   "source": [
    "draw_hist(estate_data, 'rooms')\n",
    "plt.title('Гистограмма числа комнат в квартирах')\n",
    "plt.xlabel('Число комнат')\n",
    "plt.ylabel('Число квартир')\n",
    "draw_boxplot(estate_data, 'rooms')\n",
    "plt.title('Диаграмма размаха числа комнат в квартирах')\n",
    "plt.xlabel('Число комнат')\n",
    "plt.show()\n",
    "pd.DataFrame(estate_data['rooms'].describe().round(2))"
   ]
  },
  {
   "cell_type": "markdown",
   "metadata": {},
   "source": [
    "### Изучим гистограмму высот потолков квартир."
   ]
  },
  {
   "cell_type": "code",
   "execution_count": 58,
   "metadata": {},
   "outputs": [
    {
     "data": {
      "image/png": "[encoded data removed]",
      "text/plain": [
       "<Figure size 1080x360 with 1 Axes>"
      ]
     },
     "metadata": {
      "needs_background": "light"
     },
     "output_type": "display_data"
    },
    {
     "data": {
      "image/png": "[encoded data removed]",
      "text/plain": [
       "<Figure size 1080x360 with 1 Axes>"
      ]
     },
     "metadata": {
      "needs_background": "light"
     },
     "output_type": "display_data"
    },
    {
     "data": {
      "text/html": [
       "<div>\n",
       "<style scoped>\n",
       "    .dataframe tbody tr th:only-of-type {\n",
       "        vertical-align: middle;\n",
       "    }\n",
       "\n",
       "    .dataframe tbody tr th {\n",
       "        vertical-align: top;\n",
       "    }\n",
       "\n",
       "    .dataframe thead th {\n",
       "        text-align: right;\n",
       "    }\n",
       "</style>\n",
       "<table border=\"1\" class=\"dataframe\">\n",
       "  <thead>\n",
       "    <tr style=\"text-align: right;\">\n",
       "      <th></th>\n",
       "      <th>ceiling_height</th>\n",
       "    </tr>\n",
       "  </thead>\n",
       "  <tbody>\n",
       "    <tr>\n",
       "      <td>count</td>\n",
       "      <td>23594.00</td>\n",
       "    </tr>\n",
       "    <tr>\n",
       "      <td>mean</td>\n",
       "      <td>2.72</td>\n",
       "    </tr>\n",
       "    <tr>\n",
       "      <td>std</td>\n",
       "      <td>0.99</td>\n",
       "    </tr>\n",
       "    <tr>\n",
       "      <td>min</td>\n",
       "      <td>1.00</td>\n",
       "    </tr>\n",
       "    <tr>\n",
       "      <td>25%</td>\n",
       "      <td>2.60</td>\n",
       "    </tr>\n",
       "    <tr>\n",
       "      <td>50%</td>\n",
       "      <td>2.65</td>\n",
       "    </tr>\n",
       "    <tr>\n",
       "      <td>75%</td>\n",
       "      <td>2.70</td>\n",
       "    </tr>\n",
       "    <tr>\n",
       "      <td>max</td>\n",
       "      <td>100.00</td>\n",
       "    </tr>\n",
       "  </tbody>\n",
       "</table>\n",
       "</div>"
      ],
      "text/plain": [
       "       ceiling_height\n",
       "count        23594.00\n",
       "mean             2.72\n",
       "std              0.99\n",
       "min              1.00\n",
       "25%              2.60\n",
       "50%              2.65\n",
       "75%              2.70\n",
       "max            100.00"
      ]
     },
     "execution_count": 58,
     "metadata": {},
     "output_type": "execute_result"
    }
   ],
   "source": [
    "draw_hist(estate_data, 'ceiling_height')\n",
    "plt.title('Гистограмма высот потолков квартир')\n",
    "plt.xlabel('Высота потолка, м')\n",
    "plt.ylabel('Число квартир')\n",
    "plt.xlim(2, 3.5)\n",
    "draw_boxplot(estate_data, 'ceiling_height')\n",
    "plt.title('Диаграмма размаха высот потолков квартир')\n",
    "plt.xlabel('Высота потолка, м')\n",
    "plt.xlim(2, 3.5)\n",
    "plt.show()\n",
    "pd.DataFrame(estate_data['ceiling_height'].describe().round(2))"
   ]
  },
  {
   "cell_type": "markdown",
   "metadata": {},
   "source": [
    "### Вывод"
   ]
  },
  {
   "cell_type": "markdown",
   "metadata": {},
   "source": [
    "Все рассмотренные параметры имеют редкие аномально высокие значения.\n",
    "\n",
    "1. На гистограмме площадей квартир наблюдается пик в районе 40-50 м², площадь редко превышает отметку в 150 м² или не достигает 25 м².\n",
    "2. На гистограмме цен квартир наблюдается пик в районе от 3 до 4.5 млн. Квартиры дороже 15 млн встречаются редко.\n",
    "3. В основном квартиры имеют 1-2 комнаты, чуть реже — 3. Квартира с более чем 5 комнатами — большая редкость.\n",
    "4. Высота потолков у большей части квартир варьируется от 2.5 до 3 м."
   ]
  },
  {
   "cell_type": "markdown",
   "metadata": {},
   "source": [
    "### <a id='days_exposition_analysis'>Изучим время продажи квартир.</a>"
   ]
  },
  {
   "cell_type": "code",
   "execution_count": 59,
   "metadata": {},
   "outputs": [
    {
     "data": {
      "image/png": "[encoded data removed]",
      "text/plain": [
       "<Figure size 1080x360 with 1 Axes>"
      ]
     },
     "metadata": {
      "needs_background": "light"
     },
     "output_type": "display_data"
    },
    {
     "data": {
      "text/html": [
       "<div>\n",
       "<style scoped>\n",
       "    .dataframe tbody tr th:only-of-type {\n",
       "        vertical-align: middle;\n",
       "    }\n",
       "\n",
       "    .dataframe tbody tr th {\n",
       "        vertical-align: top;\n",
       "    }\n",
       "\n",
       "    .dataframe thead th {\n",
       "        text-align: right;\n",
       "    }\n",
       "</style>\n",
       "<table border=\"1\" class=\"dataframe\">\n",
       "  <thead>\n",
       "    <tr style=\"text-align: right;\">\n",
       "      <th></th>\n",
       "      <th>days_exposition</th>\n",
       "    </tr>\n",
       "  </thead>\n",
       "  <tbody>\n",
       "    <tr>\n",
       "      <td>count</td>\n",
       "      <td>20423.00</td>\n",
       "    </tr>\n",
       "    <tr>\n",
       "      <td>mean</td>\n",
       "      <td>180.89</td>\n",
       "    </tr>\n",
       "    <tr>\n",
       "      <td>std</td>\n",
       "      <td>219.74</td>\n",
       "    </tr>\n",
       "    <tr>\n",
       "      <td>min</td>\n",
       "      <td>1.00</td>\n",
       "    </tr>\n",
       "    <tr>\n",
       "      <td>25%</td>\n",
       "      <td>45.00</td>\n",
       "    </tr>\n",
       "    <tr>\n",
       "      <td>50%</td>\n",
       "      <td>95.00</td>\n",
       "    </tr>\n",
       "    <tr>\n",
       "      <td>75%</td>\n",
       "      <td>232.00</td>\n",
       "    </tr>\n",
       "    <tr>\n",
       "      <td>max</td>\n",
       "      <td>1580.00</td>\n",
       "    </tr>\n",
       "  </tbody>\n",
       "</table>\n",
       "</div>"
      ],
      "text/plain": [
       "       days_exposition\n",
       "count         20423.00\n",
       "mean            180.89\n",
       "std             219.74\n",
       "min               1.00\n",
       "25%              45.00\n",
       "50%              95.00\n",
       "75%             232.00\n",
       "max            1580.00"
      ]
     },
     "execution_count": 59,
     "metadata": {},
     "output_type": "execute_result"
    }
   ],
   "source": [
    "draw_hist(estate_data, 'days_exposition')\n",
    "plt.title('Гистограмма времени продажи квартир')\n",
    "plt.xlabel('Время продажи, день')\n",
    "plt.ylabel('Число квартир')\n",
    "plt.show()\n",
    "pd.DataFrame(estate_data['days_exposition'].describe().round(2))"
   ]
  },
  {
   "cell_type": "markdown",
   "metadata": {},
   "source": [
    "#### Рассмотрим подозрительные пики до 100 дней."
   ]
  },
  {
   "cell_type": "code",
   "execution_count": 60,
   "metadata": {},
   "outputs": [
    {
     "data": {
      "image/png": "[encoded data removed]",
      "text/plain": [
       "<Figure size 1080x360 with 1 Axes>"
      ]
     },
     "metadata": {
      "needs_background": "light"
     },
     "output_type": "display_data"
    }
   ],
   "source": [
    "draw_hist(estate_data, 'days_exposition', std_upper_bound=False, upper_bound=100, draw_lines=False)\n",
    "plt.title('Гистограмма времени продажи квартир')\n",
    "plt.xlabel('Время продажи, день')\n",
    "plt.ylabel('Число квартир')\n",
    "plt.show()"
   ]
  },
  {
   "cell_type": "markdown",
   "metadata": {},
   "source": [
    "### Вывод"
   ]
  },
  {
   "cell_type": "markdown",
   "metadata": {},
   "source": [
    "Гистограмма времени продажи квартир напоминает график распределения Пуассона с выбивающимися пиками на 45 и 60 днях. Скорее всего, это связано со стандартными сроками размещения объявлений на платформе. В среднем продажа занимает 180 дней, но медианное значение меньше практически в 2 раза — 95 дней, что говорит о наличии выбросов в данных. Продажи продолжительностью свыше двух лет являются аномально долгими. В свою очередь квартиры, проданные быстрее, чем за рабочую неделю, также настораживают."
   ]
  },
  {
   "cell_type": "markdown",
   "metadata": {},
   "source": [
    "#### Посмотрим, какую долю составляют квартиры, у которых в норме находятся сразу все рассматриваемые параметры."
   ]
  },
  {
   "cell_type": "code",
   "execution_count": 61,
   "metadata": {},
   "outputs": [],
   "source": [
    "good_data = estate_data.query(\n",
    "    '15 <= total_area <= 200 and \\\n",
    "    1_000_000 <= last_price <= 15_000_000 and \\\n",
    "    rooms <= 5 and \\\n",
    "    2.5 <= ceiling_height <= 3.5 and \\\n",
    "    5 <= days_exposition <= 365*2')"
   ]
  },
  {
   "cell_type": "code",
   "execution_count": 62,
   "metadata": {},
   "outputs": [
    {
     "data": {
      "text/plain": [
       "0.77"
      ]
     },
     "execution_count": 62,
     "metadata": {},
     "output_type": "execute_result"
    }
   ],
   "source": [
    "round(len(good_data) / len(estate_data), 2)"
   ]
  },
  {
   "cell_type": "markdown",
   "metadata": {},
   "source": [
    "### Вывод"
   ]
  },
  {
   "cell_type": "markdown",
   "metadata": {},
   "source": [
    "Квартир с отсутствием аномалий сразу во всех параметрах оказалось 77%. Большинство данных сохранилось. Продолжим исследование, используя очищенные данные."
   ]
  },
  {
   "cell_type": "markdown",
   "metadata": {},
   "source": [
    "### <a id='price_corr_area_rooms_centre'>Изучим зависимость цены квартиры от её площади.</a>"
   ]
  },
  {
   "cell_type": "code",
   "execution_count": 63,
   "metadata": {},
   "outputs": [
    {
     "data": {
      "image/png": "[encoded data removed]",
      "text/plain": [
       "<Figure size 1080x360 with 2 Axes>"
      ]
     },
     "metadata": {
      "needs_background": "light"
     },
     "output_type": "display_data"
    }
   ],
   "source": [
    "plt.figure(figsize=(15, 5))\n",
    "\n",
    "plt.subplot(1, 2, 1)\n",
    "plt.scatter(x=good_data['total_area'], y=good_data['last_price'])\n",
    "plt.title('Зависимость цены квартиры от её площади')\n",
    "plt.xlabel('Площадь квартиры, м²')\n",
    "plt.ylabel('Цена квартиры, млн')\n",
    "plt.ticklabel_format(axis='y', scilimits=(6, 6))\n",
    "plt.grid()\n",
    "\n",
    "plt.subplot(1, 2, 2)\n",
    "plt.hexbin(x=good_data['total_area'], y=good_data['last_price'], gridsize=15)\n",
    "plt.title('Зависимость цены квартиры от её площади')\n",
    "plt.xlabel('Площадь квартиры, м²')\n",
    "plt.ylabel('Цена квартиры, млн')\n",
    "plt.ticklabel_format(axis='y', scilimits=(6, 6))\n",
    "plt.grid()\n",
    "\n",
    "plt.show()"
   ]
  },
  {
   "cell_type": "code",
   "execution_count": 64,
   "metadata": {},
   "outputs": [
    {
     "data": {
      "text/plain": [
       "0.75"
      ]
     },
     "execution_count": 64,
     "metadata": {},
     "output_type": "execute_result"
    }
   ],
   "source": [
    "good_data['last_price'].corr(good_data['total_area']).round(2)"
   ]
  },
  {
   "cell_type": "markdown",
   "metadata": {},
   "source": [
    "### Изучим зависимость цены квартиры от числа комнат."
   ]
  },
  {
   "cell_type": "code",
   "execution_count": 65,
   "metadata": {},
   "outputs": [],
   "source": [
    "def add_value_labels(ax, spacing=1):\n",
    "    '''\n",
    "    Добавляет метки над каждым столбцом столбчатой диаграммы.\n",
    "    \n",
    "    Аргументы:\n",
    "        ax (matplotlib.axes.Axes): объект matplotlib, содержащий оси \n",
    "        графика для аннотации.\n",
    "        \n",
    "        spacing (int): расстояние между метками и столбцами.\n",
    "    '''\n",
    "    \n",
    "    # Для каждого столбца: разместить метку\n",
    "    for rect in ax.patches:\n",
    "        # Получить X и Y координаты метки из прямоугольника\n",
    "        y_value = rect.get_height()\n",
    "        x_value = rect.get_x() + rect.get_width() / 2\n",
    "\n",
    "        # Количество точек между столбцом и меткой\n",
    "        space = spacing\n",
    "        # Вертикальное выравнивание для положительных значений\n",
    "        va = 'bottom'\n",
    "\n",
    "        # Если значение столбца отрицательное: разместить метку под столбцом\n",
    "        if y_value < 0:\n",
    "            # Инвертирование space, чтобы разместить метку под\n",
    "            space *= -1\n",
    "            # Вертикальное выравнивание\n",
    "            va = 'top'\n",
    "\n",
    "        # Использование как метки значения Y, делённого на миллион, \n",
    "        # в формате числа с одним десятичным знаком\n",
    "        label = '{:.1f}'.format(y_value / 1e+06)\n",
    "\n",
    "        # Создание аннотации\n",
    "        ax.annotate(\n",
    "            label,                          # используем label как метку\n",
    "            (x_value, y_value),             # помещаем метку на конец столбца\n",
    "            xytext=(0, space),              # сдвигаем метку по вертикали на space\n",
    "            textcoords='offset points',     # интерпретируем xytext как смещение в точках\n",
    "            ha='center',                    # центрируем метку горизотально\n",
    "            va=va)                          # устанавливаем вертикальное выравнивание\n",
    "                                            # в зависимости от знака y_value"
   ]
  },
  {
   "cell_type": "code",
   "execution_count": 66,
   "metadata": {},
   "outputs": [
    {
     "data": {
      "image/png": "[encoded data removed]",
      "text/plain": [
       "<Figure size 1080x432 with 1 Axes>"
      ]
     },
     "metadata": {
      "needs_background": "light"
     },
     "output_type": "display_data"
    }
   ],
   "source": [
    "ax = good_data.pivot_table(index='rooms', values='last_price', aggfunc='mean')\\\n",
    ".plot(figsize=(15, 6), kind='bar', legend=False)\n",
    "add_value_labels(ax)\n",
    "plt.title('Зависимость цены квартиры от числа комнат')\n",
    "plt.xlabel('Число комнат')\n",
    "plt.ylabel('Цена квартиры, млн')\n",
    "plt.ticklabel_format(axis='y', scilimits=(6, 6))\n",
    "plt.xticks(rotation=0)\n",
    "plt.show()"
   ]
  },
  {
   "cell_type": "code",
   "execution_count": 67,
   "metadata": {},
   "outputs": [
    {
     "data": {
      "text/plain": [
       "0.49"
      ]
     },
     "execution_count": 67,
     "metadata": {},
     "output_type": "execute_result"
    }
   ],
   "source": [
    "good_data['last_price'].corr(good_data['rooms']).round(2)"
   ]
  },
  {
   "cell_type": "markdown",
   "metadata": {},
   "source": [
    "### Изучим зависимость цены квартиры от удалённости от центра."
   ]
  },
  {
   "cell_type": "code",
   "execution_count": 68,
   "metadata": {},
   "outputs": [
    {
     "data": {
      "image/png": "[encoded data removed]",
      "text/plain": [
       "<Figure size 1080x432 with 1 Axes>"
      ]
     },
     "metadata": {
      "needs_background": "light"
     },
     "output_type": "display_data"
    }
   ],
   "source": [
    "ax = good_data.pivot_table(index='cityCenters_quintiles', values='last_price', aggfunc='mean')\\\n",
    ".plot(figsize=(15, 6), kind='bar', legend=False)\n",
    "add_value_labels(ax)\n",
    "plt.title('Зависимость цены квартиры от удалённости от центра')\n",
    "plt.xlabel('Расстояние до центра, м')\n",
    "plt.ylabel('Цена квартиры, млн')\n",
    "plt.ticklabel_format(axis='y', scilimits=(6, 6))\n",
    "plt.xticks(rotation=0)\n",
    "plt.show()"
   ]
  },
  {
   "cell_type": "code",
   "execution_count": 69,
   "metadata": {},
   "outputs": [
    {
     "data": {
      "text/plain": [
       "-0.35"
      ]
     },
     "execution_count": 69,
     "metadata": {},
     "output_type": "execute_result"
    }
   ],
   "source": [
    "good_data['last_price'].corr(good_data['cityCenters_nearest'].astype('float')).round(2)"
   ]
  },
  {
   "cell_type": "markdown",
   "metadata": {},
   "source": [
    "### Вывод"
   ]
  },
  {
   "cell_type": "markdown",
   "metadata": {},
   "source": [
    "Между ценой и площадью квартиры наблюдается немалая прямо пропорциональная зависимость. Это логично, ведь большие квартиры должны стоить дороже.\n",
    "\n",
    "Зависимость между ценой и числом комнат не очень сильная. Возможно, квартиры в отдалении от центра с большим числом комнат соизмеримы квартирам в центре с меньшим числом комнат. Также большее число комнат не всегда говорит о большей площади квартиры. Но в среднем, конечно, квартиры дорожают с увеличением числа комнат.\n",
    "\n",
    "Аналогичная ситуация с зависимостью между ценой и расстоянием до центра. Наблюдается совсем небольшая обратно пропорциональная зависимость. Однако квартиры на расстоянии до 8 км от центра в среднем стоят значительно дороже."
   ]
  },
  {
   "cell_type": "markdown",
   "metadata": {},
   "source": [
    "### <a id='price_corr_floor'>Изучим зависимость цены квартиры от категории этажа.</a>"
   ]
  },
  {
   "cell_type": "code",
   "execution_count": 70,
   "metadata": {},
   "outputs": [
    {
     "data": {
      "image/png": "[encoded data removed]",
      "text/plain": [
       "<Figure size 1080x432 with 1 Axes>"
      ]
     },
     "metadata": {
      "needs_background": "light"
     },
     "output_type": "display_data"
    }
   ],
   "source": [
    "ax = good_data.pivot_table(index='first_last_floor', values='last_price', aggfunc='mean')\\\n",
    ".sort_values(by='last_price').plot(figsize=(15, 6), kind='bar', legend=False)\n",
    "add_value_labels(ax)\n",
    "plt.title('Зависимость цены квартиры от категории этажа')\n",
    "plt.xlabel('Категория этажа')\n",
    "plt.ylabel('Цена квартиры, млн')\n",
    "plt.ticklabel_format(axis='y', scilimits=(6, 6))\n",
    "plt.xticks(rotation=0)\n",
    "plt.show()"
   ]
  },
  {
   "cell_type": "markdown",
   "metadata": {},
   "source": [
    "### Вывод"
   ]
  },
  {
   "cell_type": "markdown",
   "metadata": {},
   "source": [
    "Люди предпочитают не жить на первом этаже. В среднем такие квартиры оцениваются ниже. Ниже оцениваются и квартиры на последнем этаже, но не так значительно. Всё это вполне логично: за избежание дворового шума и протекающей крыши нужно платить."
   ]
  },
  {
   "cell_type": "markdown",
   "metadata": {},
   "source": [
    "### <a id='price_corr_first_exposition'>Изучим зависимость цены квартиры от дня недели размещения объявления.</a>"
   ]
  },
  {
   "cell_type": "code",
   "execution_count": 71,
   "metadata": {},
   "outputs": [
    {
     "data": {
      "image/png": "[encoded data removed]",
      "text/plain": [
       "<Figure size 1080x432 with 1 Axes>"
      ]
     },
     "metadata": {
      "needs_background": "light"
     },
     "output_type": "display_data"
    }
   ],
   "source": [
    "ax = good_data.pivot_table(index='weekday_exposition', values='last_price', aggfunc='mean')\\\n",
    ".sort_values(by='last_price').plot(figsize=(15, 6), kind='bar', legend=False)\n",
    "add_value_labels(ax)\n",
    "plt.title('Зависимость цены квартиры от дня недели размещения объявления')\n",
    "plt.xlabel('День недели')\n",
    "plt.ylabel('Цена квартиры, млн')\n",
    "plt.ticklabel_format(axis='y', scilimits=(6, 6))\n",
    "plt.xticks(rotation=0)\n",
    "plt.show()"
   ]
  },
  {
   "cell_type": "markdown",
   "metadata": {},
   "source": [
    "### Изучим зависимость цены квартиры от месяца размещения объявления."
   ]
  },
  {
   "cell_type": "code",
   "execution_count": 72,
   "metadata": {},
   "outputs": [
    {
     "data": {
      "image/png": "[encoded data removed]",
      "text/plain": [
       "<Figure size 1080x432 with 1 Axes>"
      ]
     },
     "metadata": {
      "needs_background": "light"
     },
     "output_type": "display_data"
    }
   ],
   "source": [
    "ax = good_data.pivot_table(index='month_exposition', values='last_price', aggfunc='mean')\\\n",
    ".sort_values(by='last_price').plot(figsize=(15, 6), kind='bar', legend=False)\n",
    "add_value_labels(ax)\n",
    "plt.title('Зависимость цены квартиры от месяца размещения объявления')\n",
    "plt.xlabel('Месяц')\n",
    "plt.ylabel('Цена квартиры, млн')\n",
    "plt.ticklabel_format(axis='y', scilimits=(6, 6))\n",
    "plt.xticks(rotation=0)\n",
    "plt.show()"
   ]
  },
  {
   "cell_type": "markdown",
   "metadata": {},
   "source": [
    "### Изучим зависимость цены квартиры от года размещения объявления."
   ]
  },
  {
   "cell_type": "code",
   "execution_count": 73,
   "metadata": {},
   "outputs": [
    {
     "data": {
      "image/png": "[encoded data removed]",
      "text/plain": [
       "<Figure size 1080x432 with 1 Axes>"
      ]
     },
     "metadata": {
      "needs_background": "light"
     },
     "output_type": "display_data"
    }
   ],
   "source": [
    "ax = good_data.pivot_table(index='year_exposition', values='last_price', aggfunc='mean')\\\n",
    ".plot(figsize=(15, 6), kind='bar', legend=False)\n",
    "add_value_labels(ax)\n",
    "plt.title('Зависимость цены квартиры от года размещения объявления')\n",
    "plt.xlabel('Год')\n",
    "plt.ylabel('Цена квартиры, млн')\n",
    "plt.ticklabel_format(axis='y', scilimits=(6, 6))\n",
    "plt.xticks(rotation=0)\n",
    "plt.show()"
   ]
  },
  {
   "cell_type": "markdown",
   "metadata": {},
   "source": [
    "Оказалось, что квартиры в 2014 году стоили на порядок дороже. С объявлениями о продаже этих квартир явно что-то не так."
   ]
  },
  {
   "cell_type": "markdown",
   "metadata": {},
   "source": [
    "#### Найдём долю объявлений, датированных 2014 годом."
   ]
  },
  {
   "cell_type": "code",
   "execution_count": 74,
   "metadata": {},
   "outputs": [
    {
     "data": {
      "text/plain": [
       "0.002"
      ]
     },
     "execution_count": 74,
     "metadata": {},
     "output_type": "execute_result"
    }
   ],
   "source": [
    "round(len(good_data.query('year_exposition == 2014')) / len(good_data), 3)"
   ]
  },
  {
   "cell_type": "markdown",
   "metadata": {},
   "source": [
    "К счастью, таких объявлений оказалось совсем мало. Смело избавимся от них."
   ]
  },
  {
   "cell_type": "code",
   "execution_count": 75,
   "metadata": {},
   "outputs": [],
   "source": [
    "good_data = good_data.query('year_exposition != 2014')"
   ]
  },
  {
   "cell_type": "markdown",
   "metadata": {},
   "source": [
    "### Вывод"
   ]
  },
  {
   "cell_type": "markdown",
   "metadata": {},
   "source": [
    "Зависимости цены квартиры от дня и месяца публикации объявления о её продаже нет. Зато оказалось, что квартиры в 2014 году стоили на порядок дороже, чем квартиры, выставленные на продажу в последующие 5 лет. Обратное ещё могло выглядеть логично, но с такой аномалией мириться не стоит. Ввиду того, что такие данные составляют лишь десятую часть процента, продолжим исследование уже без них."
   ]
  },
  {
   "cell_type": "markdown",
   "metadata": {},
   "source": [
    "#### Выберем 10 населённых пунктов с наибольшим числом объявлений."
   ]
  },
  {
   "cell_type": "code",
   "execution_count": 76,
   "metadata": {},
   "outputs": [],
   "source": [
    "top10_localities = good_data['locality_name'].value_counts()[:10].index.to_list()"
   ]
  },
  {
   "cell_type": "markdown",
   "metadata": {},
   "source": [
    "#### Посчитаем среднюю цену квадратного метра в этих населённых пунктах."
   ]
  },
  {
   "cell_type": "code",
   "execution_count": 77,
   "metadata": {},
   "outputs": [
    {
     "data": {
      "text/html": [
       "<div>\n",
       "<style scoped>\n",
       "    .dataframe tbody tr th:only-of-type {\n",
       "        vertical-align: middle;\n",
       "    }\n",
       "\n",
       "    .dataframe tbody tr th {\n",
       "        vertical-align: top;\n",
       "    }\n",
       "\n",
       "    .dataframe thead th {\n",
       "        text-align: right;\n",
       "    }\n",
       "</style>\n",
       "<table border=\"1\" class=\"dataframe\">\n",
       "  <thead>\n",
       "    <tr style=\"text-align: right;\">\n",
       "      <th></th>\n",
       "      <th>sqm_price</th>\n",
       "    </tr>\n",
       "    <tr>\n",
       "      <th>locality_name</th>\n",
       "      <th></th>\n",
       "    </tr>\n",
       "  </thead>\n",
       "  <tbody>\n",
       "    <tr>\n",
       "      <td>Парголово</td>\n",
       "      <td>200124</td>\n",
       "    </tr>\n",
       "    <tr>\n",
       "      <td>Санкт-Петербург</td>\n",
       "      <td>197581</td>\n",
       "    </tr>\n",
       "    <tr>\n",
       "      <td>Кудрово</td>\n",
       "      <td>193207</td>\n",
       "    </tr>\n",
       "    <tr>\n",
       "      <td>Пушкин</td>\n",
       "      <td>185514</td>\n",
       "    </tr>\n",
       "    <tr>\n",
       "      <td>Мурино</td>\n",
       "      <td>177785</td>\n",
       "    </tr>\n",
       "    <tr>\n",
       "      <td>Шушары</td>\n",
       "      <td>156013</td>\n",
       "    </tr>\n",
       "    <tr>\n",
       "      <td>Колпино</td>\n",
       "      <td>130586</td>\n",
       "    </tr>\n",
       "    <tr>\n",
       "      <td>Всеволожск</td>\n",
       "      <td>129578</td>\n",
       "    </tr>\n",
       "    <tr>\n",
       "      <td>Гатчина</td>\n",
       "      <td>120368</td>\n",
       "    </tr>\n",
       "    <tr>\n",
       "      <td>Выборг</td>\n",
       "      <td>96787</td>\n",
       "    </tr>\n",
       "  </tbody>\n",
       "</table>\n",
       "</div>"
      ],
      "text/plain": [
       "                 sqm_price\n",
       "locality_name             \n",
       "Парголово           200124\n",
       "Санкт-Петербург     197581\n",
       "Кудрово             193207\n",
       "Пушкин              185514\n",
       "Мурино              177785\n",
       "Шушары              156013\n",
       "Колпино             130586\n",
       "Всеволожск          129578\n",
       "Гатчина             120368\n",
       "Выборг               96787"
      ]
     },
     "execution_count": 77,
     "metadata": {},
     "output_type": "execute_result"
    }
   ],
   "source": [
    "(good_data\n",
    " .query('locality_name.isin(@top10_localities)')\n",
    " .pivot_table(index='locality_name', values='sqm_price', aggfunc='mean')\n",
    " .sort_values(by='sqm_price', ascending=False).round().astype('int')\n",
    ")"
   ]
  },
  {
   "cell_type": "markdown",
   "metadata": {},
   "source": [
    "### Вывод"
   ]
  },
  {
   "cell_type": "markdown",
   "metadata": {},
   "source": [
    "Из 10 населённых пунктов с наибольшим числом объявлений самыми дорогими в плане жилья оказались посёлок Парголово и, собственно говоря, сам Санкт-Петербург — около 200 тысяч за квадратный метр. В Выборге жильё дешевле более чем вчетверо — квадратный метр здесь стоит около 96-97 тысяч."
   ]
  },
  {
   "cell_type": "markdown",
   "metadata": {},
   "source": [
    "### <a id='spb_research'>Сравнительный анализ квартир в центре Санкт-Петербурга и в городе в целом</a>"
   ]
  },
  {
   "cell_type": "markdown",
   "metadata": {},
   "source": [
    "#### Выделим объявления о продаже квартир в Санкт-Петербурге и сохраним их в переменной *spb*."
   ]
  },
  {
   "cell_type": "code",
   "execution_count": 78,
   "metadata": {},
   "outputs": [],
   "source": [
    "spb = good_data.query('locality_name == \"Санкт-Петербург\"').reset_index(drop=True)"
   ]
  },
  {
   "cell_type": "markdown",
   "metadata": {},
   "source": [
    "#### Добавим столбец *cityCenters_nearest_km* с расстоянием до центра в километрах."
   ]
  },
  {
   "cell_type": "code",
   "execution_count": 79,
   "metadata": {},
   "outputs": [],
   "source": [
    "spb['cityCenters_nearest_km'] = (spb['cityCenters_nearest'] / 1000).round().astype('Int64')"
   ]
  },
  {
   "cell_type": "markdown",
   "metadata": {},
   "source": [
    "#### Построем график, показывающий, как цена зависит от удалённости от центра."
   ]
  },
  {
   "cell_type": "code",
   "execution_count": 80,
   "metadata": {},
   "outputs": [
    {
     "data": {
      "image/png": "[encoded data removed]",
      "text/plain": [
       "<Figure size 1080x432 with 1 Axes>"
      ]
     },
     "metadata": {
      "needs_background": "light"
     },
     "output_type": "display_data"
    }
   ],
   "source": [
    "ax = spb.pivot_table(index='cityCenters_nearest_km', values='last_price', aggfunc='mean')\\\n",
    ".plot(figsize=(15, 6), kind='bar', legend=False)\n",
    "add_value_labels(ax)\n",
    "plt.title('Зависимость цены квартиры в Санкт-Петербурге от удалённости от центра')\n",
    "plt.xlabel('Расстояние до центра, км')\n",
    "plt.ylabel('Цена квартиры, млн')\n",
    "plt.ticklabel_format(axis='y', scilimits=(6, 6))\n",
    "plt.xticks(rotation=0)\n",
    "plt.show()"
   ]
  },
  {
   "cell_type": "markdown",
   "metadata": {},
   "source": [
    "### Вывод"
   ]
  },
  {
   "cell_type": "markdown",
   "metadata": {},
   "source": [
    "График зависимости цены от удалённости от центра сильно падает на отметке в 8 км. Это уже было замечено в общем исследовании. Будем считать окрестность от 0 до 8 км центральной зоной. Наблюдается выбивающихся пик на 27-ом километре, где средняя стоимость квартиры достигает 8 млн."
   ]
  },
  {
   "cell_type": "code",
   "execution_count": 81,
   "metadata": {},
   "outputs": [
    {
     "data": {
      "text/html": [
       "<div>\n",
       "<style scoped>\n",
       "    .dataframe tbody tr th:only-of-type {\n",
       "        vertical-align: middle;\n",
       "    }\n",
       "\n",
       "    .dataframe tbody tr th {\n",
       "        vertical-align: top;\n",
       "    }\n",
       "\n",
       "    .dataframe thead th {\n",
       "        text-align: right;\n",
       "    }\n",
       "</style>\n",
       "<table border=\"1\" class=\"dataframe\">\n",
       "  <thead>\n",
       "    <tr style=\"text-align: right;\">\n",
       "      <th></th>\n",
       "      <th>total_images</th>\n",
       "      <th>last_price</th>\n",
       "      <th>total_area</th>\n",
       "      <th>first_day_exposition</th>\n",
       "      <th>rooms</th>\n",
       "      <th>ceiling_height</th>\n",
       "      <th>floors_total</th>\n",
       "      <th>living_area</th>\n",
       "      <th>floor</th>\n",
       "      <th>is_apartment</th>\n",
       "      <th>studio</th>\n",
       "      <th>open_plan</th>\n",
       "      <th>kitchen_area</th>\n",
       "      <th>balcony</th>\n",
       "      <th>locality_name</th>\n",
       "      <th>airports_nearest</th>\n",
       "      <th>cityCenters_nearest</th>\n",
       "      <th>parks_around3000</th>\n",
       "      <th>parks_nearest</th>\n",
       "      <th>ponds_around3000</th>\n",
       "      <th>ponds_nearest</th>\n",
       "      <th>days_exposition</th>\n",
       "      <th>sqm_price</th>\n",
       "      <th>weekday_exposition</th>\n",
       "      <th>month_exposition</th>\n",
       "      <th>year_exposition</th>\n",
       "      <th>first_last_floor</th>\n",
       "      <th>living_area_ratio</th>\n",
       "      <th>kitchen_area_ratio</th>\n",
       "      <th>cityCenters_quintiles</th>\n",
       "      <th>cityCenters_nearest_km</th>\n",
       "    </tr>\n",
       "  </thead>\n",
       "  <tbody>\n",
       "    <tr>\n",
       "      <td>332</td>\n",
       "      <td>13</td>\n",
       "      <td>14350000</td>\n",
       "      <td>74.0</td>\n",
       "      <td>2017-11-28</td>\n",
       "      <td>2</td>\n",
       "      <td>3.13</td>\n",
       "      <td>5</td>\n",
       "      <td>30.0</td>\n",
       "      <td>3</td>\n",
       "      <td>False</td>\n",
       "      <td>False</td>\n",
       "      <td>False</td>\n",
       "      <td>25.0</td>\n",
       "      <td>0</td>\n",
       "      <td>Санкт-Петербург</td>\n",
       "      <td>23888</td>\n",
       "      <td>27313</td>\n",
       "      <td>1</td>\n",
       "      <td>1496</td>\n",
       "      <td>0</td>\n",
       "      <td>NaN</td>\n",
       "      <td>128</td>\n",
       "      <td>478333</td>\n",
       "      <td>вторник</td>\n",
       "      <td>ноябрь</td>\n",
       "      <td>2017</td>\n",
       "      <td>другой</td>\n",
       "      <td>0.405405</td>\n",
       "      <td>0.337838</td>\n",
       "      <td>(17230, 65968]</td>\n",
       "      <td>27</td>\n",
       "    </tr>\n",
       "    <tr>\n",
       "      <td>2981</td>\n",
       "      <td>6</td>\n",
       "      <td>2250000</td>\n",
       "      <td>32.0</td>\n",
       "      <td>2018-02-27</td>\n",
       "      <td>1</td>\n",
       "      <td>2.65</td>\n",
       "      <td>2</td>\n",
       "      <td>16.5</td>\n",
       "      <td>2</td>\n",
       "      <td>False</td>\n",
       "      <td>False</td>\n",
       "      <td>False</td>\n",
       "      <td>7.0</td>\n",
       "      <td>0</td>\n",
       "      <td>Санкт-Петербург</td>\n",
       "      <td>24006</td>\n",
       "      <td>27431</td>\n",
       "      <td>0</td>\n",
       "      <td>NaN</td>\n",
       "      <td>0</td>\n",
       "      <td>NaN</td>\n",
       "      <td>178</td>\n",
       "      <td>136364</td>\n",
       "      <td>вторник</td>\n",
       "      <td>февраль</td>\n",
       "      <td>2018</td>\n",
       "      <td>последний</td>\n",
       "      <td>0.515625</td>\n",
       "      <td>0.218750</td>\n",
       "      <td>(17230, 65968]</td>\n",
       "      <td>27</td>\n",
       "    </tr>\n",
       "  </tbody>\n",
       "</table>\n",
       "</div>"
      ],
      "text/plain": [
       "      total_images  last_price  total_area first_day_exposition  rooms  \\\n",
       "332             13    14350000        74.0           2017-11-28      2   \n",
       "2981             6     2250000        32.0           2018-02-27      1   \n",
       "\n",
       "      ceiling_height  floors_total  living_area  floor  is_apartment  studio  \\\n",
       "332             3.13             5         30.0      3         False   False   \n",
       "2981            2.65             2         16.5      2         False   False   \n",
       "\n",
       "      open_plan  kitchen_area  balcony    locality_name  airports_nearest  \\\n",
       "332       False          25.0        0  Санкт-Петербург             23888   \n",
       "2981      False           7.0        0  Санкт-Петербург             24006   \n",
       "\n",
       "      cityCenters_nearest  parks_around3000  parks_nearest  ponds_around3000  \\\n",
       "332                 27313                 1           1496                 0   \n",
       "2981                27431                 0            NaN                 0   \n",
       "\n",
       "      ponds_nearest  days_exposition  sqm_price weekday_exposition  \\\n",
       "332             NaN              128     478333            вторник   \n",
       "2981            NaN              178     136364            вторник   \n",
       "\n",
       "     month_exposition  year_exposition first_last_floor  living_area_ratio  \\\n",
       "332            ноябрь             2017           другой           0.405405   \n",
       "2981          февраль             2018        последний           0.515625   \n",
       "\n",
       "      kitchen_area_ratio cityCenters_quintiles  cityCenters_nearest_km  \n",
       "332             0.337838        (17230, 65968]                      27  \n",
       "2981            0.218750        (17230, 65968]                      27  "
      ]
     },
     "execution_count": 81,
     "metadata": {},
     "output_type": "execute_result"
    }
   ],
   "source": [
    "spb.query('cityCenters_nearest_km == 27')"
   ]
  },
  {
   "cell_type": "markdown",
   "metadata": {},
   "source": [
    "Квартир в 27 километрах от центра оказалось всего лишь две, и одна из них действительно довольно дорогая. Отсюда и аномальный пик."
   ]
  },
  {
   "cell_type": "code",
   "execution_count": 82,
   "metadata": {},
   "outputs": [],
   "source": [
    "spb_center = spb.query('cityCenters_nearest_km < 9')"
   ]
  },
  {
   "cell_type": "code",
   "execution_count": 83,
   "metadata": {},
   "outputs": [],
   "source": [
    "def describe_pair(column):\n",
    "    return pd.DataFrame(spb_center[column].describe().round(2))\\\n",
    ".join(pd.DataFrame(spb[column].describe().round(2)), lsuffix='_center', rsuffix='_spb')"
   ]
  },
  {
   "cell_type": "markdown",
   "metadata": {},
   "source": [
    "#### Сравним гистограммы площади квартир в центральной зоне и во всём городе."
   ]
  },
  {
   "cell_type": "code",
   "execution_count": 84,
   "metadata": {},
   "outputs": [
    {
     "data": {
      "image/png": "[encoded data removed]",
      "text/plain": [
       "<Figure size 1080x360 with 2 Axes>"
      ]
     },
     "metadata": {
      "needs_background": "light"
     },
     "output_type": "display_data"
    },
    {
     "data": {
      "text/html": [
       "<div>\n",
       "<style scoped>\n",
       "    .dataframe tbody tr th:only-of-type {\n",
       "        vertical-align: middle;\n",
       "    }\n",
       "\n",
       "    .dataframe tbody tr th {\n",
       "        vertical-align: top;\n",
       "    }\n",
       "\n",
       "    .dataframe thead th {\n",
       "        text-align: right;\n",
       "    }\n",
       "</style>\n",
       "<table border=\"1\" class=\"dataframe\">\n",
       "  <thead>\n",
       "    <tr style=\"text-align: right;\">\n",
       "      <th></th>\n",
       "      <th>total_area_center</th>\n",
       "      <th>total_area_spb</th>\n",
       "    </tr>\n",
       "  </thead>\n",
       "  <tbody>\n",
       "    <tr>\n",
       "      <td>count</td>\n",
       "      <td>2447.00</td>\n",
       "      <td>11893.00</td>\n",
       "    </tr>\n",
       "    <tr>\n",
       "      <td>mean</td>\n",
       "      <td>68.06</td>\n",
       "      <td>55.85</td>\n",
       "    </tr>\n",
       "    <tr>\n",
       "      <td>std</td>\n",
       "      <td>25.71</td>\n",
       "      <td>21.51</td>\n",
       "    </tr>\n",
       "    <tr>\n",
       "      <td>min</td>\n",
       "      <td>15.50</td>\n",
       "      <td>15.00</td>\n",
       "    </tr>\n",
       "    <tr>\n",
       "      <td>25%</td>\n",
       "      <td>47.20</td>\n",
       "      <td>40.00</td>\n",
       "    </tr>\n",
       "    <tr>\n",
       "      <td>50%</td>\n",
       "      <td>64.70</td>\n",
       "      <td>50.70</td>\n",
       "    </tr>\n",
       "    <tr>\n",
       "      <td>75%</td>\n",
       "      <td>84.20</td>\n",
       "      <td>67.00</td>\n",
       "    </tr>\n",
       "    <tr>\n",
       "      <td>max</td>\n",
       "      <td>190.00</td>\n",
       "      <td>200.00</td>\n",
       "    </tr>\n",
       "  </tbody>\n",
       "</table>\n",
       "</div>"
      ],
      "text/plain": [
       "       total_area_center  total_area_spb\n",
       "count            2447.00        11893.00\n",
       "mean               68.06           55.85\n",
       "std                25.71           21.51\n",
       "min                15.50           15.00\n",
       "25%                47.20           40.00\n",
       "50%                64.70           50.70\n",
       "75%                84.20           67.00\n",
       "max               190.00          200.00"
      ]
     },
     "execution_count": 84,
     "metadata": {},
     "output_type": "execute_result"
    }
   ],
   "source": [
    "plt.figure(figsize=(15, 5))\n",
    "\n",
    "plt.subplot(1, 2, 1)\n",
    "draw_hist(spb_center, 'total_area', single_figure=False, std_upper_bound=False)\n",
    "plt.title('Гистограмма площади квартир в центре')\n",
    "plt.xlabel('Площадь квартиры, м²')\n",
    "plt.ylabel('Число квартир')\n",
    "\n",
    "plt.subplot(1, 2, 2)\n",
    "draw_hist(spb, 'total_area', single_figure=False, std_upper_bound=False)\n",
    "plt.title('Гистограмма площади квартир во всём городе')\n",
    "plt.xlabel('Площадь квартиры, м²')\n",
    "plt.ylabel('Число квартир')\n",
    "\n",
    "plt.show()\n",
    "\n",
    "describe_pair('total_area')"
   ]
  },
  {
   "cell_type": "markdown",
   "metadata": {},
   "source": [
    "#### Сравним гистограммы цены квартир."
   ]
  },
  {
   "cell_type": "code",
   "execution_count": 85,
   "metadata": {},
   "outputs": [
    {
     "data": {
      "image/png": "[encoded data removed]",
      "text/plain": [
       "<Figure size 1080x360 with 2 Axes>"
      ]
     },
     "metadata": {
      "needs_background": "light"
     },
     "output_type": "display_data"
    },
    {
     "data": {
      "text/html": [
       "<div>\n",
       "<style scoped>\n",
       "    .dataframe tbody tr th:only-of-type {\n",
       "        vertical-align: middle;\n",
       "    }\n",
       "\n",
       "    .dataframe tbody tr th {\n",
       "        vertical-align: top;\n",
       "    }\n",
       "\n",
       "    .dataframe thead th {\n",
       "        text-align: right;\n",
       "    }\n",
       "</style>\n",
       "<table border=\"1\" class=\"dataframe\">\n",
       "  <thead>\n",
       "    <tr style=\"text-align: right;\">\n",
       "      <th></th>\n",
       "      <th>last_price_center</th>\n",
       "      <th>last_price_spb</th>\n",
       "    </tr>\n",
       "  </thead>\n",
       "  <tbody>\n",
       "    <tr>\n",
       "      <td>count</td>\n",
       "      <td>2447.00</td>\n",
       "      <td>11893.00</td>\n",
       "    </tr>\n",
       "    <tr>\n",
       "      <td>mean</td>\n",
       "      <td>7806453.29</td>\n",
       "      <td>5852737.72</td>\n",
       "    </tr>\n",
       "    <tr>\n",
       "      <td>std</td>\n",
       "      <td>2851677.36</td>\n",
       "      <td>2547562.70</td>\n",
       "    </tr>\n",
       "    <tr>\n",
       "      <td>min</td>\n",
       "      <td>1800000.00</td>\n",
       "      <td>1200000.00</td>\n",
       "    </tr>\n",
       "    <tr>\n",
       "      <td>25%</td>\n",
       "      <td>5673525.00</td>\n",
       "      <td>4000000.00</td>\n",
       "    </tr>\n",
       "    <tr>\n",
       "      <td>50%</td>\n",
       "      <td>7400000.00</td>\n",
       "      <td>5100000.00</td>\n",
       "    </tr>\n",
       "    <tr>\n",
       "      <td>75%</td>\n",
       "      <td>9600000.00</td>\n",
       "      <td>6950000.00</td>\n",
       "    </tr>\n",
       "    <tr>\n",
       "      <td>max</td>\n",
       "      <td>15000000.00</td>\n",
       "      <td>15000000.00</td>\n",
       "    </tr>\n",
       "  </tbody>\n",
       "</table>\n",
       "</div>"
      ],
      "text/plain": [
       "       last_price_center  last_price_spb\n",
       "count            2447.00        11893.00\n",
       "mean          7806453.29      5852737.72\n",
       "std           2851677.36      2547562.70\n",
       "min           1800000.00      1200000.00\n",
       "25%           5673525.00      4000000.00\n",
       "50%           7400000.00      5100000.00\n",
       "75%           9600000.00      6950000.00\n",
       "max          15000000.00     15000000.00"
      ]
     },
     "execution_count": 85,
     "metadata": {},
     "output_type": "execute_result"
    }
   ],
   "source": [
    "plt.figure(figsize=(15, 5))\n",
    "\n",
    "plt.subplot(1, 2, 1)\n",
    "draw_hist(spb_center, 'last_price', single_figure=False, std_upper_bound=False)\n",
    "plt.title('Гистограмма цен квартир в центре')\n",
    "plt.xlabel('Цена квартиры, млн')\n",
    "plt.ylabel('Число квартир')\n",
    "\n",
    "plt.subplot(1, 2, 2)\n",
    "draw_hist(spb, 'last_price', single_figure=False, std_upper_bound=False)\n",
    "plt.title('Гистограмма цен квартир во всём городе')\n",
    "plt.xlabel('Цена квартиры, млн')\n",
    "plt.ylabel('Число квартир')\n",
    "\n",
    "plt.show()\n",
    "\n",
    "describe_pair('last_price')"
   ]
  },
  {
   "cell_type": "markdown",
   "metadata": {},
   "source": [
    "#### Сравним гистограммы числа комнат в квартире."
   ]
  },
  {
   "cell_type": "code",
   "execution_count": 86,
   "metadata": {},
   "outputs": [
    {
     "data": {
      "image/png": "[encoded data removed]",
      "text/plain": [
       "<Figure size 1080x360 with 2 Axes>"
      ]
     },
     "metadata": {
      "needs_background": "light"
     },
     "output_type": "display_data"
    },
    {
     "data": {
      "text/html": [
       "<div>\n",
       "<style scoped>\n",
       "    .dataframe tbody tr th:only-of-type {\n",
       "        vertical-align: middle;\n",
       "    }\n",
       "\n",
       "    .dataframe tbody tr th {\n",
       "        vertical-align: top;\n",
       "    }\n",
       "\n",
       "    .dataframe thead th {\n",
       "        text-align: right;\n",
       "    }\n",
       "</style>\n",
       "<table border=\"1\" class=\"dataframe\">\n",
       "  <thead>\n",
       "    <tr style=\"text-align: right;\">\n",
       "      <th></th>\n",
       "      <th>rooms_center</th>\n",
       "      <th>rooms_spb</th>\n",
       "    </tr>\n",
       "  </thead>\n",
       "  <tbody>\n",
       "    <tr>\n",
       "      <td>count</td>\n",
       "      <td>2447.00</td>\n",
       "      <td>11893.00</td>\n",
       "    </tr>\n",
       "    <tr>\n",
       "      <td>mean</td>\n",
       "      <td>2.35</td>\n",
       "      <td>1.99</td>\n",
       "    </tr>\n",
       "    <tr>\n",
       "      <td>std</td>\n",
       "      <td>1.03</td>\n",
       "      <td>0.94</td>\n",
       "    </tr>\n",
       "    <tr>\n",
       "      <td>min</td>\n",
       "      <td>0.00</td>\n",
       "      <td>0.00</td>\n",
       "    </tr>\n",
       "    <tr>\n",
       "      <td>25%</td>\n",
       "      <td>2.00</td>\n",
       "      <td>1.00</td>\n",
       "    </tr>\n",
       "    <tr>\n",
       "      <td>50%</td>\n",
       "      <td>2.00</td>\n",
       "      <td>2.00</td>\n",
       "    </tr>\n",
       "    <tr>\n",
       "      <td>75%</td>\n",
       "      <td>3.00</td>\n",
       "      <td>3.00</td>\n",
       "    </tr>\n",
       "    <tr>\n",
       "      <td>max</td>\n",
       "      <td>5.00</td>\n",
       "      <td>5.00</td>\n",
       "    </tr>\n",
       "  </tbody>\n",
       "</table>\n",
       "</div>"
      ],
      "text/plain": [
       "       rooms_center  rooms_spb\n",
       "count       2447.00   11893.00\n",
       "mean           2.35       1.99\n",
       "std            1.03       0.94\n",
       "min            0.00       0.00\n",
       "25%            2.00       1.00\n",
       "50%            2.00       2.00\n",
       "75%            3.00       3.00\n",
       "max            5.00       5.00"
      ]
     },
     "execution_count": 86,
     "metadata": {},
     "output_type": "execute_result"
    }
   ],
   "source": [
    "plt.figure(figsize=(15, 5))\n",
    "\n",
    "plt.subplot(1, 2, 1)\n",
    "draw_hist(spb_center, 'rooms', single_figure=False, std_upper_bound=False)\n",
    "plt.title('Гистограмма числа комнат квартир в центре')\n",
    "plt.xlabel('Число комнат')\n",
    "plt.ylabel('Число квартир')\n",
    "\n",
    "plt.subplot(1, 2, 2)\n",
    "draw_hist(spb, 'rooms', single_figure=False, std_upper_bound=False)\n",
    "plt.title('Гистограмма числа комнат квартир во всём городе')\n",
    "plt.xlabel('Число комнат')\n",
    "plt.ylabel('Число квартир')\n",
    "\n",
    "plt.show()\n",
    "\n",
    "describe_pair('rooms')"
   ]
  },
  {
   "cell_type": "markdown",
   "metadata": {},
   "source": [
    "#### Сравним гистограммы высоты потолков квартир."
   ]
  },
  {
   "cell_type": "code",
   "execution_count": 87,
   "metadata": {},
   "outputs": [
    {
     "data": {
      "image/png": "[encoded data removed]",
      "text/plain": [
       "<Figure size 1080x360 with 2 Axes>"
      ]
     },
     "metadata": {
      "needs_background": "light"
     },
     "output_type": "display_data"
    },
    {
     "data": {
      "text/html": [
       "<div>\n",
       "<style scoped>\n",
       "    .dataframe tbody tr th:only-of-type {\n",
       "        vertical-align: middle;\n",
       "    }\n",
       "\n",
       "    .dataframe tbody tr th {\n",
       "        vertical-align: top;\n",
       "    }\n",
       "\n",
       "    .dataframe thead th {\n",
       "        text-align: right;\n",
       "    }\n",
       "</style>\n",
       "<table border=\"1\" class=\"dataframe\">\n",
       "  <thead>\n",
       "    <tr style=\"text-align: right;\">\n",
       "      <th></th>\n",
       "      <th>ceiling_height_center</th>\n",
       "      <th>ceiling_height_spb</th>\n",
       "    </tr>\n",
       "  </thead>\n",
       "  <tbody>\n",
       "    <tr>\n",
       "      <td>count</td>\n",
       "      <td>2447.00</td>\n",
       "      <td>11893.00</td>\n",
       "    </tr>\n",
       "    <tr>\n",
       "      <td>mean</td>\n",
       "      <td>2.82</td>\n",
       "      <td>2.68</td>\n",
       "    </tr>\n",
       "    <tr>\n",
       "      <td>std</td>\n",
       "      <td>0.25</td>\n",
       "      <td>0.17</td>\n",
       "    </tr>\n",
       "    <tr>\n",
       "      <td>min</td>\n",
       "      <td>2.50</td>\n",
       "      <td>2.50</td>\n",
       "    </tr>\n",
       "    <tr>\n",
       "      <td>25%</td>\n",
       "      <td>2.65</td>\n",
       "      <td>2.60</td>\n",
       "    </tr>\n",
       "    <tr>\n",
       "      <td>50%</td>\n",
       "      <td>2.65</td>\n",
       "      <td>2.65</td>\n",
       "    </tr>\n",
       "    <tr>\n",
       "      <td>75%</td>\n",
       "      <td>3.00</td>\n",
       "      <td>2.70</td>\n",
       "    </tr>\n",
       "    <tr>\n",
       "      <td>max</td>\n",
       "      <td>3.50</td>\n",
       "      <td>3.50</td>\n",
       "    </tr>\n",
       "  </tbody>\n",
       "</table>\n",
       "</div>"
      ],
      "text/plain": [
       "       ceiling_height_center  ceiling_height_spb\n",
       "count                2447.00            11893.00\n",
       "mean                    2.82                2.68\n",
       "std                     0.25                0.17\n",
       "min                     2.50                2.50\n",
       "25%                     2.65                2.60\n",
       "50%                     2.65                2.65\n",
       "75%                     3.00                2.70\n",
       "max                     3.50                3.50"
      ]
     },
     "execution_count": 87,
     "metadata": {},
     "output_type": "execute_result"
    }
   ],
   "source": [
    "plt.figure(figsize=(15, 5))\n",
    "\n",
    "plt.subplot(1, 2, 1)\n",
    "draw_hist(spb_center, 'ceiling_height', single_figure=False, std_upper_bound=False)\n",
    "plt.title('Гистограмма высот потолков квартир в центре')\n",
    "plt.xlabel('Высота потолка, м')\n",
    "plt.ylabel('Число квартир')\n",
    "\n",
    "plt.subplot(1, 2, 2)\n",
    "draw_hist(spb, 'ceiling_height', single_figure=False, std_upper_bound=False)\n",
    "plt.title('Гистограмма высот потолков квартир во всём городе')\n",
    "plt.xlabel('Высота потолка, м')\n",
    "plt.ylabel('Число квартир')\n",
    "\n",
    "plt.show()\n",
    "\n",
    "describe_pair('ceiling_height')"
   ]
  },
  {
   "cell_type": "markdown",
   "metadata": {},
   "source": [
    "### Вывод"
   ]
  },
  {
   "cell_type": "markdown",
   "metadata": {},
   "source": [
    "В среднем площадь квартир в центральной зоне больше на 10-15 м², чем по городу в целом. Однако в центре достаточно разных квартир: гистограмма напоминает нормальное распределение с выбивающимся пиком в районе 40-50 м². По городу в целом квартиры в основном и имеют такую площадь.\n",
    "\n",
    "Цены на квартиры в центре также разнообразны и в среднем дороже на пару миллионов, чем по городу в целом. Пики на целых значениях говорят о том, что объявления чаще выставляют, округляя цену.\n",
    "\n",
    "Медианное значение числа комнат — 2 как в центре, так и по городу в целом. Однако в центре двух- и трёхкомнатных квартир больше, чем однокомнатных, тогда как во всём городе однушки превалируют над всеми остальными.\n",
    "\n",
    "Высота потолков стремится к стандартному значению в 2.6-2.8 м."
   ]
  },
  {
   "cell_type": "markdown",
   "metadata": {},
   "source": [
    "#### Сравним зависимости цены квартиры от её площади в центре Петербурга и во всём городе."
   ]
  },
  {
   "cell_type": "code",
   "execution_count": 88,
   "metadata": {},
   "outputs": [
    {
     "data": {
      "image/png": "[encoded data removed]",
      "text/plain": [
       "<Figure size 1224x720 with 4 Axes>"
      ]
     },
     "metadata": {
      "needs_background": "light"
     },
     "output_type": "display_data"
    }
   ],
   "source": [
    "plt.figure(figsize=(17, 10))\n",
    "\n",
    "plt.subplot(2, 2, 1)\n",
    "plt.scatter(x=spb_center['total_area'], y=spb_center['last_price'])\n",
    "plt.title('Зависимость цены квартиры от её площади в центре')\n",
    "plt.xlabel('Площадь квартиры, м²')\n",
    "plt.ylabel('Цена квартиры, млн')\n",
    "plt.ticklabel_format(axis='y', scilimits=(6, 6))\n",
    "plt.grid()\n",
    "\n",
    "plt.subplot(2, 2, 2)\n",
    "plt.scatter(x=spb['total_area'], y=spb['last_price'])\n",
    "plt.title('Зависимость цены квартиры от её площади во всём городе')\n",
    "plt.xlabel('Площадь квартиры, м²')\n",
    "plt.ylabel('Цена квартиры, млн')\n",
    "plt.ticklabel_format(axis='y', scilimits=(6, 6))\n",
    "plt.grid()\n",
    "\n",
    "plt.subplot(2, 2, 3)\n",
    "plt.hexbin(x=spb_center['total_area'], y=spb_center['last_price'], gridsize=15)\n",
    "plt.title('Зависимость цены квартиры от её площади в центре')\n",
    "plt.xlabel('Площадь квартиры, м²')\n",
    "plt.ylabel('Цена квартиры, млн')\n",
    "plt.ticklabel_format(axis='y', scilimits=(6, 6))\n",
    "plt.grid()\n",
    "\n",
    "plt.subplot(2, 2, 4)\n",
    "plt.hexbin(x=spb['total_area'], y=spb['last_price'], gridsize=15)\n",
    "plt.title('Зависимость цены квартиры от её площади во всём городе')\n",
    "plt.xlabel('Площадь квартиры, м²')\n",
    "plt.ylabel('Цена квартиры, млн')\n",
    "plt.ticklabel_format(axis='y', scilimits=(6, 6))\n",
    "plt.grid()\n",
    "\n",
    "plt.show()"
   ]
  },
  {
   "cell_type": "code",
   "execution_count": 89,
   "metadata": {},
   "outputs": [
    {
     "data": {
      "text/plain": [
       "0.72"
      ]
     },
     "execution_count": 89,
     "metadata": {},
     "output_type": "execute_result"
    }
   ],
   "source": [
    "spb_center['last_price'].corr(spb_center['total_area']).round(2)"
   ]
  },
  {
   "cell_type": "code",
   "execution_count": 90,
   "metadata": {},
   "outputs": [
    {
     "data": {
      "text/plain": [
       "0.82"
      ]
     },
     "execution_count": 90,
     "metadata": {},
     "output_type": "execute_result"
    }
   ],
   "source": [
    "spb['last_price'].corr(spb['total_area']).round(2)"
   ]
  },
  {
   "cell_type": "markdown",
   "metadata": {},
   "source": [
    "#### Зависимость цены от числа комнат."
   ]
  },
  {
   "cell_type": "code",
   "execution_count": 91,
   "metadata": {},
   "outputs": [
    {
     "data": {
      "image/png": "[encoded data removed]",
      "text/plain": [
       "<Figure size 1224x360 with 2 Axes>"
      ]
     },
     "metadata": {
      "needs_background": "light"
     },
     "output_type": "display_data"
    }
   ],
   "source": [
    "plt.figure(figsize=(17, 5))\n",
    "\n",
    "plt.subplot(1, 2, 1)\n",
    "spb_center.groupby('rooms')['last_price'].mean().plot(kind='bar', rot=True)\n",
    "plt.title('Зависимость цены квартиры от числа комнат в центре')\n",
    "plt.xlabel('Число комнат')\n",
    "plt.ylabel('Цена квартиры, млн')\n",
    "plt.ticklabel_format(axis='y', scilimits=(6, 6))\n",
    "plt.grid(axis='y')\n",
    "\n",
    "plt.subplot(1, 2, 2)\n",
    "spb.groupby('rooms')['last_price'].mean().plot(kind='bar', rot=True)\n",
    "plt.title('Зависимость цены квартиры от числа комнат во всём городе')\n",
    "plt.xlabel('Число комнат')\n",
    "plt.ylabel('Цена квартиры, млн')\n",
    "plt.ticklabel_format(axis='y', scilimits=(6, 6))\n",
    "plt.grid(axis='y')\n",
    "\n",
    "plt.show()"
   ]
  },
  {
   "cell_type": "code",
   "execution_count": 92,
   "metadata": {},
   "outputs": [
    {
     "data": {
      "text/plain": [
       "0.5"
      ]
     },
     "execution_count": 92,
     "metadata": {},
     "output_type": "execute_result"
    }
   ],
   "source": [
    "spb_center['last_price'].corr(spb_center['rooms']).round(2)"
   ]
  },
  {
   "cell_type": "code",
   "execution_count": 93,
   "metadata": {},
   "outputs": [
    {
     "data": {
      "text/plain": [
       "0.54"
      ]
     },
     "execution_count": 93,
     "metadata": {},
     "output_type": "execute_result"
    }
   ],
   "source": [
    "spb['last_price'].corr(spb['rooms']).round(2)"
   ]
  },
  {
   "cell_type": "markdown",
   "metadata": {},
   "source": [
    "#### Зависимость цены от удалённости от центра."
   ]
  },
  {
   "cell_type": "code",
   "execution_count": 94,
   "metadata": {},
   "outputs": [
    {
     "data": {
      "image/png": "[encoded data removed]",
      "text/plain": [
       "<Figure size 1440x360 with 2 Axes>"
      ]
     },
     "metadata": {
      "needs_background": "light"
     },
     "output_type": "display_data"
    }
   ],
   "source": [
    "plt.figure(figsize=(20, 5))\n",
    "\n",
    "plt.subplot(1, 2, 1)\n",
    "spb_center.groupby('cityCenters_nearest_km')['last_price'].mean().plot(kind='bar', rot=True)\n",
    "plt.title('Зависимость цены квартиры от удалённости от центра в центре')\n",
    "plt.xlabel('Расстояние до центра, км')\n",
    "plt.ylabel('Цена квартиры, млн')\n",
    "plt.ticklabel_format(axis='y', scilimits=(6, 6))\n",
    "plt.grid(axis='y')\n",
    "\n",
    "plt.subplot(1, 2, 2)\n",
    "spb.groupby('cityCenters_quintiles')['last_price'].mean().plot(kind='bar', rot=True)\n",
    "plt.title('Зависимость цены квартиры от удалённости от центра во всём городе')\n",
    "plt.xlabel('Расстояние до центра, м')\n",
    "plt.ylabel('Цена квартиры, млн')\n",
    "plt.ticklabel_format(axis='y', scilimits=(6, 6))\n",
    "plt.grid(axis='y')\n",
    "\n",
    "plt.show()"
   ]
  },
  {
   "cell_type": "code",
   "execution_count": 95,
   "metadata": {},
   "outputs": [
    {
     "data": {
      "text/plain": [
       "-0.18"
      ]
     },
     "execution_count": 95,
     "metadata": {},
     "output_type": "execute_result"
    }
   ],
   "source": [
    "spb_center['last_price'].corr(spb_center['cityCenters_nearest_km'].astype(float)).round(2)"
   ]
  },
  {
   "cell_type": "code",
   "execution_count": 96,
   "metadata": {},
   "outputs": [
    {
     "data": {
      "text/plain": [
       "-0.38"
      ]
     },
     "execution_count": 96,
     "metadata": {},
     "output_type": "execute_result"
    }
   ],
   "source": [
    "spb['last_price'].corr(spb['cityCenters_nearest_km'].astype(float)).round(2)"
   ]
  },
  {
   "cell_type": "markdown",
   "metadata": {},
   "source": [
    "### Вывод"
   ]
  },
  {
   "cell_type": "markdown",
   "metadata": {},
   "source": [
    "Сильная зависимость цены от площади наблюдается в обоих случаях и сильно выделяется по городу в целом.\n",
    "\n",
    "От числа комнат стоимость квартиры, как и в общем случае, зависит не очень сильно в целом, однако правило \"больше комнат — выше цена в среднем\" действует в обоих случаях.\n",
    "\n",
    "Удалённость от центральной точки не сильно беспокоит жителей центральной области Санкт-Петербурга, стремящихся установить цену на квартиру. Оно и понятно, ведь центр и есть центр. В свою очередь, зависимость остаётся относительно слабой даже по городу в целом, за исключением центральной зоны, как было замечено ранее."
   ]
  },
  {
   "cell_type": "markdown",
   "metadata": {},
   "source": [
    "#### Зависимость цены квартиры от категории этажа."
   ]
  },
  {
   "cell_type": "code",
   "execution_count": 97,
   "metadata": {},
   "outputs": [
    {
     "data": {
      "image/png": "[encoded data removed]",
      "text/plain": [
       "<Figure size 1296x360 with 2 Axes>"
      ]
     },
     "metadata": {
      "needs_background": "light"
     },
     "output_type": "display_data"
    }
   ],
   "source": [
    "plt.figure(figsize=(18, 5))\n",
    "\n",
    "plt.subplot(1, 2, 1)\n",
    "spb_center.groupby('first_last_floor')['last_price'].mean().sort_values().plot(kind='bar', rot=True)\n",
    "plt.title('Зависимость цены квартиры от категории этажа в центре')\n",
    "plt.xlabel('Категория этажа')\n",
    "plt.ylabel('Цена квартиры, млн')\n",
    "plt.ticklabel_format(axis='y', scilimits=(6, 6))\n",
    "plt.grid(axis='y')\n",
    "\n",
    "plt.subplot(1, 2, 2)\n",
    "spb.groupby('first_last_floor')['last_price'].mean().sort_values().plot(kind='bar', rot=True)\n",
    "plt.title('Зависимость цены квартиры от категории этажа во всём городе')\n",
    "plt.xlabel('Категория этажа')\n",
    "plt.ylabel('Цена квартиры, млн')\n",
    "plt.ticklabel_format(axis='y', scilimits=(6, 6))\n",
    "plt.grid(axis='y')\n",
    "\n",
    "plt.show()"
   ]
  },
  {
   "cell_type": "markdown",
   "metadata": {},
   "source": [
    "### Вывод"
   ]
  },
  {
   "cell_type": "markdown",
   "metadata": {},
   "source": [
    "Петербуржцы также не ценят квартиры на первом этаже. В среднем такие квартиры оцениваются ниже. В целом квартиры в центре стоят значительно дороже и придётся доплатить 1-2 млн, чтобы жить в центральной зоне."
   ]
  },
  {
   "cell_type": "markdown",
   "metadata": {},
   "source": [
    "#### Зависимость цены квартиры от дня недели размещения объявления."
   ]
  },
  {
   "cell_type": "code",
   "execution_count": 98,
   "metadata": {},
   "outputs": [
    {
     "data": {
      "image/png": "[encoded data removed]",
      "text/plain": [
       "<Figure size 1440x360 with 2 Axes>"
      ]
     },
     "metadata": {
      "needs_background": "light"
     },
     "output_type": "display_data"
    }
   ],
   "source": [
    "plt.figure(figsize=(20, 5))\n",
    "\n",
    "plt.subplot(1, 2, 1)\n",
    "spb_center.groupby('weekday_exposition')['last_price'].mean().sort_values().plot(kind='bar', rot=True)\n",
    "plt.title('Зависимость цены квартиры от дня недели размещения в центре')\n",
    "plt.xlabel('День недели')\n",
    "plt.ylabel('Цена квартиры, млн')\n",
    "plt.ticklabel_format(axis='y', scilimits=(6, 6))\n",
    "plt.grid(axis='y')\n",
    "\n",
    "plt.subplot(1, 2, 2)\n",
    "spb.groupby('weekday_exposition')['last_price'].mean().sort_values().plot(kind='bar', rot=True)\n",
    "plt.title('Зависимость цены квартиры от дня недели размещения во всём городе')\n",
    "plt.xlabel('День недели')\n",
    "plt.ylabel('Цена квартиры, млн')\n",
    "plt.ticklabel_format(axis='y', scilimits=(6, 6))\n",
    "plt.grid(axis='y')\n",
    "\n",
    "plt.show()"
   ]
  },
  {
   "cell_type": "markdown",
   "metadata": {},
   "source": [
    "#### Зависимость цены квартиры от месяца размещения объявления."
   ]
  },
  {
   "cell_type": "code",
   "execution_count": 99,
   "metadata": {},
   "outputs": [
    {
     "data": {
      "image/png": "[encoded data removed]",
      "text/plain": [
       "<Figure size 1368x360 with 2 Axes>"
      ]
     },
     "metadata": {
      "needs_background": "light"
     },
     "output_type": "display_data"
    }
   ],
   "source": [
    "plt.figure(figsize=(19, 5))\n",
    "\n",
    "plt.subplot(1, 2, 1)\n",
    "spb_center.groupby('month_exposition')['last_price'].mean().sort_values().plot(kind='bar')\n",
    "plt.title('Зависимость цены квартиры от месяца размещения в центре')\n",
    "plt.xlabel('Месяц')\n",
    "plt.ylabel('Цена квартиры, млн')\n",
    "plt.ticklabel_format(axis='y', scilimits=(6, 6))\n",
    "plt.xticks(rotation=45)\n",
    "plt.grid(axis='y')\n",
    "\n",
    "plt.subplot(1, 2, 2)\n",
    "spb.groupby('month_exposition')['last_price'].mean().sort_values().plot(kind='bar')\n",
    "plt.title('Зависимость цены квартиры от месяца размещения во всём городе')\n",
    "plt.xlabel('Месяц')\n",
    "plt.ylabel('Цена квартиры, млн')\n",
    "plt.ticklabel_format(axis='y', scilimits=(6, 6))\n",
    "plt.xticks(rotation=45)\n",
    "plt.grid(axis='y')\n",
    "\n",
    "plt.show()"
   ]
  },
  {
   "cell_type": "markdown",
   "metadata": {},
   "source": [
    "#### Зависимость цены квартиры от года размещения объявления."
   ]
  },
  {
   "cell_type": "code",
   "execution_count": 100,
   "metadata": {},
   "outputs": [
    {
     "data": {
      "image/png": "[encoded data removed]",
      "text/plain": [
       "<Figure size 1440x360 with 2 Axes>"
      ]
     },
     "metadata": {
      "needs_background": "light"
     },
     "output_type": "display_data"
    }
   ],
   "source": [
    "plt.figure(figsize=(20, 5))\n",
    "\n",
    "plt.subplot(1, 2, 1)\n",
    "spb_center.groupby('year_exposition')['last_price'].mean().plot(kind='bar', rot=True)\n",
    "plt.title('Зависимость цены квартиры от дня недели размещения в центре')\n",
    "plt.xlabel('Месяц')\n",
    "plt.ylabel('Цена квартиры, млн')\n",
    "plt.ticklabel_format(axis='y', scilimits=(6, 6))\n",
    "plt.grid(axis='y')\n",
    "\n",
    "plt.subplot(1, 2, 2)\n",
    "spb.groupby('year_exposition')['last_price'].mean().plot(kind='bar', rot=True)\n",
    "plt.title('Зависимость цены квартиры от дня недели размещения во всём городе')\n",
    "plt.xlabel('Месяц')\n",
    "plt.ylabel('Цена квартиры, млн')\n",
    "plt.ticklabel_format(axis='y', scilimits=(6, 6))\n",
    "plt.grid(axis='y')\n",
    "\n",
    "plt.show()"
   ]
  },
  {
   "cell_type": "markdown",
   "metadata": {},
   "source": [
    "### Вывод"
   ]
  },
  {
   "cell_type": "markdown",
   "metadata": {},
   "source": [
    "В центре города цены на квартиры повысились в 2016, держались довольно стабильно в 2017, а затем пошли на спад. По городу в целом, напротив, квартиры подешевели в 2016, после чего цена относительно стабилизировалась."
   ]
  },
  {
   "cell_type": "markdown",
   "metadata": {},
   "source": [
    "## <a id='general_conclusion'>Шаг 5. Общий вывод</a>"
   ]
  },
  {
   "cell_type": "markdown",
   "metadata": {},
   "source": [
    "На вход получен архив объявлений о продаже квартир в Санкт-Петербурге и соседних населённых пунктов за 6 лет. Оказалось, что данные находятся в неудобном для анализа состоянии:\n",
    "\n",
    "1. В данных имеются пропуски.\n",
    "2. В данных имеется несоответствие типов.\n",
    "3. Часть данных некорректна: квартиры с потолками от 1 до 100 метров, неправдоподобные площади квартир и расстояния до объектов, а также различное представление эквивалентных данных.\n",
    "\n",
    "Пропущенная информация в данных о числе парков и водоёмов в радиусе 3 км оказалась взаимосвязанной. Эти пропуски были заменены на 0, так как в них соответствующие данные о расстоянии до ближайшего парка или водоёма оказались больше 3 км. Пропущенные значения в столбцах с индикатором апартаментов и числом балконов были заменены на False и 0 соответственно ввиду логического умозаключения: данные не были введены, так как информации о их наличии нет. Часть пропусков в столбце с названием населённого пункта были заменены Санкт-Петербургом, если расстояние от них до центра оказывалось меньше условного радиуса города. Неуказанная высота потолков была заменена медианным значением. Пропуски в общем количестве этажей в доме, а также оставшиеся пропуски в столбце с названием населённого пункта были удалены, так как таких пропусков было незначительное количество. Информация, полученная автоматически на основе картографических данных, также оказалась неполной. Пропуски в данных о площади квартиры и её отдельных частей, остальных названий населённых пунктов и дней размещения не были обработаны.\n",
    "\n",
    "Все данные без пропусков, подразумевающие целочисленные элементы, были приведены к соответсвующему типу, а дата публикации объявлений была приведена к формату *datetime*.\n",
    "\n",
    "Все названия населённых пунктов были сокращены непосредственно до имён собственных. Буквы 'ё' в названиях населённых пунктов были заменены на буквы 'e'. В результате преобразования дубликатов образовано не было.\n",
    "\n",
    "В таблицу было добавлено 8 новых столбцов с ценой квадратного метра квартиры, днём недели, месяцем и годом публикации объявления, категорией этажа квартиры (первый, последний или другой), а также долями жилой площади и кухни и интервалами в зависимости от расстояния до центра города.\n",
    "\n",
    "Проведено исследование таких параметров, как площадь квартир, их цена, число комнат и высота потолков. Были получены следующие результаты:\n",
    "1. Наличие аномально высоких значений у всех параметров.\n",
    "2. На гистограмме площади квартир наблюдается пик в районе 40-50 м², площадь редко превышает отметку в 150 м² или не достигает 25 м².\n",
    "3. На гистограмме цен квартир наблюдается пик в районе от 3 до 4.5 млн. Квартиры дороже 15 млн встречаются редко.\n",
    "4. В основном квартиры имеют 1-2 комнаты, чуть реже — 3. Квартира с более чем 5 комнатами — большая редкость.\n",
    "5. Высота потолков у большей части квартир варьируется от 2.5 до 3 м.\n",
    "\n",
    "Исследование времени продажи квартир показало, что в среднем продажа занимает 180 дней, но медианное значение меньше практически в 2 раза — 95 дней, что говорит о наличии выбросов в данных. Продажи продолжительностью свыше двух лет являются аномально долгими. В свою очередь квартиры, проданные быстрее, чем за рабочую неделю, также настораживают. Также на гистограмме наблюдается выбивающиеся пики на 45 и 60 днях. Скорее всего, это связано со стандартными сроками размещения объявлений на платформе.\n",
    "\n",
    "Выяснилось, что квартир без аномальных параметров — 77%, что достаточно много. Было принято решение исследовать очищенные данные.\n",
    "\n",
    "Между ценой и площадью квартиры наблюдается немалая прямо пропорциональная зависимость. Это логично, ведь большие квартиры должны стоить дороже.\n",
    "\n",
    "Зависимость между ценой и числом комнат не очень сильная. Возможно, квартиры в отдалении от центра с большим числом комнат соизмеримы квартирам в центре с меньшим числом комнат. Также большее число комнат не всегда говорит о большей площади квартиры. Но в среднем, конечно, квартиры дорожают с увеличением числа комнат.\n",
    "\n",
    "Аналогичная ситуация с зависимостью между ценой и расстоянием до центра. Наблюдается совсем небольшая обратно пропорциональная зависимость. Однако квартиры на расстоянии до 8 км от центра в среднем стоят значительно дороже.\n",
    "\n",
    "Люди предпочитают не жить на первом этаже. В среднем такие квартиры оцениваются ниже. Ниже оцениваются и квартиры на последнем этаже, но не так значительно. Всё это вполне логично: за избежание дворового шума и протекающей крыши нужно платить.\n",
    "\n",
    "Зависимости цены квартиры от дня и месяца публикации объявления о её продаже нет. Зато оказалось, что квартиры в 2014 году стоили на порядок дороже, чем квартиры, выставленные на продажу в последующие 5 лет. Обратное ещё могло выглядеть логично, но с такой аномалией мириться не стоит. Ввиду того, что такие данные составляют лишь десятую часть процента, исследование было продолжено уже без них.\n",
    "\n",
    "Отдельно рассматривались 10 населённых пунктов с наибольшим числом объявлений. Самым дорогим в плане жилья оказался посёлок Парголово, а Санкт-Петербург с небольшим отставанием расположился на второй строчке. На 10 месте расположился Выборг, где жильё дешевле более чем вдвое.\n",
    "\n",
    "График зависимости цены от удалённости от центра сильно падает на отметке в 8 км. Это уже было замечено в общем исследовании. Будем считать окрестность от 0 до 8 км центральной зоной. Наблюдается выбивающихся пик на 27-ом километре, где средняя стоимость квартиры достигает 8 млн. Это произошло из-за того, что в 27 км от центра на продажу выставлено всего две квартиры, одна из которых действительно очень дорогая — она стоит более 14 млн.\n",
    "\n",
    "Был проведён сравнительный анализ параметров квартир в центре Петербурга и во всём городе в целом.\n",
    "\n",
    "В среднем площадь квартир в центральной зоне больше на 10-15 м², чем по городу в целом. Однако в центре достаточно разных квартир: гистограмма напоминает нормальное распределение с выбивающимся пиком в районе 40-50 м². По городу в целом квартиры в основном и имеют такую площадь.\n",
    "\n",
    "Цены на квартиры в центре также разнообразны и в среднем дороже на пару миллионов, чем по городу в целом. Пики на целых значениях говорят о том, что объявления чаще выставляют, округляя цену.\n",
    "\n",
    "Медианное значение числа комнат — 2 как в центре, так и по городу в целом. Однако в центре двух- и трёхкомнатных квартир больше, чем однокомнатных, тогда как во всём городе однушки превалируют над всеми остальными.\n",
    "\n",
    "Высота потолков стремится к стандартному значению в 2.6-2.8 м.\n",
    "\n",
    "Сильная зависимость цены от площади наблюдается в обоих случаях и сильно выделяется по городу в целом.\n",
    "\n",
    "От числа комнат стоимость квартиры, как и в общем случае, зависит не очень сильно в целом, однако правило \"больше комнат — выше цена в среднем\" действует в обоих случаях.\n",
    "\n",
    "Удалённость от центральной точки не сильно беспокоит жителей центральной области Санкт-Петербурга, стремящихся установить цену на квартиру. Оно и понятно, ведь центр и есть центр. В свою очередь, зависимость остаётся относительно слабой даже по городу в целом, за исключением центральной зоны, как было замечено ранее.\n",
    "\n",
    "Петербуржцы также не ценят квартиры на первом этаже. В среднем такие квартиры оцениваются ниже. В целом квартиры в центре стоят значительно дороже и придётся доплатить 1-2 млн, чтобы жить в центральной зоне.\n",
    "\n",
    "В центре города цены на квартиры повысились в 2016, держались довольно стабильно в 2017, а затем пошли на спад. По городу в целом, напротив, квартиры подешевели в 2016, после чего цена относительно стабилизировалась."
   ]
  }
 ],
 "metadata": {
  "kernelspec": {
   "display_name": "Python 3",
   "language": "python",
   "name": "python3"
  },
  "language_info": {
   "codemirror_mode": {
    "name": "ipython",
    "version": 3
   },
   "file_extension": ".py",
   "mimetype": "text/x-python",
   "name": "python",
   "nbconvert_exporter": "python",
   "pygments_lexer": "ipython3",
   "version": "3.8.5"
  },
  "toc": {
   "base_numbering": 1,
   "nav_menu": {},
   "number_sections": false,
   "sideBar": true,
   "skip_h1_title": false,
   "title_cell": "Table of Contents",
   "title_sidebar": "Contents",
   "toc_cell": false,
   "toc_position": {},
   "toc_section_display": true,
   "toc_window_display": false
  }
 },
 "nbformat": 4,
 "nbformat_minor": 2
}
