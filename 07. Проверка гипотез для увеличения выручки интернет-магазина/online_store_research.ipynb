{
 "cells": [
  {
   "cell_type": "markdown",
   "metadata": {},
   "source": [
    "# Проверка гипотез для увеличения выручки интернет-магазина"
   ]
  },
  {
   "cell_type": "markdown",
   "metadata": {},
   "source": [
    "## Задача"
   ]
  },
  {
   "cell_type": "markdown",
   "metadata": {},
   "source": [
    "Выполнить приоритизацию гипотез и проанализировать результаты A/B-теста. Заказчик: отдел маркетинга интернет-магазина."
   ]
  },
  {
   "cell_type": "markdown",
   "metadata": {},
   "source": [
    "## Описание данных"
   ]
  },
  {
   "cell_type": "markdown",
   "metadata": {},
   "source": [
    "Файл **hypothesis.csv**:\n",
    "- Hypothesis — краткое описание гипотезы;\n",
    "- Reach — охват пользователей по 10-балльной шкале;\n",
    "- Impact — влияние на пользователей по 10-балльной шкале;\n",
    "- Confidence — уверенность в гипотезе по 10-балльной шкале;\n",
    "- Efforts — затраты ресурсов на проверку гипотезы по 10-балльной шкале. Чем больше значение Efforts, тем дороже проверка гипотезы.\n",
    "\n",
    "Файл **orders.csv**:\n",
    "- transactionId — идентификатор заказа;\n",
    "- visitorId — идентификатор пользователя, совершившего заказ;\n",
    "- date — дата, когда был совершён заказ;\n",
    "- revenue — выручка заказа;\n",
    "- group — группа A/B-теста, в которую попал заказ.\n",
    "\n",
    "Файл **visitors.csv**:\n",
    "- date — дата;\n",
    "- group — группа A/B-теста;\n",
    "- visitors — количество пользователей в указанную дату в указанной группе A/B-теста"
   ]
  },
  {
   "cell_type": "markdown",
   "metadata": {},
   "source": [
    "## Оглавление"
   ]
  },
  {
   "cell_type": "markdown",
   "metadata": {},
   "source": [
    "### [Шаг 1. Приоритизация гипотез](#hypotheses_prioritization)\n",
    "### [Шаг 2. Анализ A/B-теста](#abtest_analysis)\n",
    "1. [Кумулятивная выручка по группам](#1)\n",
    "2. [Кумулятивный средний чек по группам](#2)\n",
    "3. [Относительное изменение кумулятивного среднего чека группы B к группе A](#3)\n",
    "4. [Кумулятивная конверсия по группам](#4)\n",
    "5. [Относительное изменение кумулятивной конверсии группы B к группе A](#5)\n",
    "6. [Количество заказов по пользователям](#6)\n",
    "7. [Граница для определения аномальных пользователей](#7)\n",
    "8. [Стоимость заказов](#8)\n",
    "9. [Граница для определения аномальных заказов](#9)\n",
    "10. [Статистическая значимость различий в конверсии между группами по «сырым» данным](#10)\n",
    "11. [Статистическая значимость различий в среднем чеке заказа между группами по «сырым» данным](#11)\n",
    "12. [Статистическая значимость различий в конверсии между группами по «очищенным» данным](#12)\n",
    "13. [Статистическая значимость различий в среднем чеке заказа между группами по «очищенным» данным](#13)\n",
    "14. [Решение по результатам теста](#14)"
   ]
  },
  {
   "cell_type": "markdown",
   "metadata": {},
   "source": [
    "## Ход работы"
   ]
  },
  {
   "cell_type": "markdown",
   "metadata": {},
   "source": [
    "#### Импортируем необходимые для работы библиотеки."
   ]
  },
  {
   "cell_type": "code",
   "execution_count": 1,
   "metadata": {},
   "outputs": [],
   "source": [
    "import pandas as pd\n",
    "import numpy as np\n",
    "from matplotlib import pyplot as plt\n",
    "from scipy import stats as st\n",
    "import datetime as dt\n",
    "import warnings\n",
    "warnings.simplefilter('ignore')\n",
    "pd.set_option('display.max_colwidth', 500)"
   ]
  },
  {
   "cell_type": "markdown",
   "metadata": {},
   "source": [
    "## <a id='hypotheses_prioritization'>Шаг 1. Приоритизация гипотез</a>"
   ]
  },
  {
   "cell_type": "code",
   "execution_count": 2,
   "metadata": {},
   "outputs": [],
   "source": [
    "def review_file(filename, title):\n",
    "    '''\n",
    "    Функция сохраняет данные в возвращаемую переменную\n",
    "    и выводит необходимую информацию на экран.\n",
    "    \n",
    "    Аргументы:\n",
    "        filename (str): путь к файлу.\n",
    "        \n",
    "        title (str): название таблицы.\n",
    "    '''\n",
    "    \n",
    "    table = pd.read_csv(filename)\n",
    "    \n",
    "    print('\\033[1m'\n",
    "          + f'Общая информация о таблице {title}:'\n",
    "          + '\\033[0m')\n",
    "    print()\n",
    "    table.info()\n",
    "    print()\n",
    "    \n",
    "    if table.shape[0] > 10:\n",
    "        print('\\033[1m' \n",
    "              + f'Первые 10 строк таблицы {title}:'\n",
    "              + '\\033[0m')\n",
    "        display(table.head(10))\n",
    "    else:\n",
    "        print('\\033[1m'\n",
    "              + f'Таблица {title}:'\n",
    "              + '\\033[0m')\n",
    "        display(table)\n",
    "        \n",
    "    print('\\033[1m'\n",
    "          + f'Количество пропусков в каждом столбце таблицы {title}:'\n",
    "          + '\\033[0m')\n",
    "    display(pd.DataFrame(table.isna().sum()))\n",
    "    \n",
    "    print('\\033[1m'\n",
    "          + f'Число дубликатов в таблице {title}: {table.duplicated().sum()}'\n",
    "          + '\\033[0m')\n",
    "    \n",
    "    return table"
   ]
  },
  {
   "cell_type": "markdown",
   "metadata": {},
   "source": [
    "#### Откроем файл *hypothesis.csv* и изучим его."
   ]
  },
  {
   "cell_type": "code",
   "execution_count": 3,
   "metadata": {},
   "outputs": [
    {
     "name": "stdout",
     "output_type": "stream",
     "text": [
      "\u001b[1mОбщая информация о таблице с гипотезами:\u001b[0m\n",
      "\n",
      "<class 'pandas.core.frame.DataFrame'>\n",
      "RangeIndex: 9 entries, 0 to 8\n",
      "Data columns (total 5 columns):\n",
      "Hypothesis    9 non-null object\n",
      "Reach         9 non-null int64\n",
      "Impact        9 non-null int64\n",
      "Confidence    9 non-null int64\n",
      "Efforts       9 non-null int64\n",
      "dtypes: int64(4), object(1)\n",
      "memory usage: 488.0+ bytes\n",
      "\n",
      "\u001b[1mТаблица с гипотезами:\u001b[0m\n"
     ]
    },
    {
     "data": {
      "text/html": [
       "<div>\n",
       "<style scoped>\n",
       "    .dataframe tbody tr th:only-of-type {\n",
       "        vertical-align: middle;\n",
       "    }\n",
       "\n",
       "    .dataframe tbody tr th {\n",
       "        vertical-align: top;\n",
       "    }\n",
       "\n",
       "    .dataframe thead th {\n",
       "        text-align: right;\n",
       "    }\n",
       "</style>\n",
       "<table border=\"1\" class=\"dataframe\">\n",
       "  <thead>\n",
       "    <tr style=\"text-align: right;\">\n",
       "      <th></th>\n",
       "      <th>Hypothesis</th>\n",
       "      <th>Reach</th>\n",
       "      <th>Impact</th>\n",
       "      <th>Confidence</th>\n",
       "      <th>Efforts</th>\n",
       "    </tr>\n",
       "  </thead>\n",
       "  <tbody>\n",
       "    <tr>\n",
       "      <td>0</td>\n",
       "      <td>Добавить два новых канала привлечения трафика, что позволит привлекать на 30% больше пользователей</td>\n",
       "      <td>3</td>\n",
       "      <td>10</td>\n",
       "      <td>8</td>\n",
       "      <td>6</td>\n",
       "    </tr>\n",
       "    <tr>\n",
       "      <td>1</td>\n",
       "      <td>Запустить собственную службу доставки, что сократит срок доставки заказов</td>\n",
       "      <td>2</td>\n",
       "      <td>5</td>\n",
       "      <td>4</td>\n",
       "      <td>10</td>\n",
       "    </tr>\n",
       "    <tr>\n",
       "      <td>2</td>\n",
       "      <td>Добавить блоки рекомендаций товаров на сайт интернет магазина, чтобы повысить конверсию и средний чек заказа</td>\n",
       "      <td>8</td>\n",
       "      <td>3</td>\n",
       "      <td>7</td>\n",
       "      <td>3</td>\n",
       "    </tr>\n",
       "    <tr>\n",
       "      <td>3</td>\n",
       "      <td>Изменить структура категорий, что увеличит конверсию, т.к. пользователи быстрее найдут нужный товар</td>\n",
       "      <td>8</td>\n",
       "      <td>3</td>\n",
       "      <td>3</td>\n",
       "      <td>8</td>\n",
       "    </tr>\n",
       "    <tr>\n",
       "      <td>4</td>\n",
       "      <td>Изменить цвет фона главной страницы, чтобы увеличить вовлеченность пользователей</td>\n",
       "      <td>3</td>\n",
       "      <td>1</td>\n",
       "      <td>1</td>\n",
       "      <td>1</td>\n",
       "    </tr>\n",
       "    <tr>\n",
       "      <td>5</td>\n",
       "      <td>Добавить страницу отзывов клиентов о магазине, что позволит увеличить количество заказов</td>\n",
       "      <td>3</td>\n",
       "      <td>2</td>\n",
       "      <td>2</td>\n",
       "      <td>3</td>\n",
       "    </tr>\n",
       "    <tr>\n",
       "      <td>6</td>\n",
       "      <td>Показать на главной странице баннеры с актуальными акциями и распродажами, чтобы увеличить конверсию</td>\n",
       "      <td>5</td>\n",
       "      <td>3</td>\n",
       "      <td>8</td>\n",
       "      <td>3</td>\n",
       "    </tr>\n",
       "    <tr>\n",
       "      <td>7</td>\n",
       "      <td>Добавить форму подписки на все основные страницы, чтобы собрать базу клиентов для email-рассылок</td>\n",
       "      <td>10</td>\n",
       "      <td>7</td>\n",
       "      <td>8</td>\n",
       "      <td>5</td>\n",
       "    </tr>\n",
       "    <tr>\n",
       "      <td>8</td>\n",
       "      <td>Запустить акцию, дающую скидку на товар в день рождения</td>\n",
       "      <td>1</td>\n",
       "      <td>9</td>\n",
       "      <td>9</td>\n",
       "      <td>5</td>\n",
       "    </tr>\n",
       "  </tbody>\n",
       "</table>\n",
       "</div>"
      ],
      "text/plain": [
       "                                                                                                     Hypothesis  \\\n",
       "0            Добавить два новых канала привлечения трафика, что позволит привлекать на 30% больше пользователей   \n",
       "1                                     Запустить собственную службу доставки, что сократит срок доставки заказов   \n",
       "2  Добавить блоки рекомендаций товаров на сайт интернет магазина, чтобы повысить конверсию и средний чек заказа   \n",
       "3           Изменить структура категорий, что увеличит конверсию, т.к. пользователи быстрее найдут нужный товар   \n",
       "4                              Изменить цвет фона главной страницы, чтобы увеличить вовлеченность пользователей   \n",
       "5                      Добавить страницу отзывов клиентов о магазине, что позволит увеличить количество заказов   \n",
       "6          Показать на главной странице баннеры с актуальными акциями и распродажами, чтобы увеличить конверсию   \n",
       "7              Добавить форму подписки на все основные страницы, чтобы собрать базу клиентов для email-рассылок   \n",
       "8                                                       Запустить акцию, дающую скидку на товар в день рождения   \n",
       "\n",
       "   Reach  Impact  Confidence  Efforts  \n",
       "0      3      10           8        6  \n",
       "1      2       5           4       10  \n",
       "2      8       3           7        3  \n",
       "3      8       3           3        8  \n",
       "4      3       1           1        1  \n",
       "5      3       2           2        3  \n",
       "6      5       3           8        3  \n",
       "7     10       7           8        5  \n",
       "8      1       9           9        5  "
      ]
     },
     "metadata": {},
     "output_type": "display_data"
    },
    {
     "name": "stdout",
     "output_type": "stream",
     "text": [
      "\u001b[1mКоличество пропусков в каждом столбце таблицы с гипотезами:\u001b[0m\n"
     ]
    },
    {
     "data": {
      "text/html": [
       "<div>\n",
       "<style scoped>\n",
       "    .dataframe tbody tr th:only-of-type {\n",
       "        vertical-align: middle;\n",
       "    }\n",
       "\n",
       "    .dataframe tbody tr th {\n",
       "        vertical-align: top;\n",
       "    }\n",
       "\n",
       "    .dataframe thead th {\n",
       "        text-align: right;\n",
       "    }\n",
       "</style>\n",
       "<table border=\"1\" class=\"dataframe\">\n",
       "  <thead>\n",
       "    <tr style=\"text-align: right;\">\n",
       "      <th></th>\n",
       "      <th>0</th>\n",
       "    </tr>\n",
       "  </thead>\n",
       "  <tbody>\n",
       "    <tr>\n",
       "      <td>Hypothesis</td>\n",
       "      <td>0</td>\n",
       "    </tr>\n",
       "    <tr>\n",
       "      <td>Reach</td>\n",
       "      <td>0</td>\n",
       "    </tr>\n",
       "    <tr>\n",
       "      <td>Impact</td>\n",
       "      <td>0</td>\n",
       "    </tr>\n",
       "    <tr>\n",
       "      <td>Confidence</td>\n",
       "      <td>0</td>\n",
       "    </tr>\n",
       "    <tr>\n",
       "      <td>Efforts</td>\n",
       "      <td>0</td>\n",
       "    </tr>\n",
       "  </tbody>\n",
       "</table>\n",
       "</div>"
      ],
      "text/plain": [
       "            0\n",
       "Hypothesis  0\n",
       "Reach       0\n",
       "Impact      0\n",
       "Confidence  0\n",
       "Efforts     0"
      ]
     },
     "metadata": {},
     "output_type": "display_data"
    },
    {
     "name": "stdout",
     "output_type": "stream",
     "text": [
      "\u001b[1mЧисло дубликатов в таблице с гипотезами: 0\u001b[0m\n"
     ]
    }
   ],
   "source": [
    "hypotheses = review_file('/datasets/hypothesis.csv', 'с гипотезами')"
   ]
  },
  {
   "cell_type": "markdown",
   "metadata": {},
   "source": [
    "В файле **hypothesis.csv** находятся 9 гипотез по увеличению выручки интернет-магазина с указанными параметрами *Reach*, *Impact*, *Confidence* и *Effort*. Пропусков и дубликатов нет. Типы данных корректны."
   ]
  },
  {
   "cell_type": "markdown",
   "metadata": {},
   "source": [
    "***"
   ]
  },
  {
   "cell_type": "markdown",
   "metadata": {},
   "source": [
    "#### Применим фреймворк *ICE* для приоритизации гипотез. Отсортируем их по убыванию приоритета."
   ]
  },
  {
   "cell_type": "markdown",
   "metadata": {},
   "source": [
    "$$ICE = \\frac{Impact \\cdot Confidence}{Efforts}$$"
   ]
  },
  {
   "cell_type": "code",
   "execution_count": 4,
   "metadata": {},
   "outputs": [
    {
     "data": {
      "text/html": [
       "<div>\n",
       "<style scoped>\n",
       "    .dataframe tbody tr th:only-of-type {\n",
       "        vertical-align: middle;\n",
       "    }\n",
       "\n",
       "    .dataframe tbody tr th {\n",
       "        vertical-align: top;\n",
       "    }\n",
       "\n",
       "    .dataframe thead th {\n",
       "        text-align: right;\n",
       "    }\n",
       "</style>\n",
       "<table border=\"1\" class=\"dataframe\">\n",
       "  <thead>\n",
       "    <tr style=\"text-align: right;\">\n",
       "      <th></th>\n",
       "      <th>Hypothesis</th>\n",
       "      <th>Reach</th>\n",
       "      <th>Impact</th>\n",
       "      <th>Confidence</th>\n",
       "      <th>Efforts</th>\n",
       "      <th>ICE</th>\n",
       "    </tr>\n",
       "  </thead>\n",
       "  <tbody>\n",
       "    <tr>\n",
       "      <td>8</td>\n",
       "      <td>Запустить акцию, дающую скидку на товар в день рождения</td>\n",
       "      <td>1</td>\n",
       "      <td>9</td>\n",
       "      <td>9</td>\n",
       "      <td>5</td>\n",
       "      <td>16.20</td>\n",
       "    </tr>\n",
       "    <tr>\n",
       "      <td>0</td>\n",
       "      <td>Добавить два новых канала привлечения трафика, что позволит привлекать на 30% больше пользователей</td>\n",
       "      <td>3</td>\n",
       "      <td>10</td>\n",
       "      <td>8</td>\n",
       "      <td>6</td>\n",
       "      <td>13.33</td>\n",
       "    </tr>\n",
       "    <tr>\n",
       "      <td>7</td>\n",
       "      <td>Добавить форму подписки на все основные страницы, чтобы собрать базу клиентов для email-рассылок</td>\n",
       "      <td>10</td>\n",
       "      <td>7</td>\n",
       "      <td>8</td>\n",
       "      <td>5</td>\n",
       "      <td>11.20</td>\n",
       "    </tr>\n",
       "    <tr>\n",
       "      <td>6</td>\n",
       "      <td>Показать на главной странице баннеры с актуальными акциями и распродажами, чтобы увеличить конверсию</td>\n",
       "      <td>5</td>\n",
       "      <td>3</td>\n",
       "      <td>8</td>\n",
       "      <td>3</td>\n",
       "      <td>8.00</td>\n",
       "    </tr>\n",
       "    <tr>\n",
       "      <td>2</td>\n",
       "      <td>Добавить блоки рекомендаций товаров на сайт интернет магазина, чтобы повысить конверсию и средний чек заказа</td>\n",
       "      <td>8</td>\n",
       "      <td>3</td>\n",
       "      <td>7</td>\n",
       "      <td>3</td>\n",
       "      <td>7.00</td>\n",
       "    </tr>\n",
       "    <tr>\n",
       "      <td>1</td>\n",
       "      <td>Запустить собственную службу доставки, что сократит срок доставки заказов</td>\n",
       "      <td>2</td>\n",
       "      <td>5</td>\n",
       "      <td>4</td>\n",
       "      <td>10</td>\n",
       "      <td>2.00</td>\n",
       "    </tr>\n",
       "    <tr>\n",
       "      <td>5</td>\n",
       "      <td>Добавить страницу отзывов клиентов о магазине, что позволит увеличить количество заказов</td>\n",
       "      <td>3</td>\n",
       "      <td>2</td>\n",
       "      <td>2</td>\n",
       "      <td>3</td>\n",
       "      <td>1.33</td>\n",
       "    </tr>\n",
       "    <tr>\n",
       "      <td>3</td>\n",
       "      <td>Изменить структура категорий, что увеличит конверсию, т.к. пользователи быстрее найдут нужный товар</td>\n",
       "      <td>8</td>\n",
       "      <td>3</td>\n",
       "      <td>3</td>\n",
       "      <td>8</td>\n",
       "      <td>1.12</td>\n",
       "    </tr>\n",
       "    <tr>\n",
       "      <td>4</td>\n",
       "      <td>Изменить цвет фона главной страницы, чтобы увеличить вовлеченность пользователей</td>\n",
       "      <td>3</td>\n",
       "      <td>1</td>\n",
       "      <td>1</td>\n",
       "      <td>1</td>\n",
       "      <td>1.00</td>\n",
       "    </tr>\n",
       "  </tbody>\n",
       "</table>\n",
       "</div>"
      ],
      "text/plain": [
       "                                                                                                     Hypothesis  \\\n",
       "8                                                       Запустить акцию, дающую скидку на товар в день рождения   \n",
       "0            Добавить два новых канала привлечения трафика, что позволит привлекать на 30% больше пользователей   \n",
       "7              Добавить форму подписки на все основные страницы, чтобы собрать базу клиентов для email-рассылок   \n",
       "6          Показать на главной странице баннеры с актуальными акциями и распродажами, чтобы увеличить конверсию   \n",
       "2  Добавить блоки рекомендаций товаров на сайт интернет магазина, чтобы повысить конверсию и средний чек заказа   \n",
       "1                                     Запустить собственную службу доставки, что сократит срок доставки заказов   \n",
       "5                      Добавить страницу отзывов клиентов о магазине, что позволит увеличить количество заказов   \n",
       "3           Изменить структура категорий, что увеличит конверсию, т.к. пользователи быстрее найдут нужный товар   \n",
       "4                              Изменить цвет фона главной страницы, чтобы увеличить вовлеченность пользователей   \n",
       "\n",
       "   Reach  Impact  Confidence  Efforts    ICE  \n",
       "8      1       9           9        5  16.20  \n",
       "0      3      10           8        6  13.33  \n",
       "7     10       7           8        5  11.20  \n",
       "6      5       3           8        3   8.00  \n",
       "2      8       3           7        3   7.00  \n",
       "1      2       5           4       10   2.00  \n",
       "5      3       2           2        3   1.33  \n",
       "3      8       3           3        8   1.12  \n",
       "4      3       1           1        1   1.00  "
      ]
     },
     "execution_count": 4,
     "metadata": {},
     "output_type": "execute_result"
    }
   ],
   "source": [
    "hypotheses['ICE'] = (\n",
    "    (hypotheses['Impact'] * hypotheses['Confidence'] / hypotheses['Efforts'])\n",
    "    .round(2)\n",
    ")\n",
    "\n",
    "hypotheses.sort_values(by='ICE', ascending=False)"
   ]
  },
  {
   "cell_type": "markdown",
   "metadata": {},
   "source": [
    "Наиболее перспективные гипотезы по *ICE*: 8, 0, 7, 6."
   ]
  },
  {
   "cell_type": "markdown",
   "metadata": {},
   "source": [
    "#### Применим фреймворк *RICE* для приоритизации гипотез. Отсортируем их по убыванию приоритета."
   ]
  },
  {
   "cell_type": "markdown",
   "metadata": {},
   "source": [
    "$$RICE = \\frac{Reach \\cdot Impact \\cdot Confidence}{Efforts}$$"
   ]
  },
  {
   "cell_type": "code",
   "execution_count": 5,
   "metadata": {},
   "outputs": [
    {
     "data": {
      "text/html": [
       "<div>\n",
       "<style scoped>\n",
       "    .dataframe tbody tr th:only-of-type {\n",
       "        vertical-align: middle;\n",
       "    }\n",
       "\n",
       "    .dataframe tbody tr th {\n",
       "        vertical-align: top;\n",
       "    }\n",
       "\n",
       "    .dataframe thead th {\n",
       "        text-align: right;\n",
       "    }\n",
       "</style>\n",
       "<table border=\"1\" class=\"dataframe\">\n",
       "  <thead>\n",
       "    <tr style=\"text-align: right;\">\n",
       "      <th></th>\n",
       "      <th>Hypothesis</th>\n",
       "      <th>Reach</th>\n",
       "      <th>Impact</th>\n",
       "      <th>Confidence</th>\n",
       "      <th>Efforts</th>\n",
       "      <th>ICE</th>\n",
       "      <th>RICE</th>\n",
       "    </tr>\n",
       "  </thead>\n",
       "  <tbody>\n",
       "    <tr>\n",
       "      <td>7</td>\n",
       "      <td>Добавить форму подписки на все основные страницы, чтобы собрать базу клиентов для email-рассылок</td>\n",
       "      <td>10</td>\n",
       "      <td>7</td>\n",
       "      <td>8</td>\n",
       "      <td>5</td>\n",
       "      <td>11.20</td>\n",
       "      <td>112.0</td>\n",
       "    </tr>\n",
       "    <tr>\n",
       "      <td>2</td>\n",
       "      <td>Добавить блоки рекомендаций товаров на сайт интернет магазина, чтобы повысить конверсию и средний чек заказа</td>\n",
       "      <td>8</td>\n",
       "      <td>3</td>\n",
       "      <td>7</td>\n",
       "      <td>3</td>\n",
       "      <td>7.00</td>\n",
       "      <td>56.0</td>\n",
       "    </tr>\n",
       "    <tr>\n",
       "      <td>0</td>\n",
       "      <td>Добавить два новых канала привлечения трафика, что позволит привлекать на 30% больше пользователей</td>\n",
       "      <td>3</td>\n",
       "      <td>10</td>\n",
       "      <td>8</td>\n",
       "      <td>6</td>\n",
       "      <td>13.33</td>\n",
       "      <td>40.0</td>\n",
       "    </tr>\n",
       "    <tr>\n",
       "      <td>6</td>\n",
       "      <td>Показать на главной странице баннеры с актуальными акциями и распродажами, чтобы увеличить конверсию</td>\n",
       "      <td>5</td>\n",
       "      <td>3</td>\n",
       "      <td>8</td>\n",
       "      <td>3</td>\n",
       "      <td>8.00</td>\n",
       "      <td>40.0</td>\n",
       "    </tr>\n",
       "    <tr>\n",
       "      <td>8</td>\n",
       "      <td>Запустить акцию, дающую скидку на товар в день рождения</td>\n",
       "      <td>1</td>\n",
       "      <td>9</td>\n",
       "      <td>9</td>\n",
       "      <td>5</td>\n",
       "      <td>16.20</td>\n",
       "      <td>16.2</td>\n",
       "    </tr>\n",
       "    <tr>\n",
       "      <td>3</td>\n",
       "      <td>Изменить структура категорий, что увеличит конверсию, т.к. пользователи быстрее найдут нужный товар</td>\n",
       "      <td>8</td>\n",
       "      <td>3</td>\n",
       "      <td>3</td>\n",
       "      <td>8</td>\n",
       "      <td>1.12</td>\n",
       "      <td>9.0</td>\n",
       "    </tr>\n",
       "    <tr>\n",
       "      <td>1</td>\n",
       "      <td>Запустить собственную службу доставки, что сократит срок доставки заказов</td>\n",
       "      <td>2</td>\n",
       "      <td>5</td>\n",
       "      <td>4</td>\n",
       "      <td>10</td>\n",
       "      <td>2.00</td>\n",
       "      <td>4.0</td>\n",
       "    </tr>\n",
       "    <tr>\n",
       "      <td>5</td>\n",
       "      <td>Добавить страницу отзывов клиентов о магазине, что позволит увеличить количество заказов</td>\n",
       "      <td>3</td>\n",
       "      <td>2</td>\n",
       "      <td>2</td>\n",
       "      <td>3</td>\n",
       "      <td>1.33</td>\n",
       "      <td>4.0</td>\n",
       "    </tr>\n",
       "    <tr>\n",
       "      <td>4</td>\n",
       "      <td>Изменить цвет фона главной страницы, чтобы увеличить вовлеченность пользователей</td>\n",
       "      <td>3</td>\n",
       "      <td>1</td>\n",
       "      <td>1</td>\n",
       "      <td>1</td>\n",
       "      <td>1.00</td>\n",
       "      <td>3.0</td>\n",
       "    </tr>\n",
       "  </tbody>\n",
       "</table>\n",
       "</div>"
      ],
      "text/plain": [
       "                                                                                                     Hypothesis  \\\n",
       "7              Добавить форму подписки на все основные страницы, чтобы собрать базу клиентов для email-рассылок   \n",
       "2  Добавить блоки рекомендаций товаров на сайт интернет магазина, чтобы повысить конверсию и средний чек заказа   \n",
       "0            Добавить два новых канала привлечения трафика, что позволит привлекать на 30% больше пользователей   \n",
       "6          Показать на главной странице баннеры с актуальными акциями и распродажами, чтобы увеличить конверсию   \n",
       "8                                                       Запустить акцию, дающую скидку на товар в день рождения   \n",
       "3           Изменить структура категорий, что увеличит конверсию, т.к. пользователи быстрее найдут нужный товар   \n",
       "1                                     Запустить собственную службу доставки, что сократит срок доставки заказов   \n",
       "5                      Добавить страницу отзывов клиентов о магазине, что позволит увеличить количество заказов   \n",
       "4                              Изменить цвет фона главной страницы, чтобы увеличить вовлеченность пользователей   \n",
       "\n",
       "   Reach  Impact  Confidence  Efforts    ICE   RICE  \n",
       "7     10       7           8        5  11.20  112.0  \n",
       "2      8       3           7        3   7.00   56.0  \n",
       "0      3      10           8        6  13.33   40.0  \n",
       "6      5       3           8        3   8.00   40.0  \n",
       "8      1       9           9        5  16.20   16.2  \n",
       "3      8       3           3        8   1.12    9.0  \n",
       "1      2       5           4       10   2.00    4.0  \n",
       "5      3       2           2        3   1.33    4.0  \n",
       "4      3       1           1        1   1.00    3.0  "
      ]
     },
     "execution_count": 5,
     "metadata": {},
     "output_type": "execute_result"
    }
   ],
   "source": [
    "hypotheses['RICE'] = (\n",
    "    (hypotheses['Reach'] * hypotheses['Impact'] * hypotheses['Confidence'] \n",
    "     / hypotheses['Efforts'])\n",
    "    .round(2)\n",
    ")\n",
    "\n",
    "hypotheses.sort_values(by='RICE', ascending=False)"
   ]
  },
  {
   "cell_type": "markdown",
   "metadata": {},
   "source": [
    "Наиболее перспективные гипотезы по *RICE*: 7, 2, 0, 6. "
   ]
  },
  {
   "cell_type": "markdown",
   "metadata": {},
   "source": [
    "Гипотеза о скидочной акции в день рождения имеет очень низких охват пользователей, ведь, «к сожаленью, день рожденья только раз в году», в то время как гипотеза о сборе базы клиентов для email-рассылок имеет максимальный охват, хотя и без его учёта была одной из самых приоритетных. С учётом важности пользовательского охвата для интернет-магазина, прежде всего стоит проверить гипотезу об email-рассылках."
   ]
  },
  {
   "cell_type": "markdown",
   "metadata": {},
   "source": [
    "### Вывод"
   ]
  },
  {
   "cell_type": "markdown",
   "metadata": {},
   "source": [
    "В файле **hypothesis.csv** находятся 9 гипотез по увеличению выручки интернет-магазина с указанными параметрами *Reach*, *Impact*, *Confidence* и *Effort*. Пропусков и дубликатов нет. Типы данных корректны.\n",
    "\n",
    "Наиболее перспективные гипотезы по *ICE*: 8, 0, 7, 6.\n",
    "\n",
    "Наиболее перспективные гипотезы по *RICE*: 7, 2, 0, 6. \n",
    "\n",
    "Гипотеза о скидочной акции в день рождения (8) имеет очень низких охват пользователей, ведь, «к сожаленью, день рожденья только раз в году», в то время как гипотеза о сборе базы клиентов для email-рассылок (7) имеет максимальный охват пользователей, хотя и без его учёта была одной из самых приоритетных. С учётом важности пользовательского охвата для интернет-магазина, прежде всего стоит проверить гипотезу об email-рассылках."
   ]
  },
  {
   "cell_type": "markdown",
   "metadata": {},
   "source": [
    "## <a id='abtest_analysis'>Шаг 2. Анализ A/B-теста</a>"
   ]
  },
  {
   "cell_type": "markdown",
   "metadata": {},
   "source": [
    "#### Откроем файлы *orders.csv* и *visitors.csv* и изучим их."
   ]
  },
  {
   "cell_type": "code",
   "execution_count": 6,
   "metadata": {},
   "outputs": [
    {
     "name": "stdout",
     "output_type": "stream",
     "text": [
      "\u001b[1mОбщая информация о таблице с заказами:\u001b[0m\n",
      "\n",
      "<class 'pandas.core.frame.DataFrame'>\n",
      "RangeIndex: 1197 entries, 0 to 1196\n",
      "Data columns (total 5 columns):\n",
      "transactionId    1197 non-null int64\n",
      "visitorId        1197 non-null int64\n",
      "date             1197 non-null object\n",
      "revenue          1197 non-null int64\n",
      "group            1197 non-null object\n",
      "dtypes: int64(3), object(2)\n",
      "memory usage: 46.9+ KB\n",
      "\n",
      "\u001b[1mПервые 10 строк таблицы с заказами:\u001b[0m\n"
     ]
    },
    {
     "data": {
      "text/html": [
       "<div>\n",
       "<style scoped>\n",
       "    .dataframe tbody tr th:only-of-type {\n",
       "        vertical-align: middle;\n",
       "    }\n",
       "\n",
       "    .dataframe tbody tr th {\n",
       "        vertical-align: top;\n",
       "    }\n",
       "\n",
       "    .dataframe thead th {\n",
       "        text-align: right;\n",
       "    }\n",
       "</style>\n",
       "<table border=\"1\" class=\"dataframe\">\n",
       "  <thead>\n",
       "    <tr style=\"text-align: right;\">\n",
       "      <th></th>\n",
       "      <th>transactionId</th>\n",
       "      <th>visitorId</th>\n",
       "      <th>date</th>\n",
       "      <th>revenue</th>\n",
       "      <th>group</th>\n",
       "    </tr>\n",
       "  </thead>\n",
       "  <tbody>\n",
       "    <tr>\n",
       "      <td>0</td>\n",
       "      <td>3667963787</td>\n",
       "      <td>3312258926</td>\n",
       "      <td>2019-08-15</td>\n",
       "      <td>1650</td>\n",
       "      <td>B</td>\n",
       "    </tr>\n",
       "    <tr>\n",
       "      <td>1</td>\n",
       "      <td>2804400009</td>\n",
       "      <td>3642806036</td>\n",
       "      <td>2019-08-15</td>\n",
       "      <td>730</td>\n",
       "      <td>B</td>\n",
       "    </tr>\n",
       "    <tr>\n",
       "      <td>2</td>\n",
       "      <td>2961555356</td>\n",
       "      <td>4069496402</td>\n",
       "      <td>2019-08-15</td>\n",
       "      <td>400</td>\n",
       "      <td>A</td>\n",
       "    </tr>\n",
       "    <tr>\n",
       "      <td>3</td>\n",
       "      <td>3797467345</td>\n",
       "      <td>1196621759</td>\n",
       "      <td>2019-08-15</td>\n",
       "      <td>9759</td>\n",
       "      <td>B</td>\n",
       "    </tr>\n",
       "    <tr>\n",
       "      <td>4</td>\n",
       "      <td>2282983706</td>\n",
       "      <td>2322279887</td>\n",
       "      <td>2019-08-15</td>\n",
       "      <td>2308</td>\n",
       "      <td>B</td>\n",
       "    </tr>\n",
       "    <tr>\n",
       "      <td>5</td>\n",
       "      <td>182168103</td>\n",
       "      <td>935554773</td>\n",
       "      <td>2019-08-15</td>\n",
       "      <td>2210</td>\n",
       "      <td>B</td>\n",
       "    </tr>\n",
       "    <tr>\n",
       "      <td>6</td>\n",
       "      <td>398296753</td>\n",
       "      <td>2900797465</td>\n",
       "      <td>2019-08-15</td>\n",
       "      <td>1860</td>\n",
       "      <td>B</td>\n",
       "    </tr>\n",
       "    <tr>\n",
       "      <td>7</td>\n",
       "      <td>2626614568</td>\n",
       "      <td>78758296</td>\n",
       "      <td>2019-08-15</td>\n",
       "      <td>1044</td>\n",
       "      <td>A</td>\n",
       "    </tr>\n",
       "    <tr>\n",
       "      <td>8</td>\n",
       "      <td>1576988021</td>\n",
       "      <td>295230930</td>\n",
       "      <td>2019-08-15</td>\n",
       "      <td>13710</td>\n",
       "      <td>A</td>\n",
       "    </tr>\n",
       "    <tr>\n",
       "      <td>9</td>\n",
       "      <td>1506739906</td>\n",
       "      <td>1882260405</td>\n",
       "      <td>2019-08-15</td>\n",
       "      <td>1855</td>\n",
       "      <td>B</td>\n",
       "    </tr>\n",
       "  </tbody>\n",
       "</table>\n",
       "</div>"
      ],
      "text/plain": [
       "   transactionId   visitorId        date  revenue group\n",
       "0     3667963787  3312258926  2019-08-15     1650     B\n",
       "1     2804400009  3642806036  2019-08-15      730     B\n",
       "2     2961555356  4069496402  2019-08-15      400     A\n",
       "3     3797467345  1196621759  2019-08-15     9759     B\n",
       "4     2282983706  2322279887  2019-08-15     2308     B\n",
       "5      182168103   935554773  2019-08-15     2210     B\n",
       "6      398296753  2900797465  2019-08-15     1860     B\n",
       "7     2626614568    78758296  2019-08-15     1044     A\n",
       "8     1576988021   295230930  2019-08-15    13710     A\n",
       "9     1506739906  1882260405  2019-08-15     1855     B"
      ]
     },
     "metadata": {},
     "output_type": "display_data"
    },
    {
     "name": "stdout",
     "output_type": "stream",
     "text": [
      "\u001b[1mКоличество пропусков в каждом столбце таблицы с заказами:\u001b[0m\n"
     ]
    },
    {
     "data": {
      "text/html": [
       "<div>\n",
       "<style scoped>\n",
       "    .dataframe tbody tr th:only-of-type {\n",
       "        vertical-align: middle;\n",
       "    }\n",
       "\n",
       "    .dataframe tbody tr th {\n",
       "        vertical-align: top;\n",
       "    }\n",
       "\n",
       "    .dataframe thead th {\n",
       "        text-align: right;\n",
       "    }\n",
       "</style>\n",
       "<table border=\"1\" class=\"dataframe\">\n",
       "  <thead>\n",
       "    <tr style=\"text-align: right;\">\n",
       "      <th></th>\n",
       "      <th>0</th>\n",
       "    </tr>\n",
       "  </thead>\n",
       "  <tbody>\n",
       "    <tr>\n",
       "      <td>transactionId</td>\n",
       "      <td>0</td>\n",
       "    </tr>\n",
       "    <tr>\n",
       "      <td>visitorId</td>\n",
       "      <td>0</td>\n",
       "    </tr>\n",
       "    <tr>\n",
       "      <td>date</td>\n",
       "      <td>0</td>\n",
       "    </tr>\n",
       "    <tr>\n",
       "      <td>revenue</td>\n",
       "      <td>0</td>\n",
       "    </tr>\n",
       "    <tr>\n",
       "      <td>group</td>\n",
       "      <td>0</td>\n",
       "    </tr>\n",
       "  </tbody>\n",
       "</table>\n",
       "</div>"
      ],
      "text/plain": [
       "               0\n",
       "transactionId  0\n",
       "visitorId      0\n",
       "date           0\n",
       "revenue        0\n",
       "group          0"
      ]
     },
     "metadata": {},
     "output_type": "display_data"
    },
    {
     "name": "stdout",
     "output_type": "stream",
     "text": [
      "\u001b[1mЧисло дубликатов в таблице с заказами: 0\u001b[0m\n"
     ]
    }
   ],
   "source": [
    "orders = review_file('/datasets/orders.csv', 'с заказами')"
   ]
  },
  {
   "cell_type": "code",
   "execution_count": 7,
   "metadata": {},
   "outputs": [
    {
     "data": {
      "text/plain": [
       "count       1197.0\n",
       "mean        8348.0\n",
       "std        39191.0\n",
       "min           50.0\n",
       "25%         1220.0\n",
       "50%         2978.0\n",
       "75%         8290.0\n",
       "max      1294500.0\n",
       "Name: revenue, dtype: float64"
      ]
     },
     "execution_count": 7,
     "metadata": {},
     "output_type": "execute_result"
    }
   ],
   "source": [
    "orders['revenue'].describe().round()"
   ]
  },
  {
   "cell_type": "code",
   "execution_count": 8,
   "metadata": {},
   "outputs": [
    {
     "data": {
      "text/plain": [
       "B    640\n",
       "A    557\n",
       "Name: group, dtype: int64"
      ]
     },
     "execution_count": 8,
     "metadata": {},
     "output_type": "execute_result"
    }
   ],
   "source": [
    "orders['group'].value_counts()"
   ]
  },
  {
   "cell_type": "markdown",
   "metadata": {},
   "source": [
    "Датафрейм **orders** состоит из 1 197 строк и 5 столбцов. Пропусков и дубликатов нет. Тип данных в столбце *date* — *object*, а не *datetime*."
   ]
  },
  {
   "cell_type": "markdown",
   "metadata": {},
   "source": [
    "***"
   ]
  },
  {
   "cell_type": "code",
   "execution_count": 9,
   "metadata": {},
   "outputs": [
    {
     "name": "stdout",
     "output_type": "stream",
     "text": [
      "\u001b[1mОбщая информация о таблице с пользователями:\u001b[0m\n",
      "\n",
      "<class 'pandas.core.frame.DataFrame'>\n",
      "RangeIndex: 62 entries, 0 to 61\n",
      "Data columns (total 3 columns):\n",
      "date        62 non-null object\n",
      "group       62 non-null object\n",
      "visitors    62 non-null int64\n",
      "dtypes: int64(1), object(2)\n",
      "memory usage: 1.6+ KB\n",
      "\n",
      "\u001b[1mПервые 10 строк таблицы с пользователями:\u001b[0m\n"
     ]
    },
    {
     "data": {
      "text/html": [
       "<div>\n",
       "<style scoped>\n",
       "    .dataframe tbody tr th:only-of-type {\n",
       "        vertical-align: middle;\n",
       "    }\n",
       "\n",
       "    .dataframe tbody tr th {\n",
       "        vertical-align: top;\n",
       "    }\n",
       "\n",
       "    .dataframe thead th {\n",
       "        text-align: right;\n",
       "    }\n",
       "</style>\n",
       "<table border=\"1\" class=\"dataframe\">\n",
       "  <thead>\n",
       "    <tr style=\"text-align: right;\">\n",
       "      <th></th>\n",
       "      <th>date</th>\n",
       "      <th>group</th>\n",
       "      <th>visitors</th>\n",
       "    </tr>\n",
       "  </thead>\n",
       "  <tbody>\n",
       "    <tr>\n",
       "      <td>0</td>\n",
       "      <td>2019-08-01</td>\n",
       "      <td>A</td>\n",
       "      <td>719</td>\n",
       "    </tr>\n",
       "    <tr>\n",
       "      <td>1</td>\n",
       "      <td>2019-08-02</td>\n",
       "      <td>A</td>\n",
       "      <td>619</td>\n",
       "    </tr>\n",
       "    <tr>\n",
       "      <td>2</td>\n",
       "      <td>2019-08-03</td>\n",
       "      <td>A</td>\n",
       "      <td>507</td>\n",
       "    </tr>\n",
       "    <tr>\n",
       "      <td>3</td>\n",
       "      <td>2019-08-04</td>\n",
       "      <td>A</td>\n",
       "      <td>717</td>\n",
       "    </tr>\n",
       "    <tr>\n",
       "      <td>4</td>\n",
       "      <td>2019-08-05</td>\n",
       "      <td>A</td>\n",
       "      <td>756</td>\n",
       "    </tr>\n",
       "    <tr>\n",
       "      <td>5</td>\n",
       "      <td>2019-08-06</td>\n",
       "      <td>A</td>\n",
       "      <td>667</td>\n",
       "    </tr>\n",
       "    <tr>\n",
       "      <td>6</td>\n",
       "      <td>2019-08-07</td>\n",
       "      <td>A</td>\n",
       "      <td>644</td>\n",
       "    </tr>\n",
       "    <tr>\n",
       "      <td>7</td>\n",
       "      <td>2019-08-08</td>\n",
       "      <td>A</td>\n",
       "      <td>610</td>\n",
       "    </tr>\n",
       "    <tr>\n",
       "      <td>8</td>\n",
       "      <td>2019-08-09</td>\n",
       "      <td>A</td>\n",
       "      <td>617</td>\n",
       "    </tr>\n",
       "    <tr>\n",
       "      <td>9</td>\n",
       "      <td>2019-08-10</td>\n",
       "      <td>A</td>\n",
       "      <td>406</td>\n",
       "    </tr>\n",
       "  </tbody>\n",
       "</table>\n",
       "</div>"
      ],
      "text/plain": [
       "         date group  visitors\n",
       "0  2019-08-01     A       719\n",
       "1  2019-08-02     A       619\n",
       "2  2019-08-03     A       507\n",
       "3  2019-08-04     A       717\n",
       "4  2019-08-05     A       756\n",
       "5  2019-08-06     A       667\n",
       "6  2019-08-07     A       644\n",
       "7  2019-08-08     A       610\n",
       "8  2019-08-09     A       617\n",
       "9  2019-08-10     A       406"
      ]
     },
     "metadata": {},
     "output_type": "display_data"
    },
    {
     "name": "stdout",
     "output_type": "stream",
     "text": [
      "\u001b[1mКоличество пропусков в каждом столбце таблицы с пользователями:\u001b[0m\n"
     ]
    },
    {
     "data": {
      "text/html": [
       "<div>\n",
       "<style scoped>\n",
       "    .dataframe tbody tr th:only-of-type {\n",
       "        vertical-align: middle;\n",
       "    }\n",
       "\n",
       "    .dataframe tbody tr th {\n",
       "        vertical-align: top;\n",
       "    }\n",
       "\n",
       "    .dataframe thead th {\n",
       "        text-align: right;\n",
       "    }\n",
       "</style>\n",
       "<table border=\"1\" class=\"dataframe\">\n",
       "  <thead>\n",
       "    <tr style=\"text-align: right;\">\n",
       "      <th></th>\n",
       "      <th>0</th>\n",
       "    </tr>\n",
       "  </thead>\n",
       "  <tbody>\n",
       "    <tr>\n",
       "      <td>date</td>\n",
       "      <td>0</td>\n",
       "    </tr>\n",
       "    <tr>\n",
       "      <td>group</td>\n",
       "      <td>0</td>\n",
       "    </tr>\n",
       "    <tr>\n",
       "      <td>visitors</td>\n",
       "      <td>0</td>\n",
       "    </tr>\n",
       "  </tbody>\n",
       "</table>\n",
       "</div>"
      ],
      "text/plain": [
       "          0\n",
       "date      0\n",
       "group     0\n",
       "visitors  0"
      ]
     },
     "metadata": {},
     "output_type": "display_data"
    },
    {
     "name": "stdout",
     "output_type": "stream",
     "text": [
      "\u001b[1mЧисло дубликатов в таблице с пользователями: 0\u001b[0m\n"
     ]
    }
   ],
   "source": [
    "visitors = review_file('/datasets/visitors.csv', 'с пользователями')"
   ]
  },
  {
   "cell_type": "code",
   "execution_count": 10,
   "metadata": {},
   "outputs": [
    {
     "data": {
      "text/plain": [
       "count     62.000000\n",
       "mean     607.290323\n",
       "std      114.400560\n",
       "min      361.000000\n",
       "25%      534.000000\n",
       "50%      624.500000\n",
       "75%      710.500000\n",
       "max      770.000000\n",
       "Name: visitors, dtype: float64"
      ]
     },
     "execution_count": 10,
     "metadata": {},
     "output_type": "execute_result"
    }
   ],
   "source": [
    "visitors['visitors'].describe()"
   ]
  },
  {
   "cell_type": "code",
   "execution_count": 11,
   "metadata": {},
   "outputs": [
    {
     "data": {
      "text/plain": [
       "B    31\n",
       "A    31\n",
       "Name: group, dtype: int64"
      ]
     },
     "execution_count": 11,
     "metadata": {},
     "output_type": "execute_result"
    }
   ],
   "source": [
    "visitors['group'].value_counts()"
   ]
  },
  {
   "cell_type": "markdown",
   "metadata": {},
   "source": [
    "Датафрейм **visitors** состоит из 62 строк и 3 столбцов. Пропусков и дубликатов нет. Тип данных в столбце *date* — *object*, а не *datetime*."
   ]
  },
  {
   "cell_type": "markdown",
   "metadata": {},
   "source": [
    "***"
   ]
  },
  {
   "cell_type": "markdown",
   "metadata": {},
   "source": [
    "#### Приведём типы данных в столбцах *date* датафреймов *orders* и *visitors* к типу *datetime64[ns]*."
   ]
  },
  {
   "cell_type": "code",
   "execution_count": 12,
   "metadata": {},
   "outputs": [],
   "source": [
    "orders['date'] = orders['date'].map(\n",
    "    lambda x: dt.datetime.strptime(x, '%Y-%m-%d')\n",
    ")\n",
    "\n",
    "visitors['date'] = visitors['date'].map(\n",
    "    lambda x: dt.datetime.strptime(x, '%Y-%m-%d')\n",
    ")"
   ]
  },
  {
   "cell_type": "markdown",
   "metadata": {},
   "source": [
    "***"
   ]
  },
  {
   "cell_type": "markdown",
   "metadata": {},
   "source": [
    "#### Проверим данные на наличие ошибок."
   ]
  },
  {
   "cell_type": "code",
   "execution_count": 13,
   "metadata": {},
   "outputs": [
    {
     "data": {
      "text/plain": [
       "58"
      ]
     },
     "execution_count": 13,
     "metadata": {},
     "output_type": "execute_result"
    }
   ],
   "source": [
    "group_a = orders.query('group == \"A\"')\n",
    "group_b = orders.query('group == \"B\"')\n",
    "\n",
    "wrong_indices = (\n",
    "    pd.DataFrame(group_a['visitorId'].isin(group_b['visitorId']))\n",
    "    .query('visitorId == True')\n",
    "    .index\n",
    ")\n",
    "\n",
    "wrong_visitor_ids = group_a.loc[wrong_indices, 'visitorId'].unique()\n",
    "\n",
    "wrong_visitor_ids.shape[0]"
   ]
  },
  {
   "cell_type": "markdown",
   "metadata": {},
   "source": [
    "Оказалось, что 58 пользователей попали одновременно в контрольную и тестовую группы. Такого быть не должно."
   ]
  },
  {
   "cell_type": "code",
   "execution_count": 14,
   "metadata": {},
   "outputs": [
    {
     "name": "stdout",
     "output_type": "stream",
     "text": [
      "Доля пользователей, попавших в обе группы: 5.63%\n",
      "Доля заказов, совершённых этими пользователями: 15.12%\n",
      "Доля выручки от этих пользователей: 15.60%\n"
     ]
    }
   ],
   "source": [
    "wrong_data = orders[orders['visitorId'].isin(wrong_visitor_ids)]\n",
    "\n",
    "print(\n",
    "    'Доля пользователей, попавших в обе группы: {:.2%}'\n",
    "    .format(wrong_data['visitorId'].nunique() / orders['visitorId'].nunique())\n",
    ")\n",
    "\n",
    "print(\n",
    "    'Доля заказов, совершённых этими пользователями: {:.2%}'\n",
    "    .format(wrong_data.shape[0] / orders.shape[0])\n",
    ")\n",
    "\n",
    "print(\n",
    "    'Доля выручки от этих пользователей: {:.2%}'\n",
    "    .format(wrong_data['revenue'].sum() / orders['revenue'].sum())\n",
    ")"
   ]
  },
  {
   "cell_type": "markdown",
   "metadata": {},
   "source": [
    "Как мы видим, таких пользователей не так много, однако 15% заказов и выручки принесли именно они. Тем не менее, для корректного анализа теста от этих данных придётся избавиться."
   ]
  },
  {
   "cell_type": "code",
   "execution_count": 15,
   "metadata": {},
   "outputs": [],
   "source": [
    "orders = orders[np.logical_not(orders['visitorId'].isin(wrong_visitor_ids))]"
   ]
  },
  {
   "cell_type": "markdown",
   "metadata": {},
   "source": [
    "***"
   ]
  },
  {
   "cell_type": "markdown",
   "metadata": {},
   "source": [
    "### <a id='1'>1. Кумулятивная выручка по группам</a>"
   ]
  },
  {
   "cell_type": "markdown",
   "metadata": {},
   "source": [
    "#### Создадим массив уникальных пар значений дат и групп теста."
   ]
  },
  {
   "cell_type": "code",
   "execution_count": 16,
   "metadata": {},
   "outputs": [],
   "source": [
    "dates_groups = orders[['date','group']].drop_duplicates()"
   ]
  },
  {
   "cell_type": "markdown",
   "metadata": {},
   "source": [
    "#### Соберём агрегированные кумулятивные по дням данные о заказах."
   ]
  },
  {
   "cell_type": "code",
   "execution_count": 17,
   "metadata": {},
   "outputs": [],
   "source": [
    "orders_aggregated = (\n",
    "    dates_groups\n",
    "    .apply(\n",
    "        lambda x: orders[\n",
    "            np.logical_and(\n",
    "                orders['date'] <= x['date'], \n",
    "                orders['group'] == x['group']\n",
    "            )\n",
    "        ]\n",
    "        .agg({\n",
    "            'date': 'max',\n",
    "             'group': 'max',\n",
    "             'transactionId': 'nunique',\n",
    "             'visitorId': 'nunique',\n",
    "             'revenue': 'sum'\n",
    "        }), \n",
    "        axis=1\n",
    "    )\n",
    "    .sort_values(by=['date', 'group'])\n",
    ")"
   ]
  },
  {
   "cell_type": "markdown",
   "metadata": {},
   "source": [
    "#### Получим агрегированные кумулятивные по дням данные о посетителях интернет-магазина."
   ]
  },
  {
   "cell_type": "code",
   "execution_count": 18,
   "metadata": {},
   "outputs": [],
   "source": [
    "visitors_aggregated = (\n",
    "    dates_groups\n",
    "    .apply(\n",
    "        lambda x: visitors[\n",
    "            np.logical_and(\n",
    "                visitors['date'] <= x['date'], \n",
    "                visitors['group'] == x['group']\n",
    "            )\n",
    "        ]\n",
    "        .agg({\n",
    "            'date': 'max',\n",
    "            'group': 'max',\n",
    "            'visitors' : 'sum'\n",
    "        }), \n",
    "        axis=1\n",
    "    )\n",
    "    .sort_values(by=['date', 'group'])\n",
    ")"
   ]
  },
  {
   "cell_type": "markdown",
   "metadata": {},
   "source": [
    "#### Объединим обе таблицы в одной с понятными названиями столбцов."
   ]
  },
  {
   "cell_type": "code",
   "execution_count": 19,
   "metadata": {},
   "outputs": [],
   "source": [
    "cumulative_data = (\n",
    "    orders_aggregated\n",
    "    .merge(visitors_aggregated, left_on=['date', 'group'], right_on=['date', 'group'])\n",
    ")\n",
    "\n",
    "cumulative_data.columns = ['date', 'group', 'orders', 'buyers', 'revenue', 'visitors']"
   ]
  },
  {
   "cell_type": "markdown",
   "metadata": {},
   "source": [
    "#### Построим графики кумулятивной выручки по дням и группам A/B-тестирования."
   ]
  },
  {
   "cell_type": "code",
   "execution_count": 20,
   "metadata": {},
   "outputs": [],
   "source": [
    "cumulative_revenue_a = cumulative_data[cumulative_data['group'] == 'A'][['date','revenue', 'orders']]\n",
    "cumulative_revenue_b = cumulative_data[cumulative_data['group'] == 'B'][['date','revenue', 'orders']]"
   ]
  },
  {
   "cell_type": "code",
   "execution_count": 21,
   "metadata": {},
   "outputs": [
    {
     "data": {
      "image/png": "[encoded data removed]",
      "text/plain": [
       "<Figure size 1080x576 with 1 Axes>"
      ]
     },
     "metadata": {
      "needs_background": "light"
     },
     "output_type": "display_data"
    }
   ],
   "source": [
    "plt.figure(figsize=(15, 8))\n",
    "plt.plot(cumulative_revenue_a['date'], cumulative_revenue_a['revenue'], label='A')\n",
    "plt.plot(cumulative_revenue_b['date'], cumulative_revenue_b['revenue'], label='B')\n",
    "plt.title('Кумулятивная выручка')\n",
    "plt.xlabel('Дата')\n",
    "plt.ylabel('Выручка')\n",
    "plt.legend()\n",
    "plt.show()"
   ]
  },
  {
   "cell_type": "markdown",
   "metadata": {},
   "source": [
    "Группа B обгоняет группу A по кумулятивной выручке почти с самого начала. Стоит отметить резкий рост графика кумулятивной выручки группы B в промежутке 17-21 августа. Это может сигнализировать о всплесках числа заказов или о появлении очень дорогих заказов в выборке."
   ]
  },
  {
   "cell_type": "markdown",
   "metadata": {},
   "source": [
    "### <a id='2'>2. Кумулятивный средний чек по группам</a>"
   ]
  },
  {
   "cell_type": "markdown",
   "metadata": {},
   "source": [
    "#### Построим графики среднего чека по группам — разделим кумулятивную выручку на кумулятивное число заказов."
   ]
  },
  {
   "cell_type": "code",
   "execution_count": 22,
   "metadata": {},
   "outputs": [
    {
     "data": {
      "image/png": "[encoded data removed]",
      "text/plain": [
       "<Figure size 1080x576 with 1 Axes>"
      ]
     },
     "metadata": {
      "needs_background": "light"
     },
     "output_type": "display_data"
    }
   ],
   "source": [
    "plt.figure(figsize=(15, 8))\n",
    "plt.plot(\n",
    "    cumulative_revenue_a['date'], \n",
    "    cumulative_revenue_a['revenue'] / cumulative_revenue_a['orders'], \n",
    "    label='A'\n",
    ")\n",
    "\n",
    "plt.plot(\n",
    "    cumulative_revenue_b['date'], \n",
    "    cumulative_revenue_b['revenue'] / cumulative_revenue_b['orders'], \n",
    "    label='B'\n",
    ")\n",
    "\n",
    "plt.title('Кумулятивный средний чек')\n",
    "plt.xlabel('Дата')\n",
    "plt.ylabel('Средний чек')\n",
    "plt.legend() \n",
    "plt.show()"
   ]
  },
  {
   "cell_type": "markdown",
   "metadata": {},
   "source": [
    "Средний чек ведёт себя неравномерно на протяжении всего теста. Средний чек группы B резко растёт на том же самом временном промежутке, что и кумулятивная выручка этой группы. Заметно так называемое «возвращение к среднему», характерное для единоразовых мощных выбросов. Однозначно оценить эту метрику в разрезе групп по графику не удаётся."
   ]
  },
  {
   "cell_type": "markdown",
   "metadata": {},
   "source": [
    "### <a id='3'>3. Относительное изменение кумулятивного среднего чека группы B к группе A</a>"
   ]
  },
  {
   "cell_type": "markdown",
   "metadata": {},
   "source": [
    "#### Построим график относительного различия для среднего чека."
   ]
  },
  {
   "cell_type": "code",
   "execution_count": 23,
   "metadata": {},
   "outputs": [],
   "source": [
    "merged_cumulative_revenue = (\n",
    "    cumulative_revenue_a\n",
    "    .merge(\n",
    "        cumulative_revenue_b, \n",
    "        left_on='date', \n",
    "        right_on='date', \n",
    "        how='left', \n",
    "        suffixes=['A', 'B']\n",
    "    )\n",
    ")"
   ]
  },
  {
   "cell_type": "code",
   "execution_count": 24,
   "metadata": {},
   "outputs": [
    {
     "data": {
      "image/png": "[encoded data removed]",
      "text/plain": [
       "<Figure size 1080x576 with 1 Axes>"
      ]
     },
     "metadata": {
      "needs_background": "light"
     },
     "output_type": "display_data"
    }
   ],
   "source": [
    "plt.figure(figsize=(15, 8))\n",
    "plt.plot(\n",
    "    merged_cumulative_revenue['date'], \n",
    "    (merged_cumulative_revenue['revenueB'] / merged_cumulative_revenue['ordersB']) / \n",
    "    (merged_cumulative_revenue['revenueA'] / merged_cumulative_revenue['ordersA']) - 1\n",
    ")\n",
    "\n",
    "plt.axhline(y=0, color='black', linestyle='--')\n",
    "plt.title('Относительное изменение кумулятивного среднего чека группы B к группе A')\n",
    "plt.xlabel('Дата')\n",
    "plt.ylabel('Относительное различие')\n",
    "plt.show()"
   ]
  },
  {
   "cell_type": "markdown",
   "metadata": {},
   "source": [
    "В нескольких точках график различия между сегментами резко «скачет». Крупные заказы и выбросы, безусловно, присутствуют."
   ]
  },
  {
   "cell_type": "markdown",
   "metadata": {},
   "source": [
    "### <a id='4'>4. Кумулятивная конверсия по группам</a>"
   ]
  },
  {
   "cell_type": "markdown",
   "metadata": {},
   "source": [
    "#### Проанализируем график кумулятивной конверсии."
   ]
  },
  {
   "cell_type": "code",
   "execution_count": 25,
   "metadata": {},
   "outputs": [],
   "source": [
    "cumulative_data['conversion'] = cumulative_data['orders'] / cumulative_data['visitors']\n",
    "cumulative_data_a = cumulative_data[cumulative_data['group'] == 'A']\n",
    "cumulative_data_b = cumulative_data[cumulative_data['group'] == 'B']"
   ]
  },
  {
   "cell_type": "code",
   "execution_count": 26,
   "metadata": {},
   "outputs": [
    {
     "data": {
      "image/png": "[encoded data removed]",
      "text/plain": [
       "<Figure size 1080x576 with 1 Axes>"
      ]
     },
     "metadata": {
      "needs_background": "light"
     },
     "output_type": "display_data"
    }
   ],
   "source": [
    "plt.figure(figsize=(15, 8))\n",
    "plt.plot(cumulative_data_a['date'], cumulative_data_a['conversion'], label='A')\n",
    "plt.plot(cumulative_data_b['date'], cumulative_data_b['conversion'], label='B')\n",
    "plt.title('Кумулятивная конверсия')\n",
    "plt.xlabel('Дата')\n",
    "plt.ylabel('Кумулятивная конверсия')\n",
    "plt.legend()\n",
    "plt.show()"
   ]
  },
  {
   "cell_type": "markdown",
   "metadata": {},
   "source": [
    "Кумулятивная конверсия группы A была лучше лишь в самом начале теста, после чего группа B вырвалась вперёд. К концу теста графики относительно стабилизировались."
   ]
  },
  {
   "cell_type": "markdown",
   "metadata": {},
   "source": [
    "### <a id='5'>5. Относительное изменение кумулятивной конверсии группы B к группе A</a>"
   ]
  },
  {
   "cell_type": "markdown",
   "metadata": {},
   "source": [
    "#### Построим график относительного различия кумулятивных конверсий."
   ]
  },
  {
   "cell_type": "code",
   "execution_count": 27,
   "metadata": {},
   "outputs": [],
   "source": [
    "merged_cumulative_conversions = (\n",
    "    cumulative_data_a[['date', 'conversion']]\n",
    "    .merge(\n",
    "        cumulative_data_b[['date', 'conversion']], \n",
    "        left_on='date', \n",
    "        right_on='date', \n",
    "        how='left', \n",
    "        suffixes=['A', 'B']\n",
    "    )\n",
    ")"
   ]
  },
  {
   "cell_type": "code",
   "execution_count": 28,
   "metadata": {},
   "outputs": [
    {
     "data": {
      "image/png": "[encoded data removed]",
      "text/plain": [
       "<Figure size 1080x576 with 1 Axes>"
      ]
     },
     "metadata": {
      "needs_background": "light"
     },
     "output_type": "display_data"
    }
   ],
   "source": [
    "plt.figure(figsize=(15, 8))\n",
    "plt.plot(\n",
    "    merged_cumulative_conversions['date'], \n",
    "    merged_cumulative_conversions['conversionB'] / merged_cumulative_conversions['conversionA'] - 1, \n",
    "    label='Относительный прирост конверсии группы B относительно группы A'\n",
    ")\n",
    "\n",
    "plt.title('Относительное изменение кумулятивной конверсии группы B к группе A')\n",
    "plt.xlabel('Дата')\n",
    "plt.ylabel('Относительное изменение кумулятивной конверсии')\n",
    "plt.legend()\n",
    "plt.axhline(y=0, color='black', linestyle='--')\n",
    "plt.axhline(y=0.15, color='grey', linestyle='--')\n",
    "plt.show()"
   ]
  },
  {
   "cell_type": "markdown",
   "metadata": {},
   "source": [
    "Наблюдается прирост конверсии группы B относительно группы A."
   ]
  },
  {
   "cell_type": "markdown",
   "metadata": {},
   "source": [
    "### <a id='6'>6. Количество заказов по пользователям</a>"
   ]
  },
  {
   "cell_type": "markdown",
   "metadata": {},
   "source": [
    "#### Подсчитаем количество заказов по пользователям."
   ]
  },
  {
   "cell_type": "code",
   "execution_count": 29,
   "metadata": {},
   "outputs": [],
   "source": [
    "orders_by_users = (\n",
    "    orders\n",
    "    .drop(['group', 'revenue', 'date'], axis=1)\n",
    "    .groupby('visitorId', as_index=False)\n",
    "    .agg({'transactionId': 'nunique'})\n",
    ")\n",
    "\n",
    "orders_by_users.columns = ['visitorId', 'orders']"
   ]
  },
  {
   "cell_type": "code",
   "execution_count": 30,
   "metadata": {},
   "outputs": [
    {
     "data": {
      "image/png": "[encoded data removed]",
      "text/plain": [
       "<Figure size 1080x576 with 1 Axes>"
      ]
     },
     "metadata": {
      "needs_background": "light"
     },
     "output_type": "display_data"
    }
   ],
   "source": [
    "plt.figure(figsize=(15, 8))\n",
    "x_values = pd.Series(range(0, len(orders_by_users)))\n",
    "plt.scatter(x_values, orders_by_users['orders'])\n",
    "plt.title('Число заказов на одного пользователя')\n",
    "plt.show()"
   ]
  },
  {
   "cell_type": "markdown",
   "metadata": {},
   "source": [
    "Имеем много пользователей, совершивших один единственный заказ. Второй заказ делают ощутимо реже, не говоря о третьем."
   ]
  },
  {
   "cell_type": "markdown",
   "metadata": {},
   "source": [
    "### <a id='7'>7. Граница для определения аномальных пользователей</a>"
   ]
  },
  {
   "cell_type": "markdown",
   "metadata": {},
   "source": [
    "#### Посчитаем выборочные перцентили количества заказов на одного пользователя."
   ]
  },
  {
   "cell_type": "code",
   "execution_count": 31,
   "metadata": {},
   "outputs": [
    {
     "name": "stdout",
     "output_type": "stream",
     "text": [
      "95-ый и 99-ый перцентили количества заказов на одного пользователя: [1. 2.]\n"
     ]
    }
   ],
   "source": [
    "print('95-ый и 99-ый перцентили количества заказов на одного пользователя: {}'\n",
    "      .format(np.percentile(orders_by_users['orders'], [95, 99])))"
   ]
  },
  {
   "cell_type": "markdown",
   "metadata": {},
   "source": [
    "Не более 1% пользователей оформляли более чем два заказа всего 5% пользователей заказывали более одного раза. Разумно выбрать 1 заказ на одного пользователя за нижнюю границу числа заказов и отсеять аномальных пользователей по ней."
   ]
  },
  {
   "cell_type": "markdown",
   "metadata": {},
   "source": [
    "### <a id='8'>8. Стоимость заказов</a>"
   ]
  },
  {
   "cell_type": "markdown",
   "metadata": {},
   "source": [
    "#### Оценим стоимость заказов."
   ]
  },
  {
   "cell_type": "code",
   "execution_count": 32,
   "metadata": {},
   "outputs": [
    {
     "data": {
      "image/png": "[encoded data removed]",
      "text/plain": [
       "<Figure size 1080x576 with 1 Axes>"
      ]
     },
     "metadata": {
      "needs_background": "light"
     },
     "output_type": "display_data"
    }
   ],
   "source": [
    "plt.figure(figsize=(15, 8))\n",
    "x_values = pd.Series(range(0, len(orders['revenue'])))\n",
    "plt.scatter(x_values, orders['revenue'])\n",
    "plt.title('Стоимость заказов')\n",
    "plt.show()"
   ]
  },
  {
   "cell_type": "markdown",
   "metadata": {},
   "source": [
    "Дорогих заказов практически нет."
   ]
  },
  {
   "cell_type": "markdown",
   "metadata": {},
   "source": [
    "### <a id='9'>9. Граница для определения аномальных заказов</a>"
   ]
  },
  {
   "cell_type": "markdown",
   "metadata": {},
   "source": [
    "#### Определим 95 и 99 перцентили стоимости заказов."
   ]
  },
  {
   "cell_type": "code",
   "execution_count": 33,
   "metadata": {},
   "outputs": [
    {
     "name": "stdout",
     "output_type": "stream",
     "text": [
      "95-ый и 99-ый перцентили стоимости заказов: [26785. 53904.]\n"
     ]
    }
   ],
   "source": [
    "print('95-ый и 99-ый перцентили стоимости заказов: {}'\n",
    "      .format(np.percentile(orders['revenue'], [95, 99])))"
   ]
  },
  {
   "cell_type": "markdown",
   "metadata": {},
   "source": [
    "Будем считать аномальными заказы со стоимостью более 26 785 у.е."
   ]
  },
  {
   "cell_type": "markdown",
   "metadata": {},
   "source": [
    "### <a id='10'>10. Статистическая значимость различий в конверсии между группами по «сырым» данным</a>"
   ]
  },
  {
   "cell_type": "markdown",
   "metadata": {},
   "source": [
    "**Нулевая гипотеза $H_0$**:\n",
    "Различие в конверсии между группами по «сырым» данным не является статистически значимым.\n",
    "\n",
    "**Альтернативная гипотеза $H_1$**:\n",
    "Различие в конверсии между группами по «сырым» данным статистически значимо."
   ]
  },
  {
   "cell_type": "markdown",
   "metadata": {},
   "source": [
    "#### Посчитаем статистическую значимость различий в конверсии и среднем чеке между группами по «сырым» данным — без удаления аномальных пользователей."
   ]
  },
  {
   "cell_type": "code",
   "execution_count": 34,
   "metadata": {},
   "outputs": [],
   "source": [
    "visitors_a_daily = visitors[visitors['group'] == 'A'][['date', 'visitors']]\n",
    "visitors_a_daily.columns = ['date', 'visitorsPerDateA']\n",
    "\n",
    "visitors_a_cummulative = (\n",
    "    visitors_a_daily\n",
    "    .apply(\n",
    "        lambda x: visitors_a_daily[\n",
    "            visitors_a_daily['date'] <= x['date']\n",
    "        ]\n",
    "        .agg({'date': 'max', 'visitorsPerDateA': 'sum'}),\n",
    "        axis=1\n",
    "    )\n",
    ")\n",
    "\n",
    "visitors_a_cummulative.columns = ['date', 'visitorsCummulativeA']\n",
    "\n",
    "visitors_b_daily = visitors[visitors['group'] == 'B'][['date', 'visitors']]\n",
    "visitors_b_daily.columns = ['date', 'visitorsPerDateB']\n",
    "\n",
    "visitors_b_cummulative = (\n",
    "    visitors_b_daily\n",
    "    .apply(\n",
    "        lambda x: visitors_b_daily[\n",
    "            visitors_b_daily['date'] <= x['date']\n",
    "        ]\n",
    "        .agg({'date': 'max', 'visitorsPerDateB': 'sum'}),\n",
    "        axis=1\n",
    "    )\n",
    ")\n",
    "\n",
    "visitors_b_cummulative.columns = ['date', 'visitorsCummulativeB']\n",
    "\n",
    "orders_a_daily = (\n",
    "    orders[orders['group'] == 'A'][['date', 'transactionId', 'visitorId', 'revenue']]\n",
    "    .groupby('date', as_index=False)\n",
    "    .agg({'transactionId': 'nunique', 'revenue': 'sum'})\n",
    ")\n",
    "\n",
    "orders_a_daily.columns = ['date', 'ordersPerDateA', 'revenuePerDateA']\n",
    "\n",
    "orders_a_cummulative = (\n",
    "    orders_a_daily\n",
    "    .apply(\n",
    "        lambda x: orders_a_daily[\n",
    "            orders_a_daily['date'] <= x['date']\n",
    "        ]\n",
    "        .agg({'date': 'max', 'ordersPerDateA': 'sum', 'revenuePerDateA': 'sum'}),\n",
    "        axis=1,\n",
    "    )\n",
    "    .sort_values(by='date')\n",
    ")\n",
    "\n",
    "orders_a_cummulative.columns = ['date', 'ordersCummulativeA', 'revenueCummulativeA']\n",
    "\n",
    "orders_b_daily = (\n",
    "    orders[orders['group'] == 'B'][['date', 'transactionId', 'visitorId', 'revenue']]\n",
    "    .groupby('date', as_index=False)\n",
    "    .agg({'transactionId': 'nunique', 'revenue': 'sum'})\n",
    ")\n",
    "\n",
    "orders_b_daily.columns = ['date', 'ordersPerDateB', 'revenuePerDateB']\n",
    "\n",
    "orders_b_cummulative = (\n",
    "    orders_b_daily\n",
    "    .apply(\n",
    "        lambda x: orders_b_daily[\n",
    "            orders_b_daily['date'] <= x['date']\n",
    "        ]\n",
    "        .agg({'date': 'max', 'ordersPerDateB': 'sum', 'revenuePerDateB': 'sum'}),\n",
    "        axis=1\n",
    "    )\n",
    "    .sort_values(by='date')\n",
    ")\n",
    "\n",
    "orders_b_cummulative.columns = ['date', 'ordersCummulativeB', 'revenueCummulativeB']\n",
    "\n",
    "data = (\n",
    "    orders_a_daily\n",
    "    .merge(orders_b_daily, left_on='date', right_on='date', how='left')\n",
    "    .merge(orders_a_cummulative, left_on='date', right_on='date', how='left')\n",
    "    .merge(orders_b_cummulative, left_on='date', right_on='date', how='left')\n",
    "    .merge(visitors_a_daily, left_on='date', right_on='date', how='left')\n",
    "    .merge(visitors_b_daily, left_on='date', right_on='date', how='left')\n",
    "    .merge(visitors_a_cummulative, left_on='date', right_on='date', how='left')\n",
    "    .merge(visitors_b_cummulative, left_on='date', right_on='date', how='left')\n",
    ")"
   ]
  },
  {
   "cell_type": "markdown",
   "metadata": {},
   "source": [
    "#### Посчитаем статистическую значимость различия в конверсии между группами. Создадим переменные *orders_by_users_a* и *orders_by_users_b* со столбцами *visitorId* и *orders*. В них для пользователей, которые заказывали хотя бы 1 раз, укажем число совершённых заказов."
   ]
  },
  {
   "cell_type": "code",
   "execution_count": 35,
   "metadata": {},
   "outputs": [],
   "source": [
    "orders_by_users_a = (\n",
    "    orders[orders['group'] == 'A']\n",
    "    .groupby('visitorId', as_index=False)\n",
    "    .agg({'transactionId': 'nunique'})\n",
    ")\n",
    "\n",
    "orders_by_users_a.columns = ['visitorId', 'orders']\n",
    "\n",
    "orders_by_users_b = (\n",
    "    orders[orders['group'] == 'B']\n",
    "    .groupby('visitorId', as_index=False)\n",
    "    .agg({'transactionId': 'nunique'})\n",
    ")\n",
    "\n",
    "orders_by_users_b.columns = ['visitorId', 'orders']"
   ]
  },
  {
   "cell_type": "markdown",
   "metadata": {},
   "source": [
    "#### Объявим переменные *sample_a* и *sample_b*, в которых пользователям из разных групп будет соответствовать количество заказов. Тем, кто ничего не заказал, будут соответствовать нули. Это нужно, чтобы подготовить выборки к проверке критерием Манна-Уитни."
   ]
  },
  {
   "cell_type": "code",
   "execution_count": 36,
   "metadata": {},
   "outputs": [],
   "source": [
    "sample_a = (\n",
    "    pd\n",
    "    .concat(\n",
    "        [\n",
    "            orders_by_users_a['orders'],\n",
    "            pd.Series(\n",
    "                0,\n",
    "                index=np.arange(\n",
    "                    data['visitorsPerDateA'].sum() - len(orders_by_users_a['orders'])\n",
    "                ),\n",
    "                name='orders',\n",
    "            ),\n",
    "        ],\n",
    "        axis=0\n",
    "    )\n",
    ")\n",
    "\n",
    "sample_b = (\n",
    "    pd.concat(\n",
    "        [\n",
    "            orders_by_users_b['orders'],\n",
    "            pd.Series(\n",
    "                0,\n",
    "                index=np.arange(\n",
    "                    data['visitorsPerDateB'].sum() - len(orders_by_users_b['orders'])\n",
    "                ),\n",
    "                name='orders',\n",
    "            ),\n",
    "        ],\n",
    "        axis=0\n",
    "    )\n",
    ")"
   ]
  },
  {
   "cell_type": "markdown",
   "metadata": {},
   "source": [
    "#### Выведем относительный прирост конверсии группы B."
   ]
  },
  {
   "cell_type": "code",
   "execution_count": 37,
   "metadata": {},
   "outputs": [
    {
     "name": "stdout",
     "output_type": "stream",
     "text": [
      "p-value = 0.011\n",
      "Относительный прирост конверсии группы B = 15.98%\n"
     ]
    }
   ],
   "source": [
    "print(\n",
    "    'p-value = {0:.3f}'.format(\n",
    "        st.mannwhitneyu(sample_a, sample_b, True, 'two-sided')[1]\n",
    "    )\n",
    ")\n",
    "\n",
    "print(\n",
    "    'Относительный прирост конверсии группы B = {0:.2%}'.format(\n",
    "        sample_b.mean() / sample_a.mean() - 1\n",
    "    )\n",
    ")"
   ]
  },
  {
   "cell_type": "markdown",
   "metadata": {},
   "source": [
    "Вывод: p-value < 0.05. Относительный выигрыш группы B над группой А в конверсии по «сырым» данным является статистически значимым."
   ]
  },
  {
   "cell_type": "markdown",
   "metadata": {},
   "source": [
    "### <a id='11'>11. Статистическая значимость различий в среднем чеке заказа между группами по «сырым» данным</a>"
   ]
  },
  {
   "cell_type": "markdown",
   "metadata": {},
   "source": [
    "**Нулевая гипотеза $H_0$**:\n",
    "Различие в среднем чеке заказа между группами по «сырым» данным не является статистически значимым.\n",
    "\n",
    "**Альтернативная гипотеза $H_1$**:\n",
    "Различие в среднем чеке заказа между группами по «сырым» данным статистически значимо."
   ]
  },
  {
   "cell_type": "markdown",
   "metadata": {},
   "source": [
    "#### Найдём относительное различие в среднем чеке между группами."
   ]
  },
  {
   "cell_type": "code",
   "execution_count": 38,
   "metadata": {},
   "outputs": [
    {
     "name": "stdout",
     "output_type": "stream",
     "text": [
      "p-value = 0.829\n",
      "Относительное различие в среднем чеке между группами = 28.66%\n"
     ]
    }
   ],
   "source": [
    "print(\n",
    "    'p-value = {0:.3f}'.format(\n",
    "        st.mannwhitneyu(\n",
    "            orders[orders['group']=='A']['revenue'],\n",
    "            orders[orders['group']=='B']['revenue'],\n",
    "            True,\n",
    "            'two-sided'\n",
    "        )[1]\n",
    "    )\n",
    ")\n",
    "\n",
    "print(\n",
    "    'Относительное различие в среднем чеке между группами = {0:.2%}'.format(\n",
    "        orders[orders['group']=='B']['revenue'].mean()\n",
    "        / orders[orders['group']=='A']['revenue'].mean()\n",
    "        - 1\n",
    "    )\n",
    ")"
   ]
  },
  {
   "cell_type": "markdown",
   "metadata": {},
   "source": [
    "Вывод: p-value >> 0.05. Значит, причин отвергать нулевую гипотезу и считать, что в среднем чеке есть различия, нет. Впрочем, средний чек группы B выше среднего чека группы A (на 28%)."
   ]
  },
  {
   "cell_type": "markdown",
   "metadata": {},
   "source": [
    "### <a id='12'>12. Статистическая значимость различий в конверсии между группами по «очищенным» данным</a>"
   ]
  },
  {
   "cell_type": "markdown",
   "metadata": {},
   "source": [
    "**Нулевая гипотеза $H_0$**:\n",
    "Различие в конверсии между группами по «очищенным» данным не является статистически значимым.\n",
    "\n",
    "**Альтернативная гипотеза $H_1$**:\n",
    "Различие в конверсии между группами по «очищенным» данным статистически значимо."
   ]
  },
  {
   "cell_type": "markdown",
   "metadata": {},
   "source": [
    "#### Узнаем, сколько всего аномальных пользователей."
   ]
  },
  {
   "cell_type": "code",
   "execution_count": 39,
   "metadata": {},
   "outputs": [
    {
     "name": "stdout",
     "output_type": "stream",
     "text": [
      "Всего 86 аномальных пользователей.\n"
     ]
    }
   ],
   "source": [
    "users_with_many_orders = (\n",
    "    pd\n",
    "    .concat(\n",
    "        [\n",
    "            orders_by_users_a[orders_by_users_a['orders'] > 1]['visitorId'],\n",
    "            orders_by_users_b[orders_by_users_b['orders'] > 1]['visitorId'],\n",
    "        ],\n",
    "        axis=0\n",
    "    )\n",
    ")\n",
    "\n",
    "users_with_expensive_orders = orders[orders['revenue'] > 26785]['visitorId']\n",
    "\n",
    "abnormal_users = (\n",
    "    pd\n",
    "    .concat(\n",
    "        [\n",
    "            users_with_many_orders, \n",
    "            users_with_expensive_orders\n",
    "        ], \n",
    "        axis=0\n",
    "    )\n",
    "    .drop_duplicates()\n",
    "    .sort_values()\n",
    ")\n",
    "\n",
    "print(f'Всего {abnormal_users.shape[0]} аномальных пользователей.') "
   ]
  },
  {
   "cell_type": "markdown",
   "metadata": {},
   "source": [
    "#### Посчитаем статистическую значимость различий в конверсии между группами теста по «очищенным» данным."
   ]
  },
  {
   "cell_type": "code",
   "execution_count": 40,
   "metadata": {},
   "outputs": [],
   "source": [
    "sample_a_filtered = (\n",
    "    pd\n",
    "    .concat(\n",
    "        [\n",
    "            orders_by_users_a[\n",
    "                np.logical_not(orders_by_users_a['visitorId'].isin(abnormal_users))\n",
    "            ]['orders'],\n",
    "            pd.Series(\n",
    "                0,\n",
    "                index=np.arange(\n",
    "                    data['visitorsPerDateA'].sum() - len(orders_by_users_a['orders'])\n",
    "                ),\n",
    "                name='orders',\n",
    "            ),\n",
    "        ],\n",
    "        axis=0\n",
    "    )\n",
    ")\n",
    "\n",
    "sample_b_filtered = (\n",
    "    pd\n",
    "    .concat(\n",
    "        [\n",
    "            orders_by_users_b[\n",
    "                np.logical_not(orders_by_users_b['visitorId'].isin(abnormal_users))\n",
    "            ]['orders'],\n",
    "            pd.Series(\n",
    "                0,\n",
    "                index=np.arange(\n",
    "                    data['visitorsPerDateB'].sum() - len(orders_by_users_b['orders'])\n",
    "                ),\n",
    "                name='orders',\n",
    "            ),\n",
    "        ],\n",
    "        axis=0,\n",
    "    )\n",
    ")"
   ]
  },
  {
   "cell_type": "code",
   "execution_count": 41,
   "metadata": {},
   "outputs": [
    {
     "name": "stdout",
     "output_type": "stream",
     "text": [
      "p-value = 0.016\n",
      "Различие в конверсии между группами теста по «очищенным» данным = 17.39%\n"
     ]
    }
   ],
   "source": [
    "print(\n",
    "    'p-value = {0:.3f}'.format(\n",
    "        st.mannwhitneyu(\n",
    "            sample_a_filtered,\n",
    "            sample_b_filtered,\n",
    "            True,\n",
    "            'two-sided'\n",
    "        )[1]\n",
    "    )\n",
    ")\n",
    "\n",
    "print(\n",
    "    'Различие в конверсии между группами теста по «очищенным» данным = {0:.2%}'.format(\n",
    "        sample_b_filtered.mean() / sample_a_filtered.mean() - 1\n",
    "    )\n",
    ") "
   ]
  },
  {
   "cell_type": "markdown",
   "metadata": {},
   "source": [
    "Результаты по конверсии на очищенных данных практически не изменились."
   ]
  },
  {
   "cell_type": "markdown",
   "metadata": {},
   "source": [
    "### <a id='13'>13. Статистическая значимость различий в среднем чеке заказа между группами по «очищенным» данным</a>"
   ]
  },
  {
   "cell_type": "markdown",
   "metadata": {},
   "source": [
    "**Нулевая гипотеза $H_0$**:\n",
    "Различие в среднем чеке заказа между группами по «очищенным» данным не является статистически значимым.\n",
    "\n",
    "**Альтернативная гипотеза $H_1$**:\n",
    "Различие в среднем чеке заказа между группами по «очищенным» данным статистически значимо."
   ]
  },
  {
   "cell_type": "code",
   "execution_count": 42,
   "metadata": {},
   "outputs": [
    {
     "name": "stdout",
     "output_type": "stream",
     "text": [
      "p-value = 0.727\n",
      "Различие в среднем чеке заказа между группами по «очищенным» данным = -3.37%\n"
     ]
    }
   ],
   "source": [
    "print(\n",
    "    'p-value = {0:.3f}'.format(\n",
    "        st.mannwhitneyu(\n",
    "            orders[\n",
    "                np.logical_and(\n",
    "                    orders['group'] == 'A',\n",
    "                    np.logical_not(orders['visitorId'].isin(abnormal_users)),\n",
    "                )\n",
    "            ]['revenue'],\n",
    "            orders[\n",
    "                np.logical_and(\n",
    "                    orders['group'] == 'B',\n",
    "                    np.logical_not(orders['visitorId'].isin(abnormal_users)),\n",
    "                )\n",
    "            ]['revenue'],\n",
    "            True, \n",
    "            'two-sided'\n",
    "        )[1]\n",
    "    )\n",
    ")\n",
    "\n",
    "print(\n",
    "    'Различие в среднем чеке заказа между ' + \n",
    "    'группами по «очищенным» данным = {0:.2%}'.format(\n",
    "        orders[\n",
    "            np.logical_and(\n",
    "                orders['group'] == 'B',\n",
    "                np.logical_not(orders['visitorId'].isin(abnormal_users)),\n",
    "            )\n",
    "        ]['revenue'].mean()\n",
    "        / orders[\n",
    "            np.logical_and(\n",
    "                orders['group'] == 'A',\n",
    "                np.logical_not(orders['visitorId'].isin(abnormal_users)),\n",
    "            )\n",
    "        ]['revenue'].mean()\n",
    "        - 1\n",
    "    )\n",
    ")"
   ]
  },
  {
   "cell_type": "markdown",
   "metadata": {},
   "source": [
    "Различие в среднем чеке заказа между группами по «очищенным» данным по прежнему не является статистически значимым, однако на них средний чек группы B стал даже ниже среднего чека группы A (-3.37%)."
   ]
  },
  {
   "cell_type": "markdown",
   "metadata": {},
   "source": [
    "### <a id='14'>14. Решение по результатам теста</a>"
   ]
  },
  {
   "cell_type": "markdown",
   "metadata": {},
   "source": [
    "Имеющиеся факты:\n",
    "- Относительный выигрыш группы B над группой А в конверсии является статистически значимым как по «сырым», так и по «очищенным» данным, и составляет порядка 16-17%.\n",
    "- Различие в среднем чеке заказа между группами не является статистически значимым ни по «сырым», ни по «очищенным» данным.\n",
    "- График различия конверсии между группами сообщает, что наблюдается прирост конверсии группы B относительно группы A.\n",
    "\n",
    "Исходя из обнаруженных фактов, тест следует остановить, зафиксировав победу группы B, то есть сбор базы клиентов для email-рассылок может повысить конверсию, не повлияв на средний чек."
   ]
  },
  {
   "cell_type": "markdown",
   "metadata": {},
   "source": [
    "### Вывод"
   ]
  },
  {
   "cell_type": "markdown",
   "metadata": {},
   "source": [
    "Датафрейм **orders** состоит из 1 197 строк и 5 столбцов. Пропусков и дубликатов нет. Тип данных в столбце *date* — *object*, а не *datetime*.\n",
    "\n",
    "Датафрейм **visitors** состоит из 62 строк и 3 столбцов. Пропусков и дубликатов нет. Тип данных в столбце *date* — *object*, а не *datetime*.\n",
    "\n",
    "Типы данных в столбцах *date* датафреймов *orders* и *visitors* были приведены к типу *datetime64[ns]*.\n",
    "\n",
    "Оказалось, что 58 пользователей попали одновременно в контрольную и тестовую группы. Такого быть не должно.\n",
    "\n",
    "Доля пользователей, попавших в обе группы, составила 5.63%.\n",
    "Доля заказов, совершённых этими пользователями: 15.12%.\n",
    "Доля выручки от этих пользователей: 15.60%.\n",
    "\n",
    "Как мы видим, таких пользователей не так много, однако 15% заказов и выручки принесли именно они. Тем не менее, для корректного анализа теста от этих данных пришлось избавиться.\n",
    "\n",
    "Группа B обгоняет группу A по кумулятивной выручке почти с самого начала. Стоит отметить резкий рост графика кумулятивной выручки группы B в промежутке 17-21 августа. Это может сигнализировать о всплесках числа заказов или о появлении очень дорогих заказов в выборке.\n",
    "\n",
    "Средний чек ведёт себя неравномерно на протяжении всего теста. Средний чек группы B резко растёт на том же самом временном промежутке, что и кумулятивная выручка этой группы. Заметно так называемое «возвращение к среднему», характерное для единоразовых мощных выбросов. Однозначно оценить эту метрику в разрезе групп по графику не удаётся.\n",
    "\n",
    "В нескольких точках график различия между сегментами резко «скачет». Крупные заказы и выбросы, безусловно, присутствуют.\n",
    "\n",
    "Кумулятивная конверсия группы A была лучше лишь в самом начале теста, после чего группа B вырвалась вперёд. К концу теста графики относительно стабилизировались.\n",
    "\n",
    "Наблюдается прирост конверсии группы B относительно группы A.\n",
    "\n",
    "Имеем много пользователей, совершивших один единственный заказ. Второй заказ делают ощутимо реже, не говоря о третьем.\n",
    "\n",
    "Не более 1% пользователей оформляли более чем два заказа всего 5% пользователей заказывали более одного раза. Разумно выбрать 1 заказ на одного пользователя за нижнюю границу числа заказов и отсеять аномальных пользователей по ней.\n",
    "\n",
    "Дорогих заказов практически нет. Будем считать аномальными заказы со стоимостью более 26 785 у.е.\n",
    "\n",
    "Относительный выигрыш группы B над группой А в конверсии по «сырым» данным является статистически значимым.\n",
    "\n",
    "Причин отвергать нулевую гипотезу и считать, что в среднем чеке есть различия, нет. Впрочем, средний чек группы B выше среднего чека группы A (на 28%).\n",
    "\n",
    "Всего 86 аномальных пользователей.\n",
    "\n",
    "Результаты по конверсии на «очищенных» данных практически не изменились.\n",
    "\n",
    "Различия в среднем чеке заказа между группами по «очищенным» данным по прежнему не является статистически значимым, однако на них средний чек группы B стал даже ниже среднего чека группы A (-3.37%).\n",
    "\n",
    "Имеющиеся факты:\n",
    "- Относительный выигрыш группы B над группой А в конверсии является статистически значимым как по «сырым», так и по «очищенным» данным, и составляет порядка 16-17%.\n",
    "- Различие в среднем чеке заказа между группами не является статистически значимым ни по «сырым», ни по «очищенным» данным.\n",
    "- График различия конверсии между группами сообщает, что наблюдается прирост конверсии группы B относительно группы A.\n",
    "\n",
    "Исходя из обнаруженных фактов, тест следует остановить, зафиксировав победу группы B, то есть сбор базы клиентов для email-рассылок может повысить конверсию, не повлияв на средний чек."
   ]
  }
 ],
 "metadata": {
  "kernelspec": {
   "display_name": "Python 3",
   "language": "python",
   "name": "python3"
  },
  "language_info": {
   "codemirror_mode": {
    "name": "ipython",
    "version": 3
   },
   "file_extension": ".py",
   "mimetype": "text/x-python",
   "name": "python",
   "nbconvert_exporter": "python",
   "pygments_lexer": "ipython3",
   "version": "3.8.5"
  },
  "toc": {
   "base_numbering": 1,
   "nav_menu": {},
   "number_sections": false,
   "sideBar": true,
   "skip_h1_title": true,
   "title_cell": "Table of Contents",
   "title_sidebar": "Contents",
   "toc_cell": false,
   "toc_position": {},
   "toc_section_display": true,
   "toc_window_display": false
  }
 },
 "nbformat": 4,
 "nbformat_minor": 2
}
