{
 "cells": [
  {
   "cell_type": "markdown",
   "metadata": {},
   "source": [
    "# Событийная аналитика в мобильном приложении"
   ]
  },
  {
   "cell_type": "markdown",
   "metadata": {},
   "source": [
    "## Задача"
   ]
  },
  {
   "cell_type": "markdown",
   "metadata": {},
   "source": [
    "Исследовать поведение пользователей мобильного приложения. Изучить воронку продаж. Исследовать результаты A/A/B-эксперимента, цель которого — установить влияние на пользователей нового шрифта."
   ]
  },
  {
   "cell_type": "markdown",
   "metadata": {},
   "source": [
    "## Описание данных"
   ]
  },
  {
   "cell_type": "markdown",
   "metadata": {},
   "source": [
    "Каждая запись в логе — это действие пользователя, или событие.\n",
    "\n",
    "- EventName — название события;\n",
    "- DeviceIDHash — уникальный идентификатор пользователя;\n",
    "- EventTimestamp — время события;\n",
    "- ExpId — номер эксперимента: 246 и 247 — контрольные группы, а 248 — экспериментальная."
   ]
  },
  {
   "cell_type": "markdown",
   "metadata": {},
   "source": [
    "## Оглавление"
   ]
  },
  {
   "cell_type": "markdown",
   "metadata": {},
   "source": [
    "### [Шаг 1. Открытие файла с данными и изучение общей информации](#read_data)\n",
    "### [Шаг 2. Подготовка данных](#data_preparation)\n",
    "### [Шаг 3. Изучение и провека данных](#data_checking)\n",
    "### [Шаг 4. Изучение воронки событий](#funnel_exploration)\n",
    "### [Шаг 5. Изучение результатов эксперимента](#results)\n",
    "### [Шаг 6. Общий вывод](#general_conclusion)"
   ]
  },
  {
   "cell_type": "markdown",
   "metadata": {},
   "source": [
    "## Ход работы"
   ]
  },
  {
   "cell_type": "markdown",
   "metadata": {},
   "source": [
    "#### Импортируем необходимые для работы библиотеки."
   ]
  },
  {
   "cell_type": "code",
   "execution_count": 1,
   "metadata": {},
   "outputs": [],
   "source": [
    "import pandas as pd\n",
    "import numpy as np\n",
    "from matplotlib import pyplot as plt\n",
    "from scipy import stats as st\n",
    "import math as mth\n",
    "import warnings\n",
    "warnings.simplefilter('ignore')"
   ]
  },
  {
   "cell_type": "markdown",
   "metadata": {},
   "source": [
    "## <a id='read_data'>Шаг 1. Открытие файла с данными и изучение общей информации</a>"
   ]
  },
  {
   "cell_type": "code",
   "execution_count": 2,
   "metadata": {},
   "outputs": [],
   "source": [
    "def review_file(filename):\n",
    "    '''\n",
    "    Функция сохраняет данные в возвращаемую переменную\n",
    "    и выводит необходимую информацию на экран.\n",
    "    \n",
    "    Аргументы:\n",
    "        filename (str): путь к файлу.\n",
    "    '''\n",
    "    \n",
    "    table = pd.read_csv(filename, sep='\\t')\n",
    "    \n",
    "    print('\\033[1m'\n",
    "          + 'Общая информация о таблице:'\n",
    "          + '\\033[0m')\n",
    "    print()\n",
    "    table.info()\n",
    "    print()\n",
    "    \n",
    "    print('\\033[1m'\n",
    "          + 'Первые 10 строк таблицы:'\n",
    "          + '\\033[0m')\n",
    "    display(table.head(10))\n",
    "        \n",
    "    print('\\033[1m' +\n",
    "          'Количество пропусков в каждом столбце таблицы:'\n",
    "          + '\\033[0m')\n",
    "    display(pd.DataFrame(table.isna().sum()))\n",
    "    \n",
    "    print('\\033[1m'\n",
    "          + f'Число дубликатов в таблице: {table.duplicated().sum()}'\n",
    "          + '\\033[0m')\n",
    "    \n",
    "    return table"
   ]
  },
  {
   "cell_type": "code",
   "execution_count": 3,
   "metadata": {},
   "outputs": [
    {
     "name": "stdout",
     "output_type": "stream",
     "text": [
      "\u001b[1mОбщая информация о таблице:\u001b[0m\n",
      "\n",
      "<class 'pandas.core.frame.DataFrame'>\n",
      "RangeIndex: 244126 entries, 0 to 244125\n",
      "Data columns (total 4 columns):\n",
      "EventName         244126 non-null object\n",
      "DeviceIDHash      244126 non-null int64\n",
      "EventTimestamp    244126 non-null int64\n",
      "ExpId             244126 non-null int64\n",
      "dtypes: int64(3), object(1)\n",
      "memory usage: 7.5+ MB\n",
      "\n",
      "\u001b[1mПервые 10 строк таблицы:\u001b[0m\n"
     ]
    },
    {
     "data": {
      "text/html": [
       "<div>\n",
       "<style scoped>\n",
       "    .dataframe tbody tr th:only-of-type {\n",
       "        vertical-align: middle;\n",
       "    }\n",
       "\n",
       "    .dataframe tbody tr th {\n",
       "        vertical-align: top;\n",
       "    }\n",
       "\n",
       "    .dataframe thead th {\n",
       "        text-align: right;\n",
       "    }\n",
       "</style>\n",
       "<table border=\"1\" class=\"dataframe\">\n",
       "  <thead>\n",
       "    <tr style=\"text-align: right;\">\n",
       "      <th></th>\n",
       "      <th>EventName</th>\n",
       "      <th>DeviceIDHash</th>\n",
       "      <th>EventTimestamp</th>\n",
       "      <th>ExpId</th>\n",
       "    </tr>\n",
       "  </thead>\n",
       "  <tbody>\n",
       "    <tr>\n",
       "      <td>0</td>\n",
       "      <td>MainScreenAppear</td>\n",
       "      <td>4575588528974610257</td>\n",
       "      <td>1564029816</td>\n",
       "      <td>246</td>\n",
       "    </tr>\n",
       "    <tr>\n",
       "      <td>1</td>\n",
       "      <td>MainScreenAppear</td>\n",
       "      <td>7416695313311560658</td>\n",
       "      <td>1564053102</td>\n",
       "      <td>246</td>\n",
       "    </tr>\n",
       "    <tr>\n",
       "      <td>2</td>\n",
       "      <td>PaymentScreenSuccessful</td>\n",
       "      <td>3518123091307005509</td>\n",
       "      <td>1564054127</td>\n",
       "      <td>248</td>\n",
       "    </tr>\n",
       "    <tr>\n",
       "      <td>3</td>\n",
       "      <td>CartScreenAppear</td>\n",
       "      <td>3518123091307005509</td>\n",
       "      <td>1564054127</td>\n",
       "      <td>248</td>\n",
       "    </tr>\n",
       "    <tr>\n",
       "      <td>4</td>\n",
       "      <td>PaymentScreenSuccessful</td>\n",
       "      <td>6217807653094995999</td>\n",
       "      <td>1564055322</td>\n",
       "      <td>248</td>\n",
       "    </tr>\n",
       "    <tr>\n",
       "      <td>5</td>\n",
       "      <td>CartScreenAppear</td>\n",
       "      <td>6217807653094995999</td>\n",
       "      <td>1564055323</td>\n",
       "      <td>248</td>\n",
       "    </tr>\n",
       "    <tr>\n",
       "      <td>6</td>\n",
       "      <td>OffersScreenAppear</td>\n",
       "      <td>8351860793733343758</td>\n",
       "      <td>1564066242</td>\n",
       "      <td>246</td>\n",
       "    </tr>\n",
       "    <tr>\n",
       "      <td>7</td>\n",
       "      <td>MainScreenAppear</td>\n",
       "      <td>5682100281902512875</td>\n",
       "      <td>1564085677</td>\n",
       "      <td>246</td>\n",
       "    </tr>\n",
       "    <tr>\n",
       "      <td>8</td>\n",
       "      <td>MainScreenAppear</td>\n",
       "      <td>1850981295691852772</td>\n",
       "      <td>1564086702</td>\n",
       "      <td>247</td>\n",
       "    </tr>\n",
       "    <tr>\n",
       "      <td>9</td>\n",
       "      <td>MainScreenAppear</td>\n",
       "      <td>5407636962369102641</td>\n",
       "      <td>1564112112</td>\n",
       "      <td>246</td>\n",
       "    </tr>\n",
       "  </tbody>\n",
       "</table>\n",
       "</div>"
      ],
      "text/plain": [
       "                 EventName         DeviceIDHash  EventTimestamp  ExpId\n",
       "0         MainScreenAppear  4575588528974610257      1564029816    246\n",
       "1         MainScreenAppear  7416695313311560658      1564053102    246\n",
       "2  PaymentScreenSuccessful  3518123091307005509      1564054127    248\n",
       "3         CartScreenAppear  3518123091307005509      1564054127    248\n",
       "4  PaymentScreenSuccessful  6217807653094995999      1564055322    248\n",
       "5         CartScreenAppear  6217807653094995999      1564055323    248\n",
       "6       OffersScreenAppear  8351860793733343758      1564066242    246\n",
       "7         MainScreenAppear  5682100281902512875      1564085677    246\n",
       "8         MainScreenAppear  1850981295691852772      1564086702    247\n",
       "9         MainScreenAppear  5407636962369102641      1564112112    246"
      ]
     },
     "metadata": {},
     "output_type": "display_data"
    },
    {
     "name": "stdout",
     "output_type": "stream",
     "text": [
      "\u001b[1mКоличество пропусков в каждом столбце таблицы:\u001b[0m\n"
     ]
    },
    {
     "data": {
      "text/html": [
       "<div>\n",
       "<style scoped>\n",
       "    .dataframe tbody tr th:only-of-type {\n",
       "        vertical-align: middle;\n",
       "    }\n",
       "\n",
       "    .dataframe tbody tr th {\n",
       "        vertical-align: top;\n",
       "    }\n",
       "\n",
       "    .dataframe thead th {\n",
       "        text-align: right;\n",
       "    }\n",
       "</style>\n",
       "<table border=\"1\" class=\"dataframe\">\n",
       "  <thead>\n",
       "    <tr style=\"text-align: right;\">\n",
       "      <th></th>\n",
       "      <th>0</th>\n",
       "    </tr>\n",
       "  </thead>\n",
       "  <tbody>\n",
       "    <tr>\n",
       "      <td>EventName</td>\n",
       "      <td>0</td>\n",
       "    </tr>\n",
       "    <tr>\n",
       "      <td>DeviceIDHash</td>\n",
       "      <td>0</td>\n",
       "    </tr>\n",
       "    <tr>\n",
       "      <td>EventTimestamp</td>\n",
       "      <td>0</td>\n",
       "    </tr>\n",
       "    <tr>\n",
       "      <td>ExpId</td>\n",
       "      <td>0</td>\n",
       "    </tr>\n",
       "  </tbody>\n",
       "</table>\n",
       "</div>"
      ],
      "text/plain": [
       "                0\n",
       "EventName       0\n",
       "DeviceIDHash    0\n",
       "EventTimestamp  0\n",
       "ExpId           0"
      ]
     },
     "metadata": {},
     "output_type": "display_data"
    },
    {
     "name": "stdout",
     "output_type": "stream",
     "text": [
      "\u001b[1mЧисло дубликатов в таблице: 413\u001b[0m\n"
     ]
    }
   ],
   "source": [
    "logs_exp = review_file('/datasets/logs_exp.csv')"
   ]
  },
  {
   "cell_type": "markdown",
   "metadata": {},
   "source": [
    "### Вывод"
   ]
  },
  {
   "cell_type": "markdown",
   "metadata": {},
   "source": [
    "Датафрейм **logs_exp** состоит из 244 126 строк и 4 столбцов. Пропусков нет. Обнаружены некорректные типы данных. Обнаружено 413 дубликатов."
   ]
  },
  {
   "cell_type": "markdown",
   "metadata": {},
   "source": [
    "## <a id='data_preparation'>Шаг 2. Подготовка данных</a>"
   ]
  },
  {
   "cell_type": "markdown",
   "metadata": {},
   "source": [
    "#### Заменим названия столбцов таблицы на названия, удобные для анализа."
   ]
  },
  {
   "cell_type": "code",
   "execution_count": 4,
   "metadata": {},
   "outputs": [],
   "source": [
    "logs_exp = logs_exp.rename(columns={\n",
    "    'EventName': 'event_name',\n",
    "    'DeviceIDHash': 'user_id',\n",
    "    'EventTimestamp': 'event_ts',\n",
    "    'ExpId': 'exp_id'\n",
    "})"
   ]
  },
  {
   "cell_type": "markdown",
   "metadata": {},
   "source": [
    "Причина возникновения 413 дубликатов в данных остаётся неясной. Возможно, причиной служит технический сбой в системе сбора данных."
   ]
  },
  {
   "cell_type": "markdown",
   "metadata": {},
   "source": [
    "#### Избавимся от дубликатов."
   ]
  },
  {
   "cell_type": "code",
   "execution_count": 5,
   "metadata": {},
   "outputs": [],
   "source": [
    "logs_exp = logs_exp.drop_duplicates()"
   ]
  },
  {
   "cell_type": "markdown",
   "metadata": {},
   "source": [
    "Хранить идентификаторы в числовом формате нежелательно."
   ]
  },
  {
   "cell_type": "markdown",
   "metadata": {},
   "source": [
    "#### Откорректируем типы данных."
   ]
  },
  {
   "cell_type": "code",
   "execution_count": 6,
   "metadata": {},
   "outputs": [],
   "source": [
    "logs_exp['user_id'] = logs_exp['user_id'].astype('str')\n",
    "logs_exp['exp_id'] = logs_exp['exp_id'].astype('str')"
   ]
  },
  {
   "cell_type": "markdown",
   "metadata": {},
   "source": [
    "#### Добавим столбец даты и времени, а также отдельный столбец дат."
   ]
  },
  {
   "cell_type": "code",
   "execution_count": 7,
   "metadata": {},
   "outputs": [],
   "source": [
    "logs_exp['event_time'] = pd.to_datetime(logs_exp['event_ts'], unit='s')\n",
    "logs_exp['event_date'] = pd.to_datetime(logs_exp['event_time'].dt.date)"
   ]
  },
  {
   "cell_type": "markdown",
   "metadata": {},
   "source": [
    "### Вывод"
   ]
  },
  {
   "cell_type": "markdown",
   "metadata": {},
   "source": [
    "Заменены названия столбцов для удобства анализа. Удалены дубликаты. Откорректированы типы данных. Добавлены столбец даты и времени, а также отдельный столбец дат."
   ]
  },
  {
   "cell_type": "markdown",
   "metadata": {},
   "source": [
    "## <a id='data_checking'>Шаг 3. Изучение и провека данных</a>"
   ]
  },
  {
   "cell_type": "markdown",
   "metadata": {},
   "source": [
    "#### Найдём число событий в логе."
   ]
  },
  {
   "cell_type": "code",
   "execution_count": 8,
   "metadata": {},
   "outputs": [
    {
     "data": {
      "text/plain": [
       "MainScreenAppear           119101\n",
       "OffersScreenAppear          46808\n",
       "CartScreenAppear            42668\n",
       "PaymentScreenSuccessful     34118\n",
       "Tutorial                     1018\n",
       "Name: event_name, dtype: int64"
      ]
     },
     "execution_count": 8,
     "metadata": {},
     "output_type": "execute_result"
    }
   ],
   "source": [
    "logs_exp['event_name'].value_counts()"
   ]
  },
  {
   "cell_type": "markdown",
   "metadata": {},
   "source": [
    "В логе 5 уникальных событий:\n",
    "1. Появление главной страницы.\n",
    "2. Появление страницы с предложениями.\n",
    "3. Появление страницы с корзиной.\n",
    "4. Появление страницы с успешной оплатой.\n",
    "5. Руководство."
   ]
  },
  {
   "cell_type": "markdown",
   "metadata": {},
   "source": [
    "#### Найдём число пользователей в логе."
   ]
  },
  {
   "cell_type": "code",
   "execution_count": 9,
   "metadata": {},
   "outputs": [
    {
     "name": "stdout",
     "output_type": "stream",
     "text": [
      "Всего в логе 7551 пользователей.\n"
     ]
    }
   ],
   "source": [
    "print(f\"Всего в логе {logs_exp['user_id'].nunique()} пользователей.\")"
   ]
  },
  {
   "cell_type": "markdown",
   "metadata": {},
   "source": [
    "#### Найдём среднее число событий, приходящихся на пользователя."
   ]
  },
  {
   "cell_type": "code",
   "execution_count": 10,
   "metadata": {},
   "outputs": [],
   "source": [
    "def define_bins(series): \n",
    "    if series.max() > 100:\n",
    "        return 50\n",
    "    elif series.max() > 500:\n",
    "        return 100\n",
    "    elif series.max() > 1000:\n",
    "        return 200\n",
    "    else:\n",
    "        return 20"
   ]
  },
  {
   "cell_type": "code",
   "execution_count": 11,
   "metadata": {},
   "outputs": [],
   "source": [
    "def draw_hist(series, title, xlabel, draw_lines=True, datetime=False):\n",
    "    '''\n",
    "    Функция рисует гистограмму заданного объекта типа Series.\n",
    "    \n",
    "    Аргументы:\n",
    "        series (pandas.core.series.Series): объект типа Series.\n",
    "        \n",
    "        title (str): заголовок гистограммы.\n",
    "        \n",
    "        xlabel (str): подпись оси абсцисс.\n",
    "        \n",
    "        draw_lines (bool): нарисовать медиану, 5-ый и 95-ый перцентили.\n",
    "        \n",
    "        datetime (bool): индикатор типа данных datetime.\n",
    "    '''\n",
    "    \n",
    "    # Определяем число корзин\n",
    "    # Если данные имеют тип datetime\n",
    "    if datetime:\n",
    "        # Устанавливаем значение 100\n",
    "        bins = 100\n",
    "        # На всём отрезке\n",
    "        range = (series.min(), series.max())\n",
    "        # С поворотом чисел на отметках абсциссы\n",
    "        labelrotation = 45\n",
    "    # Иначе\n",
    "    else:\n",
    "        # Определяем оптимальное число корзин\n",
    "        bins = define_bins(series)\n",
    "        # Определяем отрезок от 0 до 99-го перцентиля\n",
    "        range = (0, series.quantile(.99))\n",
    "        # Не поворачивая числа на отметках абсциссы\n",
    "        labelrotation = 0\n",
    "    \n",
    "    # Создаём фигуру\n",
    "    plt.figure(figsize=(15, 6))\n",
    "    # Строим гистограмму\n",
    "    plt.hist(series,                                 # по Series\n",
    "             range=range,                            # на определённом отрезке\n",
    "             bins=bins,                              # с определённым числом корзин\n",
    "             alpha=0.5,                              # с прозрачностью 0.5\n",
    "             ec='black',                             # с чёрным цветом обводки\n",
    "             color='green')                          # с зелёным цветом графика\n",
    "    # Если необходимо нарисовать нарисовать медиану, 5-ый и 95-ый перцентили\n",
    "    if draw_lines:\n",
    "        plt.axvline(x=series.median(),               # рисуем медиану\n",
    "                    linewidth=3,                     # с толщиной линий 3\n",
    "                    color='red',                     # красного цвета\n",
    "                    linestyle='--')                  # пунктирным стилем\n",
    "        plt.axvline(x=series.quantile(.05),          # рисуем 5-ый перцентиль\n",
    "                    linewidth=3, \n",
    "                    color='y',                       # тёмно-жёлтого цвета\n",
    "                    linestyle='--')\n",
    "        plt.axvline(x=series.quantile(.95),          # рисуем 95-ый перцентиль\n",
    "                    linewidth=3, \n",
    "                    color='y', \n",
    "                    linestyle='--')\n",
    "        # Добавляем легенду\n",
    "        plt.legend(labels=['Медиана', '5-ый и 95-ый перцентили'], fontsize=15)\n",
    "    # Увеличиваем числа на отметках осей\n",
    "    plt.tick_params(labelsize=15)\n",
    "    # Задаём угол поворота чисел на абсциссе\n",
    "    plt.tick_params(labelrotation=labelrotation, axis='x')\n",
    "    # Добавляем заголовок\n",
    "    plt.title(title, fontsize=15)\n",
    "    # Добавляем подпись оси абсцисс\n",
    "    plt.xlabel(xlabel, fontsize=15)\n",
    "    # Добавляем подпись оси ординат\n",
    "    plt.ylabel('Число наблюдений', fontsize=15)\n",
    "    # Рисуем сетку\n",
    "    plt.grid()\n",
    "    # Рисуем график\n",
    "    plt.show()"
   ]
  },
  {
   "cell_type": "code",
   "execution_count": 12,
   "metadata": {},
   "outputs": [],
   "source": [
    "events_per_user = logs_exp.groupby('user_id').agg({'event_name': 'count'})"
   ]
  },
  {
   "cell_type": "markdown",
   "metadata": {},
   "source": [
    "#### Взглянем на распределение числа событий, приходящихся на пользователя."
   ]
  },
  {
   "cell_type": "code",
   "execution_count": 13,
   "metadata": {},
   "outputs": [
    {
     "data": {
      "image/png": "[encoded data removed]",
      "text/plain": [
       "<Figure size 1080x432 with 1 Axes>"
      ]
     },
     "metadata": {
      "needs_background": "light"
     },
     "output_type": "display_data"
    }
   ],
   "source": [
    "draw_hist(\n",
    "    events_per_user['event_name'], \n",
    "    'Распределение числа событий, приходящихся на пользователя', \n",
    "    'Число событий'\n",
    ")"
   ]
  },
  {
   "cell_type": "code",
   "execution_count": 14,
   "metadata": {},
   "outputs": [
    {
     "name": "stdout",
     "output_type": "stream",
     "text": [
      "Среднее число событий, приходящихся на пользователя: 32.28.\n"
     ]
    }
   ],
   "source": [
    "print(\n",
    "    'Среднее число событий, приходящихся на пользователя: '\n",
    "    + f'{(events_per_user.mean()[0]):.2f}.'\n",
    ")"
   ]
  },
  {
   "cell_type": "markdown",
   "metadata": {},
   "source": [
    "Так как распределение числа событий, приходящихся на пользователя, не является нормальным и содержит выбросы, разумнее будет использовать медиану."
   ]
  },
  {
   "cell_type": "code",
   "execution_count": 15,
   "metadata": {},
   "outputs": [
    {
     "name": "stdout",
     "output_type": "stream",
     "text": [
      "Медианное число событий, приходящихся на пользователя: 20.0.\n"
     ]
    }
   ],
   "source": [
    "print(\n",
    "    'Медианное число событий, приходящихся на пользователя: '\n",
    "    + f'{events_per_user.median()[0]}.'\n",
    ")"
   ]
  },
  {
   "cell_type": "markdown",
   "metadata": {},
   "source": [
    "#### Определим, данными за какой период мы располагаем."
   ]
  },
  {
   "cell_type": "code",
   "execution_count": 16,
   "metadata": {},
   "outputs": [
    {
     "data": {
      "text/plain": [
       "count                  243713\n",
       "unique                 176654\n",
       "top       2019-08-01 14:40:35\n",
       "freq                        9\n",
       "first     2019-07-25 04:43:36\n",
       "last      2019-08-07 21:15:17\n",
       "Name: event_time, dtype: object"
      ]
     },
     "execution_count": 16,
     "metadata": {},
     "output_type": "execute_result"
    }
   ],
   "source": [
    "logs_exp['event_time'].describe()"
   ]
  },
  {
   "cell_type": "markdown",
   "metadata": {},
   "source": [
    "Располагаем данными за период с 25 июля по 7 августа 2019 года."
   ]
  },
  {
   "cell_type": "code",
   "execution_count": 17,
   "metadata": {},
   "outputs": [
    {
     "data": {
      "image/png": "[encoded data removed]",
      "text/plain": [
       "<Figure size 1080x432 with 1 Axes>"
      ]
     },
     "metadata": {
      "needs_background": "light"
     },
     "output_type": "display_data"
    }
   ],
   "source": [
    "draw_hist(\n",
    "    logs_exp['event_time'], \n",
    "    'Распределение даты и времени событий', \n",
    "    'Дата', \n",
    "    draw_lines=False, \n",
    "    datetime=True\n",
    ")"
   ]
  },
  {
   "cell_type": "code",
   "execution_count": 18,
   "metadata": {
    "scrolled": false
   },
   "outputs": [
    {
     "data": {
      "image/png": "[encoded data removed]",
      "text/plain": [
       "<Figure size 1080x432 with 1 Axes>"
      ]
     },
     "metadata": {
      "needs_background": "light"
     },
     "output_type": "display_data"
    },
    {
     "data": {
      "image/png": "[encoded data removed]",
      "text/plain": [
       "<Figure size 1080x432 with 1 Axes>"
      ]
     },
     "metadata": {
      "needs_background": "light"
     },
     "output_type": "display_data"
    },
    {
     "data": {
      "image/png": "[encoded data removed]",
      "text/plain": [
       "<Figure size 1080x432 with 1 Axes>"
      ]
     },
     "metadata": {
      "needs_background": "light"
     },
     "output_type": "display_data"
    },
    {
     "data": {
      "image/png": "[encoded data removed]",
      "text/plain": [
       "<Figure size 1080x432 with 1 Axes>"
      ]
     },
     "metadata": {
      "needs_background": "light"
     },
     "output_type": "display_data"
    },
    {
     "data": {
      "image/png": "[encoded data removed]",
      "text/plain": [
       "<Figure size 1080x432 with 1 Axes>"
      ]
     },
     "metadata": {
      "needs_background": "light"
     },
     "output_type": "display_data"
    }
   ],
   "source": [
    "for name in logs_exp['event_name'].unique():\n",
    "    draw_hist(\n",
    "        logs_exp.query('event_name == @name')['event_time'],\n",
    "        f'Распределение даты и времени события {name}',\n",
    "        'Дата',\n",
    "        draw_lines=False, \n",
    "        datetime=True\n",
    "    )"
   ]
  },
  {
   "cell_type": "markdown",
   "metadata": {},
   "source": [
    "Оказалось, что данные до августа 2019 года являются неполными. Полагаю, эксперимент начался 1 августа."
   ]
  },
  {
   "cell_type": "markdown",
   "metadata": {},
   "source": [
    "#### Отбросим неполные данные."
   ]
  },
  {
   "cell_type": "code",
   "execution_count": 19,
   "metadata": {},
   "outputs": [],
   "source": [
    "comp_data = logs_exp.query('event_date >= \"2019-08-01\"')"
   ]
  },
  {
   "cell_type": "markdown",
   "metadata": {},
   "source": [
    "Таким образом, на самом деле мы располагаем данными за период с 1 по 7 августа 2019 года."
   ]
  },
  {
   "cell_type": "markdown",
   "metadata": {},
   "source": [
    "#### Найдём число и долю потерянных событий после отброса старых данных."
   ]
  },
  {
   "cell_type": "code",
   "execution_count": 20,
   "metadata": {},
   "outputs": [
    {
     "name": "stdout",
     "output_type": "stream",
     "text": [
      "Потеряно 2826 событий.\n"
     ]
    }
   ],
   "source": [
    "print(f'Потеряно {logs_exp.shape[0] - comp_data.shape[0]} событий.')"
   ]
  },
  {
   "cell_type": "code",
   "execution_count": 21,
   "metadata": {},
   "outputs": [
    {
     "name": "stdout",
     "output_type": "stream",
     "text": [
      "Потеряно 1.16% событий.\n"
     ]
    }
   ],
   "source": [
    "print(\n",
    "    'Потеряно '\n",
    "    + f'{((logs_exp.shape[0] - comp_data.shape[0]) / logs_exp.shape[0]):.2%} '\n",
    "    + 'событий.'\n",
    ")"
   ]
  },
  {
   "cell_type": "markdown",
   "metadata": {},
   "source": [
    "Отбросив данные, мы потеряли незначительную их часть (2 826 или 1.16% событий)."
   ]
  },
  {
   "cell_type": "markdown",
   "metadata": {},
   "source": [
    "#### Найдём число и долю потерянных пользователей после отброса старых данных."
   ]
  },
  {
   "cell_type": "code",
   "execution_count": 22,
   "metadata": {},
   "outputs": [
    {
     "name": "stdout",
     "output_type": "stream",
     "text": [
      "Потеряно 17 пользователей.\n"
     ]
    }
   ],
   "source": [
    "print(\n",
    "    'Потеряно '\n",
    "    + f\"{logs_exp['user_id'].nunique() - comp_data['user_id'].nunique()} \"\n",
    "    + 'пользователей.'\n",
    ")"
   ]
  },
  {
   "cell_type": "code",
   "execution_count": 23,
   "metadata": {},
   "outputs": [
    {
     "name": "stdout",
     "output_type": "stream",
     "text": [
      "Потеряно 0.23% пользователей.\n"
     ]
    }
   ],
   "source": [
    "print(\n",
    "    'Потеряно '\n",
    "    + '{:.2%} '\n",
    "    .format(\n",
    "        (logs_exp['user_id'].nunique() - comp_data['user_id'].nunique()) \n",
    "        / logs_exp['user_id'].nunique()\n",
    "    )\n",
    "    + 'пользователей.'\n",
    ")"
   ]
  },
  {
   "cell_type": "markdown",
   "metadata": {},
   "source": [
    "Доля потерянных пользователей составляет 0.23% (17 пользователей). "
   ]
  },
  {
   "cell_type": "markdown",
   "metadata": {},
   "source": [
    "#### Проверим корректность разделения пользователей по группам."
   ]
  },
  {
   "cell_type": "code",
   "execution_count": 24,
   "metadata": {},
   "outputs": [
    {
     "data": {
      "text/plain": [
       "False    79302\n",
       "Name: user_id, dtype: int64"
      ]
     },
     "metadata": {},
     "output_type": "display_data"
    },
    {
     "data": {
      "text/plain": [
       "False    79302\n",
       "Name: user_id, dtype: int64"
      ]
     },
     "metadata": {},
     "output_type": "display_data"
    },
    {
     "data": {
      "text/plain": [
       "False    77022\n",
       "Name: user_id, dtype: int64"
      ]
     },
     "metadata": {},
     "output_type": "display_data"
    }
   ],
   "source": [
    "group_a1 = comp_data.query('exp_id == \"246\"')\n",
    "group_a2 = comp_data.query('exp_id == \"247\"')\n",
    "group_b = comp_data.query('exp_id == \"248\"')\n",
    "\n",
    "display(\n",
    "    group_a1['user_id'].isin(group_a2['user_id']).value_counts(),\n",
    "    group_a1['user_id'].isin(group_b['user_id']).value_counts(),\n",
    "    group_a2['user_id'].isin(group_b['user_id']).value_counts()\n",
    ")"
   ]
  },
  {
   "cell_type": "markdown",
   "metadata": {},
   "source": [
    "Распределение пользователей по группам выполнено корректно."
   ]
  },
  {
   "cell_type": "markdown",
   "metadata": {},
   "source": [
    "#### Проверим, что в данных присутствуют пользователи их всех трёх эксперементальных групп."
   ]
  },
  {
   "cell_type": "code",
   "execution_count": 25,
   "metadata": {},
   "outputs": [
    {
     "data": {
      "text/html": [
       "<div>\n",
       "<style scoped>\n",
       "    .dataframe tbody tr th:only-of-type {\n",
       "        vertical-align: middle;\n",
       "    }\n",
       "\n",
       "    .dataframe tbody tr th {\n",
       "        vertical-align: top;\n",
       "    }\n",
       "\n",
       "    .dataframe thead th {\n",
       "        text-align: right;\n",
       "    }\n",
       "</style>\n",
       "<table border=\"1\" class=\"dataframe\">\n",
       "  <thead>\n",
       "    <tr style=\"text-align: right;\">\n",
       "      <th></th>\n",
       "      <th>user_id</th>\n",
       "    </tr>\n",
       "    <tr>\n",
       "      <th>exp_id</th>\n",
       "      <th></th>\n",
       "    </tr>\n",
       "  </thead>\n",
       "  <tbody>\n",
       "    <tr>\n",
       "      <td>246</td>\n",
       "      <td>2484</td>\n",
       "    </tr>\n",
       "    <tr>\n",
       "      <td>247</td>\n",
       "      <td>2513</td>\n",
       "    </tr>\n",
       "    <tr>\n",
       "      <td>248</td>\n",
       "      <td>2537</td>\n",
       "    </tr>\n",
       "  </tbody>\n",
       "</table>\n",
       "</div>"
      ],
      "text/plain": [
       "        user_id\n",
       "exp_id         \n",
       "246        2484\n",
       "247        2513\n",
       "248        2537"
      ]
     },
     "execution_count": 25,
     "metadata": {},
     "output_type": "execute_result"
    }
   ],
   "source": [
    "comp_data.groupby('exp_id').agg({'user_id': 'nunique'})"
   ]
  },
  {
   "cell_type": "code",
   "execution_count": 26,
   "metadata": {},
   "outputs": [
    {
     "data": {
      "text/plain": [
       "7551"
      ]
     },
     "execution_count": 26,
     "metadata": {},
     "output_type": "execute_result"
    }
   ],
   "source": [
    "comp_data.groupby('exp_id').agg({'user_id': 'nunique'})['user_id'].sum() + 17"
   ]
  },
  {
   "cell_type": "markdown",
   "metadata": {},
   "source": [
    "В данных присутствуют пользователи их всех трёх эксперементальных групп."
   ]
  },
  {
   "cell_type": "markdown",
   "metadata": {},
   "source": [
    "### Вывод"
   ]
  },
  {
   "cell_type": "markdown",
   "metadata": {},
   "source": [
    "В логе 5 уникальных событий:\n",
    "1. Появление главной страницы.\n",
    "2. Появление страницы с предложениями.\n",
    "3. Появление страницы с корзиной.\n",
    "4. Появление страницы с успешной оплатой.\n",
    "5. Руководство.\n",
    "\n",
    "Всего в логе 7551 пользователей.\n",
    "\n",
    "Среднее число событий, приходящихся на пользователя: 32.\n",
    "\n",
    "Так как распределение числа событий, приходящихся на пользователя, не является нормальным и содержит выбросы, разумнее будет использовать медиану.\n",
    "\n",
    "Медианное число событий, приходящихся на пользователя: 20.\n",
    "\n",
    "Располагаем данными за период с 25 июля по 7 августа 2019 года. Однако данные до августа 2019 года являются неполными. Решено учитывать только полные данные в дальнейшем исследовании. Таким образом, на самом деле мы располагаем данными за период с 1 по 7 августа 2019 года.\n",
    "\n",
    "Отбросив данные, мы потеряли незначительную их часть (2 826 или 1.16% событий). Доля потерянных пользователей составляет 0.23% (17 пользователей).\n",
    "\n",
    "Распределение пользователей по группам выполнено корректно. В данных присутствуют пользователи их всех трёх эксперементальных групп."
   ]
  },
  {
   "cell_type": "markdown",
   "metadata": {},
   "source": [
    "## <a id='funnel_exploration'>Шаг 4. Изучение воронки событий</a>"
   ]
  },
  {
   "cell_type": "markdown",
   "metadata": {},
   "source": [
    "#### Посмотрим, какие события есть в логах и как часто они встречаются."
   ]
  },
  {
   "cell_type": "code",
   "execution_count": 27,
   "metadata": {},
   "outputs": [
    {
     "data": {
      "text/plain": [
       "MainScreenAppear           117328\n",
       "OffersScreenAppear          46333\n",
       "CartScreenAppear            42303\n",
       "PaymentScreenSuccessful     33918\n",
       "Tutorial                     1005\n",
       "Name: event_name, dtype: int64"
      ]
     },
     "execution_count": 27,
     "metadata": {},
     "output_type": "execute_result"
    }
   ],
   "source": [
    "comp_data['event_name'].value_counts()"
   ]
  },
  {
   "cell_type": "markdown",
   "metadata": {},
   "source": [
    "Как было отмечено выше, в логе всё те же 5 событий с логичной закономерностью частот появлений."
   ]
  },
  {
   "cell_type": "markdown",
   "metadata": {},
   "source": [
    "#### Посчитаем, сколько пользователей совершали каждое из событий."
   ]
  },
  {
   "cell_type": "code",
   "execution_count": 28,
   "metadata": {},
   "outputs": [
    {
     "data": {
      "text/html": [
       "<div>\n",
       "<style scoped>\n",
       "    .dataframe tbody tr th:only-of-type {\n",
       "        vertical-align: middle;\n",
       "    }\n",
       "\n",
       "    .dataframe tbody tr th {\n",
       "        vertical-align: top;\n",
       "    }\n",
       "\n",
       "    .dataframe thead th {\n",
       "        text-align: right;\n",
       "    }\n",
       "</style>\n",
       "<table border=\"1\" class=\"dataframe\">\n",
       "  <thead>\n",
       "    <tr style=\"text-align: right;\">\n",
       "      <th></th>\n",
       "      <th>event_name</th>\n",
       "      <th>user_amount</th>\n",
       "    </tr>\n",
       "  </thead>\n",
       "  <tbody>\n",
       "    <tr>\n",
       "      <td>0</td>\n",
       "      <td>Visit</td>\n",
       "      <td>7534</td>\n",
       "    </tr>\n",
       "    <tr>\n",
       "      <td>1</td>\n",
       "      <td>MainScreenAppear</td>\n",
       "      <td>7419</td>\n",
       "    </tr>\n",
       "    <tr>\n",
       "      <td>2</td>\n",
       "      <td>OffersScreenAppear</td>\n",
       "      <td>4593</td>\n",
       "    </tr>\n",
       "    <tr>\n",
       "      <td>3</td>\n",
       "      <td>CartScreenAppear</td>\n",
       "      <td>3734</td>\n",
       "    </tr>\n",
       "    <tr>\n",
       "      <td>4</td>\n",
       "      <td>PaymentScreenSuccessful</td>\n",
       "      <td>3539</td>\n",
       "    </tr>\n",
       "    <tr>\n",
       "      <td>5</td>\n",
       "      <td>Tutorial</td>\n",
       "      <td>840</td>\n",
       "    </tr>\n",
       "  </tbody>\n",
       "</table>\n",
       "</div>"
      ],
      "text/plain": [
       "                event_name  user_amount\n",
       "0                    Visit         7534\n",
       "1         MainScreenAppear         7419\n",
       "2       OffersScreenAppear         4593\n",
       "3         CartScreenAppear         3734\n",
       "4  PaymentScreenSuccessful         3539\n",
       "5                 Tutorial          840"
      ]
     },
     "execution_count": 28,
     "metadata": {},
     "output_type": "execute_result"
    }
   ],
   "source": [
    "event_funnel = (\n",
    "    comp_data\n",
    "    .groupby('event_name', as_index=False)\n",
    "    .agg({'user_id': 'nunique'})\n",
    "    .rename(columns={\n",
    "        'user_id': 'user_amount'\n",
    "    })\n",
    ")\n",
    "\n",
    "event_funnel.loc[5] = ['Visit', comp_data['user_id'].nunique()]\n",
    "\n",
    "event_funnel = (\n",
    "    event_funnel\n",
    "    .sort_values(by='user_amount', ascending=False)\n",
    "    .reset_index(drop=True)\n",
    ")\n",
    "\n",
    "event_funnel"
   ]
  },
  {
   "cell_type": "markdown",
   "metadata": {},
   "source": [
    "#### Найдём долю пользователей, которые хоть раз совершали событие."
   ]
  },
  {
   "cell_type": "code",
   "execution_count": 29,
   "metadata": {},
   "outputs": [
    {
     "data": {
      "text/html": [
       "<div>\n",
       "<style scoped>\n",
       "    .dataframe tbody tr th:only-of-type {\n",
       "        vertical-align: middle;\n",
       "    }\n",
       "\n",
       "    .dataframe tbody tr th {\n",
       "        vertical-align: top;\n",
       "    }\n",
       "\n",
       "    .dataframe thead th {\n",
       "        text-align: right;\n",
       "    }\n",
       "</style>\n",
       "<table border=\"1\" class=\"dataframe\">\n",
       "  <thead>\n",
       "    <tr style=\"text-align: right;\">\n",
       "      <th></th>\n",
       "      <th>event_name</th>\n",
       "      <th>user_amount</th>\n",
       "      <th>conversion</th>\n",
       "    </tr>\n",
       "  </thead>\n",
       "  <tbody>\n",
       "    <tr>\n",
       "      <td>0</td>\n",
       "      <td>Visit</td>\n",
       "      <td>7534</td>\n",
       "      <td>1.00</td>\n",
       "    </tr>\n",
       "    <tr>\n",
       "      <td>1</td>\n",
       "      <td>MainScreenAppear</td>\n",
       "      <td>7419</td>\n",
       "      <td>0.98</td>\n",
       "    </tr>\n",
       "    <tr>\n",
       "      <td>2</td>\n",
       "      <td>OffersScreenAppear</td>\n",
       "      <td>4593</td>\n",
       "      <td>0.61</td>\n",
       "    </tr>\n",
       "    <tr>\n",
       "      <td>3</td>\n",
       "      <td>CartScreenAppear</td>\n",
       "      <td>3734</td>\n",
       "      <td>0.50</td>\n",
       "    </tr>\n",
       "    <tr>\n",
       "      <td>4</td>\n",
       "      <td>PaymentScreenSuccessful</td>\n",
       "      <td>3539</td>\n",
       "      <td>0.47</td>\n",
       "    </tr>\n",
       "    <tr>\n",
       "      <td>5</td>\n",
       "      <td>Tutorial</td>\n",
       "      <td>840</td>\n",
       "      <td>0.11</td>\n",
       "    </tr>\n",
       "  </tbody>\n",
       "</table>\n",
       "</div>"
      ],
      "text/plain": [
       "                event_name  user_amount  conversion\n",
       "0                    Visit         7534        1.00\n",
       "1         MainScreenAppear         7419        0.98\n",
       "2       OffersScreenAppear         4593        0.61\n",
       "3         CartScreenAppear         3734        0.50\n",
       "4  PaymentScreenSuccessful         3539        0.47\n",
       "5                 Tutorial          840        0.11"
      ]
     },
     "execution_count": 29,
     "metadata": {},
     "output_type": "execute_result"
    }
   ],
   "source": [
    "event_funnel['conversion'] = (\n",
    "    round(\n",
    "        event_funnel['user_amount'] / event_funnel['user_amount'][0],\n",
    "        2\n",
    "    )\n",
    ")\n",
    "\n",
    "event_funnel"
   ]
  },
  {
   "cell_type": "markdown",
   "metadata": {},
   "source": [
    "Предположительно события происходят в порядке *MainScreenAppear* $\\rightarrow$ *OffersScreenAppear* $\\rightarrow$ *CartScreenAppear* $\\rightarrow$ *PaymentScreenSuccessful*. Руководство пользователь, скорее всего, читает лишь единожды и это событие не влечёт за собой череду остальных событий, оканчивающихся покупкой. Поэтому не будем учитывать это событие при исследовании воронки."
   ]
  },
  {
   "cell_type": "markdown",
   "metadata": {},
   "source": [
    "#### Исключим событие *Tutorial* из воронки событий."
   ]
  },
  {
   "cell_type": "code",
   "execution_count": 30,
   "metadata": {},
   "outputs": [],
   "source": [
    "event_funnel = event_funnel.query('event_name != \"Tutorial\"')"
   ]
  },
  {
   "cell_type": "markdown",
   "metadata": {},
   "source": [
    "#### Посчитаем, какая доля пользователей проходит на следующий шаг воронки (от числа пользователей на предыдущем)."
   ]
  },
  {
   "cell_type": "code",
   "execution_count": 31,
   "metadata": {},
   "outputs": [
    {
     "data": {
      "text/html": [
       "<div>\n",
       "<style scoped>\n",
       "    .dataframe tbody tr th:only-of-type {\n",
       "        vertical-align: middle;\n",
       "    }\n",
       "\n",
       "    .dataframe tbody tr th {\n",
       "        vertical-align: top;\n",
       "    }\n",
       "\n",
       "    .dataframe thead th {\n",
       "        text-align: right;\n",
       "    }\n",
       "</style>\n",
       "<table border=\"1\" class=\"dataframe\">\n",
       "  <thead>\n",
       "    <tr style=\"text-align: right;\">\n",
       "      <th></th>\n",
       "      <th>event_name</th>\n",
       "      <th>user_amount</th>\n",
       "      <th>conversion</th>\n",
       "      <th>next_step_ratio</th>\n",
       "    </tr>\n",
       "  </thead>\n",
       "  <tbody>\n",
       "    <tr>\n",
       "      <td>0</td>\n",
       "      <td>Visit</td>\n",
       "      <td>7534</td>\n",
       "      <td>1.00</td>\n",
       "      <td>1.00</td>\n",
       "    </tr>\n",
       "    <tr>\n",
       "      <td>1</td>\n",
       "      <td>MainScreenAppear</td>\n",
       "      <td>7419</td>\n",
       "      <td>0.98</td>\n",
       "      <td>0.98</td>\n",
       "    </tr>\n",
       "    <tr>\n",
       "      <td>2</td>\n",
       "      <td>OffersScreenAppear</td>\n",
       "      <td>4593</td>\n",
       "      <td>0.61</td>\n",
       "      <td>0.62</td>\n",
       "    </tr>\n",
       "    <tr>\n",
       "      <td>3</td>\n",
       "      <td>CartScreenAppear</td>\n",
       "      <td>3734</td>\n",
       "      <td>0.50</td>\n",
       "      <td>0.81</td>\n",
       "    </tr>\n",
       "    <tr>\n",
       "      <td>4</td>\n",
       "      <td>PaymentScreenSuccessful</td>\n",
       "      <td>3539</td>\n",
       "      <td>0.47</td>\n",
       "      <td>0.95</td>\n",
       "    </tr>\n",
       "  </tbody>\n",
       "</table>\n",
       "</div>"
      ],
      "text/plain": [
       "                event_name  user_amount  conversion  next_step_ratio\n",
       "0                    Visit         7534        1.00             1.00\n",
       "1         MainScreenAppear         7419        0.98             0.98\n",
       "2       OffersScreenAppear         4593        0.61             0.62\n",
       "3         CartScreenAppear         3734        0.50             0.81\n",
       "4  PaymentScreenSuccessful         3539        0.47             0.95"
      ]
     },
     "execution_count": 31,
     "metadata": {},
     "output_type": "execute_result"
    }
   ],
   "source": [
    "next_step_ratio = [1.]\n",
    "\n",
    "for index in range(1, len(event_funnel['user_amount'])):\n",
    "    next_step_ratio.append(\n",
    "        event_funnel['user_amount'][index] / event_funnel['user_amount'][index - 1]\n",
    "    )\n",
    "        \n",
    "event_funnel['next_step_ratio'] = np.round(next_step_ratio, 2)\n",
    "\n",
    "event_funnel"
   ]
  },
  {
   "cell_type": "markdown",
   "metadata": {},
   "source": [
    "Больше всего пользователей теряется при переходе с главной страницы на страницу с предложениями (36% от пользователей, увидевших главную страницу). 81% оставшихся пользователей добавляют товар в корзину. Лишь 5% пользователей, добавивших товар в корзину, не совершают покупок.\n",
    "\n",
    "Полностью воронку проходит 47% пользователей."
   ]
  },
  {
   "cell_type": "markdown",
   "metadata": {},
   "source": [
    "### Вывод"
   ]
  },
  {
   "cell_type": "markdown",
   "metadata": {},
   "source": [
    "Как было отмечено выше, в логе всё те же 5 событий с логичной закономерностью частот появлений.\n",
    "\n",
    "Предположительно события происходят в порядке *MainScreenAppear* $\\rightarrow$ *OffersScreenAppear* $\\rightarrow$ *CartScreenAppear* $\\rightarrow$ *PaymentScreenSuccessful*. Руководство пользователь читает лишь единожды и это событие не влечёт за собой череду остальных событий, оканчивающихся покупкой. Поэтому не будем учитывать это событие при исследовании воронки.\n",
    "\n",
    "Больше всего пользователей теряется при переходе с главной страницы на страницу с предложениями (36% от пользователей, увидевших главную страницу). 81% оставшихся пользователей добавляют товар в корзину. Лишь 5% пользователей, добавивших товар в корзину, не совершают покупок.\n",
    "\n",
    "Полностью воронку проходит 47% пользователей."
   ]
  },
  {
   "cell_type": "markdown",
   "metadata": {},
   "source": [
    "## <a id='results'>Шаг 5. Изучение результатов эксперимента</a>"
   ]
  },
  {
   "cell_type": "markdown",
   "metadata": {},
   "source": [
    "#### Найдём количество пользователей в каждой экспериментальной группе."
   ]
  },
  {
   "cell_type": "code",
   "execution_count": 32,
   "metadata": {},
   "outputs": [
    {
     "data": {
      "text/html": [
       "<div>\n",
       "<style scoped>\n",
       "    .dataframe tbody tr th:only-of-type {\n",
       "        vertical-align: middle;\n",
       "    }\n",
       "\n",
       "    .dataframe tbody tr th {\n",
       "        vertical-align: top;\n",
       "    }\n",
       "\n",
       "    .dataframe thead th {\n",
       "        text-align: right;\n",
       "    }\n",
       "</style>\n",
       "<table border=\"1\" class=\"dataframe\">\n",
       "  <thead>\n",
       "    <tr style=\"text-align: right;\">\n",
       "      <th></th>\n",
       "      <th>user_id</th>\n",
       "    </tr>\n",
       "    <tr>\n",
       "      <th>exp_id</th>\n",
       "      <th></th>\n",
       "    </tr>\n",
       "  </thead>\n",
       "  <tbody>\n",
       "    <tr>\n",
       "      <td>246</td>\n",
       "      <td>2484</td>\n",
       "    </tr>\n",
       "    <tr>\n",
       "      <td>247</td>\n",
       "      <td>2513</td>\n",
       "    </tr>\n",
       "    <tr>\n",
       "      <td>248</td>\n",
       "      <td>2537</td>\n",
       "    </tr>\n",
       "  </tbody>\n",
       "</table>\n",
       "</div>"
      ],
      "text/plain": [
       "        user_id\n",
       "exp_id         \n",
       "246        2484\n",
       "247        2513\n",
       "248        2537"
      ]
     },
     "execution_count": 32,
     "metadata": {},
     "output_type": "execute_result"
    }
   ],
   "source": [
    "sizes = comp_data.groupby('exp_id').agg({'user_id': 'nunique'})\n",
    "sizes"
   ]
  },
  {
   "cell_type": "code",
   "execution_count": 33,
   "metadata": {},
   "outputs": [],
   "source": [
    "size_a1 = sizes['user_id'][0]\n",
    "size_a2 = sizes['user_id'][1]\n",
    "size_b = sizes['user_id'][2]"
   ]
  },
  {
   "cell_type": "markdown",
   "metadata": {},
   "source": [
    "#### Сформируем воронки по группам."
   ]
  },
  {
   "cell_type": "code",
   "execution_count": 34,
   "metadata": {},
   "outputs": [
    {
     "data": {
      "text/html": [
       "<div>\n",
       "<style scoped>\n",
       "    .dataframe tbody tr th:only-of-type {\n",
       "        vertical-align: middle;\n",
       "    }\n",
       "\n",
       "    .dataframe tbody tr th {\n",
       "        vertical-align: top;\n",
       "    }\n",
       "\n",
       "    .dataframe thead th {\n",
       "        text-align: right;\n",
       "    }\n",
       "</style>\n",
       "<table border=\"1\" class=\"dataframe\">\n",
       "  <thead>\n",
       "    <tr style=\"text-align: right;\">\n",
       "      <th>exp_id</th>\n",
       "      <th>event_name</th>\n",
       "      <th>246</th>\n",
       "      <th>247</th>\n",
       "      <th>248</th>\n",
       "      <th>246 U 247</th>\n",
       "    </tr>\n",
       "  </thead>\n",
       "  <tbody>\n",
       "    <tr>\n",
       "      <td>0</td>\n",
       "      <td>MainScreenAppear</td>\n",
       "      <td>2450</td>\n",
       "      <td>2476</td>\n",
       "      <td>2493</td>\n",
       "      <td>4926</td>\n",
       "    </tr>\n",
       "    <tr>\n",
       "      <td>1</td>\n",
       "      <td>OffersScreenAppear</td>\n",
       "      <td>1542</td>\n",
       "      <td>1520</td>\n",
       "      <td>1531</td>\n",
       "      <td>3062</td>\n",
       "    </tr>\n",
       "    <tr>\n",
       "      <td>2</td>\n",
       "      <td>CartScreenAppear</td>\n",
       "      <td>1266</td>\n",
       "      <td>1238</td>\n",
       "      <td>1230</td>\n",
       "      <td>2504</td>\n",
       "    </tr>\n",
       "    <tr>\n",
       "      <td>3</td>\n",
       "      <td>PaymentScreenSuccessful</td>\n",
       "      <td>1200</td>\n",
       "      <td>1158</td>\n",
       "      <td>1181</td>\n",
       "      <td>2358</td>\n",
       "    </tr>\n",
       "  </tbody>\n",
       "</table>\n",
       "</div>"
      ],
      "text/plain": [
       "exp_id               event_name   246   247   248  246 U 247\n",
       "0              MainScreenAppear  2450  2476  2493       4926\n",
       "1            OffersScreenAppear  1542  1520  1531       3062\n",
       "2              CartScreenAppear  1266  1238  1230       2504\n",
       "3       PaymentScreenSuccessful  1200  1158  1181       2358"
      ]
     },
     "execution_count": 34,
     "metadata": {},
     "output_type": "execute_result"
    }
   ],
   "source": [
    "sep_funnel = (\n",
    "    comp_data\n",
    "    .pivot_table(\n",
    "        index='event_name',\n",
    "        columns='exp_id',\n",
    "        values='user_id', \n",
    "        aggfunc='nunique'\n",
    "    )\n",
    "    .sort_values(\n",
    "        by='246', \n",
    "        ascending=False\n",
    "    )\n",
    "    .query('event_name != \"Tutorial\"')\n",
    "    .reset_index()\n",
    ")\n",
    "\n",
    "sep_funnel['246 U 247'] = sep_funnel['246'] + sep_funnel['247']\n",
    "sep_funnel"
   ]
  },
  {
   "cell_type": "code",
   "execution_count": 35,
   "metadata": {},
   "outputs": [],
   "source": [
    "def z_test(successes_a, trials_a, successes_b, trials_b, alpha=.05):\n",
    "    '''\n",
    "    Функция решает задачу сравнения пропорций двух \n",
    "    генеральных совокупностей по выборкам из них \n",
    "    с помощью Z-критерия.\n",
    "    \n",
    "    Аргументы:\n",
    "        successes_a (int): \"успехи\" выборки A.\n",
    "        \n",
    "        trials_a (int): размер выборки A.\n",
    "        \n",
    "        successes_b (int): \"успехи\" выборки B.\n",
    "        \n",
    "        trials_b (int): размер выборки B.\n",
    "        \n",
    "        alpha (float): критический уровень статистической значимости.\n",
    "    '''\n",
    "    \n",
    "    # пропорция успехов в первой группе\n",
    "    p1 = successes_a / trials_a\n",
    "    # пропорция успехов во второй группе\n",
    "    p2 = successes_b / trials_b\n",
    "    # пропорция успехов в комбинированном датасете\n",
    "    p_combined = (successes_a + successes_b) / (trials_a + trials_b)\n",
    "    # разница пропорций в датасетах\n",
    "    difference = p1 - p2\n",
    "    \n",
    "    # считаем статистику в стандартных отклонениях \n",
    "    # стандартного нормального распределения\n",
    "    z_value = difference / mth.sqrt(\n",
    "        p_combined * (1 - p_combined) * (1 / trials_a + 1 / trials_b)\n",
    "    )\n",
    "    \n",
    "    # задаем стандартное нормальное распределение \n",
    "    # (среднее 0, стандартное отклонение 1)\n",
    "    distr = st.norm(0, 1)\n",
    "    \n",
    "    # Так как распределение статистики нормальное, вызовем метод cdf(). \n",
    "    # Саму статистику возьмём по модулю методом abs() — чтобы получить \n",
    "    # правильный результат независимо от её знака. Это возможно, \n",
    "    # потому что тест двусторонний. По этой же причине удваиваем результат.\n",
    "    p_value = (1 - distr.cdf(abs(z_value))) * 2\n",
    "\n",
    "    print(f'p-значение = {(p_value):.3f}.')\n",
    "\n",
    "    if p_value < alpha:\n",
    "        print('Отвергаем нулевую гипотезу: между долями есть значимая разница.')\n",
    "    else:\n",
    "        print(\n",
    "            'Не получилось отвергнуть нулевую гипотезу, '\n",
    "            + 'нет оснований считать доли разными.'\n",
    "        )"
   ]
  },
  {
   "cell_type": "code",
   "execution_count": 36,
   "metadata": {},
   "outputs": [],
   "source": [
    "def hypothesis_testing(sep_funnel, name_a, name_b, \n",
    "                       trials_a, trials_b, alpha=.05):\n",
    "    '''\n",
    "    Функция проверяет гипотезу о равенстве долей пользователей,\n",
    "    совершивших событие, в двух группах.\n",
    "    \n",
    "    Аргументы:\n",
    "        sep_funnel (pandas.core.frame.DataFrame): воронка событий.\n",
    "        \n",
    "        name_a (str): название первой группы.\n",
    "        \n",
    "        name_b (str): название второй группы.\n",
    "        \n",
    "        trials_a (int): размер первой группы.\n",
    "        \n",
    "        trials_b (int): размер второй группы.\n",
    "        \n",
    "        alpha (float): критический уровень статистической \n",
    "                       значимости для Z-критерия.\n",
    "    '''\n",
    "    \n",
    "    if name_a == 'A1':\n",
    "        id_a = '246'\n",
    "    elif name_a == 'A2':\n",
    "        id_a = '247'\n",
    "    elif name_a == 'B':\n",
    "        id_a = '248'\n",
    "    elif name_a == 'A':\n",
    "        id_a = '246 U 247'\n",
    "    else:\n",
    "        raise Exception('Неверное название первой группы. '\n",
    "        + 'Возможные значения: \"A1\", \"A2\", \"B\", \"A\".')\n",
    "        \n",
    "    if name_b == 'A1':\n",
    "        id_b = '246'\n",
    "    elif name_b == 'A2':\n",
    "        id_b = '247'\n",
    "    elif name_b == 'B':\n",
    "        id_b = '248'\n",
    "    elif name_b == 'A':\n",
    "        id_b = '246 U 247'\n",
    "    else:\n",
    "        raise Exception('Неверное название второй группы. '\n",
    "        + 'Возможные значения: \"A1\", \"A2\", \"B\", \"A\".')\n",
    "        \n",
    "    for index in range(0, len(sep_funnel)):\n",
    "        print('\\033[1m'\n",
    "              + 'H0: Доли пользователей, совершивших событие '\n",
    "              + f\"{sep_funnel['event_name'][index]}, \"\n",
    "              + f'равны в группах {name_a} и {name_b}.'\n",
    "              + '\\033[0m'\n",
    "             )\n",
    "\n",
    "        print('\\033[1m'\n",
    "              + 'H1: Доли пользователей, совершивших событие '\n",
    "              + f\"{sep_funnel['event_name'][index]}, \"\n",
    "              + f'не равны в группах {name_a} и {name_b}.'\n",
    "              + '\\033[0m'\n",
    "             )\n",
    "        \n",
    "        print(\n",
    "            f'Доля в группе {name_a} = '\n",
    "            f'{(sep_funnel[id_a][index] / trials_a):.2%}.'\n",
    "        )\n",
    "        \n",
    "        print(\n",
    "            f'Доля в группе {name_b} = '\n",
    "            f'{(sep_funnel[id_b][index] / trials_b):.2%}.'\n",
    "        )\n",
    "        \n",
    "        z_test(\n",
    "            sep_funnel[id_a][index], \n",
    "            trials_a, \n",
    "            sep_funnel[id_b][index], \n",
    "            trials_b, \n",
    "            alpha\n",
    "        )\n",
    "        \n",
    "        print()"
   ]
  },
  {
   "cell_type": "markdown",
   "metadata": {},
   "source": [
    "#### Проверим, находят ли статистические критерии разницу между выборками 246 и 247."
   ]
  },
  {
   "cell_type": "code",
   "execution_count": 37,
   "metadata": {},
   "outputs": [
    {
     "name": "stdout",
     "output_type": "stream",
     "text": [
      "\u001b[1mH0: Доли пользователей, совершивших событие MainScreenAppear, равны в группах A1 и A2.\u001b[0m\n",
      "\u001b[1mH1: Доли пользователей, совершивших событие MainScreenAppear, не равны в группах A1 и A2.\u001b[0m\n",
      "Доля в группе A1 = 98.63%.\n",
      "Доля в группе A2 = 98.53%.\n",
      "p-значение = 0.757.\n",
      "Не получилось отвергнуть нулевую гипотезу, нет оснований считать доли разными.\n",
      "\n",
      "\u001b[1mH0: Доли пользователей, совершивших событие OffersScreenAppear, равны в группах A1 и A2.\u001b[0m\n",
      "\u001b[1mH1: Доли пользователей, совершивших событие OffersScreenAppear, не равны в группах A1 и A2.\u001b[0m\n",
      "Доля в группе A1 = 62.08%.\n",
      "Доля в группе A2 = 60.49%.\n",
      "p-значение = 0.248.\n",
      "Не получилось отвергнуть нулевую гипотезу, нет оснований считать доли разными.\n",
      "\n",
      "\u001b[1mH0: Доли пользователей, совершивших событие CartScreenAppear, равны в группах A1 и A2.\u001b[0m\n",
      "\u001b[1mH1: Доли пользователей, совершивших событие CartScreenAppear, не равны в группах A1 и A2.\u001b[0m\n",
      "Доля в группе A1 = 50.97%.\n",
      "Доля в группе A2 = 49.26%.\n",
      "p-значение = 0.229.\n",
      "Не получилось отвергнуть нулевую гипотезу, нет оснований считать доли разными.\n",
      "\n",
      "\u001b[1mH0: Доли пользователей, совершивших событие PaymentScreenSuccessful, равны в группах A1 и A2.\u001b[0m\n",
      "\u001b[1mH1: Доли пользователей, совершивших событие PaymentScreenSuccessful, не равны в группах A1 и A2.\u001b[0m\n",
      "Доля в группе A1 = 48.31%.\n",
      "Доля в группе A2 = 46.08%.\n",
      "p-значение = 0.115.\n",
      "Не получилось отвергнуть нулевую гипотезу, нет оснований считать доли разными.\n",
      "\n"
     ]
    }
   ],
   "source": [
    "hypothesis_testing(sep_funnel, 'A1', 'A2', size_a1, size_a2)"
   ]
  },
  {
   "cell_type": "markdown",
   "metadata": {},
   "source": [
    "Статистические критерии не находят разницу между контрольными группами $A_1$ и $A_2$."
   ]
  },
  {
   "cell_type": "markdown",
   "metadata": {},
   "source": [
    "***"
   ]
  },
  {
   "cell_type": "markdown",
   "metadata": {},
   "source": [
    "#### Проверим, находят ли статистические критерии разницу между выборками 246 и 248."
   ]
  },
  {
   "cell_type": "code",
   "execution_count": 38,
   "metadata": {},
   "outputs": [
    {
     "name": "stdout",
     "output_type": "stream",
     "text": [
      "\u001b[1mH0: Доли пользователей, совершивших событие MainScreenAppear, равны в группах A1 и B.\u001b[0m\n",
      "\u001b[1mH1: Доли пользователей, совершивших событие MainScreenAppear, не равны в группах A1 и B.\u001b[0m\n",
      "Доля в группе A1 = 98.63%.\n",
      "Доля в группе B = 98.27%.\n",
      "p-значение = 0.295.\n",
      "Не получилось отвергнуть нулевую гипотезу, нет оснований считать доли разными.\n",
      "\n",
      "\u001b[1mH0: Доли пользователей, совершивших событие OffersScreenAppear, равны в группах A1 и B.\u001b[0m\n",
      "\u001b[1mH1: Доли пользователей, совершивших событие OffersScreenAppear, не равны в группах A1 и B.\u001b[0m\n",
      "Доля в группе A1 = 62.08%.\n",
      "Доля в группе B = 60.35%.\n",
      "p-значение = 0.208.\n",
      "Не получилось отвергнуть нулевую гипотезу, нет оснований считать доли разными.\n",
      "\n",
      "\u001b[1mH0: Доли пользователей, совершивших событие CartScreenAppear, равны в группах A1 и B.\u001b[0m\n",
      "\u001b[1mH1: Доли пользователей, совершивших событие CartScreenAppear, не равны в группах A1 и B.\u001b[0m\n",
      "Доля в группе A1 = 50.97%.\n",
      "Доля в группе B = 48.48%.\n",
      "p-значение = 0.078.\n",
      "Не получилось отвергнуть нулевую гипотезу, нет оснований считать доли разными.\n",
      "\n",
      "\u001b[1mH0: Доли пользователей, совершивших событие PaymentScreenSuccessful, равны в группах A1 и B.\u001b[0m\n",
      "\u001b[1mH1: Доли пользователей, совершивших событие PaymentScreenSuccessful, не равны в группах A1 и B.\u001b[0m\n",
      "Доля в группе A1 = 48.31%.\n",
      "Доля в группе B = 46.55%.\n",
      "p-значение = 0.212.\n",
      "Не получилось отвергнуть нулевую гипотезу, нет оснований считать доли разными.\n",
      "\n"
     ]
    }
   ],
   "source": [
    "hypothesis_testing(sep_funnel, 'A1', 'B', size_a1, size_b)"
   ]
  },
  {
   "cell_type": "markdown",
   "metadata": {},
   "source": [
    "Статистические критерии не находят разницу между группами $A_1$ и $B$."
   ]
  },
  {
   "cell_type": "markdown",
   "metadata": {},
   "source": [
    "***"
   ]
  },
  {
   "cell_type": "markdown",
   "metadata": {},
   "source": [
    "#### Проверим, находят ли статистические критерии разницу между выборками 247 и 248."
   ]
  },
  {
   "cell_type": "code",
   "execution_count": 39,
   "metadata": {},
   "outputs": [
    {
     "name": "stdout",
     "output_type": "stream",
     "text": [
      "\u001b[1mH0: Доли пользователей, совершивших событие MainScreenAppear, равны в группах A2 и B.\u001b[0m\n",
      "\u001b[1mH1: Доли пользователей, совершивших событие MainScreenAppear, не равны в группах A2 и B.\u001b[0m\n",
      "Доля в группе A2 = 98.53%.\n",
      "Доля в группе B = 98.27%.\n",
      "p-значение = 0.459.\n",
      "Не получилось отвергнуть нулевую гипотезу, нет оснований считать доли разными.\n",
      "\n",
      "\u001b[1mH0: Доли пользователей, совершивших событие OffersScreenAppear, равны в группах A2 и B.\u001b[0m\n",
      "\u001b[1mH1: Доли пользователей, совершивших событие OffersScreenAppear, не равны в группах A2 и B.\u001b[0m\n",
      "Доля в группе A2 = 60.49%.\n",
      "Доля в группе B = 60.35%.\n",
      "p-значение = 0.920.\n",
      "Не получилось отвергнуть нулевую гипотезу, нет оснований считать доли разными.\n",
      "\n",
      "\u001b[1mH0: Доли пользователей, совершивших событие CartScreenAppear, равны в группах A2 и B.\u001b[0m\n",
      "\u001b[1mH1: Доли пользователей, совершивших событие CartScreenAppear, не равны в группах A2 и B.\u001b[0m\n",
      "Доля в группе A2 = 49.26%.\n",
      "Доля в группе B = 48.48%.\n",
      "p-значение = 0.579.\n",
      "Не получилось отвергнуть нулевую гипотезу, нет оснований считать доли разными.\n",
      "\n",
      "\u001b[1mH0: Доли пользователей, совершивших событие PaymentScreenSuccessful, равны в группах A2 и B.\u001b[0m\n",
      "\u001b[1mH1: Доли пользователей, совершивших событие PaymentScreenSuccessful, не равны в группах A2 и B.\u001b[0m\n",
      "Доля в группе A2 = 46.08%.\n",
      "Доля в группе B = 46.55%.\n",
      "p-значение = 0.737.\n",
      "Не получилось отвергнуть нулевую гипотезу, нет оснований считать доли разными.\n",
      "\n"
     ]
    }
   ],
   "source": [
    "hypothesis_testing(sep_funnel, 'A2', 'B', size_a2, size_b)"
   ]
  },
  {
   "cell_type": "markdown",
   "metadata": {},
   "source": [
    "Статистические критерии не находят разницу между группами $A_2$ и $B$."
   ]
  },
  {
   "cell_type": "markdown",
   "metadata": {},
   "source": [
    "***"
   ]
  },
  {
   "cell_type": "code",
   "execution_count": 40,
   "metadata": {},
   "outputs": [
    {
     "name": "stdout",
     "output_type": "stream",
     "text": [
      "\u001b[1mH0: Доли пользователей, совершивших событие MainScreenAppear, равны в группах A и B.\u001b[0m\n",
      "\u001b[1mH1: Доли пользователей, совершивших событие MainScreenAppear, не равны в группах A и B.\u001b[0m\n",
      "Доля в группе A = 98.58%.\n",
      "Доля в группе B = 98.27%.\n",
      "p-значение = 0.294.\n",
      "Не получилось отвергнуть нулевую гипотезу, нет оснований считать доли разными.\n",
      "\n",
      "\u001b[1mH0: Доли пользователей, совершивших событие OffersScreenAppear, равны в группах A и B.\u001b[0m\n",
      "\u001b[1mH1: Доли пользователей, совершивших событие OffersScreenAppear, не равны в группах A и B.\u001b[0m\n",
      "Доля в группе A = 61.28%.\n",
      "Доля в группе B = 60.35%.\n",
      "p-значение = 0.434.\n",
      "Не получилось отвергнуть нулевую гипотезу, нет оснований считать доли разными.\n",
      "\n",
      "\u001b[1mH0: Доли пользователей, совершивших событие CartScreenAppear, равны в группах A и B.\u001b[0m\n",
      "\u001b[1mH1: Доли пользователей, совершивших событие CartScreenAppear, не равны в группах A и B.\u001b[0m\n",
      "Доля в группе A = 50.11%.\n",
      "Доля в группе B = 48.48%.\n",
      "p-значение = 0.182.\n",
      "Не получилось отвергнуть нулевую гипотезу, нет оснований считать доли разными.\n",
      "\n",
      "\u001b[1mH0: Доли пользователей, совершивших событие PaymentScreenSuccessful, равны в группах A и B.\u001b[0m\n",
      "\u001b[1mH1: Доли пользователей, совершивших событие PaymentScreenSuccessful, не равны в группах A и B.\u001b[0m\n",
      "Доля в группе A = 47.19%.\n",
      "Доля в группе B = 46.55%.\n",
      "p-значение = 0.600.\n",
      "Не получилось отвергнуть нулевую гипотезу, нет оснований считать доли разными.\n",
      "\n"
     ]
    }
   ],
   "source": [
    "hypothesis_testing(sep_funnel, 'A', 'B', size_a1 + size_a2, size_b)"
   ]
  },
  {
   "cell_type": "markdown",
   "metadata": {},
   "source": [
    "Статистические критерии не находят разницу между группами $A_1 \\cup A_2 = A$ и $B$."
   ]
  },
  {
   "cell_type": "markdown",
   "metadata": {},
   "source": [
    "***"
   ]
  },
  {
   "cell_type": "markdown",
   "metadata": {},
   "source": [
    "При проверке статистических гипотез выше был использован уровень значимости 0.05. Было осуществлено 16 проверок статистических гипотез. При уровне значимости 0.05 каждый 20-ый раз можно получать ложный результат, поэтому понижать уровень значимости не имеет смысла.\n",
    "\n",
    "Таким образом, эксперимент показал, что различия в конверсиях контрольных и тестовой групп не являются статистически значимыми. Следовательно, менеджерам не стоит бояться, что пользователям будет непривычно, если дизайнеры поменяют шрифты во всём приложении."
   ]
  },
  {
   "cell_type": "markdown",
   "metadata": {},
   "source": [
    "### Вывод"
   ]
  },
  {
   "cell_type": "markdown",
   "metadata": {},
   "source": [
    "Статистические критерии не находят разницу между контрольными группами $A_1$ и $A_2$.\n",
    "\n",
    "Статистические критерии не находят разницу между группами $A_1$ и $B$.\n",
    "\n",
    "Статистические критерии не находят разницу между группами $A_2$ и $B$.\n",
    "\n",
    "Статистические критерии не находят разницу между группами $A_1 \\cup A_2 = A$ и $B$.\n",
    "\n",
    "При проверке статистических гипотез выше был использован уровень значимости 0.05. Было осуществлено 16 проверок статистических гипотез. При уровне значимости 0.05 каждый 20-ый раз можно получать ложный результат, поэтому понижать уровень значимости не имеет смысла.\n",
    "\n",
    "Таким образом, эксперимент показал, что различия в конверсиях контрольных и тестовой групп не являются статистически значимыми. Следовательно, менеджерам не стоит бояться, что пользователям будет непривычно, если дизайнеры поменяют шрифты во всём приложении."
   ]
  },
  {
   "cell_type": "markdown",
   "metadata": {},
   "source": [
    "## <a id='general_conclusion'>Шаг 6. Общий вывод</a>"
   ]
  },
  {
   "cell_type": "markdown",
   "metadata": {},
   "source": [
    "Датафрейм **logs_exp** состоит из 244 126 строк и 4 столбцов. Пропусков нет. Обнаружены некорректные типы данных. Обнаружено 413 дубликатов.\n",
    "\n",
    "Заменены названия столбцов для удобства анализа. Удалены дубликаты. Откорректированы типы данных. Добавлены столбец даты и времени, а также отдельный столбец дат.\n",
    "\n",
    "В логе 5 уникальных событий с логичной закономерностью частот появлений:\n",
    "1. Появление главной страницы.\n",
    "2. Появление страницы с предложениями.\n",
    "3. Появление страницы с корзиной.\n",
    "4. Появление страницы с успешной оплатой.\n",
    "5. Руководство.\n",
    "\n",
    "Всего в логе 7551 пользователей.\n",
    "\n",
    "Среднее число событий, приходящихся на пользователя: 32.\n",
    "\n",
    "Так как распределение числа событий, приходящихся на пользователя, не является нормальным и содержит выбросы, разумнее будет использовать медиану.\n",
    "\n",
    "Медианное число событий, приходящихся на пользователя: 20.\n",
    "\n",
    "Располагаем данными за период с 25 июля по 7 августа 2019 года. Однако данные до августа 2019 года являются неполными. Решено учитывать только полные данные в дальнейшем исследовании. Таким образом, на самом деле мы располагаем данными за период с 1 по 7 августа 2019 года.\n",
    "\n",
    "Отбросив данные, мы потеряли незначительную их часть (2 826 или 1.16% событий). Доля потерянных пользователей составляет 0.23% (17 пользователей).\n",
    "\n",
    "Распределение пользователей по группам выполнено корректно. В данных присутствуют пользователи их всех трёх эксперементальных групп.\n",
    "\n",
    "Предположительно события происходят в порядке *MainScreenAppear* $\\rightarrow$ *OffersScreenAppear* $\\rightarrow$ *CartScreenAppear* $\\rightarrow$ *PaymentScreenSuccessful*. Руководство пользователь читает лишь единожды и это событие не влечёт за собой череду остальных событий, оканчивающихся покупкой. Поэтому не будем учитывать это событие при исследовании воронки.\n",
    "\n",
    "**Больше всего пользователей теряется при переходе с главной страницы на страницу с предложениями (36% от пользователей, увидевших главную страницу)**. 81% оставшихся пользователей добавляют товар в корзину. Лишь 5% пользователей, добавивших товар в корзину, не совершают покупок.\n",
    "\n",
    "**Полностью воронку проходит 47% пользователей**.\n",
    "\n",
    "Статистические критерии не находят разницу между контрольными группами $A_1$ и $A_2$.\n",
    "\n",
    "Статистические критерии не находят разницу между группами $A_1$ и $B$.\n",
    "\n",
    "Статистические критерии не находят разницу между группами $A_2$ и $B$.\n",
    "\n",
    "Статистические критерии не находят разницу между группами $A_1 \\cup A_2 = A$ и $B$.\n",
    "\n",
    "При проверке статистических гипотез выше был использован уровень значимости 0.05. Было осуществлено 16 проверок статистических гипотез. При уровне значимости 0.05 каждый 20-ый раз можно получать ложный результат, поэтому понижать уровень значимости не имеет смысла.\n",
    "\n",
    "Таким образом, эксперимент показал, что различия в конверсиях контрольных и тестовой групп не являются статистически значимыми. Следовательно, менеджерам **не стоит бояться, что пользователям будет непривычно, если дизайнеры поменяют шрифты** во всём приложении."
   ]
  }
 ],
 "metadata": {
  "kernelspec": {
   "display_name": "Python 3",
   "language": "python",
   "name": "python3"
  },
  "language_info": {
   "codemirror_mode": {
    "name": "ipython",
    "version": 3
   },
   "file_extension": ".py",
   "mimetype": "text/x-python",
   "name": "python",
   "nbconvert_exporter": "python",
   "pygments_lexer": "ipython3",
   "version": "3.8.5"
  },
  "toc": {
   "base_numbering": 1,
   "nav_menu": {},
   "number_sections": false,
   "sideBar": true,
   "skip_h1_title": true,
   "title_cell": "Table of Contents",
   "title_sidebar": "Contents",
   "toc_cell": false,
   "toc_position": {},
   "toc_section_display": true,
   "toc_window_display": false
  }
 },
 "nbformat": 4,
 "nbformat_minor": 2
}
